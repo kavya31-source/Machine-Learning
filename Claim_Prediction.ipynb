{
 "cells": [
  {
   "cell_type": "code",
   "execution_count": 226,
   "metadata": {},
   "outputs": [],
   "source": [
    "import pandas as pd\n",
    "import numpy as np\n",
    "import matplotlib.pyplot as plt\n",
    "import seaborn as sns\n",
    "from warnings import filterwarnings\n",
    "filterwarnings('ignore')\n",
    "from sklearn.preprocessing import LabelEncoder\n",
    "from sklearn.model_selection import train_test_split\n",
    "from sklearn.linear_model import LinearRegression\n",
    "from sklearn.metrics import mean_squared_error\n",
    "import statsmodels.api as sm\n",
    "from statsmodels.stats.outliers_influence import variance_inflation_factor\n",
    "from mlxtend.feature_selection import SequentialFeatureSelector as sf\n",
    "from sklearn.feature_selection import RFE\n",
    "from sklearn.model_selection import cross_val_score\n",
    "from sklearn.linear_model import SGDRegressor\n",
    "from sklearn.linear_model import Ridge\n",
    "from sklearn.linear_model import Lasso\n",
    "from sklearn.model_selection import GridSearchCV"
   ]
  },
  {
   "cell_type": "code",
   "execution_count": 227,
   "metadata": {},
   "outputs": [
    {
     "data": {
      "text/html": [
       "<div>\n",
       "<style scoped>\n",
       "    .dataframe tbody tr th:only-of-type {\n",
       "        vertical-align: middle;\n",
       "    }\n",
       "\n",
       "    .dataframe tbody tr th {\n",
       "        vertical-align: top;\n",
       "    }\n",
       "\n",
       "    .dataframe thead th {\n",
       "        text-align: right;\n",
       "    }\n",
       "</style>\n",
       "<table border=\"1\" class=\"dataframe\">\n",
       "  <thead>\n",
       "    <tr style=\"text-align: right;\">\n",
       "      <th></th>\n",
       "      <th>age</th>\n",
       "      <th>sex</th>\n",
       "      <th>weight</th>\n",
       "      <th>bmi</th>\n",
       "      <th>hereditary_diseases</th>\n",
       "      <th>no_of_dependents</th>\n",
       "      <th>smoker</th>\n",
       "      <th>city</th>\n",
       "      <th>bloodpressure</th>\n",
       "      <th>diabetes</th>\n",
       "      <th>regular_ex</th>\n",
       "      <th>job_title</th>\n",
       "      <th>claim</th>\n",
       "    </tr>\n",
       "  </thead>\n",
       "  <tbody>\n",
       "    <tr>\n",
       "      <th>0</th>\n",
       "      <td>60.0</td>\n",
       "      <td>male</td>\n",
       "      <td>64</td>\n",
       "      <td>24.3</td>\n",
       "      <td>NoDisease</td>\n",
       "      <td>1</td>\n",
       "      <td>0</td>\n",
       "      <td>NewYork</td>\n",
       "      <td>72</td>\n",
       "      <td>0</td>\n",
       "      <td>0</td>\n",
       "      <td>Actor</td>\n",
       "      <td>13112.6</td>\n",
       "    </tr>\n",
       "    <tr>\n",
       "      <th>1</th>\n",
       "      <td>49.0</td>\n",
       "      <td>female</td>\n",
       "      <td>75</td>\n",
       "      <td>22.6</td>\n",
       "      <td>NoDisease</td>\n",
       "      <td>1</td>\n",
       "      <td>0</td>\n",
       "      <td>Boston</td>\n",
       "      <td>78</td>\n",
       "      <td>1</td>\n",
       "      <td>1</td>\n",
       "      <td>Engineer</td>\n",
       "      <td>9567.0</td>\n",
       "    </tr>\n",
       "    <tr>\n",
       "      <th>2</th>\n",
       "      <td>32.0</td>\n",
       "      <td>female</td>\n",
       "      <td>64</td>\n",
       "      <td>17.8</td>\n",
       "      <td>Epilepsy</td>\n",
       "      <td>2</td>\n",
       "      <td>1</td>\n",
       "      <td>Phildelphia</td>\n",
       "      <td>88</td>\n",
       "      <td>1</td>\n",
       "      <td>1</td>\n",
       "      <td>Academician</td>\n",
       "      <td>32734.2</td>\n",
       "    </tr>\n",
       "    <tr>\n",
       "      <th>3</th>\n",
       "      <td>61.0</td>\n",
       "      <td>female</td>\n",
       "      <td>53</td>\n",
       "      <td>36.4</td>\n",
       "      <td>NoDisease</td>\n",
       "      <td>1</td>\n",
       "      <td>1</td>\n",
       "      <td>Pittsburg</td>\n",
       "      <td>72</td>\n",
       "      <td>1</td>\n",
       "      <td>0</td>\n",
       "      <td>Chef</td>\n",
       "      <td>48517.6</td>\n",
       "    </tr>\n",
       "    <tr>\n",
       "      <th>4</th>\n",
       "      <td>19.0</td>\n",
       "      <td>female</td>\n",
       "      <td>50</td>\n",
       "      <td>20.6</td>\n",
       "      <td>NoDisease</td>\n",
       "      <td>0</td>\n",
       "      <td>0</td>\n",
       "      <td>Buffalo</td>\n",
       "      <td>82</td>\n",
       "      <td>1</td>\n",
       "      <td>0</td>\n",
       "      <td>HomeMakers</td>\n",
       "      <td>1731.7</td>\n",
       "    </tr>\n",
       "  </tbody>\n",
       "</table>\n",
       "</div>"
      ],
      "text/plain": [
       "    age     sex  weight   bmi hereditary_diseases  no_of_dependents  smoker  \\\n",
       "0  60.0    male      64  24.3           NoDisease                 1       0   \n",
       "1  49.0  female      75  22.6           NoDisease                 1       0   \n",
       "2  32.0  female      64  17.8            Epilepsy                 2       1   \n",
       "3  61.0  female      53  36.4           NoDisease                 1       1   \n",
       "4  19.0  female      50  20.6           NoDisease                 0       0   \n",
       "\n",
       "          city  bloodpressure  diabetes  regular_ex    job_title    claim  \n",
       "0      NewYork             72         0           0        Actor  13112.6  \n",
       "1       Boston             78         1           1     Engineer   9567.0  \n",
       "2  Phildelphia             88         1           1  Academician  32734.2  \n",
       "3    Pittsburg             72         1           0         Chef  48517.6  \n",
       "4      Buffalo             82         1           0   HomeMakers   1731.7  "
      ]
     },
     "execution_count": 227,
     "metadata": {},
     "output_type": "execute_result"
    }
   ],
   "source": [
    "df=pd.read_csv('healthinsurance.csv')\n",
    "df.head()"
   ]
  },
  {
   "cell_type": "code",
   "execution_count": 228,
   "metadata": {},
   "outputs": [
    {
     "data": {
      "text/plain": [
       "(15000, 13)"
      ]
     },
     "execution_count": 228,
     "metadata": {},
     "output_type": "execute_result"
    }
   ],
   "source": [
    "df.shape"
   ]
  },
  {
   "cell_type": "markdown",
   "metadata": {},
   "source": [
    "#### The datset has 15000 rows and 13 columns"
   ]
  },
  {
   "cell_type": "code",
   "execution_count": 229,
   "metadata": {},
   "outputs": [
    {
     "name": "stdout",
     "output_type": "stream",
     "text": [
      "<class 'pandas.core.frame.DataFrame'>\n",
      "RangeIndex: 15000 entries, 0 to 14999\n",
      "Data columns (total 13 columns):\n",
      " #   Column               Non-Null Count  Dtype  \n",
      "---  ------               --------------  -----  \n",
      " 0   age                  14604 non-null  float64\n",
      " 1   sex                  15000 non-null  object \n",
      " 2   weight               15000 non-null  int64  \n",
      " 3   bmi                  14044 non-null  float64\n",
      " 4   hereditary_diseases  15000 non-null  object \n",
      " 5   no_of_dependents     15000 non-null  int64  \n",
      " 6   smoker               15000 non-null  int64  \n",
      " 7   city                 15000 non-null  object \n",
      " 8   bloodpressure        15000 non-null  int64  \n",
      " 9   diabetes             15000 non-null  int64  \n",
      " 10  regular_ex           15000 non-null  int64  \n",
      " 11  job_title            15000 non-null  object \n",
      " 12  claim                15000 non-null  float64\n",
      "dtypes: float64(3), int64(6), object(4)\n",
      "memory usage: 1.5+ MB\n"
     ]
    }
   ],
   "source": [
    "df.info()"
   ]
  },
  {
   "cell_type": "markdown",
   "metadata": {},
   "source": [
    "#### Above we can see different Dataypes of the different columns along with the total non null values within each column"
   ]
  },
  {
   "cell_type": "code",
   "execution_count": 230,
   "metadata": {},
   "outputs": [
    {
     "data": {
      "text/html": [
       "<div>\n",
       "<style scoped>\n",
       "    .dataframe tbody tr th:only-of-type {\n",
       "        vertical-align: middle;\n",
       "    }\n",
       "\n",
       "    .dataframe tbody tr th {\n",
       "        vertical-align: top;\n",
       "    }\n",
       "\n",
       "    .dataframe thead th {\n",
       "        text-align: right;\n",
       "    }\n",
       "</style>\n",
       "<table border=\"1\" class=\"dataframe\">\n",
       "  <thead>\n",
       "    <tr style=\"text-align: right;\">\n",
       "      <th></th>\n",
       "      <th>age</th>\n",
       "      <th>weight</th>\n",
       "      <th>bmi</th>\n",
       "      <th>no_of_dependents</th>\n",
       "      <th>smoker</th>\n",
       "      <th>bloodpressure</th>\n",
       "      <th>diabetes</th>\n",
       "      <th>regular_ex</th>\n",
       "      <th>claim</th>\n",
       "    </tr>\n",
       "  </thead>\n",
       "  <tbody>\n",
       "    <tr>\n",
       "      <th>count</th>\n",
       "      <td>14604.000000</td>\n",
       "      <td>15000.000000</td>\n",
       "      <td>14044.000000</td>\n",
       "      <td>15000.000000</td>\n",
       "      <td>15000.000000</td>\n",
       "      <td>15000.000000</td>\n",
       "      <td>15000.000000</td>\n",
       "      <td>15000.000000</td>\n",
       "      <td>15000.000000</td>\n",
       "    </tr>\n",
       "    <tr>\n",
       "      <th>mean</th>\n",
       "      <td>39.547521</td>\n",
       "      <td>64.909600</td>\n",
       "      <td>30.266413</td>\n",
       "      <td>1.129733</td>\n",
       "      <td>0.198133</td>\n",
       "      <td>68.650133</td>\n",
       "      <td>0.777000</td>\n",
       "      <td>0.224133</td>\n",
       "      <td>13401.437620</td>\n",
       "    </tr>\n",
       "    <tr>\n",
       "      <th>std</th>\n",
       "      <td>14.015966</td>\n",
       "      <td>13.701935</td>\n",
       "      <td>6.122950</td>\n",
       "      <td>1.228469</td>\n",
       "      <td>0.398606</td>\n",
       "      <td>19.418515</td>\n",
       "      <td>0.416272</td>\n",
       "      <td>0.417024</td>\n",
       "      <td>12148.239619</td>\n",
       "    </tr>\n",
       "    <tr>\n",
       "      <th>min</th>\n",
       "      <td>18.000000</td>\n",
       "      <td>34.000000</td>\n",
       "      <td>16.000000</td>\n",
       "      <td>0.000000</td>\n",
       "      <td>0.000000</td>\n",
       "      <td>0.000000</td>\n",
       "      <td>0.000000</td>\n",
       "      <td>0.000000</td>\n",
       "      <td>1121.900000</td>\n",
       "    </tr>\n",
       "    <tr>\n",
       "      <th>25%</th>\n",
       "      <td>27.000000</td>\n",
       "      <td>54.000000</td>\n",
       "      <td>25.700000</td>\n",
       "      <td>0.000000</td>\n",
       "      <td>0.000000</td>\n",
       "      <td>64.000000</td>\n",
       "      <td>1.000000</td>\n",
       "      <td>0.000000</td>\n",
       "      <td>4846.900000</td>\n",
       "    </tr>\n",
       "    <tr>\n",
       "      <th>50%</th>\n",
       "      <td>40.000000</td>\n",
       "      <td>63.000000</td>\n",
       "      <td>29.400000</td>\n",
       "      <td>1.000000</td>\n",
       "      <td>0.000000</td>\n",
       "      <td>71.000000</td>\n",
       "      <td>1.000000</td>\n",
       "      <td>0.000000</td>\n",
       "      <td>9545.650000</td>\n",
       "    </tr>\n",
       "    <tr>\n",
       "      <th>75%</th>\n",
       "      <td>52.000000</td>\n",
       "      <td>76.000000</td>\n",
       "      <td>34.400000</td>\n",
       "      <td>2.000000</td>\n",
       "      <td>0.000000</td>\n",
       "      <td>80.000000</td>\n",
       "      <td>1.000000</td>\n",
       "      <td>0.000000</td>\n",
       "      <td>16519.125000</td>\n",
       "    </tr>\n",
       "    <tr>\n",
       "      <th>max</th>\n",
       "      <td>64.000000</td>\n",
       "      <td>95.000000</td>\n",
       "      <td>53.100000</td>\n",
       "      <td>5.000000</td>\n",
       "      <td>1.000000</td>\n",
       "      <td>122.000000</td>\n",
       "      <td>1.000000</td>\n",
       "      <td>1.000000</td>\n",
       "      <td>63770.400000</td>\n",
       "    </tr>\n",
       "  </tbody>\n",
       "</table>\n",
       "</div>"
      ],
      "text/plain": [
       "                age        weight           bmi  no_of_dependents  \\\n",
       "count  14604.000000  15000.000000  14044.000000      15000.000000   \n",
       "mean      39.547521     64.909600     30.266413          1.129733   \n",
       "std       14.015966     13.701935      6.122950          1.228469   \n",
       "min       18.000000     34.000000     16.000000          0.000000   \n",
       "25%       27.000000     54.000000     25.700000          0.000000   \n",
       "50%       40.000000     63.000000     29.400000          1.000000   \n",
       "75%       52.000000     76.000000     34.400000          2.000000   \n",
       "max       64.000000     95.000000     53.100000          5.000000   \n",
       "\n",
       "             smoker  bloodpressure      diabetes    regular_ex         claim  \n",
       "count  15000.000000   15000.000000  15000.000000  15000.000000  15000.000000  \n",
       "mean       0.198133      68.650133      0.777000      0.224133  13401.437620  \n",
       "std        0.398606      19.418515      0.416272      0.417024  12148.239619  \n",
       "min        0.000000       0.000000      0.000000      0.000000   1121.900000  \n",
       "25%        0.000000      64.000000      1.000000      0.000000   4846.900000  \n",
       "50%        0.000000      71.000000      1.000000      0.000000   9545.650000  \n",
       "75%        0.000000      80.000000      1.000000      0.000000  16519.125000  \n",
       "max        1.000000     122.000000      1.000000      1.000000  63770.400000  "
      ]
     },
     "execution_count": 230,
     "metadata": {},
     "output_type": "execute_result"
    }
   ],
   "source": [
    "df.describe()"
   ]
  },
  {
   "cell_type": "markdown",
   "metadata": {},
   "source": [
    "#### The decribe function shows the mean,min,max,75%,25% values of the data which helps to identify which columns have outliers in them"
   ]
  },
  {
   "cell_type": "code",
   "execution_count": 231,
   "metadata": {},
   "outputs": [
    {
     "data": {
      "text/plain": [
       "age                    396\n",
       "sex                      0\n",
       "weight                   0\n",
       "bmi                    956\n",
       "hereditary_diseases      0\n",
       "no_of_dependents         0\n",
       "smoker                   0\n",
       "city                     0\n",
       "bloodpressure            0\n",
       "diabetes                 0\n",
       "regular_ex               0\n",
       "job_title                0\n",
       "claim                    0\n",
       "dtype: int64"
      ]
     },
     "execution_count": 231,
     "metadata": {},
     "output_type": "execute_result"
    }
   ],
   "source": [
    "df.isnull().sum()"
   ]
  },
  {
   "cell_type": "code",
   "execution_count": 232,
   "metadata": {},
   "outputs": [
    {
     "data": {
      "text/plain": [
       "<AxesSubplot:>"
      ]
     },
     "execution_count": 232,
     "metadata": {},
     "output_type": "execute_result"
    },
    {
     "data": {
      "image/png": "[encoded data removed]",
      "text/plain": [
       "<Figure size 432x288 with 1 Axes>"
      ]
     },
     "metadata": {
      "needs_background": "light"
     },
     "output_type": "display_data"
    }
   ],
   "source": [
    "sns.heatmap(df.isnull(),cbar=False)"
   ]
  },
  {
   "cell_type": "markdown",
   "metadata": {},
   "source": [
    "#### Columns age ,hereditary_diseases have null values in them.Since the amount of missing values of the columns are less than 2% we can drop the null values"
   ]
  },
  {
   "cell_type": "code",
   "execution_count": 233,
   "metadata": {},
   "outputs": [],
   "source": [
    "df.dropna(subset=['age','bmi'],inplace=True)"
   ]
  },
  {
   "cell_type": "markdown",
   "metadata": {},
   "source": [
    "#### The null values were dropped"
   ]
  },
  {
   "cell_type": "code",
   "execution_count": 234,
   "metadata": {},
   "outputs": [
    {
     "data": {
      "text/plain": [
       "<AxesSubplot:>"
      ]
     },
     "execution_count": 234,
     "metadata": {},
     "output_type": "execute_result"
    },
    {
     "data": {
      "image/png": "[encoded data removed]",
      "text/plain": [
       "<Figure size 432x288 with 1 Axes>"
      ]
     },
     "metadata": {
      "needs_background": "light"
     },
     "output_type": "display_data"
    }
   ],
   "source": [
    "sns.heatmap(df.isnull(),cbar=False)"
   ]
  },
  {
   "cell_type": "markdown",
   "metadata": {},
   "source": [
    "#### Some columns in the data have a numerical data type when they are supposed to be categorical"
   ]
  },
  {
   "cell_type": "code",
   "execution_count": 235,
   "metadata": {},
   "outputs": [],
   "source": [
    "df['smoker']=df['smoker'].astype('object')\n",
    "df['diabetes']=df['diabetes'].astype('object')\n",
    "df['regular_ex']=df['regular_ex'].astype('object')"
   ]
  },
  {
   "cell_type": "code",
   "execution_count": 237,
   "metadata": {},
   "outputs": [
    {
     "data": {
      "text/plain": [
       "age                    float64\n",
       "sex                     object\n",
       "weight                   int64\n",
       "bmi                    float64\n",
       "hereditary_diseases     object\n",
       "no_of_dependents         int64\n",
       "smoker                  object\n",
       "city                    object\n",
       "bloodpressure            int64\n",
       "diabetes                object\n",
       "regular_ex              object\n",
       "job_title               object\n",
       "claim                  float64\n",
       "dtype: object"
      ]
     },
     "execution_count": 237,
     "metadata": {},
     "output_type": "execute_result"
    }
   ],
   "source": [
    "df.dtypes"
   ]
  },
  {
   "cell_type": "markdown",
   "metadata": {},
   "source": [
    "#### The datatypes have been correctly replaced"
   ]
  },
  {
   "cell_type": "code",
   "execution_count": 238,
   "metadata": {
    "scrolled": true
   },
   "outputs": [
    {
     "data": {
      "text/html": [
       "<div>\n",
       "<style scoped>\n",
       "    .dataframe tbody tr th:only-of-type {\n",
       "        vertical-align: middle;\n",
       "    }\n",
       "\n",
       "    .dataframe tbody tr th {\n",
       "        vertical-align: top;\n",
       "    }\n",
       "\n",
       "    .dataframe thead th {\n",
       "        text-align: right;\n",
       "    }\n",
       "</style>\n",
       "<table border=\"1\" class=\"dataframe\">\n",
       "  <thead>\n",
       "    <tr style=\"text-align: right;\">\n",
       "      <th></th>\n",
       "      <th>age</th>\n",
       "      <th>weight</th>\n",
       "      <th>bmi</th>\n",
       "      <th>no_of_dependents</th>\n",
       "      <th>bloodpressure</th>\n",
       "      <th>claim</th>\n",
       "    </tr>\n",
       "  </thead>\n",
       "  <tbody>\n",
       "    <tr>\n",
       "      <th>0</th>\n",
       "      <td>60.0</td>\n",
       "      <td>64</td>\n",
       "      <td>24.3</td>\n",
       "      <td>1</td>\n",
       "      <td>72</td>\n",
       "      <td>13112.6</td>\n",
       "    </tr>\n",
       "    <tr>\n",
       "      <th>1</th>\n",
       "      <td>49.0</td>\n",
       "      <td>75</td>\n",
       "      <td>22.6</td>\n",
       "      <td>1</td>\n",
       "      <td>78</td>\n",
       "      <td>9567.0</td>\n",
       "    </tr>\n",
       "    <tr>\n",
       "      <th>2</th>\n",
       "      <td>32.0</td>\n",
       "      <td>64</td>\n",
       "      <td>17.8</td>\n",
       "      <td>2</td>\n",
       "      <td>88</td>\n",
       "      <td>32734.2</td>\n",
       "    </tr>\n",
       "    <tr>\n",
       "      <th>3</th>\n",
       "      <td>61.0</td>\n",
       "      <td>53</td>\n",
       "      <td>36.4</td>\n",
       "      <td>1</td>\n",
       "      <td>72</td>\n",
       "      <td>48517.6</td>\n",
       "    </tr>\n",
       "    <tr>\n",
       "      <th>4</th>\n",
       "      <td>19.0</td>\n",
       "      <td>50</td>\n",
       "      <td>20.6</td>\n",
       "      <td>0</td>\n",
       "      <td>82</td>\n",
       "      <td>1731.7</td>\n",
       "    </tr>\n",
       "  </tbody>\n",
       "</table>\n",
       "</div>"
      ],
      "text/plain": [
       "    age  weight   bmi  no_of_dependents  bloodpressure    claim\n",
       "0  60.0      64  24.3                 1             72  13112.6\n",
       "1  49.0      75  22.6                 1             78   9567.0\n",
       "2  32.0      64  17.8                 2             88  32734.2\n",
       "3  61.0      53  36.4                 1             72  48517.6\n",
       "4  19.0      50  20.6                 0             82   1731.7"
      ]
     },
     "execution_count": 238,
     "metadata": {},
     "output_type": "execute_result"
    }
   ],
   "source": [
    "df_num=df.select_dtypes(np.number)\n",
    "df_num.head()"
   ]
  },
  {
   "cell_type": "code",
   "execution_count": 131,
   "metadata": {},
   "outputs": [],
   "source": [
    "df1=df['age']"
   ]
  },
  {
   "cell_type": "code",
   "execution_count": 239,
   "metadata": {
    "scrolled": false
   },
   "outputs": [
    {
     "data": {
      "text/plain": [
       "<AxesSubplot:xlabel='claim', ylabel='Density'>"
      ]
     },
     "execution_count": 239,
     "metadata": {},
     "output_type": "execute_result"
    },
    {
     "data": {
      "image/png": "[encoded data removed]",
      "text/plain": [
       "<Figure size 1080x720 with 6 Axes>"
      ]
     },
     "metadata": {
      "needs_background": "light"
     },
     "output_type": "display_data"
    }
   ],
   "source": [
    "\n",
    "fig,axes=plt.subplots(3,2,figsize=(15,10))\n",
    "sns.distplot(df['age'], ax=axes[0,0])\n",
    "sns.distplot(df['weight'], ax=axes[0,1])\n",
    "sns.distplot(df['bmi'], ax=axes[1,0])\n",
    "sns.distplot(df['no_of_dependents'], ax=axes[1,1])\n",
    "sns.distplot(df['bloodpressure'], ax=axes[2,0])\n",
    "sns.distplot(df['claim'], ax=axes[2,1])"
   ]
  },
  {
   "cell_type": "markdown",
   "metadata": {},
   "source": [
    "#### As per the above distribution of numerical variables we can identify the skewness of each of them where all of them have a positive skew."
   ]
  },
  {
   "cell_type": "code",
   "execution_count": 133,
   "metadata": {},
   "outputs": [],
   "source": [
    "df_num=df.select_dtypes(np.number)"
   ]
  },
  {
   "cell_type": "code",
   "execution_count": 134,
   "metadata": {},
   "outputs": [
    {
     "data": {
      "image/png": "[encoded data removed]",
      "text/plain": [
       "<Figure size 1080x720 with 1 Axes>"
      ]
     },
     "metadata": {
      "needs_background": "light"
     },
     "output_type": "display_data"
    }
   ],
   "source": [
    "\n",
    "fig,axes=plt.subplots(figsize=(15,10))\n",
    "plt.boxplot(df_num)\n",
    "plt.xticks(ticks=np.arange(0,6),labels=df_num.columns)\n",
    "plt.show()"
   ]
  },
  {
   "cell_type": "markdown",
   "metadata": {},
   "source": [
    "#### As per the above boxplots the target variable has extreame outliers in them "
   ]
  },
  {
   "cell_type": "markdown",
   "metadata": {},
   "source": [
    "#### Treatment of outliers using square root transformation"
   ]
  },
  {
   "cell_type": "code",
   "execution_count": 135,
   "metadata": {},
   "outputs": [],
   "source": [
    "df_num1=np.log10(df_num+1)"
   ]
  },
  {
   "cell_type": "code",
   "execution_count": 136,
   "metadata": {
    "scrolled": false
   },
   "outputs": [
    {
     "data": {
      "text/html": [
       "<div>\n",
       "<style scoped>\n",
       "    .dataframe tbody tr th:only-of-type {\n",
       "        vertical-align: middle;\n",
       "    }\n",
       "\n",
       "    .dataframe tbody tr th {\n",
       "        vertical-align: top;\n",
       "    }\n",
       "\n",
       "    .dataframe thead th {\n",
       "        text-align: right;\n",
       "    }\n",
       "</style>\n",
       "<table border=\"1\" class=\"dataframe\">\n",
       "  <thead>\n",
       "    <tr style=\"text-align: right;\">\n",
       "      <th></th>\n",
       "      <th>age</th>\n",
       "      <th>weight</th>\n",
       "      <th>bmi</th>\n",
       "      <th>no_of_dependents</th>\n",
       "      <th>bloodpressure</th>\n",
       "      <th>claim</th>\n",
       "    </tr>\n",
       "  </thead>\n",
       "  <tbody>\n",
       "    <tr>\n",
       "      <th>0</th>\n",
       "      <td>1.785330</td>\n",
       "      <td>1.812913</td>\n",
       "      <td>1.403121</td>\n",
       "      <td>0.301030</td>\n",
       "      <td>1.863323</td>\n",
       "      <td>4.117722</td>\n",
       "    </tr>\n",
       "    <tr>\n",
       "      <th>1</th>\n",
       "      <td>1.698970</td>\n",
       "      <td>1.880814</td>\n",
       "      <td>1.372912</td>\n",
       "      <td>0.301030</td>\n",
       "      <td>1.897627</td>\n",
       "      <td>3.980821</td>\n",
       "    </tr>\n",
       "    <tr>\n",
       "      <th>2</th>\n",
       "      <td>1.518514</td>\n",
       "      <td>1.812913</td>\n",
       "      <td>1.274158</td>\n",
       "      <td>0.477121</td>\n",
       "      <td>1.949390</td>\n",
       "      <td>4.515015</td>\n",
       "    </tr>\n",
       "    <tr>\n",
       "      <th>3</th>\n",
       "      <td>1.792392</td>\n",
       "      <td>1.732394</td>\n",
       "      <td>1.572872</td>\n",
       "      <td>0.301030</td>\n",
       "      <td>1.863323</td>\n",
       "      <td>4.685908</td>\n",
       "    </tr>\n",
       "    <tr>\n",
       "      <th>4</th>\n",
       "      <td>1.301030</td>\n",
       "      <td>1.707570</td>\n",
       "      <td>1.334454</td>\n",
       "      <td>0.000000</td>\n",
       "      <td>1.919078</td>\n",
       "      <td>3.238723</td>\n",
       "    </tr>\n",
       "  </tbody>\n",
       "</table>\n",
       "</div>"
      ],
      "text/plain": [
       "        age    weight       bmi  no_of_dependents  bloodpressure     claim\n",
       "0  1.785330  1.812913  1.403121          0.301030       1.863323  4.117722\n",
       "1  1.698970  1.880814  1.372912          0.301030       1.897627  3.980821\n",
       "2  1.518514  1.812913  1.274158          0.477121       1.949390  4.515015\n",
       "3  1.792392  1.732394  1.572872          0.301030       1.863323  4.685908\n",
       "4  1.301030  1.707570  1.334454          0.000000       1.919078  3.238723"
      ]
     },
     "execution_count": 136,
     "metadata": {},
     "output_type": "execute_result"
    }
   ],
   "source": [
    "df_num1.head()"
   ]
  },
  {
   "cell_type": "code",
   "execution_count": 137,
   "metadata": {
    "scrolled": true
   },
   "outputs": [
    {
     "data": {
      "text/html": [
       "<div>\n",
       "<style scoped>\n",
       "    .dataframe tbody tr th:only-of-type {\n",
       "        vertical-align: middle;\n",
       "    }\n",
       "\n",
       "    .dataframe tbody tr th {\n",
       "        vertical-align: top;\n",
       "    }\n",
       "\n",
       "    .dataframe thead th {\n",
       "        text-align: right;\n",
       "    }\n",
       "</style>\n",
       "<table border=\"1\" class=\"dataframe\">\n",
       "  <thead>\n",
       "    <tr style=\"text-align: right;\">\n",
       "      <th></th>\n",
       "      <th>age</th>\n",
       "      <th>weight</th>\n",
       "      <th>bmi</th>\n",
       "      <th>no_of_dependents</th>\n",
       "      <th>bloodpressure</th>\n",
       "      <th>claim</th>\n",
       "    </tr>\n",
       "  </thead>\n",
       "  <tbody>\n",
       "    <tr>\n",
       "      <th>0</th>\n",
       "      <td>60.0</td>\n",
       "      <td>64</td>\n",
       "      <td>24.3</td>\n",
       "      <td>1</td>\n",
       "      <td>72</td>\n",
       "      <td>13112.6</td>\n",
       "    </tr>\n",
       "    <tr>\n",
       "      <th>1</th>\n",
       "      <td>49.0</td>\n",
       "      <td>75</td>\n",
       "      <td>22.6</td>\n",
       "      <td>1</td>\n",
       "      <td>78</td>\n",
       "      <td>9567.0</td>\n",
       "    </tr>\n",
       "    <tr>\n",
       "      <th>2</th>\n",
       "      <td>32.0</td>\n",
       "      <td>64</td>\n",
       "      <td>17.8</td>\n",
       "      <td>2</td>\n",
       "      <td>88</td>\n",
       "      <td>32734.2</td>\n",
       "    </tr>\n",
       "    <tr>\n",
       "      <th>3</th>\n",
       "      <td>61.0</td>\n",
       "      <td>53</td>\n",
       "      <td>36.4</td>\n",
       "      <td>1</td>\n",
       "      <td>72</td>\n",
       "      <td>48517.6</td>\n",
       "    </tr>\n",
       "    <tr>\n",
       "      <th>4</th>\n",
       "      <td>19.0</td>\n",
       "      <td>50</td>\n",
       "      <td>20.6</td>\n",
       "      <td>0</td>\n",
       "      <td>82</td>\n",
       "      <td>1731.7</td>\n",
       "    </tr>\n",
       "  </tbody>\n",
       "</table>\n",
       "</div>"
      ],
      "text/plain": [
       "    age  weight   bmi  no_of_dependents  bloodpressure    claim\n",
       "0  60.0      64  24.3                 1             72  13112.6\n",
       "1  49.0      75  22.6                 1             78   9567.0\n",
       "2  32.0      64  17.8                 2             88  32734.2\n",
       "3  61.0      53  36.4                 1             72  48517.6\n",
       "4  19.0      50  20.6                 0             82   1731.7"
      ]
     },
     "execution_count": 137,
     "metadata": {},
     "output_type": "execute_result"
    }
   ],
   "source": [
    "df_num.head()"
   ]
  },
  {
   "cell_type": "markdown",
   "metadata": {},
   "source": [
    "### Z_score method"
   ]
  },
  {
   "cell_type": "code",
   "execution_count": 138,
   "metadata": {},
   "outputs": [
    {
     "data": {
      "text/html": [
       "<div>\n",
       "<style scoped>\n",
       "    .dataframe tbody tr th:only-of-type {\n",
       "        vertical-align: middle;\n",
       "    }\n",
       "\n",
       "    .dataframe tbody tr th {\n",
       "        vertical-align: top;\n",
       "    }\n",
       "\n",
       "    .dataframe thead th {\n",
       "        text-align: right;\n",
       "    }\n",
       "</style>\n",
       "<table border=\"1\" class=\"dataframe\">\n",
       "  <thead>\n",
       "    <tr style=\"text-align: right;\">\n",
       "      <th></th>\n",
       "      <th>age</th>\n",
       "      <th>weight</th>\n",
       "      <th>bmi</th>\n",
       "      <th>no_of_dependents</th>\n",
       "      <th>bloodpressure</th>\n",
       "      <th>claim</th>\n",
       "    </tr>\n",
       "  </thead>\n",
       "  <tbody>\n",
       "    <tr>\n",
       "      <th>0</th>\n",
       "      <td>1.459227</td>\n",
       "      <td>-0.056531</td>\n",
       "      <td>-0.976143</td>\n",
       "      <td>-0.093468</td>\n",
       "      <td>0.177330</td>\n",
       "      <td>-0.032816</td>\n",
       "    </tr>\n",
       "    <tr>\n",
       "      <th>1</th>\n",
       "      <td>0.674408</td>\n",
       "      <td>0.748051</td>\n",
       "      <td>-1.253304</td>\n",
       "      <td>-0.093468</td>\n",
       "      <td>0.485612</td>\n",
       "      <td>-0.323500</td>\n",
       "    </tr>\n",
       "    <tr>\n",
       "      <th>2</th>\n",
       "      <td>-0.538495</td>\n",
       "      <td>-0.056531</td>\n",
       "      <td>-2.035876</td>\n",
       "      <td>0.730310</td>\n",
       "      <td>0.999416</td>\n",
       "      <td>1.575849</td>\n",
       "    </tr>\n",
       "    <tr>\n",
       "      <th>3</th>\n",
       "      <td>1.530574</td>\n",
       "      <td>-0.861112</td>\n",
       "      <td>0.996590</td>\n",
       "      <td>-0.093468</td>\n",
       "      <td>0.177330</td>\n",
       "      <td>2.869841</td>\n",
       "    </tr>\n",
       "    <tr>\n",
       "      <th>4</th>\n",
       "      <td>-1.466008</td>\n",
       "      <td>-1.080544</td>\n",
       "      <td>-1.579376</td>\n",
       "      <td>-0.917245</td>\n",
       "      <td>0.691134</td>\n",
       "      <td>-0.965872</td>\n",
       "    </tr>\n",
       "  </tbody>\n",
       "</table>\n",
       "</div>"
      ],
      "text/plain": [
       "        age    weight       bmi  no_of_dependents  bloodpressure     claim\n",
       "0  1.459227 -0.056531 -0.976143         -0.093468       0.177330 -0.032816\n",
       "1  0.674408  0.748051 -1.253304         -0.093468       0.485612 -0.323500\n",
       "2 -0.538495 -0.056531 -2.035876          0.730310       0.999416  1.575849\n",
       "3  1.530574 -0.861112  0.996590         -0.093468       0.177330  2.869841\n",
       "4 -1.466008 -1.080544 -1.579376         -0.917245       0.691134 -0.965872"
      ]
     },
     "execution_count": 138,
     "metadata": {},
     "output_type": "execute_result"
    }
   ],
   "source": [
    "z_score=(df_num-df_num.mean())/df_num.std()\n",
    "z_score.head()"
   ]
  },
  {
   "cell_type": "code",
   "execution_count": 139,
   "metadata": {},
   "outputs": [
    {
     "data": {
      "text/plain": [
       "(array([   64,   114,   194,   202,   205,   372,   728,   764,   787,\n",
       "          834,   853,   931,  1181,  1212,  1236,  1237,  1249,  1365,\n",
       "         1403,  1404,  1435,  1448,  1506,  1548,  1600,  1611,  1615,\n",
       "         1637,  1736,  1850,  1877,  1897,  2029,  2035,  2039,  2041,\n",
       "         2073,  2089,  2093,  2114,  2237,  2260,  2272,  2290,  2348,\n",
       "         2350,  2393,  2526,  2530,  2541,  2551,  2584,  2609,  2673,\n",
       "         2678,  2683,  2684,  2782,  2833,  2960,  3008,  3072,  3160,\n",
       "         3187,  3208,  3222,  3371,  3374,  3450,  3463,  3477,  3548,\n",
       "         3632,  3738,  3767,  4051,  4055,  4109,  4133,  4146,  4267,\n",
       "         4279,  4285,  4313,  4364,  4441,  4449,  4476,  4542,  4591,\n",
       "         4683,  4703,  4719,  4735,  4850,  4870,  4878,  4909,  4938,\n",
       "         4989,  5014,  5020,  5035,  5183,  5184,  5186,  5206,  5233,\n",
       "         5271,  5321,  5375,  5428,  5464,  5558,  5582,  5617,  5693,\n",
       "         5694,  5705,  5728,  5854,  5898,  5901,  5967,  5972,  5984,\n",
       "         6008,  6016,  6088,  6102,  6226,  6250,  6255,  6257,  6263,\n",
       "         6331,  6370,  6487,  6508,  6539,  6566,  6616,  6652,  6695,\n",
       "         6721,  6763,  6872,  6963,  6965,  7070,  7131,  7202,  7226,\n",
       "         7249,  7259,  7260,  7270,  7293,  7306,  7314,  7316,  7330,\n",
       "         7336,  7362,  7366,  7560,  7748,  7775,  7967,  7976,  7988,\n",
       "         8022,  8044,  8085,  8137,  8221,  8231,  8307,  8316,  8439,\n",
       "         8470,  8496,  8499,  8553,  8561,  8624,  8630,  8643,  8689,\n",
       "         8735,  8861,  8866,  8870,  8999,  9006,  9058,  9156,  9179,\n",
       "         9194,  9236,  9280,  9378,  9431,  9465,  9469,  9475,  9477,\n",
       "         9593,  9618,  9621,  9822,  9921,  9929,  9930,  9958, 10086,\n",
       "        10167, 10201, 10231, 10288, 10303, 10341, 10368, 10415, 10499,\n",
       "        10567, 10699, 10716, 10761, 10788, 10805, 10871, 10912, 10922,\n",
       "        10924, 10970, 10992, 11054, 11071, 11099, 11265, 11339, 11358,\n",
       "        11397, 11439, 11491, 11650, 11734, 11774, 11822, 11838, 11871,\n",
       "        11889, 11937, 12008, 12103, 12183, 12219, 12298, 12309, 12351,\n",
       "        12375, 12511, 12535, 12548, 12554, 12580, 12644, 12670, 13047,\n",
       "        13063, 13177, 13248, 13319, 13339, 13517, 13526, 13572, 13695,\n",
       "        13704, 13763, 13787, 13828, 13987, 14005, 14078, 14113, 14139,\n",
       "        14143, 14322, 14337, 14381, 14396, 14416, 14442, 14480, 14549],\n",
       "       dtype=int64),\n",
       " array([3, 3, 3, 3, 3, 2, 5, 3, 5, 3, 3, 3, 3, 3, 3, 5, 3, 5, 3, 3, 2, 3,\n",
       "        5, 3, 3, 2, 5, 2, 3, 3, 5, 3, 2, 3, 3, 5, 2, 3, 5, 5, 3, 3, 3, 5,\n",
       "        3, 5, 5, 5, 3, 5, 3, 5, 3, 2, 3, 3, 3, 3, 3, 5, 3, 3, 3, 2, 3, 5,\n",
       "        3, 3, 3, 3, 3, 3, 3, 3, 5, 3, 3, 3, 3, 2, 3, 3, 5, 3, 2, 3, 3, 3,\n",
       "        3, 5, 3, 2, 3, 5, 2, 2, 3, 3, 3, 3, 3, 3, 3, 5, 3, 5, 3, 3, 3, 5,\n",
       "        5, 3, 3, 3, 5, 3, 3, 5, 3, 3, 3, 3, 3, 5, 3, 5, 3, 3, 3, 3, 3, 5,\n",
       "        3, 3, 3, 3, 3, 3, 3, 3, 2, 3, 5, 3, 3, 3, 5, 3, 3, 3, 3, 3, 5, 3,\n",
       "        3, 3, 3, 2, 2, 5, 5, 3, 2, 3, 3, 3, 2, 3, 3, 3, 3, 2, 5, 3, 2, 3,\n",
       "        3, 5, 5, 5, 5, 3, 5, 3, 3, 3, 2, 3, 3, 3, 3, 3, 2, 3, 3, 3, 5, 3,\n",
       "        3, 3, 3, 3, 3, 3, 5, 5, 3, 5, 5, 3, 3, 3, 3, 3, 3, 3, 3, 5, 3, 5,\n",
       "        3, 3, 5, 3, 3, 3, 3, 5, 3, 3, 3, 5, 3, 2, 3, 2, 3, 3, 3, 3, 3, 2,\n",
       "        3, 3, 5, 3, 3, 5, 2, 3, 3, 3, 2, 3, 3, 3, 2, 3, 5, 3, 3, 3, 5, 3,\n",
       "        3, 5, 2, 5, 3, 3, 5, 3, 5, 3, 3, 3, 3, 5, 3, 2, 3, 3, 3, 2, 3, 5,\n",
       "        3, 3, 3, 2, 2, 3, 2, 2, 3, 3, 3], dtype=int64))"
      ]
     },
     "execution_count": 139,
     "metadata": {},
     "output_type": "execute_result"
    }
   ],
   "source": [
    "np.where(z_score>3)"
   ]
  },
  {
   "cell_type": "code",
   "execution_count": 250,
   "metadata": {
    "scrolled": true
   },
   "outputs": [],
   "source": [
    "### After Encoding\n",
    "df_num2 = df_num[(z_score < 3).all(axis=1)] "
   ]
  },
  {
   "cell_type": "code",
   "execution_count": 141,
   "metadata": {},
   "outputs": [],
   "source": [
    "## Using IQR\n",
    "## After encoding\n",
    "Q1=df_num.quantile(0.25)\n",
    "\n",
    "Q3=df_num.quantile(0.75)\n",
    "IQR=Q3-Q1\n"
   ]
  },
  {
   "cell_type": "code",
   "execution_count": 142,
   "metadata": {},
   "outputs": [],
   "source": [
    "### Optional \n",
    "### df_num[~((df_num<(Q1-(1.5*IQR)))|(df_num>(Q3+(1.5*IQR))).any(axis=1)]"
   ]
  },
  {
   "cell_type": "code",
   "execution_count": 143,
   "metadata": {
    "scrolled": true
   },
   "outputs": [
    {
     "data": {
      "text/html": [
       "<div>\n",
       "<style scoped>\n",
       "    .dataframe tbody tr th:only-of-type {\n",
       "        vertical-align: middle;\n",
       "    }\n",
       "\n",
       "    .dataframe tbody tr th {\n",
       "        vertical-align: top;\n",
       "    }\n",
       "\n",
       "    .dataframe thead th {\n",
       "        text-align: right;\n",
       "    }\n",
       "</style>\n",
       "<table border=\"1\" class=\"dataframe\">\n",
       "  <thead>\n",
       "    <tr style=\"text-align: right;\">\n",
       "      <th></th>\n",
       "      <th>sex</th>\n",
       "      <th>hereditary_diseases</th>\n",
       "      <th>smoker</th>\n",
       "      <th>city</th>\n",
       "      <th>diabetes</th>\n",
       "      <th>regular_ex</th>\n",
       "      <th>job_title</th>\n",
       "    </tr>\n",
       "  </thead>\n",
       "  <tbody>\n",
       "    <tr>\n",
       "      <th>0</th>\n",
       "      <td>male</td>\n",
       "      <td>NoDisease</td>\n",
       "      <td>0</td>\n",
       "      <td>NewYork</td>\n",
       "      <td>0</td>\n",
       "      <td>0</td>\n",
       "      <td>Actor</td>\n",
       "    </tr>\n",
       "    <tr>\n",
       "      <th>1</th>\n",
       "      <td>female</td>\n",
       "      <td>NoDisease</td>\n",
       "      <td>0</td>\n",
       "      <td>Boston</td>\n",
       "      <td>1</td>\n",
       "      <td>1</td>\n",
       "      <td>Engineer</td>\n",
       "    </tr>\n",
       "    <tr>\n",
       "      <th>2</th>\n",
       "      <td>female</td>\n",
       "      <td>Epilepsy</td>\n",
       "      <td>1</td>\n",
       "      <td>Phildelphia</td>\n",
       "      <td>1</td>\n",
       "      <td>1</td>\n",
       "      <td>Academician</td>\n",
       "    </tr>\n",
       "    <tr>\n",
       "      <th>3</th>\n",
       "      <td>female</td>\n",
       "      <td>NoDisease</td>\n",
       "      <td>1</td>\n",
       "      <td>Pittsburg</td>\n",
       "      <td>1</td>\n",
       "      <td>0</td>\n",
       "      <td>Chef</td>\n",
       "    </tr>\n",
       "    <tr>\n",
       "      <th>4</th>\n",
       "      <td>female</td>\n",
       "      <td>NoDisease</td>\n",
       "      <td>0</td>\n",
       "      <td>Buffalo</td>\n",
       "      <td>1</td>\n",
       "      <td>0</td>\n",
       "      <td>HomeMakers</td>\n",
       "    </tr>\n",
       "  </tbody>\n",
       "</table>\n",
       "</div>"
      ],
      "text/plain": [
       "      sex hereditary_diseases smoker         city diabetes regular_ex  \\\n",
       "0    male           NoDisease      0      NewYork        0          0   \n",
       "1  female           NoDisease      0       Boston        1          1   \n",
       "2  female            Epilepsy      1  Phildelphia        1          1   \n",
       "3  female           NoDisease      1    Pittsburg        1          0   \n",
       "4  female           NoDisease      0      Buffalo        1          0   \n",
       "\n",
       "     job_title  \n",
       "0        Actor  \n",
       "1     Engineer  \n",
       "2  Academician  \n",
       "3         Chef  \n",
       "4   HomeMakers  "
      ]
     },
     "execution_count": 143,
     "metadata": {},
     "output_type": "execute_result"
    }
   ],
   "source": [
    "df_cat=df.select_dtypes(np.object)\n",
    "df_cat.head()"
   ]
  },
  {
   "cell_type": "code",
   "execution_count": 144,
   "metadata": {},
   "outputs": [
    {
     "data": {
      "text/html": [
       "<div>\n",
       "<style scoped>\n",
       "    .dataframe tbody tr th:only-of-type {\n",
       "        vertical-align: middle;\n",
       "    }\n",
       "\n",
       "    .dataframe tbody tr th {\n",
       "        vertical-align: top;\n",
       "    }\n",
       "\n",
       "    .dataframe thead th {\n",
       "        text-align: right;\n",
       "    }\n",
       "</style>\n",
       "<table border=\"1\" class=\"dataframe\">\n",
       "  <thead>\n",
       "    <tr style=\"text-align: right;\">\n",
       "      <th></th>\n",
       "      <th>sex</th>\n",
       "      <th>hereditary_diseases</th>\n",
       "      <th>smoker</th>\n",
       "      <th>city</th>\n",
       "      <th>diabetes</th>\n",
       "      <th>regular_ex</th>\n",
       "      <th>job_title</th>\n",
       "    </tr>\n",
       "  </thead>\n",
       "  <tbody>\n",
       "    <tr>\n",
       "      <th>count</th>\n",
       "      <td>14604</td>\n",
       "      <td>14604</td>\n",
       "      <td>14604</td>\n",
       "      <td>14604</td>\n",
       "      <td>14604</td>\n",
       "      <td>14604</td>\n",
       "      <td>14604</td>\n",
       "    </tr>\n",
       "    <tr>\n",
       "      <th>unique</th>\n",
       "      <td>2</td>\n",
       "      <td>10</td>\n",
       "      <td>2</td>\n",
       "      <td>91</td>\n",
       "      <td>2</td>\n",
       "      <td>2</td>\n",
       "      <td>35</td>\n",
       "    </tr>\n",
       "    <tr>\n",
       "      <th>top</th>\n",
       "      <td>female</td>\n",
       "      <td>NoDisease</td>\n",
       "      <td>0</td>\n",
       "      <td>Nashville</td>\n",
       "      <td>1</td>\n",
       "      <td>0</td>\n",
       "      <td>Student</td>\n",
       "    </tr>\n",
       "    <tr>\n",
       "      <th>freq</th>\n",
       "      <td>7387</td>\n",
       "      <td>13624</td>\n",
       "      <td>11690</td>\n",
       "      <td>296</td>\n",
       "      <td>11361</td>\n",
       "      <td>11316</td>\n",
       "      <td>1298</td>\n",
       "    </tr>\n",
       "  </tbody>\n",
       "</table>\n",
       "</div>"
      ],
      "text/plain": [
       "           sex hereditary_diseases  smoker       city  diabetes  regular_ex  \\\n",
       "count    14604               14604   14604      14604     14604       14604   \n",
       "unique       2                  10       2         91         2           2   \n",
       "top     female           NoDisease       0  Nashville         1           0   \n",
       "freq      7387               13624   11690        296     11361       11316   \n",
       "\n",
       "       job_title  \n",
       "count      14604  \n",
       "unique        35  \n",
       "top      Student  \n",
       "freq        1298  "
      ]
     },
     "execution_count": 144,
     "metadata": {},
     "output_type": "execute_result"
    }
   ],
   "source": [
    "df_cat.describe()"
   ]
  },
  {
   "cell_type": "markdown",
   "metadata": {},
   "source": [
    "#### Each of the categories have various classes in them . Also each of the column with its highest value count and its corresponding values can be seen"
   ]
  },
  {
   "cell_type": "markdown",
   "metadata": {},
   "source": [
    " #### Exploratory data Analysis using categorical variables"
   ]
  },
  {
   "cell_type": "code",
   "execution_count": 145,
   "metadata": {},
   "outputs": [
    {
     "data": {
      "text/plain": [
       "<AxesSubplot:xlabel='sex'>"
      ]
     },
     "execution_count": 145,
     "metadata": {},
     "output_type": "execute_result"
    },
    {
     "data": {
      "image/png": "[encoded data removed]",
      "text/plain": [
       "<Figure size 432x288 with 1 Axes>"
      ]
     },
     "metadata": {
      "needs_background": "light"
     },
     "output_type": "display_data"
    }
   ],
   "source": [
    "pd.crosstab(df['sex'],df['smoker']).plot(kind='bar')"
   ]
  },
  {
   "cell_type": "markdown",
   "metadata": {},
   "source": [
    "#### Male gender has the highest number of smokers and female gender has the highest number of non smokers"
   ]
  },
  {
   "cell_type": "code",
   "execution_count": 146,
   "metadata": {},
   "outputs": [],
   "source": [
    "df_cat1=df_cat.iloc[:,[0,1,3,6]]\n"
   ]
  },
  {
   "cell_type": "markdown",
   "metadata": {},
   "source": [
    "## Encoding"
   ]
  },
  {
   "cell_type": "code",
   "execution_count": 147,
   "metadata": {},
   "outputs": [
    {
     "data": {
      "text/html": [
       "<div>\n",
       "<style scoped>\n",
       "    .dataframe tbody tr th:only-of-type {\n",
       "        vertical-align: middle;\n",
       "    }\n",
       "\n",
       "    .dataframe tbody tr th {\n",
       "        vertical-align: top;\n",
       "    }\n",
       "\n",
       "    .dataframe thead th {\n",
       "        text-align: right;\n",
       "    }\n",
       "</style>\n",
       "<table border=\"1\" class=\"dataframe\">\n",
       "  <thead>\n",
       "    <tr style=\"text-align: right;\">\n",
       "      <th></th>\n",
       "      <th>sex</th>\n",
       "      <th>hereditary_diseases</th>\n",
       "      <th>city</th>\n",
       "      <th>job_title</th>\n",
       "    </tr>\n",
       "  </thead>\n",
       "  <tbody>\n",
       "    <tr>\n",
       "      <th>0</th>\n",
       "      <td>1</td>\n",
       "      <td>8</td>\n",
       "      <td>55</td>\n",
       "      <td>2</td>\n",
       "    </tr>\n",
       "    <tr>\n",
       "      <th>1</th>\n",
       "      <td>0</td>\n",
       "      <td>8</td>\n",
       "      <td>5</td>\n",
       "      <td>16</td>\n",
       "    </tr>\n",
       "    <tr>\n",
       "      <th>2</th>\n",
       "      <td>0</td>\n",
       "      <td>4</td>\n",
       "      <td>63</td>\n",
       "      <td>0</td>\n",
       "    </tr>\n",
       "    <tr>\n",
       "      <th>3</th>\n",
       "      <td>0</td>\n",
       "      <td>8</td>\n",
       "      <td>64</td>\n",
       "      <td>10</td>\n",
       "    </tr>\n",
       "    <tr>\n",
       "      <th>4</th>\n",
       "      <td>0</td>\n",
       "      <td>8</td>\n",
       "      <td>8</td>\n",
       "      <td>22</td>\n",
       "    </tr>\n",
       "  </tbody>\n",
       "</table>\n",
       "</div>"
      ],
      "text/plain": [
       "   sex  hereditary_diseases  city  job_title\n",
       "0    1                    8    55          2\n",
       "1    0                    8     5         16\n",
       "2    0                    4    63          0\n",
       "3    0                    8    64         10\n",
       "4    0                    8     8         22"
      ]
     },
     "execution_count": 147,
     "metadata": {},
     "output_type": "execute_result"
    }
   ],
   "source": [
    "df_cat_encoded=df_cat1.apply(LabelEncoder().fit_transform)\n",
    "df_cat_encoded.head()"
   ]
  },
  {
   "cell_type": "code",
   "execution_count": 148,
   "metadata": {
    "scrolled": false
   },
   "outputs": [
    {
     "data": {
      "text/html": [
       "<div>\n",
       "<style scoped>\n",
       "    .dataframe tbody tr th:only-of-type {\n",
       "        vertical-align: middle;\n",
       "    }\n",
       "\n",
       "    .dataframe tbody tr th {\n",
       "        vertical-align: top;\n",
       "    }\n",
       "\n",
       "    .dataframe thead th {\n",
       "        text-align: right;\n",
       "    }\n",
       "</style>\n",
       "<table border=\"1\" class=\"dataframe\">\n",
       "  <thead>\n",
       "    <tr style=\"text-align: right;\">\n",
       "      <th></th>\n",
       "      <th>sex</th>\n",
       "      <th>hereditary_diseases</th>\n",
       "      <th>city</th>\n",
       "      <th>job_title</th>\n",
       "      <th>age</th>\n",
       "      <th>weight</th>\n",
       "      <th>bmi</th>\n",
       "      <th>no_of_dependents</th>\n",
       "      <th>bloodpressure</th>\n",
       "      <th>claim</th>\n",
       "    </tr>\n",
       "  </thead>\n",
       "  <tbody>\n",
       "    <tr>\n",
       "      <th>0</th>\n",
       "      <td>1</td>\n",
       "      <td>8</td>\n",
       "      <td>55</td>\n",
       "      <td>2</td>\n",
       "      <td>1.785330</td>\n",
       "      <td>1.812913</td>\n",
       "      <td>1.403121</td>\n",
       "      <td>0.301030</td>\n",
       "      <td>1.863323</td>\n",
       "      <td>4.117722</td>\n",
       "    </tr>\n",
       "    <tr>\n",
       "      <th>1</th>\n",
       "      <td>0</td>\n",
       "      <td>8</td>\n",
       "      <td>5</td>\n",
       "      <td>16</td>\n",
       "      <td>1.698970</td>\n",
       "      <td>1.880814</td>\n",
       "      <td>1.372912</td>\n",
       "      <td>0.301030</td>\n",
       "      <td>1.897627</td>\n",
       "      <td>3.980821</td>\n",
       "    </tr>\n",
       "    <tr>\n",
       "      <th>2</th>\n",
       "      <td>0</td>\n",
       "      <td>4</td>\n",
       "      <td>63</td>\n",
       "      <td>0</td>\n",
       "      <td>1.518514</td>\n",
       "      <td>1.812913</td>\n",
       "      <td>1.274158</td>\n",
       "      <td>0.477121</td>\n",
       "      <td>1.949390</td>\n",
       "      <td>4.515015</td>\n",
       "    </tr>\n",
       "    <tr>\n",
       "      <th>3</th>\n",
       "      <td>0</td>\n",
       "      <td>8</td>\n",
       "      <td>64</td>\n",
       "      <td>10</td>\n",
       "      <td>1.792392</td>\n",
       "      <td>1.732394</td>\n",
       "      <td>1.572872</td>\n",
       "      <td>0.301030</td>\n",
       "      <td>1.863323</td>\n",
       "      <td>4.685908</td>\n",
       "    </tr>\n",
       "    <tr>\n",
       "      <th>4</th>\n",
       "      <td>0</td>\n",
       "      <td>8</td>\n",
       "      <td>8</td>\n",
       "      <td>22</td>\n",
       "      <td>1.301030</td>\n",
       "      <td>1.707570</td>\n",
       "      <td>1.334454</td>\n",
       "      <td>0.000000</td>\n",
       "      <td>1.919078</td>\n",
       "      <td>3.238723</td>\n",
       "    </tr>\n",
       "  </tbody>\n",
       "</table>\n",
       "</div>"
      ],
      "text/plain": [
       "   sex  hereditary_diseases  city  job_title       age    weight       bmi  \\\n",
       "0    1                    8    55          2  1.785330  1.812913  1.403121   \n",
       "1    0                    8     5         16  1.698970  1.880814  1.372912   \n",
       "2    0                    4    63          0  1.518514  1.812913  1.274158   \n",
       "3    0                    8    64         10  1.792392  1.732394  1.572872   \n",
       "4    0                    8     8         22  1.301030  1.707570  1.334454   \n",
       "\n",
       "   no_of_dependents  bloodpressure     claim  \n",
       "0          0.301030       1.863323  4.117722  \n",
       "1          0.301030       1.897627  3.980821  \n",
       "2          0.477121       1.949390  4.515015  \n",
       "3          0.301030       1.863323  4.685908  \n",
       "4          0.000000       1.919078  3.238723  "
      ]
     },
     "execution_count": 148,
     "metadata": {},
     "output_type": "execute_result"
    }
   ],
   "source": [
    "df=pd.concat([df_cat_encoded,df_num1],axis=1)\n",
    "df.head()"
   ]
  },
  {
   "cell_type": "code",
   "execution_count": 149,
   "metadata": {
    "scrolled": false
   },
   "outputs": [
    {
     "data": {
      "text/html": [
       "<div>\n",
       "<style scoped>\n",
       "    .dataframe tbody tr th:only-of-type {\n",
       "        vertical-align: middle;\n",
       "    }\n",
       "\n",
       "    .dataframe tbody tr th {\n",
       "        vertical-align: top;\n",
       "    }\n",
       "\n",
       "    .dataframe thead th {\n",
       "        text-align: right;\n",
       "    }\n",
       "</style>\n",
       "<table border=\"1\" class=\"dataframe\">\n",
       "  <thead>\n",
       "    <tr style=\"text-align: right;\">\n",
       "      <th></th>\n",
       "      <th>sex</th>\n",
       "      <th>hereditary_diseases</th>\n",
       "      <th>city</th>\n",
       "      <th>job_title</th>\n",
       "      <th>age</th>\n",
       "      <th>weight</th>\n",
       "      <th>bmi</th>\n",
       "      <th>no_of_dependents</th>\n",
       "      <th>bloodpressure</th>\n",
       "      <th>claim</th>\n",
       "    </tr>\n",
       "  </thead>\n",
       "  <tbody>\n",
       "    <tr>\n",
       "      <th>0</th>\n",
       "      <td>1.011675</td>\n",
       "      <td>0.214917</td>\n",
       "      <td>0.377367</td>\n",
       "      <td>-1.605311</td>\n",
       "      <td>1.257715</td>\n",
       "      <td>0.047114</td>\n",
       "      <td>-0.979530</td>\n",
       "      <td>0.184147</td>\n",
       "      <td>0.238559</td>\n",
       "      <td>0.392287</td>\n",
       "    </tr>\n",
       "    <tr>\n",
       "      <th>1</th>\n",
       "      <td>-0.988392</td>\n",
       "      <td>0.214917</td>\n",
       "      <td>-1.551562</td>\n",
       "      <td>-0.260777</td>\n",
       "      <td>0.731639</td>\n",
       "      <td>0.796340</td>\n",
       "      <td>-1.332293</td>\n",
       "      <td>0.184147</td>\n",
       "      <td>0.321252</td>\n",
       "      <td>0.046360</td>\n",
       "    </tr>\n",
       "    <tr>\n",
       "      <th>2</th>\n",
       "      <td>-0.988392</td>\n",
       "      <td>-2.966688</td>\n",
       "      <td>0.685995</td>\n",
       "      <td>-1.797387</td>\n",
       "      <td>-0.367640</td>\n",
       "      <td>0.047114</td>\n",
       "      <td>-2.485506</td>\n",
       "      <td>0.908140</td>\n",
       "      <td>0.446031</td>\n",
       "      <td>1.396185</td>\n",
       "    </tr>\n",
       "    <tr>\n",
       "      <th>3</th>\n",
       "      <td>-0.988392</td>\n",
       "      <td>0.214917</td>\n",
       "      <td>0.724574</td>\n",
       "      <td>-0.837006</td>\n",
       "      <td>1.300734</td>\n",
       "      <td>-0.841357</td>\n",
       "      <td>1.002759</td>\n",
       "      <td>0.184147</td>\n",
       "      <td>0.238559</td>\n",
       "      <td>1.828005</td>\n",
       "    </tr>\n",
       "    <tr>\n",
       "      <th>4</th>\n",
       "      <td>-0.988392</td>\n",
       "      <td>0.214917</td>\n",
       "      <td>-1.435826</td>\n",
       "      <td>0.315451</td>\n",
       "      <td>-1.692481</td>\n",
       "      <td>-1.115266</td>\n",
       "      <td>-1.781394</td>\n",
       "      <td>-1.053528</td>\n",
       "      <td>0.372962</td>\n",
       "      <td>-1.828805</td>\n",
       "    </tr>\n",
       "  </tbody>\n",
       "</table>\n",
       "</div>"
      ],
      "text/plain": [
       "        sex  hereditary_diseases      city  job_title       age    weight  \\\n",
       "0  1.011675             0.214917  0.377367  -1.605311  1.257715  0.047114   \n",
       "1 -0.988392             0.214917 -1.551562  -0.260777  0.731639  0.796340   \n",
       "2 -0.988392            -2.966688  0.685995  -1.797387 -0.367640  0.047114   \n",
       "3 -0.988392             0.214917  0.724574  -0.837006  1.300734 -0.841357   \n",
       "4 -0.988392             0.214917 -1.435826   0.315451 -1.692481 -1.115266   \n",
       "\n",
       "        bmi  no_of_dependents  bloodpressure     claim  \n",
       "0 -0.979530          0.184147       0.238559  0.392287  \n",
       "1 -1.332293          0.184147       0.321252  0.046360  \n",
       "2 -2.485506          0.908140       0.446031  1.396185  \n",
       "3  1.002759          0.184147       0.238559  1.828005  \n",
       "4 -1.781394         -1.053528       0.372962 -1.828805  "
      ]
     },
     "execution_count": 149,
     "metadata": {},
     "output_type": "execute_result"
    }
   ],
   "source": [
    "z_score=(df-df.mean())/df.std()\n",
    "z_score.head()"
   ]
  },
  {
   "cell_type": "markdown",
   "metadata": {},
   "source": [
    "#### Data Frame After removing outliers"
   ]
  },
  {
   "cell_type": "code",
   "execution_count": 150,
   "metadata": {},
   "outputs": [
    {
     "data": {
      "text/html": [
       "<div>\n",
       "<style scoped>\n",
       "    .dataframe tbody tr th:only-of-type {\n",
       "        vertical-align: middle;\n",
       "    }\n",
       "\n",
       "    .dataframe tbody tr th {\n",
       "        vertical-align: top;\n",
       "    }\n",
       "\n",
       "    .dataframe thead th {\n",
       "        text-align: right;\n",
       "    }\n",
       "</style>\n",
       "<table border=\"1\" class=\"dataframe\">\n",
       "  <thead>\n",
       "    <tr style=\"text-align: right;\">\n",
       "      <th></th>\n",
       "      <th>sex</th>\n",
       "      <th>hereditary_diseases</th>\n",
       "      <th>city</th>\n",
       "      <th>job_title</th>\n",
       "      <th>age</th>\n",
       "      <th>weight</th>\n",
       "      <th>bmi</th>\n",
       "      <th>no_of_dependents</th>\n",
       "      <th>bloodpressure</th>\n",
       "      <th>claim</th>\n",
       "    </tr>\n",
       "  </thead>\n",
       "  <tbody>\n",
       "    <tr>\n",
       "      <th>0</th>\n",
       "      <td>1</td>\n",
       "      <td>8</td>\n",
       "      <td>55</td>\n",
       "      <td>2</td>\n",
       "      <td>1.785330</td>\n",
       "      <td>1.812913</td>\n",
       "      <td>1.403121</td>\n",
       "      <td>0.301030</td>\n",
       "      <td>1.863323</td>\n",
       "      <td>4.117722</td>\n",
       "    </tr>\n",
       "    <tr>\n",
       "      <th>1</th>\n",
       "      <td>0</td>\n",
       "      <td>8</td>\n",
       "      <td>5</td>\n",
       "      <td>16</td>\n",
       "      <td>1.698970</td>\n",
       "      <td>1.880814</td>\n",
       "      <td>1.372912</td>\n",
       "      <td>0.301030</td>\n",
       "      <td>1.897627</td>\n",
       "      <td>3.980821</td>\n",
       "    </tr>\n",
       "    <tr>\n",
       "      <th>2</th>\n",
       "      <td>0</td>\n",
       "      <td>4</td>\n",
       "      <td>63</td>\n",
       "      <td>0</td>\n",
       "      <td>1.518514</td>\n",
       "      <td>1.812913</td>\n",
       "      <td>1.274158</td>\n",
       "      <td>0.477121</td>\n",
       "      <td>1.949390</td>\n",
       "      <td>4.515015</td>\n",
       "    </tr>\n",
       "    <tr>\n",
       "      <th>3</th>\n",
       "      <td>0</td>\n",
       "      <td>8</td>\n",
       "      <td>64</td>\n",
       "      <td>10</td>\n",
       "      <td>1.792392</td>\n",
       "      <td>1.732394</td>\n",
       "      <td>1.572872</td>\n",
       "      <td>0.301030</td>\n",
       "      <td>1.863323</td>\n",
       "      <td>4.685908</td>\n",
       "    </tr>\n",
       "    <tr>\n",
       "      <th>4</th>\n",
       "      <td>0</td>\n",
       "      <td>8</td>\n",
       "      <td>8</td>\n",
       "      <td>22</td>\n",
       "      <td>1.301030</td>\n",
       "      <td>1.707570</td>\n",
       "      <td>1.334454</td>\n",
       "      <td>0.000000</td>\n",
       "      <td>1.919078</td>\n",
       "      <td>3.238723</td>\n",
       "    </tr>\n",
       "  </tbody>\n",
       "</table>\n",
       "</div>"
      ],
      "text/plain": [
       "   sex  hereditary_diseases  city  job_title       age    weight       bmi  \\\n",
       "0    1                    8    55          2  1.785330  1.812913  1.403121   \n",
       "1    0                    8     5         16  1.698970  1.880814  1.372912   \n",
       "2    0                    4    63          0  1.518514  1.812913  1.274158   \n",
       "3    0                    8    64         10  1.792392  1.732394  1.572872   \n",
       "4    0                    8     8         22  1.301030  1.707570  1.334454   \n",
       "\n",
       "   no_of_dependents  bloodpressure     claim  \n",
       "0          0.301030       1.863323  4.117722  \n",
       "1          0.301030       1.897627  3.980821  \n",
       "2          0.477121       1.949390  4.515015  \n",
       "3          0.301030       1.863323  4.685908  \n",
       "4          0.000000       1.919078  3.238723  "
      ]
     },
     "execution_count": 150,
     "metadata": {},
     "output_type": "execute_result"
    }
   ],
   "source": [
    "df = df[(z_score < 3).all(axis=1)] \n",
    "df.head()"
   ]
  },
  {
   "cell_type": "code",
   "execution_count": 151,
   "metadata": {},
   "outputs": [
    {
     "data": {
      "text/plain": [
       "<AxesSubplot:>"
      ]
     },
     "execution_count": 151,
     "metadata": {},
     "output_type": "execute_result"
    },
    {
     "data": {
      "image/png": "[encoded data removed]",
      "text/plain": [
       "<Figure size 720x360 with 2 Axes>"
      ]
     },
     "metadata": {
      "needs_background": "light"
     },
     "output_type": "display_data"
    }
   ],
   "source": [
    "\n",
    "fig,axes=plt.subplots(figsize=(10,5))\n",
    "sns.heatmap(df.corr(),annot=True)"
   ]
  },
  {
   "cell_type": "markdown",
   "metadata": {
    "scrolled": true
   },
   "source": [
    "#### The heatmap above shows the correlation between the independent and dependent varibales. The column city has the least correlation and can be exculded"
   ]
  },
  {
   "cell_type": "code",
   "execution_count": 152,
   "metadata": {},
   "outputs": [],
   "source": [
    "df=df.drop(columns=['city'])"
   ]
  },
  {
   "cell_type": "code",
   "execution_count": 153,
   "metadata": {
    "scrolled": true
   },
   "outputs": [
    {
     "data": {
      "text/html": [
       "<div>\n",
       "<style scoped>\n",
       "    .dataframe tbody tr th:only-of-type {\n",
       "        vertical-align: middle;\n",
       "    }\n",
       "\n",
       "    .dataframe tbody tr th {\n",
       "        vertical-align: top;\n",
       "    }\n",
       "\n",
       "    .dataframe thead th {\n",
       "        text-align: right;\n",
       "    }\n",
       "</style>\n",
       "<table border=\"1\" class=\"dataframe\">\n",
       "  <thead>\n",
       "    <tr style=\"text-align: right;\">\n",
       "      <th></th>\n",
       "      <th>sex</th>\n",
       "      <th>hereditary_diseases</th>\n",
       "      <th>job_title</th>\n",
       "      <th>age</th>\n",
       "      <th>weight</th>\n",
       "      <th>bmi</th>\n",
       "      <th>no_of_dependents</th>\n",
       "      <th>bloodpressure</th>\n",
       "      <th>claim</th>\n",
       "    </tr>\n",
       "  </thead>\n",
       "  <tbody>\n",
       "    <tr>\n",
       "      <th>0</th>\n",
       "      <td>1</td>\n",
       "      <td>8</td>\n",
       "      <td>2</td>\n",
       "      <td>1.785330</td>\n",
       "      <td>1.812913</td>\n",
       "      <td>1.403121</td>\n",
       "      <td>0.301030</td>\n",
       "      <td>1.863323</td>\n",
       "      <td>4.117722</td>\n",
       "    </tr>\n",
       "    <tr>\n",
       "      <th>1</th>\n",
       "      <td>0</td>\n",
       "      <td>8</td>\n",
       "      <td>16</td>\n",
       "      <td>1.698970</td>\n",
       "      <td>1.880814</td>\n",
       "      <td>1.372912</td>\n",
       "      <td>0.301030</td>\n",
       "      <td>1.897627</td>\n",
       "      <td>3.980821</td>\n",
       "    </tr>\n",
       "    <tr>\n",
       "      <th>2</th>\n",
       "      <td>0</td>\n",
       "      <td>4</td>\n",
       "      <td>0</td>\n",
       "      <td>1.518514</td>\n",
       "      <td>1.812913</td>\n",
       "      <td>1.274158</td>\n",
       "      <td>0.477121</td>\n",
       "      <td>1.949390</td>\n",
       "      <td>4.515015</td>\n",
       "    </tr>\n",
       "    <tr>\n",
       "      <th>3</th>\n",
       "      <td>0</td>\n",
       "      <td>8</td>\n",
       "      <td>10</td>\n",
       "      <td>1.792392</td>\n",
       "      <td>1.732394</td>\n",
       "      <td>1.572872</td>\n",
       "      <td>0.301030</td>\n",
       "      <td>1.863323</td>\n",
       "      <td>4.685908</td>\n",
       "    </tr>\n",
       "    <tr>\n",
       "      <th>4</th>\n",
       "      <td>0</td>\n",
       "      <td>8</td>\n",
       "      <td>22</td>\n",
       "      <td>1.301030</td>\n",
       "      <td>1.707570</td>\n",
       "      <td>1.334454</td>\n",
       "      <td>0.000000</td>\n",
       "      <td>1.919078</td>\n",
       "      <td>3.238723</td>\n",
       "    </tr>\n",
       "  </tbody>\n",
       "</table>\n",
       "</div>"
      ],
      "text/plain": [
       "   sex  hereditary_diseases  job_title       age    weight       bmi  \\\n",
       "0    1                    8          2  1.785330  1.812913  1.403121   \n",
       "1    0                    8         16  1.698970  1.880814  1.372912   \n",
       "2    0                    4          0  1.518514  1.812913  1.274158   \n",
       "3    0                    8         10  1.792392  1.732394  1.572872   \n",
       "4    0                    8         22  1.301030  1.707570  1.334454   \n",
       "\n",
       "   no_of_dependents  bloodpressure     claim  \n",
       "0          0.301030       1.863323  4.117722  \n",
       "1          0.301030       1.897627  3.980821  \n",
       "2          0.477121       1.949390  4.515015  \n",
       "3          0.301030       1.863323  4.685908  \n",
       "4          0.000000       1.919078  3.238723  "
      ]
     },
     "execution_count": 153,
     "metadata": {},
     "output_type": "execute_result"
    }
   ],
   "source": [
    "df.head()"
   ]
  },
  {
   "cell_type": "markdown",
   "metadata": {},
   "source": [
    "#### Train Test Split"
   ]
  },
  {
   "cell_type": "code",
   "execution_count": 154,
   "metadata": {},
   "outputs": [],
   "source": [
    "X=df.iloc[:,:8].values\n",
    "y=df.iloc[:,[8]].values"
   ]
  },
  {
   "cell_type": "code",
   "execution_count": 155,
   "metadata": {},
   "outputs": [],
   "source": [
    "X_train,X_test,y_train,y_test=train_test_split(X,y,test_size=0.3,random_state=1)"
   ]
  },
  {
   "cell_type": "code",
   "execution_count": 156,
   "metadata": {},
   "outputs": [
    {
     "data": {
      "text/plain": [
       "LinearRegression()"
      ]
     },
     "execution_count": 156,
     "metadata": {},
     "output_type": "execute_result"
    }
   ],
   "source": [
    "lin_reg1=LinearRegression()\n",
    "lin_reg1.fit(X_train,y_train)"
   ]
  },
  {
   "cell_type": "code",
   "execution_count": 157,
   "metadata": {},
   "outputs": [],
   "source": [
    "y_pred_train=lin_reg1.predict(X_train)"
   ]
  },
  {
   "cell_type": "code",
   "execution_count": 158,
   "metadata": {},
   "outputs": [],
   "source": [
    "y_pred=lin_reg1.predict(X_test)"
   ]
  },
  {
   "cell_type": "code",
   "execution_count": 159,
   "metadata": {},
   "outputs": [
    {
     "data": {
      "text/plain": [
       "0.43385001203838114"
      ]
     },
     "execution_count": 159,
     "metadata": {},
     "output_type": "execute_result"
    }
   ],
   "source": [
    "lin_reg1.score(X_train,y_train)"
   ]
  },
  {
   "cell_type": "code",
   "execution_count": 160,
   "metadata": {},
   "outputs": [
    {
     "data": {
      "text/plain": [
       "0.4408936029605496"
      ]
     },
     "execution_count": 160,
     "metadata": {},
     "output_type": "execute_result"
    }
   ],
   "source": [
    "lin_reg1.score(X_test,y_test)"
   ]
  },
  {
   "cell_type": "code",
   "execution_count": 161,
   "metadata": {},
   "outputs": [
    {
     "data": {
      "text/plain": [
       "0.29538106087796284"
      ]
     },
     "execution_count": 161,
     "metadata": {},
     "output_type": "execute_result"
    }
   ],
   "source": [
    "mse=mean_squared_error(y_test,y_pred)\n",
    "rmse=np.sqrt(mse)\n",
    "np.sqrt(mse)"
   ]
  },
  {
   "cell_type": "code",
   "execution_count": 162,
   "metadata": {},
   "outputs": [
    {
     "data": {
      "text/plain": [
       "0.2968850625864113"
      ]
     },
     "execution_count": 162,
     "metadata": {},
     "output_type": "execute_result"
    }
   ],
   "source": [
    "mse=mean_squared_error(y_train,y_pred_train)\n",
    "rmse=np.sqrt(mse)\n",
    "np.sqrt(mse)"
   ]
  },
  {
   "cell_type": "markdown",
   "metadata": {},
   "source": [
    "#### OLS"
   ]
  },
  {
   "cell_type": "code",
   "execution_count": 163,
   "metadata": {},
   "outputs": [
    {
     "data": {
      "text/html": [
       "<table class=\"simpletable\">\n",
       "<caption>OLS Regression Results</caption>\n",
       "<tr>\n",
       "  <th>Dep. Variable:</th>          <td>claim</td>      <th>  R-squared:         </th> <td>   0.434</td>\n",
       "</tr>\n",
       "<tr>\n",
       "  <th>Model:</th>                   <td>OLS</td>       <th>  Adj. R-squared:    </th> <td>   0.433</td>\n",
       "</tr>\n",
       "<tr>\n",
       "  <th>Method:</th>             <td>Least Squares</td>  <th>  F-statistic:       </th> <td>   914.2</td>\n",
       "</tr>\n",
       "<tr>\n",
       "  <th>Date:</th>             <td>Tue, 16 Mar 2021</td> <th>  Prob (F-statistic):</th>  <td>  0.00</td> \n",
       "</tr>\n",
       "<tr>\n",
       "  <th>Time:</th>                 <td>17:55:35</td>     <th>  Log-Likelihood:    </th> <td> -1953.9</td>\n",
       "</tr>\n",
       "<tr>\n",
       "  <th>No. Observations:</th>      <td>  9553</td>      <th>  AIC:               </th> <td>   3926.</td>\n",
       "</tr>\n",
       "<tr>\n",
       "  <th>Df Residuals:</th>          <td>  9544</td>      <th>  BIC:               </th> <td>   3990.</td>\n",
       "</tr>\n",
       "<tr>\n",
       "  <th>Df Model:</th>              <td>     8</td>      <th>                     </th>     <td> </td>   \n",
       "</tr>\n",
       "<tr>\n",
       "  <th>Covariance Type:</th>      <td>nonrobust</td>    <th>                     </th>     <td> </td>   \n",
       "</tr>\n",
       "</table>\n",
       "<table class=\"simpletable\">\n",
       "<tr>\n",
       "           <td></td>              <th>coef</th>     <th>std err</th>      <th>t</th>      <th>P>|t|</th>  <th>[0.025</th>    <th>0.975]</th>  \n",
       "</tr>\n",
       "<tr>\n",
       "  <th>const</th>               <td>    2.4854</td> <td>    0.078</td> <td>   31.722</td> <td> 0.000</td> <td>    2.332</td> <td>    2.639</td>\n",
       "</tr>\n",
       "<tr>\n",
       "  <th>sex</th>                 <td>   -0.0069</td> <td>    0.006</td> <td>   -1.111</td> <td> 0.267</td> <td>   -0.019</td> <td>    0.005</td>\n",
       "</tr>\n",
       "<tr>\n",
       "  <th>hereditary_diseases</th> <td>   -0.1107</td> <td>    0.002</td> <td>  -45.543</td> <td> 0.000</td> <td>   -0.115</td> <td>   -0.106</td>\n",
       "</tr>\n",
       "<tr>\n",
       "  <th>job_title</th>           <td>    0.0001</td> <td>    0.000</td> <td>    0.485</td> <td> 0.628</td> <td>   -0.000</td> <td>    0.001</td>\n",
       "</tr>\n",
       "<tr>\n",
       "  <th>age</th>                 <td>    1.2704</td> <td>    0.020</td> <td>   63.175</td> <td> 0.000</td> <td>    1.231</td> <td>    1.310</td>\n",
       "</tr>\n",
       "<tr>\n",
       "  <th>weight</th>              <td>   -0.0622</td> <td>    0.037</td> <td>   -1.672</td> <td> 0.095</td> <td>   -0.135</td> <td>    0.011</td>\n",
       "</tr>\n",
       "<tr>\n",
       "  <th>bmi</th>                 <td>    0.2651</td> <td>    0.038</td> <td>    7.068</td> <td> 0.000</td> <td>    0.192</td> <td>    0.339</td>\n",
       "</tr>\n",
       "<tr>\n",
       "  <th>no_of_dependents</th>    <td>    0.2169</td> <td>    0.013</td> <td>   17.052</td> <td> 0.000</td> <td>    0.192</td> <td>    0.242</td>\n",
       "</tr>\n",
       "<tr>\n",
       "  <th>bloodpressure</th>       <td>   -0.0061</td> <td>    0.007</td> <td>   -0.833</td> <td> 0.405</td> <td>   -0.021</td> <td>    0.008</td>\n",
       "</tr>\n",
       "</table>\n",
       "<table class=\"simpletable\">\n",
       "<tr>\n",
       "  <th>Omnibus:</th>       <td>1890.543</td> <th>  Durbin-Watson:     </th> <td>   1.999</td>\n",
       "</tr>\n",
       "<tr>\n",
       "  <th>Prob(Omnibus):</th>  <td> 0.000</td>  <th>  Jarque-Bera (JB):  </th> <td>3225.055</td>\n",
       "</tr>\n",
       "<tr>\n",
       "  <th>Skew:</th>           <td> 1.332</td>  <th>  Prob(JB):          </th> <td>    0.00</td>\n",
       "</tr>\n",
       "<tr>\n",
       "  <th>Kurtosis:</th>       <td> 4.005</td>  <th>  Cond. No.          </th> <td>    627.</td>\n",
       "</tr>\n",
       "</table><br/><br/>Notes:<br/>[1] Standard Errors assume that the covariance matrix of the errors is correctly specified."
      ],
      "text/plain": [
       "<class 'statsmodels.iolib.summary.Summary'>\n",
       "\"\"\"\n",
       "                            OLS Regression Results                            \n",
       "==============================================================================\n",
       "Dep. Variable:                  claim   R-squared:                       0.434\n",
       "Model:                            OLS   Adj. R-squared:                  0.433\n",
       "Method:                 Least Squares   F-statistic:                     914.2\n",
       "Date:                Tue, 16 Mar 2021   Prob (F-statistic):               0.00\n",
       "Time:                        17:55:35   Log-Likelihood:                -1953.9\n",
       "No. Observations:                9553   AIC:                             3926.\n",
       "Df Residuals:                    9544   BIC:                             3990.\n",
       "Df Model:                           8                                         \n",
       "Covariance Type:            nonrobust                                         \n",
       "=======================================================================================\n",
       "                          coef    std err          t      P>|t|      [0.025      0.975]\n",
       "---------------------------------------------------------------------------------------\n",
       "const                   2.4854      0.078     31.722      0.000       2.332       2.639\n",
       "sex                    -0.0069      0.006     -1.111      0.267      -0.019       0.005\n",
       "hereditary_diseases    -0.1107      0.002    -45.543      0.000      -0.115      -0.106\n",
       "job_title               0.0001      0.000      0.485      0.628      -0.000       0.001\n",
       "age                     1.2704      0.020     63.175      0.000       1.231       1.310\n",
       "weight                 -0.0622      0.037     -1.672      0.095      -0.135       0.011\n",
       "bmi                     0.2651      0.038      7.068      0.000       0.192       0.339\n",
       "no_of_dependents        0.2169      0.013     17.052      0.000       0.192       0.242\n",
       "bloodpressure          -0.0061      0.007     -0.833      0.405      -0.021       0.008\n",
       "==============================================================================\n",
       "Omnibus:                     1890.543   Durbin-Watson:                   1.999\n",
       "Prob(Omnibus):                  0.000   Jarque-Bera (JB):             3225.055\n",
       "Skew:                           1.332   Prob(JB):                         0.00\n",
       "Kurtosis:                       4.005   Cond. No.                         627.\n",
       "==============================================================================\n",
       "\n",
       "Notes:\n",
       "[1] Standard Errors assume that the covariance matrix of the errors is correctly specified.\n",
       "\"\"\""
      ]
     },
     "execution_count": 163,
     "metadata": {},
     "output_type": "execute_result"
    }
   ],
   "source": [
    "X=df.iloc[:,:8]\n",
    "y=df.iloc[:,[8]]\n",
    "X=sm.add_constant(X)\n",
    "X_train,X_test,y_train,y_test=train_test_split(X,y,test_size=0.3,random_state=1)\n",
    "MLR_model=sm.OLS(y_train,X_train).fit()\n",
    "MLR_model.summary()"
   ]
  },
  {
   "cell_type": "code",
   "execution_count": 164,
   "metadata": {},
   "outputs": [
    {
     "data": {
      "text/html": [
       "<div>\n",
       "<style scoped>\n",
       "    .dataframe tbody tr th:only-of-type {\n",
       "        vertical-align: middle;\n",
       "    }\n",
       "\n",
       "    .dataframe tbody tr th {\n",
       "        vertical-align: top;\n",
       "    }\n",
       "\n",
       "    .dataframe thead th {\n",
       "        text-align: right;\n",
       "    }\n",
       "</style>\n",
       "<table border=\"1\" class=\"dataframe\">\n",
       "  <thead>\n",
       "    <tr style=\"text-align: right;\">\n",
       "      <th></th>\n",
       "      <th>sex</th>\n",
       "      <th>hereditary_diseases</th>\n",
       "      <th>job_title</th>\n",
       "      <th>age</th>\n",
       "      <th>weight</th>\n",
       "      <th>bmi</th>\n",
       "      <th>no_of_dependents</th>\n",
       "      <th>bloodpressure</th>\n",
       "      <th>claim</th>\n",
       "    </tr>\n",
       "  </thead>\n",
       "  <tbody>\n",
       "    <tr>\n",
       "      <th>0</th>\n",
       "      <td>1</td>\n",
       "      <td>8</td>\n",
       "      <td>2</td>\n",
       "      <td>1.785330</td>\n",
       "      <td>1.812913</td>\n",
       "      <td>1.403121</td>\n",
       "      <td>0.301030</td>\n",
       "      <td>1.863323</td>\n",
       "      <td>4.117722</td>\n",
       "    </tr>\n",
       "    <tr>\n",
       "      <th>1</th>\n",
       "      <td>0</td>\n",
       "      <td>8</td>\n",
       "      <td>16</td>\n",
       "      <td>1.698970</td>\n",
       "      <td>1.880814</td>\n",
       "      <td>1.372912</td>\n",
       "      <td>0.301030</td>\n",
       "      <td>1.897627</td>\n",
       "      <td>3.980821</td>\n",
       "    </tr>\n",
       "    <tr>\n",
       "      <th>2</th>\n",
       "      <td>0</td>\n",
       "      <td>4</td>\n",
       "      <td>0</td>\n",
       "      <td>1.518514</td>\n",
       "      <td>1.812913</td>\n",
       "      <td>1.274158</td>\n",
       "      <td>0.477121</td>\n",
       "      <td>1.949390</td>\n",
       "      <td>4.515015</td>\n",
       "    </tr>\n",
       "    <tr>\n",
       "      <th>3</th>\n",
       "      <td>0</td>\n",
       "      <td>8</td>\n",
       "      <td>10</td>\n",
       "      <td>1.792392</td>\n",
       "      <td>1.732394</td>\n",
       "      <td>1.572872</td>\n",
       "      <td>0.301030</td>\n",
       "      <td>1.863323</td>\n",
       "      <td>4.685908</td>\n",
       "    </tr>\n",
       "    <tr>\n",
       "      <th>4</th>\n",
       "      <td>0</td>\n",
       "      <td>8</td>\n",
       "      <td>22</td>\n",
       "      <td>1.301030</td>\n",
       "      <td>1.707570</td>\n",
       "      <td>1.334454</td>\n",
       "      <td>0.000000</td>\n",
       "      <td>1.919078</td>\n",
       "      <td>3.238723</td>\n",
       "    </tr>\n",
       "    <tr>\n",
       "      <th>...</th>\n",
       "      <td>...</td>\n",
       "      <td>...</td>\n",
       "      <td>...</td>\n",
       "      <td>...</td>\n",
       "      <td>...</td>\n",
       "      <td>...</td>\n",
       "      <td>...</td>\n",
       "      <td>...</td>\n",
       "      <td>...</td>\n",
       "    </tr>\n",
       "    <tr>\n",
       "      <th>14995</th>\n",
       "      <td>1</td>\n",
       "      <td>8</td>\n",
       "      <td>20</td>\n",
       "      <td>1.602060</td>\n",
       "      <td>1.698970</td>\n",
       "      <td>1.466868</td>\n",
       "      <td>0.301030</td>\n",
       "      <td>1.740363</td>\n",
       "      <td>4.323937</td>\n",
       "    </tr>\n",
       "    <tr>\n",
       "      <th>14996</th>\n",
       "      <td>1</td>\n",
       "      <td>8</td>\n",
       "      <td>33</td>\n",
       "      <td>1.602060</td>\n",
       "      <td>1.875061</td>\n",
       "      <td>1.485721</td>\n",
       "      <td>0.698970</td>\n",
       "      <td>1.812913</td>\n",
       "      <td>3.875831</td>\n",
       "    </tr>\n",
       "    <tr>\n",
       "      <th>14997</th>\n",
       "      <td>1</td>\n",
       "      <td>8</td>\n",
       "      <td>18</td>\n",
       "      <td>1.322219</td>\n",
       "      <td>1.799341</td>\n",
       "      <td>1.535294</td>\n",
       "      <td>0.000000</td>\n",
       "      <td>1.724276</td>\n",
       "      <td>3.143795</td>\n",
       "    </tr>\n",
       "    <tr>\n",
       "      <th>14998</th>\n",
       "      <td>1</td>\n",
       "      <td>8</td>\n",
       "      <td>17</td>\n",
       "      <td>1.724276</td>\n",
       "      <td>1.949390</td>\n",
       "      <td>1.576341</td>\n",
       "      <td>0.000000</td>\n",
       "      <td>1.851258</td>\n",
       "      <td>3.961212</td>\n",
       "    </tr>\n",
       "    <tr>\n",
       "      <th>14999</th>\n",
       "      <td>1</td>\n",
       "      <td>8</td>\n",
       "      <td>28</td>\n",
       "      <td>1.724276</td>\n",
       "      <td>1.763428</td>\n",
       "      <td>1.437751</td>\n",
       "      <td>0.602060</td>\n",
       "      <td>1.863323</td>\n",
       "      <td>4.414870</td>\n",
       "    </tr>\n",
       "  </tbody>\n",
       "</table>\n",
       "<p>13648 rows × 9 columns</p>\n",
       "</div>"
      ],
      "text/plain": [
       "       sex  hereditary_diseases  job_title       age    weight       bmi  \\\n",
       "0        1                    8          2  1.785330  1.812913  1.403121   \n",
       "1        0                    8         16  1.698970  1.880814  1.372912   \n",
       "2        0                    4          0  1.518514  1.812913  1.274158   \n",
       "3        0                    8         10  1.792392  1.732394  1.572872   \n",
       "4        0                    8         22  1.301030  1.707570  1.334454   \n",
       "...    ...                  ...        ...       ...       ...       ...   \n",
       "14995    1                    8         20  1.602060  1.698970  1.466868   \n",
       "14996    1                    8         33  1.602060  1.875061  1.485721   \n",
       "14997    1                    8         18  1.322219  1.799341  1.535294   \n",
       "14998    1                    8         17  1.724276  1.949390  1.576341   \n",
       "14999    1                    8         28  1.724276  1.763428  1.437751   \n",
       "\n",
       "       no_of_dependents  bloodpressure     claim  \n",
       "0              0.301030       1.863323  4.117722  \n",
       "1              0.301030       1.897627  3.980821  \n",
       "2              0.477121       1.949390  4.515015  \n",
       "3              0.301030       1.863323  4.685908  \n",
       "4              0.000000       1.919078  3.238723  \n",
       "...                 ...            ...       ...  \n",
       "14995          0.301030       1.740363  4.323937  \n",
       "14996          0.698970       1.812913  3.875831  \n",
       "14997          0.000000       1.724276  3.143795  \n",
       "14998          0.000000       1.851258  3.961212  \n",
       "14999          0.602060       1.863323  4.414870  \n",
       "\n",
       "[13648 rows x 9 columns]"
      ]
     },
     "execution_count": 164,
     "metadata": {},
     "output_type": "execute_result"
    }
   ],
   "source": [
    "df"
   ]
  },
  {
   "cell_type": "code",
   "execution_count": 165,
   "metadata": {},
   "outputs": [
    {
     "data": {
      "text/html": [
       "<div>\n",
       "<style scoped>\n",
       "    .dataframe tbody tr th:only-of-type {\n",
       "        vertical-align: middle;\n",
       "    }\n",
       "\n",
       "    .dataframe tbody tr th {\n",
       "        vertical-align: top;\n",
       "    }\n",
       "\n",
       "    .dataframe thead th {\n",
       "        text-align: right;\n",
       "    }\n",
       "</style>\n",
       "<table border=\"1\" class=\"dataframe\">\n",
       "  <thead>\n",
       "    <tr style=\"text-align: right;\">\n",
       "      <th></th>\n",
       "      <th>age</th>\n",
       "      <th>weight</th>\n",
       "      <th>bmi</th>\n",
       "      <th>no_of_dependents</th>\n",
       "      <th>bloodpressure</th>\n",
       "    </tr>\n",
       "  </thead>\n",
       "  <tbody>\n",
       "    <tr>\n",
       "      <th>0</th>\n",
       "      <td>1.785330</td>\n",
       "      <td>1.812913</td>\n",
       "      <td>1.403121</td>\n",
       "      <td>0.301030</td>\n",
       "      <td>1.863323</td>\n",
       "    </tr>\n",
       "    <tr>\n",
       "      <th>1</th>\n",
       "      <td>1.698970</td>\n",
       "      <td>1.880814</td>\n",
       "      <td>1.372912</td>\n",
       "      <td>0.301030</td>\n",
       "      <td>1.897627</td>\n",
       "    </tr>\n",
       "    <tr>\n",
       "      <th>2</th>\n",
       "      <td>1.518514</td>\n",
       "      <td>1.812913</td>\n",
       "      <td>1.274158</td>\n",
       "      <td>0.477121</td>\n",
       "      <td>1.949390</td>\n",
       "    </tr>\n",
       "    <tr>\n",
       "      <th>3</th>\n",
       "      <td>1.792392</td>\n",
       "      <td>1.732394</td>\n",
       "      <td>1.572872</td>\n",
       "      <td>0.301030</td>\n",
       "      <td>1.863323</td>\n",
       "    </tr>\n",
       "    <tr>\n",
       "      <th>4</th>\n",
       "      <td>1.301030</td>\n",
       "      <td>1.707570</td>\n",
       "      <td>1.334454</td>\n",
       "      <td>0.000000</td>\n",
       "      <td>1.919078</td>\n",
       "    </tr>\n",
       "  </tbody>\n",
       "</table>\n",
       "</div>"
      ],
      "text/plain": [
       "        age    weight       bmi  no_of_dependents  bloodpressure\n",
       "0  1.785330  1.812913  1.403121          0.301030       1.863323\n",
       "1  1.698970  1.880814  1.372912          0.301030       1.897627\n",
       "2  1.518514  1.812913  1.274158          0.477121       1.949390\n",
       "3  1.792392  1.732394  1.572872          0.301030       1.863323\n",
       "4  1.301030  1.707570  1.334454          0.000000       1.919078"
      ]
     },
     "execution_count": 165,
     "metadata": {},
     "output_type": "execute_result"
    }
   ],
   "source": [
    "df_n=df.iloc[:,3:8]\n",
    "df_n.head()"
   ]
  },
  {
   "cell_type": "code",
   "execution_count": null,
   "metadata": {},
   "outputs": [],
   "source": []
  },
  {
   "cell_type": "markdown",
   "metadata": {},
   "source": [
    "### Variance Inflation factor to find variables supporting multi-collinearity"
   ]
  },
  {
   "cell_type": "code",
   "execution_count": 166,
   "metadata": {},
   "outputs": [
    {
     "name": "stdout",
     "output_type": "stream",
     "text": [
      "   VIF_Factor          Features\n",
      "0   16.961844               age\n",
      "1    2.137096  no_of_dependents\n",
      "2   15.911333     bloodpressure\n"
     ]
    }
   ],
   "source": [
    "for ind in range(len(df_n.columns)):\n",
    "    vif=pd.DataFrame()\n",
    "    vif[\"VIF_Factor\"] = [variance_inflation_factor(df_n.values, i) for i in range(df_n.shape[1])]\n",
    "    vif['Features']=df_n.columns\n",
    "    vif\n",
    "    multi_col=vif[vif['VIF_Factor']>20]\n",
    "    if multi_col.empty==False:\n",
    "        df_sort=multi_col.sort_values(by=['VIF_Factor'],ascending=False)\n",
    "    else:\n",
    "        print(vif)\n",
    "        break\n",
    "\n",
    "    if df_sort.empty==False:\n",
    "        df_n =df_n.drop(df_sort.Features.iloc[0],axis=1)\n",
    "    else:\n",
    "        print(vif)"
   ]
  },
  {
   "cell_type": "code",
   "execution_count": 167,
   "metadata": {},
   "outputs": [
    {
     "data": {
      "text/html": [
       "<div>\n",
       "<style scoped>\n",
       "    .dataframe tbody tr th:only-of-type {\n",
       "        vertical-align: middle;\n",
       "    }\n",
       "\n",
       "    .dataframe tbody tr th {\n",
       "        vertical-align: top;\n",
       "    }\n",
       "\n",
       "    .dataframe thead th {\n",
       "        text-align: right;\n",
       "    }\n",
       "</style>\n",
       "<table border=\"1\" class=\"dataframe\">\n",
       "  <thead>\n",
       "    <tr style=\"text-align: right;\">\n",
       "      <th></th>\n",
       "      <th>age</th>\n",
       "      <th>no_of_dependents</th>\n",
       "      <th>bloodpressure</th>\n",
       "    </tr>\n",
       "  </thead>\n",
       "  <tbody>\n",
       "    <tr>\n",
       "      <th>0</th>\n",
       "      <td>1.785330</td>\n",
       "      <td>0.301030</td>\n",
       "      <td>1.863323</td>\n",
       "    </tr>\n",
       "    <tr>\n",
       "      <th>1</th>\n",
       "      <td>1.698970</td>\n",
       "      <td>0.301030</td>\n",
       "      <td>1.897627</td>\n",
       "    </tr>\n",
       "    <tr>\n",
       "      <th>2</th>\n",
       "      <td>1.518514</td>\n",
       "      <td>0.477121</td>\n",
       "      <td>1.949390</td>\n",
       "    </tr>\n",
       "    <tr>\n",
       "      <th>3</th>\n",
       "      <td>1.792392</td>\n",
       "      <td>0.301030</td>\n",
       "      <td>1.863323</td>\n",
       "    </tr>\n",
       "    <tr>\n",
       "      <th>4</th>\n",
       "      <td>1.301030</td>\n",
       "      <td>0.000000</td>\n",
       "      <td>1.919078</td>\n",
       "    </tr>\n",
       "  </tbody>\n",
       "</table>\n",
       "</div>"
      ],
      "text/plain": [
       "        age  no_of_dependents  bloodpressure\n",
       "0  1.785330          0.301030       1.863323\n",
       "1  1.698970          0.301030       1.897627\n",
       "2  1.518514          0.477121       1.949390\n",
       "3  1.792392          0.301030       1.863323\n",
       "4  1.301030          0.000000       1.919078"
      ]
     },
     "execution_count": 167,
     "metadata": {},
     "output_type": "execute_result"
    }
   ],
   "source": [
    "df_n.head()"
   ]
  },
  {
   "cell_type": "markdown",
   "metadata": {},
   "source": [
    "#### Building model after removing variables with high inflation factor"
   ]
  },
  {
   "cell_type": "code",
   "execution_count": 168,
   "metadata": {},
   "outputs": [
    {
     "data": {
      "text/html": [
       "<div>\n",
       "<style scoped>\n",
       "    .dataframe tbody tr th:only-of-type {\n",
       "        vertical-align: middle;\n",
       "    }\n",
       "\n",
       "    .dataframe tbody tr th {\n",
       "        vertical-align: top;\n",
       "    }\n",
       "\n",
       "    .dataframe thead th {\n",
       "        text-align: right;\n",
       "    }\n",
       "</style>\n",
       "<table border=\"1\" class=\"dataframe\">\n",
       "  <thead>\n",
       "    <tr style=\"text-align: right;\">\n",
       "      <th></th>\n",
       "      <th>sex</th>\n",
       "      <th>hereditary_diseases</th>\n",
       "      <th>job_title</th>\n",
       "      <th>age</th>\n",
       "      <th>no_of_dependents</th>\n",
       "      <th>bloodpressure</th>\n",
       "      <th>claim</th>\n",
       "    </tr>\n",
       "  </thead>\n",
       "  <tbody>\n",
       "    <tr>\n",
       "      <th>0</th>\n",
       "      <td>1</td>\n",
       "      <td>8</td>\n",
       "      <td>2</td>\n",
       "      <td>1.785330</td>\n",
       "      <td>0.301030</td>\n",
       "      <td>1.863323</td>\n",
       "      <td>4.117722</td>\n",
       "    </tr>\n",
       "    <tr>\n",
       "      <th>1</th>\n",
       "      <td>0</td>\n",
       "      <td>8</td>\n",
       "      <td>16</td>\n",
       "      <td>1.698970</td>\n",
       "      <td>0.301030</td>\n",
       "      <td>1.897627</td>\n",
       "      <td>3.980821</td>\n",
       "    </tr>\n",
       "    <tr>\n",
       "      <th>2</th>\n",
       "      <td>0</td>\n",
       "      <td>4</td>\n",
       "      <td>0</td>\n",
       "      <td>1.518514</td>\n",
       "      <td>0.477121</td>\n",
       "      <td>1.949390</td>\n",
       "      <td>4.515015</td>\n",
       "    </tr>\n",
       "    <tr>\n",
       "      <th>3</th>\n",
       "      <td>0</td>\n",
       "      <td>8</td>\n",
       "      <td>10</td>\n",
       "      <td>1.792392</td>\n",
       "      <td>0.301030</td>\n",
       "      <td>1.863323</td>\n",
       "      <td>4.685908</td>\n",
       "    </tr>\n",
       "    <tr>\n",
       "      <th>4</th>\n",
       "      <td>0</td>\n",
       "      <td>8</td>\n",
       "      <td>22</td>\n",
       "      <td>1.301030</td>\n",
       "      <td>0.000000</td>\n",
       "      <td>1.919078</td>\n",
       "      <td>3.238723</td>\n",
       "    </tr>\n",
       "  </tbody>\n",
       "</table>\n",
       "</div>"
      ],
      "text/plain": [
       "   sex  hereditary_diseases  job_title       age  no_of_dependents  \\\n",
       "0    1                    8          2  1.785330          0.301030   \n",
       "1    0                    8         16  1.698970          0.301030   \n",
       "2    0                    4          0  1.518514          0.477121   \n",
       "3    0                    8         10  1.792392          0.301030   \n",
       "4    0                    8         22  1.301030          0.000000   \n",
       "\n",
       "   bloodpressure     claim  \n",
       "0       1.863323  4.117722  \n",
       "1       1.897627  3.980821  \n",
       "2       1.949390  4.515015  \n",
       "3       1.863323  4.685908  \n",
       "4       1.919078  3.238723  "
      ]
     },
     "execution_count": 168,
     "metadata": {},
     "output_type": "execute_result"
    }
   ],
   "source": [
    "df_sig=pd.concat([df.iloc[:,0:3],df_n,df.iloc[:,[8]]],axis=1)\n",
    "df_sig.head()"
   ]
  },
  {
   "cell_type": "code",
   "execution_count": 206,
   "metadata": {},
   "outputs": [],
   "source": [
    "X=df_sig.iloc[:,:6].values\n",
    "y=df_sig.iloc[:,[6]].values\n",
    "X_train,X_test,y_train,y_test=train_test_split(X,y,test_size=0.3,random_state=1)"
   ]
  },
  {
   "cell_type": "code",
   "execution_count": 207,
   "metadata": {},
   "outputs": [
    {
     "data": {
      "text/plain": [
       "LinearRegression()"
      ]
     },
     "execution_count": 207,
     "metadata": {},
     "output_type": "execute_result"
    }
   ],
   "source": [
    "lin_reg2=LinearRegression()\n",
    "lin_reg2.fit(X_train,y_train)"
   ]
  },
  {
   "cell_type": "code",
   "execution_count": 171,
   "metadata": {},
   "outputs": [
    {
     "data": {
      "text/plain": [
       "0.43088176192789496"
      ]
     },
     "execution_count": 171,
     "metadata": {},
     "output_type": "execute_result"
    }
   ],
   "source": [
    "lin_reg2.score(X_train,y_train)"
   ]
  },
  {
   "cell_type": "code",
   "execution_count": 172,
   "metadata": {},
   "outputs": [],
   "source": [
    "y_pred_train=lin_reg2.predict(X_train)"
   ]
  },
  {
   "cell_type": "code",
   "execution_count": 173,
   "metadata": {},
   "outputs": [],
   "source": [
    "y_pred_test=lin_reg2.predict(X_test)"
   ]
  },
  {
   "cell_type": "code",
   "execution_count": 174,
   "metadata": {},
   "outputs": [
    {
     "data": {
      "text/plain": [
       "0.43752955695427687"
      ]
     },
     "execution_count": 174,
     "metadata": {},
     "output_type": "execute_result"
    }
   ],
   "source": [
    "lin_reg2.score(X_test,y_test)"
   ]
  },
  {
   "cell_type": "code",
   "execution_count": 175,
   "metadata": {},
   "outputs": [
    {
     "data": {
      "text/plain": [
       "0.29626835645362337"
      ]
     },
     "execution_count": 175,
     "metadata": {},
     "output_type": "execute_result"
    }
   ],
   "source": [
    "mse=mean_squared_error(y_test,y_pred_test)\n",
    "rmse=np.sqrt(mse)\n",
    "np.sqrt(mse)"
   ]
  },
  {
   "cell_type": "code",
   "execution_count": 176,
   "metadata": {},
   "outputs": [
    {
     "data": {
      "text/plain": [
       "0.29766230988337655"
      ]
     },
     "execution_count": 176,
     "metadata": {},
     "output_type": "execute_result"
    }
   ],
   "source": [
    "mse=mean_squared_error(y_train,y_pred_train)\n",
    "rmse=np.sqrt(mse)\n",
    "np.sqrt(mse)"
   ]
  },
  {
   "cell_type": "code",
   "execution_count": 177,
   "metadata": {},
   "outputs": [],
   "source": [
    "X=df_sig.iloc[:,:6]\n",
    "X=sm.add_constant(X)\n",
    "y=df_sig.iloc[:,[6]]\n",
    "X_train,X_test,y_train,y_test=train_test_split(X,y,test_size=0.3,random_state=1)"
   ]
  },
  {
   "cell_type": "code",
   "execution_count": 178,
   "metadata": {},
   "outputs": [
    {
     "data": {
      "text/html": [
       "<table class=\"simpletable\">\n",
       "<caption>OLS Regression Results</caption>\n",
       "<tr>\n",
       "  <th>Dep. Variable:</th>          <td>claim</td>      <th>  R-squared:         </th> <td>   0.431</td>\n",
       "</tr>\n",
       "<tr>\n",
       "  <th>Model:</th>                   <td>OLS</td>       <th>  Adj. R-squared:    </th> <td>   0.431</td>\n",
       "</tr>\n",
       "<tr>\n",
       "  <th>Method:</th>             <td>Least Squares</td>  <th>  F-statistic:       </th> <td>   1205.</td>\n",
       "</tr>\n",
       "<tr>\n",
       "  <th>Date:</th>             <td>Tue, 16 Mar 2021</td> <th>  Prob (F-statistic):</th>  <td>  0.00</td> \n",
       "</tr>\n",
       "<tr>\n",
       "  <th>Time:</th>                 <td>17:55:36</td>     <th>  Log-Likelihood:    </th> <td> -1978.8</td>\n",
       "</tr>\n",
       "<tr>\n",
       "  <th>No. Observations:</th>      <td>  9553</td>      <th>  AIC:               </th> <td>   3972.</td>\n",
       "</tr>\n",
       "<tr>\n",
       "  <th>Df Residuals:</th>          <td>  9546</td>      <th>  BIC:               </th> <td>   4022.</td>\n",
       "</tr>\n",
       "<tr>\n",
       "  <th>Df Model:</th>              <td>     6</td>      <th>                     </th>     <td> </td>   \n",
       "</tr>\n",
       "<tr>\n",
       "  <th>Covariance Type:</th>      <td>nonrobust</td>    <th>                     </th>     <td> </td>   \n",
       "</tr>\n",
       "</table>\n",
       "<table class=\"simpletable\">\n",
       "<tr>\n",
       "           <td></td>              <th>coef</th>     <th>std err</th>      <th>t</th>      <th>P>|t|</th>  <th>[0.025</th>    <th>0.975]</th>  \n",
       "</tr>\n",
       "<tr>\n",
       "  <th>const</th>               <td>    2.7579</td> <td>    0.038</td> <td>   71.960</td> <td> 0.000</td> <td>    2.683</td> <td>    2.833</td>\n",
       "</tr>\n",
       "<tr>\n",
       "  <th>sex</th>                 <td>   -0.0058</td> <td>    0.006</td> <td>   -0.954</td> <td> 0.340</td> <td>   -0.018</td> <td>    0.006</td>\n",
       "</tr>\n",
       "<tr>\n",
       "  <th>hereditary_diseases</th> <td>   -0.1125</td> <td>    0.002</td> <td>  -46.423</td> <td> 0.000</td> <td>   -0.117</td> <td>   -0.108</td>\n",
       "</tr>\n",
       "<tr>\n",
       "  <th>job_title</th>           <td>    0.0002</td> <td>    0.000</td> <td>    0.586</td> <td> 0.558</td> <td>   -0.000</td> <td>    0.001</td>\n",
       "</tr>\n",
       "<tr>\n",
       "  <th>age</th>                 <td>    1.2849</td> <td>    0.019</td> <td>   68.012</td> <td> 0.000</td> <td>    1.248</td> <td>    1.322</td>\n",
       "</tr>\n",
       "<tr>\n",
       "  <th>no_of_dependents</th>    <td>    0.2191</td> <td>    0.013</td> <td>   17.269</td> <td> 0.000</td> <td>    0.194</td> <td>    0.244</td>\n",
       "</tr>\n",
       "<tr>\n",
       "  <th>bloodpressure</th>       <td>   -0.0069</td> <td>    0.007</td> <td>   -0.939</td> <td> 0.348</td> <td>   -0.021</td> <td>    0.008</td>\n",
       "</tr>\n",
       "</table>\n",
       "<table class=\"simpletable\">\n",
       "<tr>\n",
       "  <th>Omnibus:</th>       <td>1999.278</td> <th>  Durbin-Watson:     </th> <td>   1.998</td>\n",
       "</tr>\n",
       "<tr>\n",
       "  <th>Prob(Omnibus):</th>  <td> 0.000</td>  <th>  Jarque-Bera (JB):  </th> <td>3524.070</td>\n",
       "</tr>\n",
       "<tr>\n",
       "  <th>Skew:</th>           <td> 1.374</td>  <th>  Prob(JB):          </th> <td>    0.00</td>\n",
       "</tr>\n",
       "<tr>\n",
       "  <th>Kurtosis:</th>       <td> 4.139</td>  <th>  Cond. No.          </th> <td>    307.</td>\n",
       "</tr>\n",
       "</table><br/><br/>Notes:<br/>[1] Standard Errors assume that the covariance matrix of the errors is correctly specified."
      ],
      "text/plain": [
       "<class 'statsmodels.iolib.summary.Summary'>\n",
       "\"\"\"\n",
       "                            OLS Regression Results                            \n",
       "==============================================================================\n",
       "Dep. Variable:                  claim   R-squared:                       0.431\n",
       "Model:                            OLS   Adj. R-squared:                  0.431\n",
       "Method:                 Least Squares   F-statistic:                     1205.\n",
       "Date:                Tue, 16 Mar 2021   Prob (F-statistic):               0.00\n",
       "Time:                        17:55:36   Log-Likelihood:                -1978.8\n",
       "No. Observations:                9553   AIC:                             3972.\n",
       "Df Residuals:                    9546   BIC:                             4022.\n",
       "Df Model:                           6                                         \n",
       "Covariance Type:            nonrobust                                         \n",
       "=======================================================================================\n",
       "                          coef    std err          t      P>|t|      [0.025      0.975]\n",
       "---------------------------------------------------------------------------------------\n",
       "const                   2.7579      0.038     71.960      0.000       2.683       2.833\n",
       "sex                    -0.0058      0.006     -0.954      0.340      -0.018       0.006\n",
       "hereditary_diseases    -0.1125      0.002    -46.423      0.000      -0.117      -0.108\n",
       "job_title               0.0002      0.000      0.586      0.558      -0.000       0.001\n",
       "age                     1.2849      0.019     68.012      0.000       1.248       1.322\n",
       "no_of_dependents        0.2191      0.013     17.269      0.000       0.194       0.244\n",
       "bloodpressure          -0.0069      0.007     -0.939      0.348      -0.021       0.008\n",
       "==============================================================================\n",
       "Omnibus:                     1999.278   Durbin-Watson:                   1.998\n",
       "Prob(Omnibus):                  0.000   Jarque-Bera (JB):             3524.070\n",
       "Skew:                           1.374   Prob(JB):                         0.00\n",
       "Kurtosis:                       4.139   Cond. No.                         307.\n",
       "==============================================================================\n",
       "\n",
       "Notes:\n",
       "[1] Standard Errors assume that the covariance matrix of the errors is correctly specified.\n",
       "\"\"\""
      ]
     },
     "execution_count": 178,
     "metadata": {},
     "output_type": "execute_result"
    }
   ],
   "source": [
    "MLR_model2=sm.OLS(y_train,X_train).fit()\n",
    "MLR_model2.summary()"
   ]
  },
  {
   "cell_type": "markdown",
   "metadata": {},
   "source": [
    "#### The R2 and adjusted R2 are the same\n",
    "#### Durbin-Watson:\t1.998 means no auto correlation\n",
    "#### Cond. No.\t307. means Moderate Multi collinearity\n"
   ]
  },
  {
   "cell_type": "code",
   "execution_count": null,
   "metadata": {},
   "outputs": [],
   "source": []
  },
  {
   "cell_type": "code",
   "execution_count": null,
   "metadata": {},
   "outputs": [],
   "source": []
  },
  {
   "cell_type": "markdown",
   "metadata": {},
   "source": [
    "#### Choosing variables with good correlation with the dependent variable"
   ]
  },
  {
   "cell_type": "code",
   "execution_count": 179,
   "metadata": {},
   "outputs": [
    {
     "data": {
      "text/plain": [
       "<AxesSubplot:>"
      ]
     },
     "execution_count": 179,
     "metadata": {},
     "output_type": "execute_result"
    },
    {
     "data": {
      "image/png": "[encoded data removed]",
      "text/plain": [
       "<Figure size 432x288 with 2 Axes>"
      ]
     },
     "metadata": {
      "needs_background": "light"
     },
     "output_type": "display_data"
    }
   ],
   "source": [
    "sns.heatmap(df_sig.corr(),cmap=\"YlGnBu\",annot=True)"
   ]
  },
  {
   "cell_type": "markdown",
   "metadata": {},
   "source": [
    "#### Dropping columns sex,job_title,blood_pressure"
   ]
  },
  {
   "cell_type": "code",
   "execution_count": 180,
   "metadata": {},
   "outputs": [],
   "source": [
    "df_corr=df_sig.drop(columns=['sex','job_title','bloodpressure'])"
   ]
  },
  {
   "cell_type": "code",
   "execution_count": 181,
   "metadata": {},
   "outputs": [
    {
     "data": {
      "text/html": [
       "<div>\n",
       "<style scoped>\n",
       "    .dataframe tbody tr th:only-of-type {\n",
       "        vertical-align: middle;\n",
       "    }\n",
       "\n",
       "    .dataframe tbody tr th {\n",
       "        vertical-align: top;\n",
       "    }\n",
       "\n",
       "    .dataframe thead th {\n",
       "        text-align: right;\n",
       "    }\n",
       "</style>\n",
       "<table border=\"1\" class=\"dataframe\">\n",
       "  <thead>\n",
       "    <tr style=\"text-align: right;\">\n",
       "      <th></th>\n",
       "      <th>hereditary_diseases</th>\n",
       "      <th>age</th>\n",
       "      <th>no_of_dependents</th>\n",
       "      <th>claim</th>\n",
       "    </tr>\n",
       "  </thead>\n",
       "  <tbody>\n",
       "    <tr>\n",
       "      <th>0</th>\n",
       "      <td>8</td>\n",
       "      <td>1.785330</td>\n",
       "      <td>0.301030</td>\n",
       "      <td>4.117722</td>\n",
       "    </tr>\n",
       "    <tr>\n",
       "      <th>1</th>\n",
       "      <td>8</td>\n",
       "      <td>1.698970</td>\n",
       "      <td>0.301030</td>\n",
       "      <td>3.980821</td>\n",
       "    </tr>\n",
       "    <tr>\n",
       "      <th>2</th>\n",
       "      <td>4</td>\n",
       "      <td>1.518514</td>\n",
       "      <td>0.477121</td>\n",
       "      <td>4.515015</td>\n",
       "    </tr>\n",
       "    <tr>\n",
       "      <th>3</th>\n",
       "      <td>8</td>\n",
       "      <td>1.792392</td>\n",
       "      <td>0.301030</td>\n",
       "      <td>4.685908</td>\n",
       "    </tr>\n",
       "    <tr>\n",
       "      <th>4</th>\n",
       "      <td>8</td>\n",
       "      <td>1.301030</td>\n",
       "      <td>0.000000</td>\n",
       "      <td>3.238723</td>\n",
       "    </tr>\n",
       "  </tbody>\n",
       "</table>\n",
       "</div>"
      ],
      "text/plain": [
       "   hereditary_diseases       age  no_of_dependents     claim\n",
       "0                    8  1.785330          0.301030  4.117722\n",
       "1                    8  1.698970          0.301030  3.980821\n",
       "2                    4  1.518514          0.477121  4.515015\n",
       "3                    8  1.792392          0.301030  4.685908\n",
       "4                    8  1.301030          0.000000  3.238723"
      ]
     },
     "execution_count": 181,
     "metadata": {},
     "output_type": "execute_result"
    }
   ],
   "source": [
    "df_corr.head()"
   ]
  },
  {
   "cell_type": "code",
   "execution_count": 182,
   "metadata": {},
   "outputs": [],
   "source": [
    "X=df_corr.iloc[:,:3].values\n",
    "y=df_corr.iloc[:,[3]].values\n",
    "X_train,X_test,y_train,y_test=train_test_split(X,y,test_size=0.3,random_state=1)"
   ]
  },
  {
   "cell_type": "code",
   "execution_count": 183,
   "metadata": {},
   "outputs": [
    {
     "data": {
      "text/plain": [
       "LinearRegression()"
      ]
     },
     "execution_count": 183,
     "metadata": {},
     "output_type": "execute_result"
    }
   ],
   "source": [
    "lin_reg=LinearRegression()\n",
    "lin_reg.fit(X_train,y_train)"
   ]
  },
  {
   "cell_type": "code",
   "execution_count": 184,
   "metadata": {},
   "outputs": [
    {
     "data": {
      "text/plain": [
       "0.43075947876339915"
      ]
     },
     "execution_count": 184,
     "metadata": {},
     "output_type": "execute_result"
    }
   ],
   "source": [
    "lin_reg.score(X_train,y_train)"
   ]
  },
  {
   "cell_type": "code",
   "execution_count": 185,
   "metadata": {},
   "outputs": [
    {
     "data": {
      "text/plain": [
       "0.43752473195266106"
      ]
     },
     "execution_count": 185,
     "metadata": {},
     "output_type": "execute_result"
    }
   ],
   "source": [
    "lin_reg.score(X_test,y_test)"
   ]
  },
  {
   "cell_type": "code",
   "execution_count": 186,
   "metadata": {},
   "outputs": [
    {
     "data": {
      "text/plain": [
       "0.2962696271801572"
      ]
     },
     "execution_count": 186,
     "metadata": {},
     "output_type": "execute_result"
    }
   ],
   "source": [
    "y_pred_train=lin_reg.predict(X_train)\n",
    "y_pred_test=lin_reg.predict(X_test)\n",
    "mse=mean_squared_error(y_test,y_pred_test)\n",
    "rmse=np.sqrt(mse)\n",
    "np.sqrt(mse)"
   ]
  },
  {
   "cell_type": "code",
   "execution_count": 187,
   "metadata": {},
   "outputs": [
    {
     "data": {
      "text/plain": [
       "0.297694286660576"
      ]
     },
     "execution_count": 187,
     "metadata": {},
     "output_type": "execute_result"
    }
   ],
   "source": [
    "mse=mean_squared_error(y_train,y_pred_train)\n",
    "rmse=np.sqrt(mse)\n",
    "np.sqrt(mse)"
   ]
  },
  {
   "cell_type": "markdown",
   "metadata": {},
   "source": [
    "#### Feature Selection using Forward Selection"
   ]
  },
  {
   "cell_type": "code",
   "execution_count": 188,
   "metadata": {},
   "outputs": [
    {
     "data": {
      "text/html": [
       "<div>\n",
       "<style scoped>\n",
       "    .dataframe tbody tr th:only-of-type {\n",
       "        vertical-align: middle;\n",
       "    }\n",
       "\n",
       "    .dataframe tbody tr th {\n",
       "        vertical-align: top;\n",
       "    }\n",
       "\n",
       "    .dataframe thead th {\n",
       "        text-align: right;\n",
       "    }\n",
       "</style>\n",
       "<table border=\"1\" class=\"dataframe\">\n",
       "  <thead>\n",
       "    <tr style=\"text-align: right;\">\n",
       "      <th></th>\n",
       "      <th>sex</th>\n",
       "      <th>hereditary_diseases</th>\n",
       "      <th>job_title</th>\n",
       "      <th>age</th>\n",
       "      <th>weight</th>\n",
       "      <th>bmi</th>\n",
       "      <th>no_of_dependents</th>\n",
       "      <th>bloodpressure</th>\n",
       "      <th>claim</th>\n",
       "    </tr>\n",
       "  </thead>\n",
       "  <tbody>\n",
       "    <tr>\n",
       "      <th>0</th>\n",
       "      <td>1</td>\n",
       "      <td>8</td>\n",
       "      <td>2</td>\n",
       "      <td>1.785330</td>\n",
       "      <td>1.812913</td>\n",
       "      <td>1.403121</td>\n",
       "      <td>0.301030</td>\n",
       "      <td>1.863323</td>\n",
       "      <td>4.117722</td>\n",
       "    </tr>\n",
       "    <tr>\n",
       "      <th>1</th>\n",
       "      <td>0</td>\n",
       "      <td>8</td>\n",
       "      <td>16</td>\n",
       "      <td>1.698970</td>\n",
       "      <td>1.880814</td>\n",
       "      <td>1.372912</td>\n",
       "      <td>0.301030</td>\n",
       "      <td>1.897627</td>\n",
       "      <td>3.980821</td>\n",
       "    </tr>\n",
       "    <tr>\n",
       "      <th>2</th>\n",
       "      <td>0</td>\n",
       "      <td>4</td>\n",
       "      <td>0</td>\n",
       "      <td>1.518514</td>\n",
       "      <td>1.812913</td>\n",
       "      <td>1.274158</td>\n",
       "      <td>0.477121</td>\n",
       "      <td>1.949390</td>\n",
       "      <td>4.515015</td>\n",
       "    </tr>\n",
       "    <tr>\n",
       "      <th>3</th>\n",
       "      <td>0</td>\n",
       "      <td>8</td>\n",
       "      <td>10</td>\n",
       "      <td>1.792392</td>\n",
       "      <td>1.732394</td>\n",
       "      <td>1.572872</td>\n",
       "      <td>0.301030</td>\n",
       "      <td>1.863323</td>\n",
       "      <td>4.685908</td>\n",
       "    </tr>\n",
       "    <tr>\n",
       "      <th>4</th>\n",
       "      <td>0</td>\n",
       "      <td>8</td>\n",
       "      <td>22</td>\n",
       "      <td>1.301030</td>\n",
       "      <td>1.707570</td>\n",
       "      <td>1.334454</td>\n",
       "      <td>0.000000</td>\n",
       "      <td>1.919078</td>\n",
       "      <td>3.238723</td>\n",
       "    </tr>\n",
       "  </tbody>\n",
       "</table>\n",
       "</div>"
      ],
      "text/plain": [
       "   sex  hereditary_diseases  job_title       age    weight       bmi  \\\n",
       "0    1                    8          2  1.785330  1.812913  1.403121   \n",
       "1    0                    8         16  1.698970  1.880814  1.372912   \n",
       "2    0                    4          0  1.518514  1.812913  1.274158   \n",
       "3    0                    8         10  1.792392  1.732394  1.572872   \n",
       "4    0                    8         22  1.301030  1.707570  1.334454   \n",
       "\n",
       "   no_of_dependents  bloodpressure     claim  \n",
       "0          0.301030       1.863323  4.117722  \n",
       "1          0.301030       1.897627  3.980821  \n",
       "2          0.477121       1.949390  4.515015  \n",
       "3          0.301030       1.863323  4.685908  \n",
       "4          0.000000       1.919078  3.238723  "
      ]
     },
     "execution_count": 188,
     "metadata": {},
     "output_type": "execute_result"
    }
   ],
   "source": [
    "df.head()"
   ]
  },
  {
   "cell_type": "code",
   "execution_count": 189,
   "metadata": {},
   "outputs": [],
   "source": [
    "X=df.iloc[:,:8]\n",
    "y=df.iloc[:,[8]]\n",
    "X_train,X_test,y_train,y_test=train_test_split(X,y,test_size=0.3,random_state=1)\n",
    "lin_reg3=LinearRegression()"
   ]
  },
  {
   "cell_type": "code",
   "execution_count": 190,
   "metadata": {},
   "outputs": [
    {
     "name": "stderr",
     "output_type": "stream",
     "text": [
      "[Parallel(n_jobs=1)]: Using backend SequentialBackend with 1 concurrent workers.\n",
      "[Parallel(n_jobs=1)]: Done   1 out of   1 | elapsed:    0.0s remaining:    0.0s\n",
      "[Parallel(n_jobs=1)]: Done   8 out of   8 | elapsed:    0.0s finished\n",
      "\n",
      "[2021-03-16 17:55:37] Features: 1/8 -- score: 0.28310425360561037[Parallel(n_jobs=1)]: Using backend SequentialBackend with 1 concurrent workers.\n",
      "[Parallel(n_jobs=1)]: Done   1 out of   1 | elapsed:    0.0s remaining:    0.0s\n",
      "[Parallel(n_jobs=1)]: Done   7 out of   7 | elapsed:    0.0s finished\n",
      "\n",
      "[2021-03-16 17:55:37] Features: 2/8 -- score: 0.41154330431339226[Parallel(n_jobs=1)]: Using backend SequentialBackend with 1 concurrent workers.\n",
      "[Parallel(n_jobs=1)]: Done   1 out of   1 | elapsed:    0.0s remaining:    0.0s\n",
      "[Parallel(n_jobs=1)]: Done   6 out of   6 | elapsed:    0.0s finished\n",
      "\n",
      "[2021-03-16 17:55:37] Features: 3/8 -- score: 0.4290936892732929[Parallel(n_jobs=1)]: Using backend SequentialBackend with 1 concurrent workers.\n",
      "[Parallel(n_jobs=1)]: Done   1 out of   1 | elapsed:    0.0s remaining:    0.0s\n",
      "[Parallel(n_jobs=1)]: Done   5 out of   5 | elapsed:    0.0s finished\n",
      "\n",
      "[2021-03-16 17:55:37] Features: 4/8 -- score: 0.4318435718480873[Parallel(n_jobs=1)]: Using backend SequentialBackend with 1 concurrent workers.\n",
      "[Parallel(n_jobs=1)]: Done   1 out of   1 | elapsed:    0.0s remaining:    0.0s\n",
      "[Parallel(n_jobs=1)]: Done   4 out of   4 | elapsed:    0.0s finished\n",
      "\n",
      "[2021-03-16 17:55:37] Features: 5/8 -- score: 0.4319219325212618[Parallel(n_jobs=1)]: Using backend SequentialBackend with 1 concurrent workers.\n",
      "[Parallel(n_jobs=1)]: Done   1 out of   1 | elapsed:    0.0s remaining:    0.0s\n",
      "[Parallel(n_jobs=1)]: Done   3 out of   3 | elapsed:    0.0s finished\n",
      "\n",
      "[2021-03-16 17:55:37] Features: 6/8 -- score: 0.43184502409253334[Parallel(n_jobs=1)]: Using backend SequentialBackend with 1 concurrent workers.\n",
      "[Parallel(n_jobs=1)]: Done   1 out of   1 | elapsed:    0.0s remaining:    0.0s\n",
      "[Parallel(n_jobs=1)]: Done   2 out of   2 | elapsed:    0.0s finished\n",
      "\n",
      "[2021-03-16 17:55:37] Features: 7/8 -- score: 0.4317390064371244[Parallel(n_jobs=1)]: Using backend SequentialBackend with 1 concurrent workers.\n",
      "[Parallel(n_jobs=1)]: Done   1 out of   1 | elapsed:    0.0s remaining:    0.0s\n",
      "[Parallel(n_jobs=1)]: Done   1 out of   1 | elapsed:    0.0s finished\n",
      "\n",
      "[2021-03-16 17:55:37] Features: 8/8 -- score: 0.4316240519214394"
     ]
    }
   ],
   "source": [
    "lin_reg_forward=sf(estimator=lin_reg3,\n",
    "    k_features='best',\n",
    "    forward=True,\n",
    "    \n",
    "    verbose=2,\n",
    "    scoring='r2')\n",
    "sfs_forward=lin_reg_forward.fit(X_train,y_train)\n"
   ]
  },
  {
   "cell_type": "code",
   "execution_count": 191,
   "metadata": {},
   "outputs": [
    {
     "name": "stdout",
     "output_type": "stream",
     "text": [
      "('hereditary_diseases', 'age', 'weight', 'bmi', 'no_of_dependents')\n",
      "0.4319219325212618\n"
     ]
    }
   ],
   "source": [
    "print(sfs_forward.k_feature_names_)\n",
    "print(sfs_forward.k_score_)"
   ]
  },
  {
   "cell_type": "markdown",
   "metadata": {},
   "source": [
    "#### Modelling after Feature Selection"
   ]
  },
  {
   "cell_type": "code",
   "execution_count": 210,
   "metadata": {},
   "outputs": [],
   "source": [
    "X=df.loc[:,['hereditary_diseases', 'age', 'weight', 'bmi', 'no_of_dependents']].values"
   ]
  },
  {
   "cell_type": "code",
   "execution_count": 211,
   "metadata": {},
   "outputs": [],
   "source": [
    "y=df.iloc[:,[8]].values"
   ]
  },
  {
   "cell_type": "code",
   "execution_count": 212,
   "metadata": {},
   "outputs": [],
   "source": [
    "X_train,X_test,y_train,y_test=train_test_split(X,y,test_size=0.3,random_state=1)\n",
    "lin_reg4=LinearRegression()"
   ]
  },
  {
   "cell_type": "code",
   "execution_count": 213,
   "metadata": {
    "scrolled": true
   },
   "outputs": [
    {
     "name": "stdout",
     "output_type": "stream",
     "text": [
      "Train data score: 0.4337264056663872\n",
      "Test data score: 0.44095198268585767\n",
      "RMSE of test data: 0.2953656392020037\n",
      "RMSE of train data 0.2969174699727006\n"
     ]
    }
   ],
   "source": [
    "lin_reg4.fit(X_train,y_train)\n",
    "y_pred_train=lin_reg4.predict(X_train)\n",
    "y_pred_test=lin_reg4.predict(X_test)\n",
    "print('Train data score:',lin_reg4.score(X_train,y_train))\n",
    "print('Test data score:',lin_reg4.score(X_test,y_test))\n",
    "mse_test=mean_squared_error(y_test,y_pred_test)\n",
    "rmse_test=np.sqrt(mse_test)\n",
    "print(\"RMSE of test data:\",np.sqrt(mse_test))\n",
    "mse_train=mean_squared_error(y_train,y_pred_train)\n",
    "rmse_train=np.sqrt(mse_train)\n",
    "print(\"RMSE of train data\",np.sqrt(mse_train))"
   ]
  },
  {
   "cell_type": "code",
   "execution_count": 196,
   "metadata": {},
   "outputs": [
    {
     "name": "stderr",
     "output_type": "stream",
     "text": [
      "[Parallel(n_jobs=1)]: Using backend SequentialBackend with 1 concurrent workers.\n",
      "[Parallel(n_jobs=1)]: Done   1 out of   1 | elapsed:    0.0s remaining:    0.0s\n",
      "[Parallel(n_jobs=1)]: Done   8 out of   8 | elapsed:    0.1s finished\n",
      "\n",
      "[2021-03-16 17:55:37] Features: 7/1 -- score: 0.4317390064371244[Parallel(n_jobs=1)]: Using backend SequentialBackend with 1 concurrent workers.\n",
      "[Parallel(n_jobs=1)]: Done   1 out of   1 | elapsed:    0.0s remaining:    0.0s\n",
      "[Parallel(n_jobs=1)]: Done   7 out of   7 | elapsed:    0.1s finished\n",
      "\n",
      "[2021-03-16 17:55:38] Features: 6/1 -- score: 0.43184502409253334[Parallel(n_jobs=1)]: Using backend SequentialBackend with 1 concurrent workers.\n",
      "[Parallel(n_jobs=1)]: Done   1 out of   1 | elapsed:    0.0s remaining:    0.0s\n",
      "[Parallel(n_jobs=1)]: Done   6 out of   6 | elapsed:    0.1s finished\n",
      "\n",
      "[2021-03-16 17:55:38] Features: 5/1 -- score: 0.4319219325212618[Parallel(n_jobs=1)]: Using backend SequentialBackend with 1 concurrent workers.\n",
      "[Parallel(n_jobs=1)]: Done   1 out of   1 | elapsed:    0.0s remaining:    0.0s\n",
      "[Parallel(n_jobs=1)]: Done   5 out of   5 | elapsed:    0.0s finished\n",
      "\n",
      "[2021-03-16 17:55:38] Features: 4/1 -- score: 0.4318435718480873[Parallel(n_jobs=1)]: Using backend SequentialBackend with 1 concurrent workers.\n",
      "[Parallel(n_jobs=1)]: Done   1 out of   1 | elapsed:    0.0s remaining:    0.0s\n",
      "[Parallel(n_jobs=1)]: Done   4 out of   4 | elapsed:    0.0s finished\n",
      "\n",
      "[2021-03-16 17:55:38] Features: 3/1 -- score: 0.4290936892732929[Parallel(n_jobs=1)]: Using backend SequentialBackend with 1 concurrent workers.\n",
      "[Parallel(n_jobs=1)]: Done   1 out of   1 | elapsed:    0.0s remaining:    0.0s\n",
      "[Parallel(n_jobs=1)]: Done   3 out of   3 | elapsed:    0.0s finished\n",
      "\n",
      "[2021-03-16 17:55:38] Features: 2/1 -- score: 0.41154330431339226[Parallel(n_jobs=1)]: Using backend SequentialBackend with 1 concurrent workers.\n",
      "[Parallel(n_jobs=1)]: Done   1 out of   1 | elapsed:    0.0s remaining:    0.0s\n",
      "[Parallel(n_jobs=1)]: Done   2 out of   2 | elapsed:    0.0s finished\n",
      "\n",
      "[2021-03-16 17:55:38] Features: 1/1 -- score: 0.28310425360561037"
     ]
    }
   ],
   "source": [
    "X=df.iloc[:,:8]\n",
    "y=df.iloc[:,[8]]\n",
    "X_train,X_test,y_train,y_test=train_test_split(X,y,test_size=0.3,random_state=1)\n",
    "lin_reg=LinearRegression()\n",
    "lin_reg_back=sf(estimator=lin_reg,\n",
    "    k_features='best',\n",
    "    forward=False,\n",
    "    \n",
    "    verbose=2,\n",
    "    scoring='r2')\n",
    "sfs_back=lin_reg_back.fit(X_train,y_train)\n"
   ]
  },
  {
   "cell_type": "code",
   "execution_count": 197,
   "metadata": {},
   "outputs": [
    {
     "name": "stdout",
     "output_type": "stream",
     "text": [
      "('hereditary_diseases', 'age', 'weight', 'bmi', 'no_of_dependents')\n",
      "0.4319219325212618\n"
     ]
    }
   ],
   "source": [
    "print(sfs_back.k_feature_names_)\n",
    "print(sfs_back.k_score_)"
   ]
  },
  {
   "cell_type": "markdown",
   "metadata": {},
   "source": [
    "#### Recurssive Feature ELImination"
   ]
  },
  {
   "cell_type": "code",
   "execution_count": 198,
   "metadata": {},
   "outputs": [
    {
     "data": {
      "text/plain": [
       "hereditary_diseases    1\n",
       "age                    1\n",
       "weight                 1\n",
       "bmi                    1\n",
       "no_of_dependents       1\n",
       "dtype: int32"
      ]
     },
     "execution_count": 198,
     "metadata": {},
     "output_type": "execute_result"
    }
   ],
   "source": [
    "X=df.iloc[:,:8]\n",
    "y=df.iloc[:,[8]]\n",
    "X_train,X_test,y_train,y_test=train_test_split(X,y,test_size=0.3,random_state=1)\n",
    "lin_reg=LinearRegression()\n",
    "rfe_model=RFE(estimator=lin_reg, n_features_to_select=5)\n",
    "rfe_model=rfe_model.fit(X_train,y_train)\n",
    "feat_index=pd.Series(data=rfe_model.ranking_,index=X_train.columns)\n",
    "sig_feat=feat_index[feat_index==1]\n",
    "sig_feat"
   ]
  },
  {
   "cell_type": "code",
   "execution_count": 199,
   "metadata": {},
   "outputs": [],
   "source": [
    "def get_train_rmse(model):\n",
    "    train_pred=model.predict(X_train)\n",
    "    mse=mean_squared_error(y_train,train_pred)\n",
    "    rmse=np.sqrt(mse)\n",
    "    return rmse"
   ]
  },
  {
   "cell_type": "code",
   "execution_count": 200,
   "metadata": {},
   "outputs": [],
   "source": [
    "def get_test_rmse(model):\n",
    "    test_pred=model.predict(X_test)\n",
    "    mse=mean_squared_error(y_test,test_pred)\n",
    "    rmse=np.sqrt(mse)\n",
    "    return rmse"
   ]
  },
  {
   "cell_type": "code",
   "execution_count": 201,
   "metadata": {},
   "outputs": [],
   "source": [
    "def train_score(model):\n",
    "    r2=model.score(X_train,y_train)\n",
    "    return r2"
   ]
  },
  {
   "cell_type": "code",
   "execution_count": 202,
   "metadata": {},
   "outputs": [],
   "source": [
    "def test_score(model):\n",
    "    r2=model.score(X_test,y_test)\n",
    "    return r2"
   ]
  },
  {
   "cell_type": "code",
   "execution_count": 203,
   "metadata": {},
   "outputs": [],
   "source": [
    "score_card=pd.DataFrame(columns=['Model','Train Rmse','Test Rmse','Alpha','Train Score','Test Score'])\n",
    "def update_score_card(algorithm_name,model,alpha='-'):\n",
    "    global score_card\n",
    "    \n",
    "    score_card=score_card.append({'Model':algorithm_name,'Train Rmse':get_train_rmse(model),\n",
    "                      'Test Rmse':get_test_rmse(model),'Alpha':alpha,'Train Score':train_score(model),\n",
    "                      'Test Score':test_score(model)},ignore_index=True)\n",
    "    return score_card"
   ]
  },
  {
   "cell_type": "code",
   "execution_count": 204,
   "metadata": {},
   "outputs": [
    {
     "data": {
      "text/html": [
       "<div>\n",
       "<style scoped>\n",
       "    .dataframe tbody tr th:only-of-type {\n",
       "        vertical-align: middle;\n",
       "    }\n",
       "\n",
       "    .dataframe tbody tr th {\n",
       "        vertical-align: top;\n",
       "    }\n",
       "\n",
       "    .dataframe thead th {\n",
       "        text-align: right;\n",
       "    }\n",
       "</style>\n",
       "<table border=\"1\" class=\"dataframe\">\n",
       "  <thead>\n",
       "    <tr style=\"text-align: right;\">\n",
       "      <th></th>\n",
       "      <th>Model</th>\n",
       "      <th>Train Rmse</th>\n",
       "      <th>Test Rmse</th>\n",
       "      <th>Alpha</th>\n",
       "      <th>Train Score</th>\n",
       "      <th>Test Score</th>\n",
       "    </tr>\n",
       "  </thead>\n",
       "  <tbody>\n",
       "    <tr>\n",
       "      <th>0</th>\n",
       "      <td>Base Model</td>\n",
       "      <td>0.296885</td>\n",
       "      <td>0.295381</td>\n",
       "      <td>-</td>\n",
       "      <td>0.43385</td>\n",
       "      <td>0.440894</td>\n",
       "    </tr>\n",
       "  </tbody>\n",
       "</table>\n",
       "</div>"
      ],
      "text/plain": [
       "        Model  Train Rmse  Test Rmse Alpha  Train Score  Test Score\n",
       "0  Base Model    0.296885   0.295381     -      0.43385    0.440894"
      ]
     },
     "execution_count": 204,
     "metadata": {},
     "output_type": "execute_result"
    }
   ],
   "source": [
    "update_score_card(\"Base Model\",lin_reg1)"
   ]
  },
  {
   "cell_type": "code",
   "execution_count": 208,
   "metadata": {},
   "outputs": [
    {
     "data": {
      "text/html": [
       "<div>\n",
       "<style scoped>\n",
       "    .dataframe tbody tr th:only-of-type {\n",
       "        vertical-align: middle;\n",
       "    }\n",
       "\n",
       "    .dataframe tbody tr th {\n",
       "        vertical-align: top;\n",
       "    }\n",
       "\n",
       "    .dataframe thead th {\n",
       "        text-align: right;\n",
       "    }\n",
       "</style>\n",
       "<table border=\"1\" class=\"dataframe\">\n",
       "  <thead>\n",
       "    <tr style=\"text-align: right;\">\n",
       "      <th></th>\n",
       "      <th>Model</th>\n",
       "      <th>Train Rmse</th>\n",
       "      <th>Test Rmse</th>\n",
       "      <th>Alpha</th>\n",
       "      <th>Train Score</th>\n",
       "      <th>Test Score</th>\n",
       "    </tr>\n",
       "  </thead>\n",
       "  <tbody>\n",
       "    <tr>\n",
       "      <th>0</th>\n",
       "      <td>Base Model</td>\n",
       "      <td>0.296885</td>\n",
       "      <td>0.295381</td>\n",
       "      <td>-</td>\n",
       "      <td>0.433850</td>\n",
       "      <td>0.440894</td>\n",
       "    </tr>\n",
       "    <tr>\n",
       "      <th>1</th>\n",
       "      <td>Model with VIF&lt;20</td>\n",
       "      <td>0.297662</td>\n",
       "      <td>0.296268</td>\n",
       "      <td>-</td>\n",
       "      <td>0.430882</td>\n",
       "      <td>0.437530</td>\n",
       "    </tr>\n",
       "  </tbody>\n",
       "</table>\n",
       "</div>"
      ],
      "text/plain": [
       "               Model  Train Rmse  Test Rmse Alpha  Train Score  Test Score\n",
       "0         Base Model    0.296885   0.295381     -     0.433850    0.440894\n",
       "1  Model with VIF<20    0.297662   0.296268     -     0.430882    0.437530"
      ]
     },
     "execution_count": 208,
     "metadata": {},
     "output_type": "execute_result"
    }
   ],
   "source": [
    "update_score_card(\"Model with VIF<20\",lin_reg2)"
   ]
  },
  {
   "cell_type": "code",
   "execution_count": 214,
   "metadata": {},
   "outputs": [
    {
     "data": {
      "text/html": [
       "<div>\n",
       "<style scoped>\n",
       "    .dataframe tbody tr th:only-of-type {\n",
       "        vertical-align: middle;\n",
       "    }\n",
       "\n",
       "    .dataframe tbody tr th {\n",
       "        vertical-align: top;\n",
       "    }\n",
       "\n",
       "    .dataframe thead th {\n",
       "        text-align: right;\n",
       "    }\n",
       "</style>\n",
       "<table border=\"1\" class=\"dataframe\">\n",
       "  <thead>\n",
       "    <tr style=\"text-align: right;\">\n",
       "      <th></th>\n",
       "      <th>Model</th>\n",
       "      <th>Train Rmse</th>\n",
       "      <th>Test Rmse</th>\n",
       "      <th>Alpha</th>\n",
       "      <th>Train Score</th>\n",
       "      <th>Test Score</th>\n",
       "    </tr>\n",
       "  </thead>\n",
       "  <tbody>\n",
       "    <tr>\n",
       "      <th>0</th>\n",
       "      <td>Base Model</td>\n",
       "      <td>0.296885</td>\n",
       "      <td>0.295381</td>\n",
       "      <td>-</td>\n",
       "      <td>0.433850</td>\n",
       "      <td>0.440894</td>\n",
       "    </tr>\n",
       "    <tr>\n",
       "      <th>1</th>\n",
       "      <td>Model with VIF&lt;20</td>\n",
       "      <td>0.297662</td>\n",
       "      <td>0.296268</td>\n",
       "      <td>-</td>\n",
       "      <td>0.430882</td>\n",
       "      <td>0.437530</td>\n",
       "    </tr>\n",
       "    <tr>\n",
       "      <th>2</th>\n",
       "      <td>Model after feature selection</td>\n",
       "      <td>0.296917</td>\n",
       "      <td>0.295366</td>\n",
       "      <td>-</td>\n",
       "      <td>0.433726</td>\n",
       "      <td>0.440952</td>\n",
       "    </tr>\n",
       "  </tbody>\n",
       "</table>\n",
       "</div>"
      ],
      "text/plain": [
       "                           Model  Train Rmse  Test Rmse Alpha  Train Score  \\\n",
       "0                     Base Model    0.296885   0.295381     -     0.433850   \n",
       "1              Model with VIF<20    0.297662   0.296268     -     0.430882   \n",
       "2  Model after feature selection    0.296917   0.295366     -     0.433726   \n",
       "\n",
       "   Test Score  \n",
       "0    0.440894  \n",
       "1    0.437530  \n",
       "2    0.440952  "
      ]
     },
     "execution_count": 214,
     "metadata": {},
     "output_type": "execute_result"
    }
   ],
   "source": [
    "update_score_card(\"Model after feature selection\" ,lin_reg4)"
   ]
  },
  {
   "cell_type": "markdown",
   "metadata": {},
   "source": [
    "#### Cross Validation"
   ]
  },
  {
   "cell_type": "code",
   "execution_count": 215,
   "metadata": {},
   "outputs": [],
   "source": [
    "scores=cross_val_score(estimator=rfe_model,\n",
    "    X=X_train,\n",
    "    y=y_train,\n",
    "    scoring='r2',\n",
    "    cv=5)"
   ]
  },
  {
   "cell_type": "code",
   "execution_count": 216,
   "metadata": {},
   "outputs": [
    {
     "name": "stdout",
     "output_type": "stream",
     "text": [
      "[0.46864147 0.41907577 0.39269776 0.43673552 0.44245915]\n",
      "0.3926977554508855\n",
      "0.46864147176805493\n",
      "0.4319219325212618\n"
     ]
    }
   ],
   "source": [
    "print(scores)\n",
    "print(min(scores))\n",
    "print(max(scores))\n",
    "print(np.mean(scores))"
   ]
  },
  {
   "cell_type": "markdown",
   "metadata": {},
   "source": [
    "#### Gradient Descent"
   ]
  },
  {
   "cell_type": "code",
   "execution_count": 217,
   "metadata": {},
   "outputs": [
    {
     "data": {
      "text/plain": [
       "SGDRegressor()"
      ]
     },
     "execution_count": 217,
     "metadata": {},
     "output_type": "execute_result"
    }
   ],
   "source": [
    "X=df.loc[:,['hereditary_diseases', 'age', 'weight', 'bmi', 'no_of_dependents']].values\n",
    "y=df.iloc[:,[8]].values\n",
    "X_train,X_test,y_train,y_test=train_test_split(X,y,test_size=0.3,random_state=1)\n",
    "sgd=SGDRegressor()\n",
    "sgd.fit(X_train,y_train)"
   ]
  },
  {
   "cell_type": "code",
   "execution_count": 218,
   "metadata": {},
   "outputs": [
    {
     "data": {
      "text/html": [
       "<div>\n",
       "<style scoped>\n",
       "    .dataframe tbody tr th:only-of-type {\n",
       "        vertical-align: middle;\n",
       "    }\n",
       "\n",
       "    .dataframe tbody tr th {\n",
       "        vertical-align: top;\n",
       "    }\n",
       "\n",
       "    .dataframe thead th {\n",
       "        text-align: right;\n",
       "    }\n",
       "</style>\n",
       "<table border=\"1\" class=\"dataframe\">\n",
       "  <thead>\n",
       "    <tr style=\"text-align: right;\">\n",
       "      <th></th>\n",
       "      <th>Model</th>\n",
       "      <th>Train Rmse</th>\n",
       "      <th>Test Rmse</th>\n",
       "      <th>Alpha</th>\n",
       "      <th>Train Score</th>\n",
       "      <th>Test Score</th>\n",
       "    </tr>\n",
       "  </thead>\n",
       "  <tbody>\n",
       "    <tr>\n",
       "      <th>0</th>\n",
       "      <td>Base Model</td>\n",
       "      <td>0.296885</td>\n",
       "      <td>0.295381</td>\n",
       "      <td>-</td>\n",
       "      <td>0.433850</td>\n",
       "      <td>0.440894</td>\n",
       "    </tr>\n",
       "    <tr>\n",
       "      <th>1</th>\n",
       "      <td>Model with VIF&lt;20</td>\n",
       "      <td>0.297662</td>\n",
       "      <td>0.296268</td>\n",
       "      <td>-</td>\n",
       "      <td>0.430882</td>\n",
       "      <td>0.437530</td>\n",
       "    </tr>\n",
       "    <tr>\n",
       "      <th>2</th>\n",
       "      <td>Model after feature selection</td>\n",
       "      <td>0.296917</td>\n",
       "      <td>0.295366</td>\n",
       "      <td>-</td>\n",
       "      <td>0.433726</td>\n",
       "      <td>0.440952</td>\n",
       "    </tr>\n",
       "    <tr>\n",
       "      <th>3</th>\n",
       "      <td>SGD Regressor</td>\n",
       "      <td>0.313524</td>\n",
       "      <td>0.313629</td>\n",
       "      <td>-</td>\n",
       "      <td>0.368612</td>\n",
       "      <td>0.369677</td>\n",
       "    </tr>\n",
       "  </tbody>\n",
       "</table>\n",
       "</div>"
      ],
      "text/plain": [
       "                           Model  Train Rmse  Test Rmse Alpha  Train Score  \\\n",
       "0                     Base Model    0.296885   0.295381     -     0.433850   \n",
       "1              Model with VIF<20    0.297662   0.296268     -     0.430882   \n",
       "2  Model after feature selection    0.296917   0.295366     -     0.433726   \n",
       "3                  SGD Regressor    0.313524   0.313629     -     0.368612   \n",
       "\n",
       "   Test Score  \n",
       "0    0.440894  \n",
       "1    0.437530  \n",
       "2    0.440952  \n",
       "3    0.369677  "
      ]
     },
     "execution_count": 218,
     "metadata": {},
     "output_type": "execute_result"
    }
   ],
   "source": [
    "update_score_card(\"SGD Regressor\",sgd)"
   ]
  },
  {
   "cell_type": "markdown",
   "metadata": {},
   "source": [
    "#### Regularization"
   ]
  },
  {
   "cell_type": "code",
   "execution_count": 219,
   "metadata": {},
   "outputs": [
    {
     "data": {
      "text/plain": [
       "Ridge(alpha=1, max_iter=500)"
      ]
     },
     "execution_count": 219,
     "metadata": {},
     "output_type": "execute_result"
    }
   ],
   "source": [
    "ridge=Ridge(alpha=1, max_iter=500)\n",
    "ridge.fit(X_train,y_train)"
   ]
  },
  {
   "cell_type": "code",
   "execution_count": 220,
   "metadata": {
    "scrolled": true
   },
   "outputs": [
    {
     "data": {
      "text/html": [
       "<div>\n",
       "<style scoped>\n",
       "    .dataframe tbody tr th:only-of-type {\n",
       "        vertical-align: middle;\n",
       "    }\n",
       "\n",
       "    .dataframe tbody tr th {\n",
       "        vertical-align: top;\n",
       "    }\n",
       "\n",
       "    .dataframe thead th {\n",
       "        text-align: right;\n",
       "    }\n",
       "</style>\n",
       "<table border=\"1\" class=\"dataframe\">\n",
       "  <thead>\n",
       "    <tr style=\"text-align: right;\">\n",
       "      <th></th>\n",
       "      <th>Model</th>\n",
       "      <th>Train Rmse</th>\n",
       "      <th>Test Rmse</th>\n",
       "      <th>Alpha</th>\n",
       "      <th>Train Score</th>\n",
       "      <th>Test Score</th>\n",
       "    </tr>\n",
       "  </thead>\n",
       "  <tbody>\n",
       "    <tr>\n",
       "      <th>0</th>\n",
       "      <td>Base Model</td>\n",
       "      <td>0.296885</td>\n",
       "      <td>0.295381</td>\n",
       "      <td>-</td>\n",
       "      <td>0.433850</td>\n",
       "      <td>0.440894</td>\n",
       "    </tr>\n",
       "    <tr>\n",
       "      <th>1</th>\n",
       "      <td>Model with VIF&lt;20</td>\n",
       "      <td>0.297662</td>\n",
       "      <td>0.296268</td>\n",
       "      <td>-</td>\n",
       "      <td>0.430882</td>\n",
       "      <td>0.437530</td>\n",
       "    </tr>\n",
       "    <tr>\n",
       "      <th>2</th>\n",
       "      <td>Model after feature selection</td>\n",
       "      <td>0.296917</td>\n",
       "      <td>0.295366</td>\n",
       "      <td>-</td>\n",
       "      <td>0.433726</td>\n",
       "      <td>0.440952</td>\n",
       "    </tr>\n",
       "    <tr>\n",
       "      <th>3</th>\n",
       "      <td>SGD Regressor</td>\n",
       "      <td>0.313524</td>\n",
       "      <td>0.313629</td>\n",
       "      <td>-</td>\n",
       "      <td>0.368612</td>\n",
       "      <td>0.369677</td>\n",
       "    </tr>\n",
       "    <tr>\n",
       "      <th>4</th>\n",
       "      <td>Ridge Regression</td>\n",
       "      <td>0.296919</td>\n",
       "      <td>0.295387</td>\n",
       "      <td>-</td>\n",
       "      <td>0.433721</td>\n",
       "      <td>0.440870</td>\n",
       "    </tr>\n",
       "  </tbody>\n",
       "</table>\n",
       "</div>"
      ],
      "text/plain": [
       "                           Model  Train Rmse  Test Rmse Alpha  Train Score  \\\n",
       "0                     Base Model    0.296885   0.295381     -     0.433850   \n",
       "1              Model with VIF<20    0.297662   0.296268     -     0.430882   \n",
       "2  Model after feature selection    0.296917   0.295366     -     0.433726   \n",
       "3                  SGD Regressor    0.313524   0.313629     -     0.368612   \n",
       "4               Ridge Regression    0.296919   0.295387     -     0.433721   \n",
       "\n",
       "   Test Score  \n",
       "0    0.440894  \n",
       "1    0.437530  \n",
       "2    0.440952  \n",
       "3    0.369677  \n",
       "4    0.440870  "
      ]
     },
     "execution_count": 220,
     "metadata": {},
     "output_type": "execute_result"
    }
   ],
   "source": [
    "update_score_card(\"Ridge Regression\",ridge)"
   ]
  },
  {
   "cell_type": "code",
   "execution_count": 221,
   "metadata": {},
   "outputs": [
    {
     "data": {
      "text/plain": [
       "Lasso(alpha=1, max_iter=500)"
      ]
     },
     "execution_count": 221,
     "metadata": {},
     "output_type": "execute_result"
    }
   ],
   "source": [
    "lasso=Lasso(alpha=1, max_iter=500)\n",
    "lasso.fit(X_train,y_train)"
   ]
  },
  {
   "cell_type": "code",
   "execution_count": 222,
   "metadata": {},
   "outputs": [
    {
     "data": {
      "text/html": [
       "<div>\n",
       "<style scoped>\n",
       "    .dataframe tbody tr th:only-of-type {\n",
       "        vertical-align: middle;\n",
       "    }\n",
       "\n",
       "    .dataframe tbody tr th {\n",
       "        vertical-align: top;\n",
       "    }\n",
       "\n",
       "    .dataframe thead th {\n",
       "        text-align: right;\n",
       "    }\n",
       "</style>\n",
       "<table border=\"1\" class=\"dataframe\">\n",
       "  <thead>\n",
       "    <tr style=\"text-align: right;\">\n",
       "      <th></th>\n",
       "      <th>Model</th>\n",
       "      <th>Train Rmse</th>\n",
       "      <th>Test Rmse</th>\n",
       "      <th>Alpha</th>\n",
       "      <th>Train Score</th>\n",
       "      <th>Test Score</th>\n",
       "    </tr>\n",
       "  </thead>\n",
       "  <tbody>\n",
       "    <tr>\n",
       "      <th>0</th>\n",
       "      <td>Base Model</td>\n",
       "      <td>0.296885</td>\n",
       "      <td>0.295381</td>\n",
       "      <td>-</td>\n",
       "      <td>0.433850</td>\n",
       "      <td>0.440894</td>\n",
       "    </tr>\n",
       "    <tr>\n",
       "      <th>1</th>\n",
       "      <td>Model with VIF&lt;20</td>\n",
       "      <td>0.297662</td>\n",
       "      <td>0.296268</td>\n",
       "      <td>-</td>\n",
       "      <td>0.430882</td>\n",
       "      <td>0.437530</td>\n",
       "    </tr>\n",
       "    <tr>\n",
       "      <th>2</th>\n",
       "      <td>Model after feature selection</td>\n",
       "      <td>0.296917</td>\n",
       "      <td>0.295366</td>\n",
       "      <td>-</td>\n",
       "      <td>0.433726</td>\n",
       "      <td>0.440952</td>\n",
       "    </tr>\n",
       "    <tr>\n",
       "      <th>3</th>\n",
       "      <td>SGD Regressor</td>\n",
       "      <td>0.313524</td>\n",
       "      <td>0.313629</td>\n",
       "      <td>-</td>\n",
       "      <td>0.368612</td>\n",
       "      <td>0.369677</td>\n",
       "    </tr>\n",
       "    <tr>\n",
       "      <th>4</th>\n",
       "      <td>Ridge Regression</td>\n",
       "      <td>0.296919</td>\n",
       "      <td>0.295387</td>\n",
       "      <td>-</td>\n",
       "      <td>0.433721</td>\n",
       "      <td>0.440870</td>\n",
       "    </tr>\n",
       "    <tr>\n",
       "      <th>5</th>\n",
       "      <td>Lasso Regression</td>\n",
       "      <td>0.394569</td>\n",
       "      <td>0.395130</td>\n",
       "      <td>-</td>\n",
       "      <td>0.000000</td>\n",
       "      <td>-0.000480</td>\n",
       "    </tr>\n",
       "  </tbody>\n",
       "</table>\n",
       "</div>"
      ],
      "text/plain": [
       "                           Model  Train Rmse  Test Rmse Alpha  Train Score  \\\n",
       "0                     Base Model    0.296885   0.295381     -     0.433850   \n",
       "1              Model with VIF<20    0.297662   0.296268     -     0.430882   \n",
       "2  Model after feature selection    0.296917   0.295366     -     0.433726   \n",
       "3                  SGD Regressor    0.313524   0.313629     -     0.368612   \n",
       "4               Ridge Regression    0.296919   0.295387     -     0.433721   \n",
       "5               Lasso Regression    0.394569   0.395130     -     0.000000   \n",
       "\n",
       "   Test Score  \n",
       "0    0.440894  \n",
       "1    0.437530  \n",
       "2    0.440952  \n",
       "3    0.369677  \n",
       "4    0.440870  \n",
       "5   -0.000480  "
      ]
     },
     "execution_count": 222,
     "metadata": {},
     "output_type": "execute_result"
    }
   ],
   "source": [
    "update_score_card(\"Lasso Regression\",lasso)"
   ]
  },
  {
   "cell_type": "markdown",
   "metadata": {},
   "source": [
    "### Grid Search"
   ]
  },
  {
   "cell_type": "code",
   "execution_count": 223,
   "metadata": {},
   "outputs": [
    {
     "data": {
      "text/plain": [
       "GridSearchCV(cv=5, estimator=Ridge(),\n",
       "             param_grid=[{'alpha': [1e-05, 1e-05, 0.0001, 0.001, 0.01, 0.1, 1,\n",
       "                                    5, 10, 15, 20, 25, 30, 35, 40, 45, 50]}])"
      ]
     },
     "execution_count": 223,
     "metadata": {},
     "output_type": "execute_result"
    }
   ],
   "source": [
    "tuned_param=[{'alpha':[0.00001,0.00001,0.0001,0.001,0.01,0.1,1,5,10,15,20,25,30,35,40,45,50]}]\n",
    "ridge=Ridge()\n",
    "ridge_grid=GridSearchCV( estimator=ridge,\n",
    "    param_grid=tuned_param,cv=5)\n",
    "ridge_grid.fit(X_train,y_train)"
   ]
  },
  {
   "cell_type": "code",
   "execution_count": 224,
   "metadata": {},
   "outputs": [
    {
     "data": {
      "text/html": [
       "<div>\n",
       "<style scoped>\n",
       "    .dataframe tbody tr th:only-of-type {\n",
       "        vertical-align: middle;\n",
       "    }\n",
       "\n",
       "    .dataframe tbody tr th {\n",
       "        vertical-align: top;\n",
       "    }\n",
       "\n",
       "    .dataframe thead th {\n",
       "        text-align: right;\n",
       "    }\n",
       "</style>\n",
       "<table border=\"1\" class=\"dataframe\">\n",
       "  <thead>\n",
       "    <tr style=\"text-align: right;\">\n",
       "      <th></th>\n",
       "      <th>Model</th>\n",
       "      <th>Train Rmse</th>\n",
       "      <th>Test Rmse</th>\n",
       "      <th>Alpha</th>\n",
       "      <th>Train Score</th>\n",
       "      <th>Test Score</th>\n",
       "    </tr>\n",
       "  </thead>\n",
       "  <tbody>\n",
       "    <tr>\n",
       "      <th>0</th>\n",
       "      <td>Base Model</td>\n",
       "      <td>0.296885</td>\n",
       "      <td>0.295381</td>\n",
       "      <td>-</td>\n",
       "      <td>0.433850</td>\n",
       "      <td>0.440894</td>\n",
       "    </tr>\n",
       "    <tr>\n",
       "      <th>1</th>\n",
       "      <td>Model with VIF&lt;20</td>\n",
       "      <td>0.297662</td>\n",
       "      <td>0.296268</td>\n",
       "      <td>-</td>\n",
       "      <td>0.430882</td>\n",
       "      <td>0.437530</td>\n",
       "    </tr>\n",
       "    <tr>\n",
       "      <th>2</th>\n",
       "      <td>Model after feature selection</td>\n",
       "      <td>0.296917</td>\n",
       "      <td>0.295366</td>\n",
       "      <td>-</td>\n",
       "      <td>0.433726</td>\n",
       "      <td>0.440952</td>\n",
       "    </tr>\n",
       "    <tr>\n",
       "      <th>3</th>\n",
       "      <td>SGD Regressor</td>\n",
       "      <td>0.313524</td>\n",
       "      <td>0.313629</td>\n",
       "      <td>-</td>\n",
       "      <td>0.368612</td>\n",
       "      <td>0.369677</td>\n",
       "    </tr>\n",
       "    <tr>\n",
       "      <th>4</th>\n",
       "      <td>Ridge Regression</td>\n",
       "      <td>0.296919</td>\n",
       "      <td>0.295387</td>\n",
       "      <td>-</td>\n",
       "      <td>0.433721</td>\n",
       "      <td>0.440870</td>\n",
       "    </tr>\n",
       "    <tr>\n",
       "      <th>5</th>\n",
       "      <td>Lasso Regression</td>\n",
       "      <td>0.394569</td>\n",
       "      <td>0.395130</td>\n",
       "      <td>-</td>\n",
       "      <td>0.000000</td>\n",
       "      <td>-0.000480</td>\n",
       "    </tr>\n",
       "    <tr>\n",
       "      <th>6</th>\n",
       "      <td>Ridge Regression Using Grid Search</td>\n",
       "      <td>0.296917</td>\n",
       "      <td>0.295368</td>\n",
       "      <td>{'alpha': 0.1}</td>\n",
       "      <td>0.433726</td>\n",
       "      <td>0.440944</td>\n",
       "    </tr>\n",
       "  </tbody>\n",
       "</table>\n",
       "</div>"
      ],
      "text/plain": [
       "                                Model  Train Rmse  Test Rmse           Alpha  \\\n",
       "0                          Base Model    0.296885   0.295381               -   \n",
       "1                   Model with VIF<20    0.297662   0.296268               -   \n",
       "2       Model after feature selection    0.296917   0.295366               -   \n",
       "3                       SGD Regressor    0.313524   0.313629               -   \n",
       "4                    Ridge Regression    0.296919   0.295387               -   \n",
       "5                    Lasso Regression    0.394569   0.395130               -   \n",
       "6  Ridge Regression Using Grid Search    0.296917   0.295368  {'alpha': 0.1}   \n",
       "\n",
       "   Train Score  Test Score  \n",
       "0     0.433850    0.440894  \n",
       "1     0.430882    0.437530  \n",
       "2     0.433726    0.440952  \n",
       "3     0.368612    0.369677  \n",
       "4     0.433721    0.440870  \n",
       "5     0.000000   -0.000480  \n",
       "6     0.433726    0.440944  "
      ]
     },
     "execution_count": 224,
     "metadata": {},
     "output_type": "execute_result"
    }
   ],
   "source": [
    "update_score_card(\"Ridge Regression Using Grid Search\",ridge_grid,ridge_grid.best_params_)"
   ]
  },
  {
   "cell_type": "code",
   "execution_count": 249,
   "metadata": {},
   "outputs": [
    {
     "data": {
      "text/html": [
       "<style  type=\"text/css\" >\n",
       "#T_32ea6ea5_866b_11eb_9a2b_b89a2abca9acrow2_col2{\n",
       "            background-color:  lightgreen;\n",
       "        }</style><table id=\"T_32ea6ea5_866b_11eb_9a2b_b89a2abca9ac\" ><thead>    <tr>        <th class=\"blank level0\" ></th>        <th class=\"col_heading level0 col0\" >Model</th>        <th class=\"col_heading level0 col1\" >Train Rmse</th>        <th class=\"col_heading level0 col2\" >Test Rmse</th>        <th class=\"col_heading level0 col3\" >Alpha</th>        <th class=\"col_heading level0 col4\" >Train Score</th>        <th class=\"col_heading level0 col5\" >Test Score</th>    </tr></thead><tbody>\n",
       "                <tr>\n",
       "                        <th id=\"T_32ea6ea5_866b_11eb_9a2b_b89a2abca9aclevel0_row0\" class=\"row_heading level0 row0\" >0</th>\n",
       "                        <td id=\"T_32ea6ea5_866b_11eb_9a2b_b89a2abca9acrow0_col0\" class=\"data row0 col0\" >Base Model</td>\n",
       "                        <td id=\"T_32ea6ea5_866b_11eb_9a2b_b89a2abca9acrow0_col1\" class=\"data row0 col1\" >0.296885</td>\n",
       "                        <td id=\"T_32ea6ea5_866b_11eb_9a2b_b89a2abca9acrow0_col2\" class=\"data row0 col2\" >0.295381</td>\n",
       "                        <td id=\"T_32ea6ea5_866b_11eb_9a2b_b89a2abca9acrow0_col3\" class=\"data row0 col3\" >-</td>\n",
       "                        <td id=\"T_32ea6ea5_866b_11eb_9a2b_b89a2abca9acrow0_col4\" class=\"data row0 col4\" >0.433850</td>\n",
       "                        <td id=\"T_32ea6ea5_866b_11eb_9a2b_b89a2abca9acrow0_col5\" class=\"data row0 col5\" >0.440894</td>\n",
       "            </tr>\n",
       "            <tr>\n",
       "                        <th id=\"T_32ea6ea5_866b_11eb_9a2b_b89a2abca9aclevel0_row1\" class=\"row_heading level0 row1\" >1</th>\n",
       "                        <td id=\"T_32ea6ea5_866b_11eb_9a2b_b89a2abca9acrow1_col0\" class=\"data row1 col0\" >Model with VIF<20</td>\n",
       "                        <td id=\"T_32ea6ea5_866b_11eb_9a2b_b89a2abca9acrow1_col1\" class=\"data row1 col1\" >0.297662</td>\n",
       "                        <td id=\"T_32ea6ea5_866b_11eb_9a2b_b89a2abca9acrow1_col2\" class=\"data row1 col2\" >0.296268</td>\n",
       "                        <td id=\"T_32ea6ea5_866b_11eb_9a2b_b89a2abca9acrow1_col3\" class=\"data row1 col3\" >-</td>\n",
       "                        <td id=\"T_32ea6ea5_866b_11eb_9a2b_b89a2abca9acrow1_col4\" class=\"data row1 col4\" >0.430882</td>\n",
       "                        <td id=\"T_32ea6ea5_866b_11eb_9a2b_b89a2abca9acrow1_col5\" class=\"data row1 col5\" >0.437530</td>\n",
       "            </tr>\n",
       "            <tr>\n",
       "                        <th id=\"T_32ea6ea5_866b_11eb_9a2b_b89a2abca9aclevel0_row2\" class=\"row_heading level0 row2\" >2</th>\n",
       "                        <td id=\"T_32ea6ea5_866b_11eb_9a2b_b89a2abca9acrow2_col0\" class=\"data row2 col0\" >Model after feature selection</td>\n",
       "                        <td id=\"T_32ea6ea5_866b_11eb_9a2b_b89a2abca9acrow2_col1\" class=\"data row2 col1\" >0.296917</td>\n",
       "                        <td id=\"T_32ea6ea5_866b_11eb_9a2b_b89a2abca9acrow2_col2\" class=\"data row2 col2\" >0.295366</td>\n",
       "                        <td id=\"T_32ea6ea5_866b_11eb_9a2b_b89a2abca9acrow2_col3\" class=\"data row2 col3\" >-</td>\n",
       "                        <td id=\"T_32ea6ea5_866b_11eb_9a2b_b89a2abca9acrow2_col4\" class=\"data row2 col4\" >0.433726</td>\n",
       "                        <td id=\"T_32ea6ea5_866b_11eb_9a2b_b89a2abca9acrow2_col5\" class=\"data row2 col5\" >0.440952</td>\n",
       "            </tr>\n",
       "            <tr>\n",
       "                        <th id=\"T_32ea6ea5_866b_11eb_9a2b_b89a2abca9aclevel0_row3\" class=\"row_heading level0 row3\" >3</th>\n",
       "                        <td id=\"T_32ea6ea5_866b_11eb_9a2b_b89a2abca9acrow3_col0\" class=\"data row3 col0\" >SGD Regressor</td>\n",
       "                        <td id=\"T_32ea6ea5_866b_11eb_9a2b_b89a2abca9acrow3_col1\" class=\"data row3 col1\" >0.313524</td>\n",
       "                        <td id=\"T_32ea6ea5_866b_11eb_9a2b_b89a2abca9acrow3_col2\" class=\"data row3 col2\" >0.313629</td>\n",
       "                        <td id=\"T_32ea6ea5_866b_11eb_9a2b_b89a2abca9acrow3_col3\" class=\"data row3 col3\" >-</td>\n",
       "                        <td id=\"T_32ea6ea5_866b_11eb_9a2b_b89a2abca9acrow3_col4\" class=\"data row3 col4\" >0.368612</td>\n",
       "                        <td id=\"T_32ea6ea5_866b_11eb_9a2b_b89a2abca9acrow3_col5\" class=\"data row3 col5\" >0.369677</td>\n",
       "            </tr>\n",
       "            <tr>\n",
       "                        <th id=\"T_32ea6ea5_866b_11eb_9a2b_b89a2abca9aclevel0_row4\" class=\"row_heading level0 row4\" >4</th>\n",
       "                        <td id=\"T_32ea6ea5_866b_11eb_9a2b_b89a2abca9acrow4_col0\" class=\"data row4 col0\" >Ridge Regression</td>\n",
       "                        <td id=\"T_32ea6ea5_866b_11eb_9a2b_b89a2abca9acrow4_col1\" class=\"data row4 col1\" >0.296919</td>\n",
       "                        <td id=\"T_32ea6ea5_866b_11eb_9a2b_b89a2abca9acrow4_col2\" class=\"data row4 col2\" >0.295387</td>\n",
       "                        <td id=\"T_32ea6ea5_866b_11eb_9a2b_b89a2abca9acrow4_col3\" class=\"data row4 col3\" >-</td>\n",
       "                        <td id=\"T_32ea6ea5_866b_11eb_9a2b_b89a2abca9acrow4_col4\" class=\"data row4 col4\" >0.433721</td>\n",
       "                        <td id=\"T_32ea6ea5_866b_11eb_9a2b_b89a2abca9acrow4_col5\" class=\"data row4 col5\" >0.440870</td>\n",
       "            </tr>\n",
       "            <tr>\n",
       "                        <th id=\"T_32ea6ea5_866b_11eb_9a2b_b89a2abca9aclevel0_row5\" class=\"row_heading level0 row5\" >5</th>\n",
       "                        <td id=\"T_32ea6ea5_866b_11eb_9a2b_b89a2abca9acrow5_col0\" class=\"data row5 col0\" >Lasso Regression</td>\n",
       "                        <td id=\"T_32ea6ea5_866b_11eb_9a2b_b89a2abca9acrow5_col1\" class=\"data row5 col1\" >0.394569</td>\n",
       "                        <td id=\"T_32ea6ea5_866b_11eb_9a2b_b89a2abca9acrow5_col2\" class=\"data row5 col2\" >0.395130</td>\n",
       "                        <td id=\"T_32ea6ea5_866b_11eb_9a2b_b89a2abca9acrow5_col3\" class=\"data row5 col3\" >-</td>\n",
       "                        <td id=\"T_32ea6ea5_866b_11eb_9a2b_b89a2abca9acrow5_col4\" class=\"data row5 col4\" >0.000000</td>\n",
       "                        <td id=\"T_32ea6ea5_866b_11eb_9a2b_b89a2abca9acrow5_col5\" class=\"data row5 col5\" >-0.000480</td>\n",
       "            </tr>\n",
       "            <tr>\n",
       "                        <th id=\"T_32ea6ea5_866b_11eb_9a2b_b89a2abca9aclevel0_row6\" class=\"row_heading level0 row6\" >6</th>\n",
       "                        <td id=\"T_32ea6ea5_866b_11eb_9a2b_b89a2abca9acrow6_col0\" class=\"data row6 col0\" >Ridge Regression Using Grid Search</td>\n",
       "                        <td id=\"T_32ea6ea5_866b_11eb_9a2b_b89a2abca9acrow6_col1\" class=\"data row6 col1\" >0.296917</td>\n",
       "                        <td id=\"T_32ea6ea5_866b_11eb_9a2b_b89a2abca9acrow6_col2\" class=\"data row6 col2\" >0.295368</td>\n",
       "                        <td id=\"T_32ea6ea5_866b_11eb_9a2b_b89a2abca9acrow6_col3\" class=\"data row6 col3\" >{'alpha': 0.1}</td>\n",
       "                        <td id=\"T_32ea6ea5_866b_11eb_9a2b_b89a2abca9acrow6_col4\" class=\"data row6 col4\" >0.433726</td>\n",
       "                        <td id=\"T_32ea6ea5_866b_11eb_9a2b_b89a2abca9acrow6_col5\" class=\"data row6 col5\" >0.440944</td>\n",
       "            </tr>\n",
       "    </tbody></table>"
      ],
      "text/plain": [
       "<pandas.io.formats.style.Styler at 0x2782f813be0>"
      ]
     },
     "execution_count": 249,
     "metadata": {},
     "output_type": "execute_result"
    }
   ],
   "source": [
    "score_card\n",
    "score_card.style.highlight_min(subset=['Test Rmse'],\n",
    "    color = 'lightgreen')"
   ]
  },
  {
   "cell_type": "markdown",
   "metadata": {},
   "source": [
    "###### Overall score of the model on train data is 43%  and rmse of 0.296 and on test data it is 44% and rmse as 0.295 as seen in the above score card.With the rmse being significantly low we can conclude that the Ridge Regression Using Grid Search model would be the best choice "
   ]
  },
  {
   "cell_type": "markdown",
   "metadata": {},
   "source": [
    "##### There has been a slight but constant decrease in rmse value of both train and test data with each improvement on the model"
   ]
  },
  {
   "cell_type": "markdown",
   "metadata": {},
   "source": [
    "##### The accuracy of the model is not  high enough, high bias could be the reason for this which means the predicted value is not close enough  to the actual value.This problem arises on both test and train data since both give a low score and so the possibility of overfitting is low "
   ]
  },
  {
   "cell_type": "code",
   "execution_count": null,
   "metadata": {},
   "outputs": [],
   "source": []
  },
  {
   "cell_type": "code",
   "execution_count": null,
   "metadata": {},
   "outputs": [],
   "source": []
  }
 ],
 "metadata": {
  "kernelspec": {
   "display_name": "Python 3",
   "language": "python",
   "name": "python3"
  },
  "language_info": {
   "codemirror_mode": {
    "name": "ipython",
    "version": 3
   },
   "file_extension": ".py",
   "mimetype": "text/x-python",
   "name": "python",
   "nbconvert_exporter": "python",
   "pygments_lexer": "ipython3",
   "version": "3.8.5"
  }
 },
 "nbformat": 4,
 "nbformat_minor": 4
}
