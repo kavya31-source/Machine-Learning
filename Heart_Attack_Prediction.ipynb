{
 "cells": [
  {
   "cell_type": "markdown",
   "metadata": {},
   "source": [
    "## Problem Statement:"
   ]
  },
  {
   "cell_type": "markdown",
   "metadata": {},
   "source": [
    "Various features are provided which may be the cause of a heart attack among patients. A  classification model is required to classify whether a patient may or may not suffer from a heart attack with respect to his/her conditions given in the form of features. "
   ]
  },
  {
   "cell_type": "markdown",
   "metadata": {},
   "source": [
    "#### Independent Variables :"
   ]
  },
  {
   "cell_type": "markdown",
   "metadata": {},
   "source": [
    "1.Age : Age of the patient\n",
    "\n",
    "2.Sex : Sex of the patient (1=Male,0=Female)\n",
    "\n",
    "3.exang: exercise induced angina (1 = yes; 0 = no)\n",
    "\n",
    "4.ca: number of major vessels (0-3)\n",
    "\n",
    "5.cp : Chest Pain type \n",
    "\n",
    "Value 1: typical angina\n",
    "Value 2: atypical angina\n",
    "Value 3: non-anginal pain\n",
    "Value 4: asymptomatic\n",
    "\n",
    "6.trtbps : resting blood pressure (in mm Hg)\n",
    "\n",
    "7.chol : cholestoral in mg/dl fetched via BMI sensor\n",
    "\n",
    "8.fbs : (fasting blood sugar > 120 mg/dl) (1 = true; 0 = false)\n",
    "\n",
    "9.rest_ecg : resting electrocardiographic results\n",
    "\n",
    "Value 0: normal\n",
    "Value 1: having ST-T wave abnormality (T wave inversions and/or ST elevation or depression of > 0.05 mV)\n",
    "Value 2: showing probable or definite left ventricular hypertrophy by Estes' criteria\n",
    "\n",
    "10.slp: The slope of the peak exercise ST segment\n",
    "\n",
    "11.oldpeak: ST depression induced by exercise relative to rest\n",
    "\n",
    "12.thalach : maximum heart rate achieved\n",
    "\n",
    "13.thal : Thal rate"
   ]
  },
  {
   "cell_type": "markdown",
   "metadata": {},
   "source": [
    "#### Depenedent/Target Varibale :"
   ]
  },
  {
   "cell_type": "markdown",
   "metadata": {},
   "source": [
    "14.output : 0= less chance of heart attack 1= more chance of heart attack"
   ]
  },
  {
   "cell_type": "markdown",
   "metadata": {},
   "source": [
    "## Importing Required Libraries :"
   ]
  },
  {
   "cell_type": "code",
   "execution_count": 1,
   "metadata": {},
   "outputs": [],
   "source": [
    "import pandas as pd\n",
    "import numpy as np\n",
    "import matplotlib.pyplot as plt\n",
    "from matplotlib.colors import ListedColormap\n",
    "import seaborn as sns\n",
    "from warnings import filterwarnings\n",
    "filterwarnings('ignore')\n",
    "plt.style.use('seaborn-pastel')\n",
    "from sklearn.preprocessing import Normalizer\n",
    "from sklearn.model_selection import train_test_split,GridSearchCV,RandomizedSearchCV,cross_val_score\n",
    "from sklearn.metrics import accuracy_score,roc_auc_score,confusion_matrix,roc_curve\n",
    "from sklearn.linear_model import LogisticRegression\n",
    "from statsmodels.api import Logit\n",
    "from sklearn.feature_selection import RFE\n",
    "from sklearn.naive_bayes import GaussianNB\n",
    "from sklearn.neighbors import KNeighborsClassifier\n",
    "from sklearn.tree import DecisionTreeClassifier\n",
    "from sklearn.ensemble import RandomForestClassifier,GradientBoostingClassifier,AdaBoostClassifier,StackingClassifier\n",
    "from xgboost import XGBClassifier"
   ]
  },
  {
   "cell_type": "code",
   "execution_count": 2,
   "metadata": {},
   "outputs": [
    {
     "data": {
      "text/html": [
       "<div>\n",
       "<style scoped>\n",
       "    .dataframe tbody tr th:only-of-type {\n",
       "        vertical-align: middle;\n",
       "    }\n",
       "\n",
       "    .dataframe tbody tr th {\n",
       "        vertical-align: top;\n",
       "    }\n",
       "\n",
       "    .dataframe thead th {\n",
       "        text-align: right;\n",
       "    }\n",
       "</style>\n",
       "<table border=\"1\" class=\"dataframe\">\n",
       "  <thead>\n",
       "    <tr style=\"text-align: right;\">\n",
       "      <th></th>\n",
       "      <th>age</th>\n",
       "      <th>sex</th>\n",
       "      <th>cp</th>\n",
       "      <th>trtbps</th>\n",
       "      <th>chol</th>\n",
       "      <th>fbs</th>\n",
       "      <th>restecg</th>\n",
       "      <th>thalachh</th>\n",
       "      <th>exng</th>\n",
       "      <th>oldpeak</th>\n",
       "      <th>slp</th>\n",
       "      <th>caa</th>\n",
       "      <th>thall</th>\n",
       "      <th>output</th>\n",
       "    </tr>\n",
       "  </thead>\n",
       "  <tbody>\n",
       "    <tr>\n",
       "      <th>0</th>\n",
       "      <td>63</td>\n",
       "      <td>1</td>\n",
       "      <td>3</td>\n",
       "      <td>145</td>\n",
       "      <td>233</td>\n",
       "      <td>1</td>\n",
       "      <td>0</td>\n",
       "      <td>150</td>\n",
       "      <td>0</td>\n",
       "      <td>2.3</td>\n",
       "      <td>0</td>\n",
       "      <td>0</td>\n",
       "      <td>1</td>\n",
       "      <td>1</td>\n",
       "    </tr>\n",
       "    <tr>\n",
       "      <th>1</th>\n",
       "      <td>37</td>\n",
       "      <td>1</td>\n",
       "      <td>2</td>\n",
       "      <td>130</td>\n",
       "      <td>250</td>\n",
       "      <td>0</td>\n",
       "      <td>1</td>\n",
       "      <td>187</td>\n",
       "      <td>0</td>\n",
       "      <td>3.5</td>\n",
       "      <td>0</td>\n",
       "      <td>0</td>\n",
       "      <td>2</td>\n",
       "      <td>1</td>\n",
       "    </tr>\n",
       "    <tr>\n",
       "      <th>2</th>\n",
       "      <td>41</td>\n",
       "      <td>0</td>\n",
       "      <td>1</td>\n",
       "      <td>130</td>\n",
       "      <td>204</td>\n",
       "      <td>0</td>\n",
       "      <td>0</td>\n",
       "      <td>172</td>\n",
       "      <td>0</td>\n",
       "      <td>1.4</td>\n",
       "      <td>2</td>\n",
       "      <td>0</td>\n",
       "      <td>2</td>\n",
       "      <td>1</td>\n",
       "    </tr>\n",
       "    <tr>\n",
       "      <th>3</th>\n",
       "      <td>56</td>\n",
       "      <td>1</td>\n",
       "      <td>1</td>\n",
       "      <td>120</td>\n",
       "      <td>236</td>\n",
       "      <td>0</td>\n",
       "      <td>1</td>\n",
       "      <td>178</td>\n",
       "      <td>0</td>\n",
       "      <td>0.8</td>\n",
       "      <td>2</td>\n",
       "      <td>0</td>\n",
       "      <td>2</td>\n",
       "      <td>1</td>\n",
       "    </tr>\n",
       "    <tr>\n",
       "      <th>4</th>\n",
       "      <td>57</td>\n",
       "      <td>0</td>\n",
       "      <td>0</td>\n",
       "      <td>120</td>\n",
       "      <td>354</td>\n",
       "      <td>0</td>\n",
       "      <td>1</td>\n",
       "      <td>163</td>\n",
       "      <td>1</td>\n",
       "      <td>0.6</td>\n",
       "      <td>2</td>\n",
       "      <td>0</td>\n",
       "      <td>2</td>\n",
       "      <td>1</td>\n",
       "    </tr>\n",
       "  </tbody>\n",
       "</table>\n",
       "</div>"
      ],
      "text/plain": [
       "   age  sex  cp  trtbps  chol  fbs  restecg  thalachh  exng  oldpeak  slp  \\\n",
       "0   63    1   3     145   233    1        0       150     0      2.3    0   \n",
       "1   37    1   2     130   250    0        1       187     0      3.5    0   \n",
       "2   41    0   1     130   204    0        0       172     0      1.4    2   \n",
       "3   56    1   1     120   236    0        1       178     0      0.8    2   \n",
       "4   57    0   0     120   354    0        1       163     1      0.6    2   \n",
       "\n",
       "   caa  thall  output  \n",
       "0    0      1       1  \n",
       "1    0      2       1  \n",
       "2    0      2       1  \n",
       "3    0      2       1  \n",
       "4    0      2       1  "
      ]
     },
     "execution_count": 2,
     "metadata": {},
     "output_type": "execute_result"
    }
   ],
   "source": [
    "df_heart=pd.read_csv('heart.csv')\n",
    "# First 5 values\n",
    "df_heart.head()"
   ]
  },
  {
   "cell_type": "code",
   "execution_count": 3,
   "metadata": {},
   "outputs": [
    {
     "data": {
      "text/plain": [
       "(303, 14)"
      ]
     },
     "execution_count": 3,
     "metadata": {},
     "output_type": "execute_result"
    }
   ],
   "source": [
    "df_heart.shape"
   ]
  },
  {
   "cell_type": "markdown",
   "metadata": {},
   "source": [
    "###### Inference: There are 303 rows and 14 columns in the dataset."
   ]
  },
  {
   "cell_type": "markdown",
   "metadata": {},
   "source": [
    "## Null Value Treatment :"
   ]
  },
  {
   "cell_type": "code",
   "execution_count": 4,
   "metadata": {},
   "outputs": [
    {
     "name": "stdout",
     "output_type": "stream",
     "text": [
      "<class 'pandas.core.frame.DataFrame'>\n",
      "RangeIndex: 303 entries, 0 to 302\n",
      "Data columns (total 14 columns):\n",
      " #   Column    Non-Null Count  Dtype  \n",
      "---  ------    --------------  -----  \n",
      " 0   age       303 non-null    int64  \n",
      " 1   sex       303 non-null    int64  \n",
      " 2   cp        303 non-null    int64  \n",
      " 3   trtbps    303 non-null    int64  \n",
      " 4   chol      303 non-null    int64  \n",
      " 5   fbs       303 non-null    int64  \n",
      " 6   restecg   303 non-null    int64  \n",
      " 7   thalachh  303 non-null    int64  \n",
      " 8   exng      303 non-null    int64  \n",
      " 9   oldpeak   303 non-null    float64\n",
      " 10  slp       303 non-null    int64  \n",
      " 11  caa       303 non-null    int64  \n",
      " 12  thall     303 non-null    int64  \n",
      " 13  output    303 non-null    int64  \n",
      "dtypes: float64(1), int64(13)\n",
      "memory usage: 33.3 KB\n"
     ]
    }
   ],
   "source": [
    "df_heart.info()"
   ]
  },
  {
   "cell_type": "markdown",
   "metadata": {},
   "source": [
    "###### Inference: As per the info() function there are no null values present in the dataset. Also the datatypes of each of the variables can be analysed."
   ]
  },
  {
   "cell_type": "markdown",
   "metadata": {},
   "source": [
    "## Exploratory Data Analysis :"
   ]
  },
  {
   "cell_type": "code",
   "execution_count": 5,
   "metadata": {
    "scrolled": true
   },
   "outputs": [
    {
     "data": {
      "text/html": [
       "<div>\n",
       "<style scoped>\n",
       "    .dataframe tbody tr th:only-of-type {\n",
       "        vertical-align: middle;\n",
       "    }\n",
       "\n",
       "    .dataframe tbody tr th {\n",
       "        vertical-align: top;\n",
       "    }\n",
       "\n",
       "    .dataframe thead th {\n",
       "        text-align: right;\n",
       "    }\n",
       "</style>\n",
       "<table border=\"1\" class=\"dataframe\">\n",
       "  <thead>\n",
       "    <tr style=\"text-align: right;\">\n",
       "      <th></th>\n",
       "      <th>sex</th>\n",
       "      <th>cp</th>\n",
       "      <th>fbs</th>\n",
       "      <th>restecg</th>\n",
       "      <th>exng</th>\n",
       "      <th>slp</th>\n",
       "      <th>caa</th>\n",
       "      <th>thall</th>\n",
       "      <th>output</th>\n",
       "    </tr>\n",
       "  </thead>\n",
       "  <tbody>\n",
       "    <tr>\n",
       "      <th>0</th>\n",
       "      <td>1</td>\n",
       "      <td>3</td>\n",
       "      <td>1</td>\n",
       "      <td>0</td>\n",
       "      <td>0</td>\n",
       "      <td>0</td>\n",
       "      <td>0</td>\n",
       "      <td>1</td>\n",
       "      <td>1</td>\n",
       "    </tr>\n",
       "    <tr>\n",
       "      <th>1</th>\n",
       "      <td>1</td>\n",
       "      <td>2</td>\n",
       "      <td>0</td>\n",
       "      <td>1</td>\n",
       "      <td>0</td>\n",
       "      <td>0</td>\n",
       "      <td>0</td>\n",
       "      <td>2</td>\n",
       "      <td>1</td>\n",
       "    </tr>\n",
       "  </tbody>\n",
       "</table>\n",
       "</div>"
      ],
      "text/plain": [
       "   sex  cp  fbs  restecg  exng  slp  caa  thall  output\n",
       "0    1   3    1        0     0    0    0      1       1\n",
       "1    1   2    0        1     0    0    0      2       1"
      ]
     },
     "execution_count": 5,
     "metadata": {},
     "output_type": "execute_result"
    }
   ],
   "source": [
    "#Separating numerical and categorical variables.\n",
    "df_cat=df_heart.iloc[:,[1,2,5,6,8,10,11,12,13]]\n",
    "df_cat.head(2)"
   ]
  },
  {
   "cell_type": "code",
   "execution_count": 6,
   "metadata": {},
   "outputs": [
    {
     "data": {
      "text/html": [
       "<div>\n",
       "<style scoped>\n",
       "    .dataframe tbody tr th:only-of-type {\n",
       "        vertical-align: middle;\n",
       "    }\n",
       "\n",
       "    .dataframe tbody tr th {\n",
       "        vertical-align: top;\n",
       "    }\n",
       "\n",
       "    .dataframe thead th {\n",
       "        text-align: right;\n",
       "    }\n",
       "</style>\n",
       "<table border=\"1\" class=\"dataframe\">\n",
       "  <thead>\n",
       "    <tr style=\"text-align: right;\">\n",
       "      <th></th>\n",
       "      <th>age</th>\n",
       "      <th>trtbps</th>\n",
       "      <th>chol</th>\n",
       "      <th>thalachh</th>\n",
       "      <th>oldpeak</th>\n",
       "    </tr>\n",
       "  </thead>\n",
       "  <tbody>\n",
       "    <tr>\n",
       "      <th>0</th>\n",
       "      <td>63</td>\n",
       "      <td>145</td>\n",
       "      <td>233</td>\n",
       "      <td>150</td>\n",
       "      <td>2.3</td>\n",
       "    </tr>\n",
       "    <tr>\n",
       "      <th>1</th>\n",
       "      <td>37</td>\n",
       "      <td>130</td>\n",
       "      <td>250</td>\n",
       "      <td>187</td>\n",
       "      <td>3.5</td>\n",
       "    </tr>\n",
       "  </tbody>\n",
       "</table>\n",
       "</div>"
      ],
      "text/plain": [
       "   age  trtbps  chol  thalachh  oldpeak\n",
       "0   63     145   233       150      2.3\n",
       "1   37     130   250       187      3.5"
      ]
     },
     "execution_count": 6,
     "metadata": {},
     "output_type": "execute_result"
    }
   ],
   "source": [
    "df_num=df_heart.iloc[:,[0,3,4,7,9]]\n",
    "df_num.head(2)"
   ]
  },
  {
   "cell_type": "code",
   "execution_count": null,
   "metadata": {},
   "outputs": [],
   "source": []
  },
  {
   "cell_type": "code",
   "execution_count": 7,
   "metadata": {
    "scrolled": false
   },
   "outputs": [
    {
     "data": {
      "image/png": "[encoded data removed]",
      "text/plain": [
       "<Figure size 1080x1080 with 8 Axes>"
      ]
     },
     "metadata": {
      "needs_background": "light"
     },
     "output_type": "display_data"
    }
   ],
   "source": [
    "# Categorical variables with respect to target variables\n",
    "fig,ax=plt.subplots(4,2,figsize=(15,15))\n",
    "\n",
    "for col,ax in zip(df_cat.columns[:-1],ax.flatten()):\n",
    "    x=sns.countplot(df_cat[col],ax=ax ,hue=df_cat['output'],palette='Pastel1')"
   ]
  },
  {
   "cell_type": "markdown",
   "metadata": {},
   "source": [
    "##### Inference:\n",
    "##### 1.As per the plots above , more males are prone to suffer from a heart attack than females\n",
    "##### 2. Most people having a typical anginal pain (0) dont get a heart attack where as  most people with non-anginal pain (2) end get a heart attack\n",
    "##### 3. Most people with fasting blood sugar >120 mg/dl (0) suffer from a heart attack\n",
    "##### 4. Resting electrocardiographic results having ST-T wave abnormality (1) are highly prone to suffer from a heart attack.\n",
    "##### 5. Most people do not get a heart attack after an exercise induced angina.\n",
    "##### 6. The slope of the peak exercise ST segment shows that type 2 has the highest number of people getting a heart attack.\n",
    "##### 7. People with 0 major vessels are highly prone to get a heart attack.\n",
    "##### 8.  People with thalassemia rate of type 2  has the highest chances of getting a heart attack."
   ]
  },
  {
   "cell_type": "code",
   "execution_count": 8,
   "metadata": {},
   "outputs": [
    {
     "data": {
      "image/png": "[encoded data removed]",
      "text/plain": [
       "<Figure size 1080x360 with 2 Axes>"
      ]
     },
     "metadata": {
      "needs_background": "light"
     },
     "output_type": "display_data"
    }
   ],
   "source": [
    "plt.figure(figsize=(15,5))\n",
    "sns.heatmap(df_heart.corr(),annot=True,cmap='Blues')\n",
    "plt.show()"
   ]
  },
  {
   "cell_type": "markdown",
   "metadata": {},
   "source": [
    "###### Inference : As per the heatmap above variables cp, thalachh,exng,oldpeak,slp,caa,thall are significantly correlated with the target variable ."
   ]
  },
  {
   "cell_type": "code",
   "execution_count": 9,
   "metadata": {
    "scrolled": true
   },
   "outputs": [
    {
     "data": {
      "image/png": "[encoded data removed]",
      "text/plain": [
       "<Figure size 1080x360 with 1 Axes>"
      ]
     },
     "metadata": {
      "needs_background": "light"
     },
     "output_type": "display_data"
    }
   ],
   "source": [
    "df_num.plot(kind='box',figsize=(15,5))\n",
    "plt.show()"
   ]
  },
  {
   "cell_type": "markdown",
   "metadata": {},
   "source": [
    "###### Inference : As per the boxplots above we can see that the variables 'resting blood pressure' (trtbps) & cholestoral (chol) have outliers in them. "
   ]
  },
  {
   "cell_type": "markdown",
   "metadata": {},
   "source": [
    "## Outlier Treatment :"
   ]
  },
  {
   "cell_type": "code",
   "execution_count": 10,
   "metadata": {},
   "outputs": [
    {
     "data": {
      "text/html": [
       "<div>\n",
       "<style scoped>\n",
       "    .dataframe tbody tr th:only-of-type {\n",
       "        vertical-align: middle;\n",
       "    }\n",
       "\n",
       "    .dataframe tbody tr th {\n",
       "        vertical-align: top;\n",
       "    }\n",
       "\n",
       "    .dataframe thead th {\n",
       "        text-align: right;\n",
       "    }\n",
       "</style>\n",
       "<table border=\"1\" class=\"dataframe\">\n",
       "  <thead>\n",
       "    <tr style=\"text-align: right;\">\n",
       "      <th></th>\n",
       "      <th>age</th>\n",
       "      <th>sex</th>\n",
       "      <th>cp</th>\n",
       "      <th>trtbps</th>\n",
       "      <th>chol</th>\n",
       "      <th>fbs</th>\n",
       "      <th>restecg</th>\n",
       "      <th>thalachh</th>\n",
       "      <th>exng</th>\n",
       "      <th>oldpeak</th>\n",
       "      <th>slp</th>\n",
       "      <th>caa</th>\n",
       "      <th>thall</th>\n",
       "      <th>output</th>\n",
       "    </tr>\n",
       "  </thead>\n",
       "  <tbody>\n",
       "    <tr>\n",
       "      <th>8</th>\n",
       "      <td>52</td>\n",
       "      <td>1</td>\n",
       "      <td>2</td>\n",
       "      <td>172</td>\n",
       "      <td>199</td>\n",
       "      <td>1</td>\n",
       "      <td>1</td>\n",
       "      <td>162</td>\n",
       "      <td>0</td>\n",
       "      <td>0.5</td>\n",
       "      <td>2</td>\n",
       "      <td>0</td>\n",
       "      <td>3</td>\n",
       "      <td>1</td>\n",
       "    </tr>\n",
       "    <tr>\n",
       "      <th>28</th>\n",
       "      <td>65</td>\n",
       "      <td>0</td>\n",
       "      <td>2</td>\n",
       "      <td>140</td>\n",
       "      <td>417</td>\n",
       "      <td>1</td>\n",
       "      <td>0</td>\n",
       "      <td>157</td>\n",
       "      <td>0</td>\n",
       "      <td>0.8</td>\n",
       "      <td>2</td>\n",
       "      <td>1</td>\n",
       "      <td>2</td>\n",
       "      <td>1</td>\n",
       "    </tr>\n",
       "    <tr>\n",
       "      <th>85</th>\n",
       "      <td>67</td>\n",
       "      <td>0</td>\n",
       "      <td>2</td>\n",
       "      <td>115</td>\n",
       "      <td>564</td>\n",
       "      <td>0</td>\n",
       "      <td>0</td>\n",
       "      <td>160</td>\n",
       "      <td>0</td>\n",
       "      <td>1.6</td>\n",
       "      <td>1</td>\n",
       "      <td>0</td>\n",
       "      <td>3</td>\n",
       "      <td>1</td>\n",
       "    </tr>\n",
       "    <tr>\n",
       "      <th>96</th>\n",
       "      <td>62</td>\n",
       "      <td>0</td>\n",
       "      <td>0</td>\n",
       "      <td>140</td>\n",
       "      <td>394</td>\n",
       "      <td>0</td>\n",
       "      <td>0</td>\n",
       "      <td>157</td>\n",
       "      <td>0</td>\n",
       "      <td>1.2</td>\n",
       "      <td>1</td>\n",
       "      <td>0</td>\n",
       "      <td>2</td>\n",
       "      <td>1</td>\n",
       "    </tr>\n",
       "    <tr>\n",
       "      <th>101</th>\n",
       "      <td>59</td>\n",
       "      <td>1</td>\n",
       "      <td>3</td>\n",
       "      <td>178</td>\n",
       "      <td>270</td>\n",
       "      <td>0</td>\n",
       "      <td>0</td>\n",
       "      <td>145</td>\n",
       "      <td>0</td>\n",
       "      <td>4.2</td>\n",
       "      <td>0</td>\n",
       "      <td>0</td>\n",
       "      <td>3</td>\n",
       "      <td>1</td>\n",
       "    </tr>\n",
       "    <tr>\n",
       "      <th>110</th>\n",
       "      <td>64</td>\n",
       "      <td>0</td>\n",
       "      <td>0</td>\n",
       "      <td>180</td>\n",
       "      <td>325</td>\n",
       "      <td>0</td>\n",
       "      <td>1</td>\n",
       "      <td>154</td>\n",
       "      <td>1</td>\n",
       "      <td>0.0</td>\n",
       "      <td>2</td>\n",
       "      <td>0</td>\n",
       "      <td>2</td>\n",
       "      <td>1</td>\n",
       "    </tr>\n",
       "    <tr>\n",
       "      <th>203</th>\n",
       "      <td>68</td>\n",
       "      <td>1</td>\n",
       "      <td>2</td>\n",
       "      <td>180</td>\n",
       "      <td>274</td>\n",
       "      <td>1</td>\n",
       "      <td>0</td>\n",
       "      <td>150</td>\n",
       "      <td>1</td>\n",
       "      <td>1.6</td>\n",
       "      <td>1</td>\n",
       "      <td>0</td>\n",
       "      <td>3</td>\n",
       "      <td>0</td>\n",
       "    </tr>\n",
       "    <tr>\n",
       "      <th>204</th>\n",
       "      <td>62</td>\n",
       "      <td>0</td>\n",
       "      <td>0</td>\n",
       "      <td>160</td>\n",
       "      <td>164</td>\n",
       "      <td>0</td>\n",
       "      <td>0</td>\n",
       "      <td>145</td>\n",
       "      <td>0</td>\n",
       "      <td>6.2</td>\n",
       "      <td>0</td>\n",
       "      <td>3</td>\n",
       "      <td>3</td>\n",
       "      <td>0</td>\n",
       "    </tr>\n",
       "    <tr>\n",
       "      <th>220</th>\n",
       "      <td>63</td>\n",
       "      <td>0</td>\n",
       "      <td>0</td>\n",
       "      <td>150</td>\n",
       "      <td>407</td>\n",
       "      <td>0</td>\n",
       "      <td>0</td>\n",
       "      <td>154</td>\n",
       "      <td>0</td>\n",
       "      <td>4.0</td>\n",
       "      <td>1</td>\n",
       "      <td>3</td>\n",
       "      <td>3</td>\n",
       "      <td>0</td>\n",
       "    </tr>\n",
       "    <tr>\n",
       "      <th>221</th>\n",
       "      <td>55</td>\n",
       "      <td>1</td>\n",
       "      <td>0</td>\n",
       "      <td>140</td>\n",
       "      <td>217</td>\n",
       "      <td>0</td>\n",
       "      <td>1</td>\n",
       "      <td>111</td>\n",
       "      <td>1</td>\n",
       "      <td>5.6</td>\n",
       "      <td>0</td>\n",
       "      <td>0</td>\n",
       "      <td>3</td>\n",
       "      <td>0</td>\n",
       "    </tr>\n",
       "    <tr>\n",
       "      <th>223</th>\n",
       "      <td>56</td>\n",
       "      <td>0</td>\n",
       "      <td>0</td>\n",
       "      <td>200</td>\n",
       "      <td>288</td>\n",
       "      <td>1</td>\n",
       "      <td>0</td>\n",
       "      <td>133</td>\n",
       "      <td>1</td>\n",
       "      <td>4.0</td>\n",
       "      <td>0</td>\n",
       "      <td>2</td>\n",
       "      <td>3</td>\n",
       "      <td>0</td>\n",
       "    </tr>\n",
       "    <tr>\n",
       "      <th>241</th>\n",
       "      <td>59</td>\n",
       "      <td>0</td>\n",
       "      <td>0</td>\n",
       "      <td>174</td>\n",
       "      <td>249</td>\n",
       "      <td>0</td>\n",
       "      <td>1</td>\n",
       "      <td>143</td>\n",
       "      <td>1</td>\n",
       "      <td>0.0</td>\n",
       "      <td>1</td>\n",
       "      <td>0</td>\n",
       "      <td>2</td>\n",
       "      <td>0</td>\n",
       "    </tr>\n",
       "    <tr>\n",
       "      <th>246</th>\n",
       "      <td>56</td>\n",
       "      <td>0</td>\n",
       "      <td>0</td>\n",
       "      <td>134</td>\n",
       "      <td>409</td>\n",
       "      <td>0</td>\n",
       "      <td>0</td>\n",
       "      <td>150</td>\n",
       "      <td>1</td>\n",
       "      <td>1.9</td>\n",
       "      <td>1</td>\n",
       "      <td>2</td>\n",
       "      <td>3</td>\n",
       "      <td>0</td>\n",
       "    </tr>\n",
       "    <tr>\n",
       "      <th>248</th>\n",
       "      <td>54</td>\n",
       "      <td>1</td>\n",
       "      <td>1</td>\n",
       "      <td>192</td>\n",
       "      <td>283</td>\n",
       "      <td>0</td>\n",
       "      <td>0</td>\n",
       "      <td>195</td>\n",
       "      <td>0</td>\n",
       "      <td>0.0</td>\n",
       "      <td>2</td>\n",
       "      <td>1</td>\n",
       "      <td>3</td>\n",
       "      <td>0</td>\n",
       "    </tr>\n",
       "    <tr>\n",
       "      <th>250</th>\n",
       "      <td>51</td>\n",
       "      <td>1</td>\n",
       "      <td>0</td>\n",
       "      <td>140</td>\n",
       "      <td>298</td>\n",
       "      <td>0</td>\n",
       "      <td>1</td>\n",
       "      <td>122</td>\n",
       "      <td>1</td>\n",
       "      <td>4.2</td>\n",
       "      <td>1</td>\n",
       "      <td>3</td>\n",
       "      <td>3</td>\n",
       "      <td>0</td>\n",
       "    </tr>\n",
       "    <tr>\n",
       "      <th>260</th>\n",
       "      <td>66</td>\n",
       "      <td>0</td>\n",
       "      <td>0</td>\n",
       "      <td>178</td>\n",
       "      <td>228</td>\n",
       "      <td>1</td>\n",
       "      <td>1</td>\n",
       "      <td>165</td>\n",
       "      <td>1</td>\n",
       "      <td>1.0</td>\n",
       "      <td>1</td>\n",
       "      <td>2</td>\n",
       "      <td>3</td>\n",
       "      <td>0</td>\n",
       "    </tr>\n",
       "    <tr>\n",
       "      <th>266</th>\n",
       "      <td>55</td>\n",
       "      <td>0</td>\n",
       "      <td>0</td>\n",
       "      <td>180</td>\n",
       "      <td>327</td>\n",
       "      <td>0</td>\n",
       "      <td>2</td>\n",
       "      <td>117</td>\n",
       "      <td>1</td>\n",
       "      <td>3.4</td>\n",
       "      <td>1</td>\n",
       "      <td>0</td>\n",
       "      <td>2</td>\n",
       "      <td>0</td>\n",
       "    </tr>\n",
       "    <tr>\n",
       "      <th>272</th>\n",
       "      <td>67</td>\n",
       "      <td>1</td>\n",
       "      <td>0</td>\n",
       "      <td>120</td>\n",
       "      <td>237</td>\n",
       "      <td>0</td>\n",
       "      <td>1</td>\n",
       "      <td>71</td>\n",
       "      <td>0</td>\n",
       "      <td>1.0</td>\n",
       "      <td>1</td>\n",
       "      <td>0</td>\n",
       "      <td>2</td>\n",
       "      <td>0</td>\n",
       "    </tr>\n",
       "    <tr>\n",
       "      <th>291</th>\n",
       "      <td>58</td>\n",
       "      <td>1</td>\n",
       "      <td>0</td>\n",
       "      <td>114</td>\n",
       "      <td>318</td>\n",
       "      <td>0</td>\n",
       "      <td>2</td>\n",
       "      <td>140</td>\n",
       "      <td>0</td>\n",
       "      <td>4.4</td>\n",
       "      <td>0</td>\n",
       "      <td>3</td>\n",
       "      <td>1</td>\n",
       "      <td>0</td>\n",
       "    </tr>\n",
       "  </tbody>\n",
       "</table>\n",
       "</div>"
      ],
      "text/plain": [
       "     age  sex  cp  trtbps  chol  fbs  restecg  thalachh  exng  oldpeak  slp  \\\n",
       "8     52    1   2     172   199    1        1       162     0      0.5    2   \n",
       "28    65    0   2     140   417    1        0       157     0      0.8    2   \n",
       "85    67    0   2     115   564    0        0       160     0      1.6    1   \n",
       "96    62    0   0     140   394    0        0       157     0      1.2    1   \n",
       "101   59    1   3     178   270    0        0       145     0      4.2    0   \n",
       "110   64    0   0     180   325    0        1       154     1      0.0    2   \n",
       "203   68    1   2     180   274    1        0       150     1      1.6    1   \n",
       "204   62    0   0     160   164    0        0       145     0      6.2    0   \n",
       "220   63    0   0     150   407    0        0       154     0      4.0    1   \n",
       "221   55    1   0     140   217    0        1       111     1      5.6    0   \n",
       "223   56    0   0     200   288    1        0       133     1      4.0    0   \n",
       "241   59    0   0     174   249    0        1       143     1      0.0    1   \n",
       "246   56    0   0     134   409    0        0       150     1      1.9    1   \n",
       "248   54    1   1     192   283    0        0       195     0      0.0    2   \n",
       "250   51    1   0     140   298    0        1       122     1      4.2    1   \n",
       "260   66    0   0     178   228    1        1       165     1      1.0    1   \n",
       "266   55    0   0     180   327    0        2       117     1      3.4    1   \n",
       "272   67    1   0     120   237    0        1        71     0      1.0    1   \n",
       "291   58    1   0     114   318    0        2       140     0      4.4    0   \n",
       "\n",
       "     caa  thall  output  \n",
       "8      0      3       1  \n",
       "28     1      2       1  \n",
       "85     0      3       1  \n",
       "96     0      2       1  \n",
       "101    0      3       1  \n",
       "110    0      2       1  \n",
       "203    0      3       0  \n",
       "204    3      3       0  \n",
       "220    3      3       0  \n",
       "221    0      3       0  \n",
       "223    2      3       0  \n",
       "241    0      2       0  \n",
       "246    2      3       0  \n",
       "248    1      3       0  \n",
       "250    3      3       0  \n",
       "260    2      3       0  \n",
       "266    0      2       0  \n",
       "272    0      2       0  \n",
       "291    3      1       0  "
      ]
     },
     "execution_count": 10,
     "metadata": {},
     "output_type": "execute_result"
    }
   ],
   "source": [
    "# Extracting the outliers in the dataset using IQR method\n",
    "Q1=df_num.quantile(0.25)\n",
    "Q3=df_num.quantile(0.75)\n",
    "IQR=Q3-Q1\n",
    "df_heart[(((df_num)>(Q3+(1.5*IQR)))|((df_num)<(Q1-(1.5*IQR)))).any(axis=1)]"
   ]
  },
  {
   "cell_type": "markdown",
   "metadata": {},
   "source": [
    "###### Inference : Above we can see the data containing outliers which needs to be extracted since it is necessary in for training models such as KNN which is highly sensitive to outliers."
   ]
  },
  {
   "cell_type": "code",
   "execution_count": 11,
   "metadata": {},
   "outputs": [
    {
     "data": {
      "text/html": [
       "<div>\n",
       "<style scoped>\n",
       "    .dataframe tbody tr th:only-of-type {\n",
       "        vertical-align: middle;\n",
       "    }\n",
       "\n",
       "    .dataframe tbody tr th {\n",
       "        vertical-align: top;\n",
       "    }\n",
       "\n",
       "    .dataframe thead th {\n",
       "        text-align: right;\n",
       "    }\n",
       "</style>\n",
       "<table border=\"1\" class=\"dataframe\">\n",
       "  <thead>\n",
       "    <tr style=\"text-align: right;\">\n",
       "      <th></th>\n",
       "      <th>age</th>\n",
       "      <th>sex</th>\n",
       "      <th>cp</th>\n",
       "      <th>trtbps</th>\n",
       "      <th>chol</th>\n",
       "      <th>fbs</th>\n",
       "      <th>restecg</th>\n",
       "      <th>thalachh</th>\n",
       "      <th>exng</th>\n",
       "      <th>oldpeak</th>\n",
       "      <th>slp</th>\n",
       "      <th>caa</th>\n",
       "      <th>thall</th>\n",
       "      <th>output</th>\n",
       "    </tr>\n",
       "  </thead>\n",
       "  <tbody>\n",
       "    <tr>\n",
       "      <th>0</th>\n",
       "      <td>63</td>\n",
       "      <td>1</td>\n",
       "      <td>3</td>\n",
       "      <td>145</td>\n",
       "      <td>233</td>\n",
       "      <td>1</td>\n",
       "      <td>0</td>\n",
       "      <td>150</td>\n",
       "      <td>0</td>\n",
       "      <td>2.3</td>\n",
       "      <td>0</td>\n",
       "      <td>0</td>\n",
       "      <td>1</td>\n",
       "      <td>1</td>\n",
       "    </tr>\n",
       "    <tr>\n",
       "      <th>1</th>\n",
       "      <td>37</td>\n",
       "      <td>1</td>\n",
       "      <td>2</td>\n",
       "      <td>130</td>\n",
       "      <td>250</td>\n",
       "      <td>0</td>\n",
       "      <td>1</td>\n",
       "      <td>187</td>\n",
       "      <td>0</td>\n",
       "      <td>3.5</td>\n",
       "      <td>0</td>\n",
       "      <td>0</td>\n",
       "      <td>2</td>\n",
       "      <td>1</td>\n",
       "    </tr>\n",
       "  </tbody>\n",
       "</table>\n",
       "</div>"
      ],
      "text/plain": [
       "   age  sex  cp  trtbps  chol  fbs  restecg  thalachh  exng  oldpeak  slp  \\\n",
       "0   63    1   3     145   233    1        0       150     0      2.3    0   \n",
       "1   37    1   2     130   250    0        1       187     0      3.5    0   \n",
       "\n",
       "   caa  thall  output  \n",
       "0    0      1       1  \n",
       "1    0      2       1  "
      ]
     },
     "execution_count": 11,
     "metadata": {},
     "output_type": "execute_result"
    }
   ],
   "source": [
    "df_heart_new=df_heart[~(((df_num)>(Q3+(1.5*IQR)))|((df_num)<(Q1-(1.5*IQR)))).any(axis=1)]\n",
    "df_heart_new.head(2)"
   ]
  },
  {
   "cell_type": "code",
   "execution_count": 12,
   "metadata": {},
   "outputs": [
    {
     "data": {
      "text/plain": [
       "(284, 14)"
      ]
     },
     "execution_count": 12,
     "metadata": {},
     "output_type": "execute_result"
    }
   ],
   "source": [
    "df_heart_new.shape"
   ]
  },
  {
   "cell_type": "markdown",
   "metadata": {},
   "source": [
    "###### Inference : After removing outliers we get a dataset with 284 rows and 14 columns."
   ]
  },
  {
   "cell_type": "markdown",
   "metadata": {},
   "source": [
    "## Scaling numerical variables:"
   ]
  },
  {
   "cell_type": "code",
   "execution_count": 13,
   "metadata": {},
   "outputs": [],
   "source": [
    "df_cat=df_heart_new.iloc[:,[1,2,5,6,8,10,11,12,13]]\n",
    "df_num=df_heart_new.iloc[:,[0,3,4,7,9]]"
   ]
  },
  {
   "cell_type": "code",
   "execution_count": 14,
   "metadata": {},
   "outputs": [
    {
     "data": {
      "image/png": "[encoded data removed]",
      "text/plain": [
       "<Figure size 1080x1080 with 6 Axes>"
      ]
     },
     "metadata": {
      "needs_background": "light"
     },
     "output_type": "display_data"
    }
   ],
   "source": [
    "fig,ax=plt.subplots(3,2,figsize=(15,15))\n",
    "\n",
    "for col,ax in zip(df_num.columns,ax.flatten()):\n",
    "    x=sns.kdeplot(df_num[col],ax=ax ,palette='Pastel1')"
   ]
  },
  {
   "cell_type": "markdown",
   "metadata": {},
   "source": [
    "###### Inference : As per the kdeplots above , all the variables are not normally distributed and so we apply the Normalizer function so as to normalize the data to make better interpretation."
   ]
  },
  {
   "cell_type": "code",
   "execution_count": 15,
   "metadata": {},
   "outputs": [
    {
     "data": {
      "text/html": [
       "<div>\n",
       "<style scoped>\n",
       "    .dataframe tbody tr th:only-of-type {\n",
       "        vertical-align: middle;\n",
       "    }\n",
       "\n",
       "    .dataframe tbody tr th {\n",
       "        vertical-align: top;\n",
       "    }\n",
       "\n",
       "    .dataframe thead th {\n",
       "        text-align: right;\n",
       "    }\n",
       "</style>\n",
       "<table border=\"1\" class=\"dataframe\">\n",
       "  <thead>\n",
       "    <tr style=\"text-align: right;\">\n",
       "      <th></th>\n",
       "      <th>age</th>\n",
       "      <th>trtbps</th>\n",
       "      <th>chol</th>\n",
       "      <th>thalachh</th>\n",
       "      <th>oldpeak</th>\n",
       "    </tr>\n",
       "  </thead>\n",
       "  <tbody>\n",
       "    <tr>\n",
       "      <th>0</th>\n",
       "      <td>0.197466</td>\n",
       "      <td>0.454485</td>\n",
       "      <td>0.730310</td>\n",
       "      <td>0.470156</td>\n",
       "      <td>0.007209</td>\n",
       "    </tr>\n",
       "    <tr>\n",
       "      <th>1</th>\n",
       "      <td>0.108753</td>\n",
       "      <td>0.382105</td>\n",
       "      <td>0.734817</td>\n",
       "      <td>0.549643</td>\n",
       "      <td>0.010287</td>\n",
       "    </tr>\n",
       "  </tbody>\n",
       "</table>\n",
       "</div>"
      ],
      "text/plain": [
       "        age    trtbps      chol  thalachh   oldpeak\n",
       "0  0.197466  0.454485  0.730310  0.470156  0.007209\n",
       "1  0.108753  0.382105  0.734817  0.549643  0.010287"
      ]
     },
     "execution_count": 15,
     "metadata": {},
     "output_type": "execute_result"
    }
   ],
   "source": [
    "sc=Normalizer()\n",
    "df_scaled=pd.DataFrame(sc.fit_transform(df_num),columns=df_num.columns,index=df_num.index)\n",
    "df_scaled.head(2)"
   ]
  },
  {
   "cell_type": "markdown",
   "metadata": {},
   "source": [
    "## Encoding categorical variables :"
   ]
  },
  {
   "cell_type": "code",
   "execution_count": 16,
   "metadata": {},
   "outputs": [
    {
     "data": {
      "text/html": [
       "<div>\n",
       "<style scoped>\n",
       "    .dataframe tbody tr th:only-of-type {\n",
       "        vertical-align: middle;\n",
       "    }\n",
       "\n",
       "    .dataframe tbody tr th {\n",
       "        vertical-align: top;\n",
       "    }\n",
       "\n",
       "    .dataframe thead th {\n",
       "        text-align: right;\n",
       "    }\n",
       "</style>\n",
       "<table border=\"1\" class=\"dataframe\">\n",
       "  <thead>\n",
       "    <tr style=\"text-align: right;\">\n",
       "      <th></th>\n",
       "      <th>sex</th>\n",
       "      <th>cp</th>\n",
       "      <th>fbs</th>\n",
       "      <th>restecg</th>\n",
       "      <th>exng</th>\n",
       "      <th>slp</th>\n",
       "      <th>caa</th>\n",
       "      <th>thall</th>\n",
       "      <th>output</th>\n",
       "    </tr>\n",
       "  </thead>\n",
       "  <tbody>\n",
       "    <tr>\n",
       "      <th>0</th>\n",
       "      <td>1</td>\n",
       "      <td>3</td>\n",
       "      <td>1</td>\n",
       "      <td>0</td>\n",
       "      <td>0</td>\n",
       "      <td>0</td>\n",
       "      <td>0</td>\n",
       "      <td>1</td>\n",
       "      <td>1</td>\n",
       "    </tr>\n",
       "    <tr>\n",
       "      <th>1</th>\n",
       "      <td>1</td>\n",
       "      <td>2</td>\n",
       "      <td>0</td>\n",
       "      <td>1</td>\n",
       "      <td>0</td>\n",
       "      <td>0</td>\n",
       "      <td>0</td>\n",
       "      <td>2</td>\n",
       "      <td>1</td>\n",
       "    </tr>\n",
       "  </tbody>\n",
       "</table>\n",
       "</div>"
      ],
      "text/plain": [
       "   sex  cp  fbs  restecg  exng  slp  caa  thall  output\n",
       "0    1   3    1        0     0    0    0      1       1\n",
       "1    1   2    0        1     0    0    0      2       1"
      ]
     },
     "execution_count": 16,
     "metadata": {},
     "output_type": "execute_result"
    }
   ],
   "source": [
    "df_cat.head(2)"
   ]
  },
  {
   "cell_type": "markdown",
   "metadata": {},
   "source": [
    "###### Inference : Since the categorical variables are in the encoded format , there is no need for further encoding."
   ]
  },
  {
   "cell_type": "markdown",
   "metadata": {},
   "source": [
    "## Distribution of Target Variable :"
   ]
  },
  {
   "cell_type": "code",
   "execution_count": 17,
   "metadata": {},
   "outputs": [
    {
     "data": {
      "image/png": "[encoded data removed]",
      "text/plain": [
       "<Figure size 432x288 with 1 Axes>"
      ]
     },
     "metadata": {
      "needs_background": "light"
     },
     "output_type": "display_data"
    }
   ],
   "source": [
    "sns.countplot(df_heart_new['output'],palette='Pastel2')\n",
    "plt.show()"
   ]
  },
  {
   "cell_type": "code",
   "execution_count": 18,
   "metadata": {},
   "outputs": [
    {
     "data": {
      "text/plain": [
       "1    55.985915\n",
       "0    44.014085\n",
       "Name: output, dtype: float64"
      ]
     },
     "execution_count": 18,
     "metadata": {},
     "output_type": "execute_result"
    }
   ],
   "source": [
    "df_heart_new['output'].value_counts()/len(df_heart_new['output'])*100"
   ]
  },
  {
   "cell_type": "markdown",
   "metadata": {},
   "source": [
    "###### Inference: The distribution of classes within the target variable 55% and 44% which states that the difference is bearable and hence eliminates the need for balancing the variable and hence eliminating the problem of the machine learning model favousing one class over the other."
   ]
  },
  {
   "cell_type": "markdown",
   "metadata": {},
   "source": [
    "## Splitting Data into Train & Test :"
   ]
  },
  {
   "cell_type": "code",
   "execution_count": 19,
   "metadata": {},
   "outputs": [
    {
     "data": {
      "text/html": [
       "<div>\n",
       "<style scoped>\n",
       "    .dataframe tbody tr th:only-of-type {\n",
       "        vertical-align: middle;\n",
       "    }\n",
       "\n",
       "    .dataframe tbody tr th {\n",
       "        vertical-align: top;\n",
       "    }\n",
       "\n",
       "    .dataframe thead th {\n",
       "        text-align: right;\n",
       "    }\n",
       "</style>\n",
       "<table border=\"1\" class=\"dataframe\">\n",
       "  <thead>\n",
       "    <tr style=\"text-align: right;\">\n",
       "      <th></th>\n",
       "      <th>sex</th>\n",
       "      <th>cp</th>\n",
       "      <th>fbs</th>\n",
       "      <th>restecg</th>\n",
       "      <th>exng</th>\n",
       "      <th>slp</th>\n",
       "      <th>caa</th>\n",
       "      <th>thall</th>\n",
       "      <th>output</th>\n",
       "      <th>age</th>\n",
       "      <th>trtbps</th>\n",
       "      <th>chol</th>\n",
       "      <th>thalachh</th>\n",
       "      <th>oldpeak</th>\n",
       "    </tr>\n",
       "  </thead>\n",
       "  <tbody>\n",
       "    <tr>\n",
       "      <th>0</th>\n",
       "      <td>1</td>\n",
       "      <td>3</td>\n",
       "      <td>1</td>\n",
       "      <td>0</td>\n",
       "      <td>0</td>\n",
       "      <td>0</td>\n",
       "      <td>0</td>\n",
       "      <td>1</td>\n",
       "      <td>1</td>\n",
       "      <td>0.197466</td>\n",
       "      <td>0.454485</td>\n",
       "      <td>0.730310</td>\n",
       "      <td>0.470156</td>\n",
       "      <td>0.007209</td>\n",
       "    </tr>\n",
       "    <tr>\n",
       "      <th>1</th>\n",
       "      <td>1</td>\n",
       "      <td>2</td>\n",
       "      <td>0</td>\n",
       "      <td>1</td>\n",
       "      <td>0</td>\n",
       "      <td>0</td>\n",
       "      <td>0</td>\n",
       "      <td>2</td>\n",
       "      <td>1</td>\n",
       "      <td>0.108753</td>\n",
       "      <td>0.382105</td>\n",
       "      <td>0.734817</td>\n",
       "      <td>0.549643</td>\n",
       "      <td>0.010287</td>\n",
       "    </tr>\n",
       "  </tbody>\n",
       "</table>\n",
       "</div>"
      ],
      "text/plain": [
       "   sex  cp  fbs  restecg  exng  slp  caa  thall  output       age    trtbps  \\\n",
       "0    1   3    1        0     0    0    0      1       1  0.197466  0.454485   \n",
       "1    1   2    0        1     0    0    0      2       1  0.108753  0.382105   \n",
       "\n",
       "       chol  thalachh   oldpeak  \n",
       "0  0.730310  0.470156  0.007209  \n",
       "1  0.734817  0.549643  0.010287  "
      ]
     },
     "execution_count": 19,
     "metadata": {},
     "output_type": "execute_result"
    }
   ],
   "source": [
    "data_heart=pd.concat([df_cat,df_scaled],axis=1)\n",
    "data_heart.head(2)"
   ]
  },
  {
   "cell_type": "code",
   "execution_count": 20,
   "metadata": {},
   "outputs": [
    {
     "name": "stdout",
     "output_type": "stream",
     "text": [
      "X-train shape: (198, 13)\n",
      "X-test shape: (86, 13)\n",
      "y-train shape: (198,)\n",
      "y-test shape: (86,)\n"
     ]
    }
   ],
   "source": [
    "X=data_heart.drop(columns=['output'])\n",
    "y=data_heart['output']\n",
    "X_train,X_test,y_train,y_test=train_test_split(X,y,test_size=0.3,random_state=10)\n",
    "print(\"X-train shape:\",X_train.shape)\n",
    "print(\"X-test shape:\",X_test.shape)\n",
    "print(\"y-train shape:\",y_train.shape)\n",
    "print(\"y-test shape:\",y_test.shape)"
   ]
  },
  {
   "cell_type": "markdown",
   "metadata": {},
   "source": [
    "## Defining Functions to obatin scores of Logistic Regression :"
   ]
  },
  {
   "cell_type": "code",
   "execution_count": 21,
   "metadata": {},
   "outputs": [],
   "source": [
    "def conf(model,cutoff='-'):\n",
    "    if model==log_reg:\n",
    "        y_pred_prob=model.predict(X_test)\n",
    "        y_pred=[1 if i> cutoff else 0 for i in y_pred_prob ]\n",
    "        cm=confusion_matrix(y_test,y_pred)\n",
    "        sns.heatmap(cm,annot=True,fmt='d',cbar=False,cmap=ListedColormap('lightblue'),linewidths=1)\n",
    "        plt.xlabel(\"Predicted\")\n",
    "        plt.ylabel(\"Actual\")\n",
    "        plt.title(\"Confusion Matrix\")\n",
    "    else:\n",
    "        y_pred=model.predict(X_test)\n",
    "        cm=confusion_matrix(y_test,y_pred)\n",
    "        sns.heatmap(cm,annot=True,fmt='d',cbar=False,cmap=ListedColormap('lightpink'),linewidths=1)\n",
    "        plt.xlabel(\"Predicted\")\n",
    "        plt.ylabel(\"Actual\")\n",
    "        plt.title(\"Confusion Matrix\")\n",
    "        "
   ]
  },
  {
   "cell_type": "markdown",
   "metadata": {},
   "source": [
    "Since the dataset is not highly imbalenced the model will be evaluated by accuarcy and auc score (Area under roc curve)."
   ]
  },
  {
   "cell_type": "code",
   "execution_count": 22,
   "metadata": {},
   "outputs": [],
   "source": [
    "score_card=pd.DataFrame(columns=[\"Model Name\",\"P-cutoff\",\"Accuracy Score\",\"Auc Score\"])\n",
    "\n",
    "def update_score_card(algo_name,model,cutoff='-'):\n",
    "    global score_card\n",
    "    \n",
    "    def accuracy(model):\n",
    "        if model==log_reg:\n",
    "            y_pred_prob=model.predict(X_test)\n",
    "            y_pred=[1 if i> cutoff else 0 for i in y_pred_prob ]\n",
    "            acc_score1=accuracy_score(y_test,y_pred)\n",
    "            return acc_score1\n",
    "        else:\n",
    "            y_pred=model.predict(X_test)\n",
    "            acc_score2=accuracy_score(y_test,y_pred)\n",
    "            return acc_score2\n",
    "    \n",
    "    def auc(model):\n",
    "        if model==log_reg:\n",
    "            y_pred_prob=model.predict(X_test)\n",
    "            y_pred=[1 if i> cutoff else 0 for i in y_pred_prob ]\n",
    "            auc_score1=roc_auc_score(y_test,y_pred_prob)\n",
    "            return auc_score1\n",
    "        else:\n",
    "            y_pred_prob=model.predict_proba(X_test)\n",
    "            auc_score2=roc_auc_score(y_test,y_pred_prob[:,1])\n",
    "            return auc_score2\n",
    "            \n",
    "    score_card=score_card.append({\"Model Name\":algo_name,\"P-cutoff\":cutoff,\"Accuracy Score\":accuracy(model),\n",
    "                                  \"Auc Score\":auc(model)},ignore_index=True)\n",
    "        \n",
    "    return score_card\n",
    "\n",
    "    "
   ]
  },
  {
   "cell_type": "markdown",
   "metadata": {},
   "source": [
    "## Logistic Regression  (Base Model ):"
   ]
  },
  {
   "cell_type": "code",
   "execution_count": 23,
   "metadata": {},
   "outputs": [
    {
     "name": "stdout",
     "output_type": "stream",
     "text": [
      "Optimization terminated successfully.\n",
      "         Current function value: 0.335547\n",
      "         Iterations 8\n"
     ]
    }
   ],
   "source": [
    "log_reg=Logit(y_train,X_train).fit()\n"
   ]
  },
  {
   "cell_type": "code",
   "execution_count": 24,
   "metadata": {},
   "outputs": [
    {
     "data": {
      "text/plain": [
       "135    0.959091\n",
       "209    0.582022\n",
       "62     0.996420\n",
       "155    0.874303\n",
       "207    0.171253\n",
       "dtype: float64"
      ]
     },
     "execution_count": 24,
     "metadata": {},
     "output_type": "execute_result"
    }
   ],
   "source": [
    "# Predicted probablility\n",
    "y_pred_prob=log_reg.predict(X_test)\n",
    "y_pred_prob.head()"
   ]
  },
  {
   "cell_type": "code",
   "execution_count": 25,
   "metadata": {},
   "outputs": [],
   "source": [
    "\n",
    "fpr,tpr,threshold=roc_curve(y_test,y_pred_prob)"
   ]
  },
  {
   "cell_type": "markdown",
   "metadata": {},
   "source": [
    "Youden's Index is the classification cut-off probability for which the (Sensitivity + Specificity - 1) is maximized.\n",
    "\n",
    "Youden's Index = max(Sensitivity + Specificity - 1) = max(TPR + TNR - 1) = max(TPR - FPR)\n",
    "\n",
    "i.e. select the cut-off probability for which the (TPR - FPR) is maximum."
   ]
  },
  {
   "cell_type": "code",
   "execution_count": 26,
   "metadata": {},
   "outputs": [
    {
     "data": {
      "text/html": [
       "<div>\n",
       "<style scoped>\n",
       "    .dataframe tbody tr th:only-of-type {\n",
       "        vertical-align: middle;\n",
       "    }\n",
       "\n",
       "    .dataframe tbody tr th {\n",
       "        vertical-align: top;\n",
       "    }\n",
       "\n",
       "    .dataframe thead th {\n",
       "        text-align: right;\n",
       "    }\n",
       "</style>\n",
       "<table border=\"1\" class=\"dataframe\">\n",
       "  <thead>\n",
       "    <tr style=\"text-align: right;\">\n",
       "      <th></th>\n",
       "      <th>TPR</th>\n",
       "      <th>FPR</th>\n",
       "      <th>Threshold</th>\n",
       "      <th>Difference</th>\n",
       "    </tr>\n",
       "  </thead>\n",
       "  <tbody>\n",
       "    <tr>\n",
       "      <th>10</th>\n",
       "      <td>0.818182</td>\n",
       "      <td>0.119048</td>\n",
       "      <td>0.748034</td>\n",
       "      <td>0.699134</td>\n",
       "    </tr>\n",
       "    <tr>\n",
       "      <th>12</th>\n",
       "      <td>0.840909</td>\n",
       "      <td>0.166667</td>\n",
       "      <td>0.631547</td>\n",
       "      <td>0.674242</td>\n",
       "    </tr>\n",
       "    <tr>\n",
       "      <th>14</th>\n",
       "      <td>0.863636</td>\n",
       "      <td>0.190476</td>\n",
       "      <td>0.596700</td>\n",
       "      <td>0.673160</td>\n",
       "    </tr>\n",
       "    <tr>\n",
       "      <th>11</th>\n",
       "      <td>0.818182</td>\n",
       "      <td>0.166667</td>\n",
       "      <td>0.670645</td>\n",
       "      <td>0.651515</td>\n",
       "    </tr>\n",
       "    <tr>\n",
       "      <th>13</th>\n",
       "      <td>0.840909</td>\n",
       "      <td>0.190476</td>\n",
       "      <td>0.625206</td>\n",
       "      <td>0.650433</td>\n",
       "    </tr>\n",
       "    <tr>\n",
       "      <th>16</th>\n",
       "      <td>0.909091</td>\n",
       "      <td>0.261905</td>\n",
       "      <td>0.432212</td>\n",
       "      <td>0.647186</td>\n",
       "    </tr>\n",
       "    <tr>\n",
       "      <th>15</th>\n",
       "      <td>0.863636</td>\n",
       "      <td>0.261905</td>\n",
       "      <td>0.516229</td>\n",
       "      <td>0.601732</td>\n",
       "    </tr>\n",
       "    <tr>\n",
       "      <th>18</th>\n",
       "      <td>0.931818</td>\n",
       "      <td>0.333333</td>\n",
       "      <td>0.343253</td>\n",
       "      <td>0.598485</td>\n",
       "    </tr>\n",
       "    <tr>\n",
       "      <th>8</th>\n",
       "      <td>0.681818</td>\n",
       "      <td>0.095238</td>\n",
       "      <td>0.827425</td>\n",
       "      <td>0.586580</td>\n",
       "    </tr>\n",
       "    <tr>\n",
       "      <th>17</th>\n",
       "      <td>0.909091</td>\n",
       "      <td>0.333333</td>\n",
       "      <td>0.366568</td>\n",
       "      <td>0.575758</td>\n",
       "    </tr>\n",
       "    <tr>\n",
       "      <th>20</th>\n",
       "      <td>0.954545</td>\n",
       "      <td>0.380952</td>\n",
       "      <td>0.297689</td>\n",
       "      <td>0.573593</td>\n",
       "    </tr>\n",
       "    <tr>\n",
       "      <th>9</th>\n",
       "      <td>0.681818</td>\n",
       "      <td>0.119048</td>\n",
       "      <td>0.810654</td>\n",
       "      <td>0.562771</td>\n",
       "    </tr>\n",
       "    <tr>\n",
       "      <th>19</th>\n",
       "      <td>0.931818</td>\n",
       "      <td>0.380952</td>\n",
       "      <td>0.325504</td>\n",
       "      <td>0.550866</td>\n",
       "    </tr>\n",
       "    <tr>\n",
       "      <th>6</th>\n",
       "      <td>0.477273</td>\n",
       "      <td>0.071429</td>\n",
       "      <td>0.885179</td>\n",
       "      <td>0.405844</td>\n",
       "    </tr>\n",
       "    <tr>\n",
       "      <th>7</th>\n",
       "      <td>0.477273</td>\n",
       "      <td>0.095238</td>\n",
       "      <td>0.879550</td>\n",
       "      <td>0.382035</td>\n",
       "    </tr>\n",
       "    <tr>\n",
       "      <th>22</th>\n",
       "      <td>0.977273</td>\n",
       "      <td>0.595238</td>\n",
       "      <td>0.096548</td>\n",
       "      <td>0.382035</td>\n",
       "    </tr>\n",
       "    <tr>\n",
       "      <th>21</th>\n",
       "      <td>0.954545</td>\n",
       "      <td>0.595238</td>\n",
       "      <td>0.112821</td>\n",
       "      <td>0.359307</td>\n",
       "    </tr>\n",
       "    <tr>\n",
       "      <th>4</th>\n",
       "      <td>0.295455</td>\n",
       "      <td>0.023810</td>\n",
       "      <td>0.931020</td>\n",
       "      <td>0.271645</td>\n",
       "    </tr>\n",
       "    <tr>\n",
       "      <th>24</th>\n",
       "      <td>1.000000</td>\n",
       "      <td>0.738095</td>\n",
       "      <td>0.047851</td>\n",
       "      <td>0.261905</td>\n",
       "    </tr>\n",
       "    <tr>\n",
       "      <th>23</th>\n",
       "      <td>0.977273</td>\n",
       "      <td>0.738095</td>\n",
       "      <td>0.049953</td>\n",
       "      <td>0.239177</td>\n",
       "    </tr>\n",
       "    <tr>\n",
       "      <th>2</th>\n",
       "      <td>0.227273</td>\n",
       "      <td>0.000000</td>\n",
       "      <td>0.965187</td>\n",
       "      <td>0.227273</td>\n",
       "    </tr>\n",
       "    <tr>\n",
       "      <th>5</th>\n",
       "      <td>0.295455</td>\n",
       "      <td>0.071429</td>\n",
       "      <td>0.919666</td>\n",
       "      <td>0.224026</td>\n",
       "    </tr>\n",
       "    <tr>\n",
       "      <th>3</th>\n",
       "      <td>0.227273</td>\n",
       "      <td>0.023810</td>\n",
       "      <td>0.963088</td>\n",
       "      <td>0.203463</td>\n",
       "    </tr>\n",
       "    <tr>\n",
       "      <th>1</th>\n",
       "      <td>0.022727</td>\n",
       "      <td>0.000000</td>\n",
       "      <td>0.996475</td>\n",
       "      <td>0.022727</td>\n",
       "    </tr>\n",
       "    <tr>\n",
       "      <th>0</th>\n",
       "      <td>0.000000</td>\n",
       "      <td>0.000000</td>\n",
       "      <td>1.996475</td>\n",
       "      <td>0.000000</td>\n",
       "    </tr>\n",
       "    <tr>\n",
       "      <th>25</th>\n",
       "      <td>1.000000</td>\n",
       "      <td>1.000000</td>\n",
       "      <td>0.002217</td>\n",
       "      <td>0.000000</td>\n",
       "    </tr>\n",
       "  </tbody>\n",
       "</table>\n",
       "</div>"
      ],
      "text/plain": [
       "         TPR       FPR  Threshold  Difference\n",
       "10  0.818182  0.119048   0.748034    0.699134\n",
       "12  0.840909  0.166667   0.631547    0.674242\n",
       "14  0.863636  0.190476   0.596700    0.673160\n",
       "11  0.818182  0.166667   0.670645    0.651515\n",
       "13  0.840909  0.190476   0.625206    0.650433\n",
       "16  0.909091  0.261905   0.432212    0.647186\n",
       "15  0.863636  0.261905   0.516229    0.601732\n",
       "18  0.931818  0.333333   0.343253    0.598485\n",
       "8   0.681818  0.095238   0.827425    0.586580\n",
       "17  0.909091  0.333333   0.366568    0.575758\n",
       "20  0.954545  0.380952   0.297689    0.573593\n",
       "9   0.681818  0.119048   0.810654    0.562771\n",
       "19  0.931818  0.380952   0.325504    0.550866\n",
       "6   0.477273  0.071429   0.885179    0.405844\n",
       "7   0.477273  0.095238   0.879550    0.382035\n",
       "22  0.977273  0.595238   0.096548    0.382035\n",
       "21  0.954545  0.595238   0.112821    0.359307\n",
       "4   0.295455  0.023810   0.931020    0.271645\n",
       "24  1.000000  0.738095   0.047851    0.261905\n",
       "23  0.977273  0.738095   0.049953    0.239177\n",
       "2   0.227273  0.000000   0.965187    0.227273\n",
       "5   0.295455  0.071429   0.919666    0.224026\n",
       "3   0.227273  0.023810   0.963088    0.203463\n",
       "1   0.022727  0.000000   0.996475    0.022727\n",
       "0   0.000000  0.000000   1.996475    0.000000\n",
       "25  1.000000  1.000000   0.002217    0.000000"
      ]
     },
     "execution_count": 26,
     "metadata": {},
     "output_type": "execute_result"
    }
   ],
   "source": [
    "youdens_table = pd.DataFrame({'TPR': tpr,\n",
    "                             'FPR': fpr,\n",
    "                             'Threshold': threshold})\n",
    "youdens_table['Difference']=youdens_table['TPR']-youdens_table['FPR']\n",
    "youdens_table.sort_values(by=['Difference'],ascending=False)"
   ]
  },
  {
   "cell_type": "markdown",
   "metadata": {},
   "source": [
    "###### Inference : As per the youden's index above we consider the cutoff 0.75 which corresponds to the maximum difference between TPR and FPR."
   ]
  },
  {
   "cell_type": "code",
   "execution_count": 27,
   "metadata": {},
   "outputs": [
    {
     "data": {
      "image/png": "[encoded data removed]",
      "text/plain": [
       "<Figure size 432x288 with 1 Axes>"
      ]
     },
     "metadata": {
      "needs_background": "light"
     },
     "output_type": "display_data"
    }
   ],
   "source": [
    "conf(log_reg,0.75)"
   ]
  },
  {
   "cell_type": "code",
   "execution_count": 28,
   "metadata": {},
   "outputs": [
    {
     "data": {
      "text/html": [
       "<div>\n",
       "<style scoped>\n",
       "    .dataframe tbody tr th:only-of-type {\n",
       "        vertical-align: middle;\n",
       "    }\n",
       "\n",
       "    .dataframe tbody tr th {\n",
       "        vertical-align: top;\n",
       "    }\n",
       "\n",
       "    .dataframe thead th {\n",
       "        text-align: right;\n",
       "    }\n",
       "</style>\n",
       "<table border=\"1\" class=\"dataframe\">\n",
       "  <thead>\n",
       "    <tr style=\"text-align: right;\">\n",
       "      <th></th>\n",
       "      <th>Model Name</th>\n",
       "      <th>P-cutoff</th>\n",
       "      <th>Accuracy Score</th>\n",
       "      <th>Auc Score</th>\n",
       "    </tr>\n",
       "  </thead>\n",
       "  <tbody>\n",
       "    <tr>\n",
       "      <th>0</th>\n",
       "      <td>Logistic Regression (Base Model)</td>\n",
       "      <td>0.75</td>\n",
       "      <td>0.813953</td>\n",
       "      <td>0.883117</td>\n",
       "    </tr>\n",
       "  </tbody>\n",
       "</table>\n",
       "</div>"
      ],
      "text/plain": [
       "                         Model Name  P-cutoff  Accuracy Score  Auc Score\n",
       "0  Logistic Regression (Base Model)      0.75        0.813953   0.883117"
      ]
     },
     "execution_count": 28,
     "metadata": {},
     "output_type": "execute_result"
    }
   ],
   "source": [
    "update_score_card(\"Logistic Regression (Base Model)\",log_reg,cutoff=0.75)"
   ]
  },
  {
   "cell_type": "markdown",
   "metadata": {},
   "source": [
    "###### Inference : As per the confusion matrix , the total count of True Positives and True Negative Score is quiet high, giving us an accuracy score of 83% and Auc score of 88%."
   ]
  },
  {
   "cell_type": "markdown",
   "metadata": {},
   "source": [
    "## Logistic Regression (Feature Selection ):"
   ]
  },
  {
   "cell_type": "code",
   "execution_count": 29,
   "metadata": {},
   "outputs": [
    {
     "data": {
      "text/plain": [
       "RFE(estimator=LogisticRegression(), n_features_to_select=8)"
      ]
     },
     "execution_count": 29,
     "metadata": {},
     "output_type": "execute_result"
    }
   ],
   "source": [
    "log_reg=LogisticRegression()\n",
    "rfe=RFE(estimator=log_reg,n_features_to_select=8)\n",
    "rfe.fit(X_train,y_train)"
   ]
  },
  {
   "cell_type": "code",
   "execution_count": 30,
   "metadata": {},
   "outputs": [
    {
     "data": {
      "text/plain": [
       "sex         1\n",
       "cp          1\n",
       "fbs         4\n",
       "restecg     2\n",
       "exng        1\n",
       "slp         1\n",
       "caa         1\n",
       "thall       1\n",
       "age         5\n",
       "trtbps      3\n",
       "chol        1\n",
       "thalachh    1\n",
       "oldpeak     6\n",
       "dtype: int32"
      ]
     },
     "execution_count": 30,
     "metadata": {},
     "output_type": "execute_result"
    }
   ],
   "source": [
    "# Rank of each variable after RFE\n",
    "sig_feat=pd.Series(rfe.ranking_,index=X_train.columns)\n",
    "sig_feat"
   ]
  },
  {
   "cell_type": "code",
   "execution_count": 31,
   "metadata": {},
   "outputs": [
    {
     "data": {
      "text/plain": [
       "Index(['sex', 'cp', 'exng', 'slp', 'caa', 'thall', 'chol', 'thalachh'], dtype='object')"
      ]
     },
     "execution_count": 31,
     "metadata": {},
     "output_type": "execute_result"
    }
   ],
   "source": [
    "# Considering the features with ranking 1.\n",
    "feat=sig_feat[sig_feat==1].index\n",
    "feat"
   ]
  },
  {
   "cell_type": "code",
   "execution_count": 32,
   "metadata": {},
   "outputs": [
    {
     "name": "stdout",
     "output_type": "stream",
     "text": [
      "Optimization terminated successfully.\n",
      "         Current function value: 0.358275\n",
      "         Iterations 7\n"
     ]
    }
   ],
   "source": [
    "X=data_heart.loc[:,feat]\n",
    "y=data_heart['output']\n",
    "X_train,X_test,y_train,y_test=train_test_split(X,y,test_size=0.3,random_state=10)\n",
    "log_reg=Logit(y_train,X_train).fit()"
   ]
  },
  {
   "cell_type": "code",
   "execution_count": 33,
   "metadata": {},
   "outputs": [
    {
     "data": {
      "text/html": [
       "<div>\n",
       "<style scoped>\n",
       "    .dataframe tbody tr th:only-of-type {\n",
       "        vertical-align: middle;\n",
       "    }\n",
       "\n",
       "    .dataframe tbody tr th {\n",
       "        vertical-align: top;\n",
       "    }\n",
       "\n",
       "    .dataframe thead th {\n",
       "        text-align: right;\n",
       "    }\n",
       "</style>\n",
       "<table border=\"1\" class=\"dataframe\">\n",
       "  <thead>\n",
       "    <tr style=\"text-align: right;\">\n",
       "      <th></th>\n",
       "      <th>TPR</th>\n",
       "      <th>FPR</th>\n",
       "      <th>Threshold</th>\n",
       "      <th>Difference</th>\n",
       "    </tr>\n",
       "  </thead>\n",
       "  <tbody>\n",
       "    <tr>\n",
       "      <th>12</th>\n",
       "      <td>0.772727</td>\n",
       "      <td>0.119048</td>\n",
       "      <td>0.709815</td>\n",
       "      <td>0.653680</td>\n",
       "    </tr>\n",
       "    <tr>\n",
       "      <th>14</th>\n",
       "      <td>0.795455</td>\n",
       "      <td>0.166667</td>\n",
       "      <td>0.668803</td>\n",
       "      <td>0.628788</td>\n",
       "    </tr>\n",
       "    <tr>\n",
       "      <th>18</th>\n",
       "      <td>0.886364</td>\n",
       "      <td>0.261905</td>\n",
       "      <td>0.496897</td>\n",
       "      <td>0.624459</td>\n",
       "    </tr>\n",
       "    <tr>\n",
       "      <th>13</th>\n",
       "      <td>0.772727</td>\n",
       "      <td>0.166667</td>\n",
       "      <td>0.683256</td>\n",
       "      <td>0.606061</td>\n",
       "    </tr>\n",
       "    <tr>\n",
       "      <th>16</th>\n",
       "      <td>0.818182</td>\n",
       "      <td>0.214286</td>\n",
       "      <td>0.628916</td>\n",
       "      <td>0.603896</td>\n",
       "    </tr>\n",
       "    <tr>\n",
       "      <th>15</th>\n",
       "      <td>0.795455</td>\n",
       "      <td>0.214286</td>\n",
       "      <td>0.650762</td>\n",
       "      <td>0.581169</td>\n",
       "    </tr>\n",
       "    <tr>\n",
       "      <th>10</th>\n",
       "      <td>0.659091</td>\n",
       "      <td>0.095238</td>\n",
       "      <td>0.812115</td>\n",
       "      <td>0.563853</td>\n",
       "    </tr>\n",
       "    <tr>\n",
       "      <th>17</th>\n",
       "      <td>0.818182</td>\n",
       "      <td>0.261905</td>\n",
       "      <td>0.574866</td>\n",
       "      <td>0.556277</td>\n",
       "    </tr>\n",
       "    <tr>\n",
       "      <th>20</th>\n",
       "      <td>0.931818</td>\n",
       "      <td>0.380952</td>\n",
       "      <td>0.384820</td>\n",
       "      <td>0.550866</td>\n",
       "    </tr>\n",
       "    <tr>\n",
       "      <th>11</th>\n",
       "      <td>0.659091</td>\n",
       "      <td>0.119048</td>\n",
       "      <td>0.796489</td>\n",
       "      <td>0.540043</td>\n",
       "    </tr>\n",
       "    <tr>\n",
       "      <th>19</th>\n",
       "      <td>0.886364</td>\n",
       "      <td>0.380952</td>\n",
       "      <td>0.402727</td>\n",
       "      <td>0.505411</td>\n",
       "    </tr>\n",
       "    <tr>\n",
       "      <th>22</th>\n",
       "      <td>0.954545</td>\n",
       "      <td>0.500000</td>\n",
       "      <td>0.251555</td>\n",
       "      <td>0.454545</td>\n",
       "    </tr>\n",
       "    <tr>\n",
       "      <th>24</th>\n",
       "      <td>0.977273</td>\n",
       "      <td>0.523810</td>\n",
       "      <td>0.180394</td>\n",
       "      <td>0.453463</td>\n",
       "    </tr>\n",
       "    <tr>\n",
       "      <th>8</th>\n",
       "      <td>0.522727</td>\n",
       "      <td>0.071429</td>\n",
       "      <td>0.876225</td>\n",
       "      <td>0.451299</td>\n",
       "    </tr>\n",
       "    <tr>\n",
       "      <th>21</th>\n",
       "      <td>0.931818</td>\n",
       "      <td>0.500000</td>\n",
       "      <td>0.259614</td>\n",
       "      <td>0.431818</td>\n",
       "    </tr>\n",
       "    <tr>\n",
       "      <th>23</th>\n",
       "      <td>0.954545</td>\n",
       "      <td>0.523810</td>\n",
       "      <td>0.228598</td>\n",
       "      <td>0.430736</td>\n",
       "    </tr>\n",
       "    <tr>\n",
       "      <th>6</th>\n",
       "      <td>0.477273</td>\n",
       "      <td>0.047619</td>\n",
       "      <td>0.894882</td>\n",
       "      <td>0.429654</td>\n",
       "    </tr>\n",
       "    <tr>\n",
       "      <th>9</th>\n",
       "      <td>0.522727</td>\n",
       "      <td>0.095238</td>\n",
       "      <td>0.862897</td>\n",
       "      <td>0.427489</td>\n",
       "    </tr>\n",
       "    <tr>\n",
       "      <th>7</th>\n",
       "      <td>0.477273</td>\n",
       "      <td>0.071429</td>\n",
       "      <td>0.881735</td>\n",
       "      <td>0.405844</td>\n",
       "    </tr>\n",
       "    <tr>\n",
       "      <th>2</th>\n",
       "      <td>0.386364</td>\n",
       "      <td>0.000000</td>\n",
       "      <td>0.926479</td>\n",
       "      <td>0.386364</td>\n",
       "    </tr>\n",
       "    <tr>\n",
       "      <th>4</th>\n",
       "      <td>0.409091</td>\n",
       "      <td>0.023810</td>\n",
       "      <td>0.906034</td>\n",
       "      <td>0.385281</td>\n",
       "    </tr>\n",
       "    <tr>\n",
       "      <th>3</th>\n",
       "      <td>0.386364</td>\n",
       "      <td>0.023810</td>\n",
       "      <td>0.923913</td>\n",
       "      <td>0.362554</td>\n",
       "    </tr>\n",
       "    <tr>\n",
       "      <th>5</th>\n",
       "      <td>0.409091</td>\n",
       "      <td>0.047619</td>\n",
       "      <td>0.899744</td>\n",
       "      <td>0.361472</td>\n",
       "    </tr>\n",
       "    <tr>\n",
       "      <th>26</th>\n",
       "      <td>1.000000</td>\n",
       "      <td>0.880952</td>\n",
       "      <td>0.028812</td>\n",
       "      <td>0.119048</td>\n",
       "    </tr>\n",
       "    <tr>\n",
       "      <th>25</th>\n",
       "      <td>0.977273</td>\n",
       "      <td>0.880952</td>\n",
       "      <td>0.036422</td>\n",
       "      <td>0.096320</td>\n",
       "    </tr>\n",
       "    <tr>\n",
       "      <th>1</th>\n",
       "      <td>0.022727</td>\n",
       "      <td>0.000000</td>\n",
       "      <td>0.996165</td>\n",
       "      <td>0.022727</td>\n",
       "    </tr>\n",
       "    <tr>\n",
       "      <th>0</th>\n",
       "      <td>0.000000</td>\n",
       "      <td>0.000000</td>\n",
       "      <td>1.996165</td>\n",
       "      <td>0.000000</td>\n",
       "    </tr>\n",
       "    <tr>\n",
       "      <th>27</th>\n",
       "      <td>1.000000</td>\n",
       "      <td>1.000000</td>\n",
       "      <td>0.003592</td>\n",
       "      <td>0.000000</td>\n",
       "    </tr>\n",
       "  </tbody>\n",
       "</table>\n",
       "</div>"
      ],
      "text/plain": [
       "         TPR       FPR  Threshold  Difference\n",
       "12  0.772727  0.119048   0.709815    0.653680\n",
       "14  0.795455  0.166667   0.668803    0.628788\n",
       "18  0.886364  0.261905   0.496897    0.624459\n",
       "13  0.772727  0.166667   0.683256    0.606061\n",
       "16  0.818182  0.214286   0.628916    0.603896\n",
       "15  0.795455  0.214286   0.650762    0.581169\n",
       "10  0.659091  0.095238   0.812115    0.563853\n",
       "17  0.818182  0.261905   0.574866    0.556277\n",
       "20  0.931818  0.380952   0.384820    0.550866\n",
       "11  0.659091  0.119048   0.796489    0.540043\n",
       "19  0.886364  0.380952   0.402727    0.505411\n",
       "22  0.954545  0.500000   0.251555    0.454545\n",
       "24  0.977273  0.523810   0.180394    0.453463\n",
       "8   0.522727  0.071429   0.876225    0.451299\n",
       "21  0.931818  0.500000   0.259614    0.431818\n",
       "23  0.954545  0.523810   0.228598    0.430736\n",
       "6   0.477273  0.047619   0.894882    0.429654\n",
       "9   0.522727  0.095238   0.862897    0.427489\n",
       "7   0.477273  0.071429   0.881735    0.405844\n",
       "2   0.386364  0.000000   0.926479    0.386364\n",
       "4   0.409091  0.023810   0.906034    0.385281\n",
       "3   0.386364  0.023810   0.923913    0.362554\n",
       "5   0.409091  0.047619   0.899744    0.361472\n",
       "26  1.000000  0.880952   0.028812    0.119048\n",
       "25  0.977273  0.880952   0.036422    0.096320\n",
       "1   0.022727  0.000000   0.996165    0.022727\n",
       "0   0.000000  0.000000   1.996165    0.000000\n",
       "27  1.000000  1.000000   0.003592    0.000000"
      ]
     },
     "execution_count": 33,
     "metadata": {},
     "output_type": "execute_result"
    }
   ],
   "source": [
    "# Predicted probablility\n",
    "y_pred_prob=log_reg.predict(X_test)\n",
    "fpr,tpr,threshold=roc_curve(y_test,y_pred_prob)\n",
    "youdens_table = pd.DataFrame({'TPR': tpr,\n",
    "                             'FPR': fpr,\n",
    "                             'Threshold': threshold})\n",
    "youdens_table['Difference']=youdens_table['TPR']-youdens_table['FPR']\n",
    "youdens_table.sort_values(by=['Difference'],ascending=False)"
   ]
  },
  {
   "cell_type": "markdown",
   "metadata": {},
   "source": [
    "###### Inference : As per the youden's index above we consider the cutoff 0.70 which corresponds to the maximum difference between TPR and FPR."
   ]
  },
  {
   "cell_type": "code",
   "execution_count": 34,
   "metadata": {},
   "outputs": [
    {
     "data": {
      "image/png": "[encoded data removed]",
      "text/plain": [
       "<Figure size 432x288 with 1 Axes>"
      ]
     },
     "metadata": {
      "needs_background": "light"
     },
     "output_type": "display_data"
    }
   ],
   "source": [
    "conf(log_reg,0.70)"
   ]
  },
  {
   "cell_type": "code",
   "execution_count": 35,
   "metadata": {},
   "outputs": [
    {
     "data": {
      "text/html": [
       "<div>\n",
       "<style scoped>\n",
       "    .dataframe tbody tr th:only-of-type {\n",
       "        vertical-align: middle;\n",
       "    }\n",
       "\n",
       "    .dataframe tbody tr th {\n",
       "        vertical-align: top;\n",
       "    }\n",
       "\n",
       "    .dataframe thead th {\n",
       "        text-align: right;\n",
       "    }\n",
       "</style>\n",
       "<table border=\"1\" class=\"dataframe\">\n",
       "  <thead>\n",
       "    <tr style=\"text-align: right;\">\n",
       "      <th></th>\n",
       "      <th>Model Name</th>\n",
       "      <th>P-cutoff</th>\n",
       "      <th>Accuracy Score</th>\n",
       "      <th>Auc Score</th>\n",
       "    </tr>\n",
       "  </thead>\n",
       "  <tbody>\n",
       "    <tr>\n",
       "      <th>0</th>\n",
       "      <td>Logistic Regression (Base Model)</td>\n",
       "      <td>0.75</td>\n",
       "      <td>0.813953</td>\n",
       "      <td>0.883117</td>\n",
       "    </tr>\n",
       "    <tr>\n",
       "      <th>1</th>\n",
       "      <td>Logistic Regression (Feature Selection)</td>\n",
       "      <td>0.70</td>\n",
       "      <td>0.813953</td>\n",
       "      <td>0.879329</td>\n",
       "    </tr>\n",
       "  </tbody>\n",
       "</table>\n",
       "</div>"
      ],
      "text/plain": [
       "                                Model Name  P-cutoff  Accuracy Score  \\\n",
       "0         Logistic Regression (Base Model)      0.75        0.813953   \n",
       "1  Logistic Regression (Feature Selection)      0.70        0.813953   \n",
       "\n",
       "   Auc Score  \n",
       "0   0.883117  \n",
       "1   0.879329  "
      ]
     },
     "execution_count": 35,
     "metadata": {},
     "output_type": "execute_result"
    }
   ],
   "source": [
    "update_score_card(\"Logistic Regression (Feature Selection)\",log_reg,cutoff=0.70)"
   ]
  },
  {
   "cell_type": "markdown",
   "metadata": {},
   "source": [
    "###### Inference : After feature selection the model gives the same accuracy score. However the Auc score has reduced slightly."
   ]
  },
  {
   "cell_type": "markdown",
   "metadata": {},
   "source": [
    "## Naive Baye's Model :"
   ]
  },
  {
   "cell_type": "code",
   "execution_count": 36,
   "metadata": {
    "scrolled": true
   },
   "outputs": [
    {
     "data": {
      "text/plain": [
       "GaussianNB()"
      ]
     },
     "execution_count": 36,
     "metadata": {},
     "output_type": "execute_result"
    }
   ],
   "source": [
    "X=data_heart.drop(columns=['output'])\n",
    "y=data_heart['output']\n",
    "X_train,X_test,y_train,y_test=train_test_split(X,y,test_size=0.3,random_state=10)\n",
    "naive=GaussianNB()\n",
    "naive.fit(X_train,y_train)"
   ]
  },
  {
   "cell_type": "code",
   "execution_count": 37,
   "metadata": {},
   "outputs": [
    {
     "data": {
      "image/png": "[encoded data removed]",
      "text/plain": [
       "<Figure size 432x288 with 1 Axes>"
      ]
     },
     "metadata": {
      "needs_background": "light"
     },
     "output_type": "display_data"
    }
   ],
   "source": [
    "conf(naive)"
   ]
  },
  {
   "cell_type": "code",
   "execution_count": 38,
   "metadata": {},
   "outputs": [
    {
     "data": {
      "text/html": [
       "<div>\n",
       "<style scoped>\n",
       "    .dataframe tbody tr th:only-of-type {\n",
       "        vertical-align: middle;\n",
       "    }\n",
       "\n",
       "    .dataframe tbody tr th {\n",
       "        vertical-align: top;\n",
       "    }\n",
       "\n",
       "    .dataframe thead th {\n",
       "        text-align: right;\n",
       "    }\n",
       "</style>\n",
       "<table border=\"1\" class=\"dataframe\">\n",
       "  <thead>\n",
       "    <tr style=\"text-align: right;\">\n",
       "      <th></th>\n",
       "      <th>Model Name</th>\n",
       "      <th>P-cutoff</th>\n",
       "      <th>Accuracy Score</th>\n",
       "      <th>Auc Score</th>\n",
       "    </tr>\n",
       "  </thead>\n",
       "  <tbody>\n",
       "    <tr>\n",
       "      <th>0</th>\n",
       "      <td>Logistic Regression (Base Model)</td>\n",
       "      <td>0.75</td>\n",
       "      <td>0.813953</td>\n",
       "      <td>0.883117</td>\n",
       "    </tr>\n",
       "    <tr>\n",
       "      <th>1</th>\n",
       "      <td>Logistic Regression (Feature Selection)</td>\n",
       "      <td>0.7</td>\n",
       "      <td>0.813953</td>\n",
       "      <td>0.879329</td>\n",
       "    </tr>\n",
       "    <tr>\n",
       "      <th>2</th>\n",
       "      <td>Naive Bayes</td>\n",
       "      <td>-</td>\n",
       "      <td>0.813953</td>\n",
       "      <td>0.891775</td>\n",
       "    </tr>\n",
       "  </tbody>\n",
       "</table>\n",
       "</div>"
      ],
      "text/plain": [
       "                                Model Name P-cutoff  Accuracy Score  Auc Score\n",
       "0         Logistic Regression (Base Model)     0.75        0.813953   0.883117\n",
       "1  Logistic Regression (Feature Selection)      0.7        0.813953   0.879329\n",
       "2                             Naive Bayes         -        0.813953   0.891775"
      ]
     },
     "execution_count": 38,
     "metadata": {},
     "output_type": "execute_result"
    }
   ],
   "source": [
    "update_score_card(\"Naive Bayes \",naive)"
   ]
  },
  {
   "cell_type": "markdown",
   "metadata": {},
   "source": [
    "###### Inference : The confusion matrix shows an increase in the total count of True Positive and True Negative and hence giving  higher  auc score from the previous model."
   ]
  },
  {
   "cell_type": "markdown",
   "metadata": {},
   "source": [
    "## KNN (Base Model) :"
   ]
  },
  {
   "cell_type": "code",
   "execution_count": 39,
   "metadata": {},
   "outputs": [
    {
     "data": {
      "text/plain": [
       "KNeighborsClassifier()"
      ]
     },
     "execution_count": 39,
     "metadata": {},
     "output_type": "execute_result"
    }
   ],
   "source": [
    "knn=KNeighborsClassifier()\n",
    "knn.fit(X_train,y_train)"
   ]
  },
  {
   "cell_type": "code",
   "execution_count": 40,
   "metadata": {},
   "outputs": [
    {
     "data": {
      "image/png": "[encoded data removed]",
      "text/plain": [
       "<Figure size 432x288 with 1 Axes>"
      ]
     },
     "metadata": {
      "needs_background": "light"
     },
     "output_type": "display_data"
    }
   ],
   "source": [
    "conf(knn)"
   ]
  },
  {
   "cell_type": "code",
   "execution_count": 41,
   "metadata": {
    "scrolled": true
   },
   "outputs": [
    {
     "data": {
      "text/html": [
       "<div>\n",
       "<style scoped>\n",
       "    .dataframe tbody tr th:only-of-type {\n",
       "        vertical-align: middle;\n",
       "    }\n",
       "\n",
       "    .dataframe tbody tr th {\n",
       "        vertical-align: top;\n",
       "    }\n",
       "\n",
       "    .dataframe thead th {\n",
       "        text-align: right;\n",
       "    }\n",
       "</style>\n",
       "<table border=\"1\" class=\"dataframe\">\n",
       "  <thead>\n",
       "    <tr style=\"text-align: right;\">\n",
       "      <th></th>\n",
       "      <th>Model Name</th>\n",
       "      <th>P-cutoff</th>\n",
       "      <th>Accuracy Score</th>\n",
       "      <th>Auc Score</th>\n",
       "    </tr>\n",
       "  </thead>\n",
       "  <tbody>\n",
       "    <tr>\n",
       "      <th>0</th>\n",
       "      <td>Logistic Regression (Base Model)</td>\n",
       "      <td>0.75</td>\n",
       "      <td>0.813953</td>\n",
       "      <td>0.883117</td>\n",
       "    </tr>\n",
       "    <tr>\n",
       "      <th>1</th>\n",
       "      <td>Logistic Regression (Feature Selection)</td>\n",
       "      <td>0.7</td>\n",
       "      <td>0.813953</td>\n",
       "      <td>0.879329</td>\n",
       "    </tr>\n",
       "    <tr>\n",
       "      <th>2</th>\n",
       "      <td>Naive Bayes</td>\n",
       "      <td>-</td>\n",
       "      <td>0.813953</td>\n",
       "      <td>0.891775</td>\n",
       "    </tr>\n",
       "    <tr>\n",
       "      <th>3</th>\n",
       "      <td>KNN</td>\n",
       "      <td>-</td>\n",
       "      <td>0.848837</td>\n",
       "      <td>0.916937</td>\n",
       "    </tr>\n",
       "  </tbody>\n",
       "</table>\n",
       "</div>"
      ],
      "text/plain": [
       "                                Model Name P-cutoff  Accuracy Score  Auc Score\n",
       "0         Logistic Regression (Base Model)     0.75        0.813953   0.883117\n",
       "1  Logistic Regression (Feature Selection)      0.7        0.813953   0.879329\n",
       "2                             Naive Bayes         -        0.813953   0.891775\n",
       "3                                      KNN        -        0.848837   0.916937"
      ]
     },
     "execution_count": 41,
     "metadata": {},
     "output_type": "execute_result"
    }
   ],
   "source": [
    "update_score_card(\"KNN\",knn)"
   ]
  },
  {
   "cell_type": "markdown",
   "metadata": {},
   "source": [
    "###### Inference : The KNN model gives much higher scores of accuracy 84% and auc score 91%."
   ]
  },
  {
   "cell_type": "markdown",
   "metadata": {},
   "source": [
    "##  KNN Hyper parameters tuning :"
   ]
  },
  {
   "cell_type": "markdown",
   "metadata": {},
   "source": [
    "tuned_param=[{\"n_neighbors\":range(5,20),\"metric\":['minkowski','euclidean','manhattan']}]\n",
    "\n",
    "knn1=knn=KNeighborsClassifier()\n",
    "\n",
    "gsearch=GridSearchCV(estimator=knn1,param_grid=tuned_param)\n",
    "\n",
    "gsearch.fit(X_train,y_train)"
   ]
  },
  {
   "cell_type": "markdown",
   "metadata": {},
   "source": [
    "gsearch.best_params_"
   ]
  },
  {
   "cell_type": "code",
   "execution_count": 42,
   "metadata": {},
   "outputs": [
    {
     "data": {
      "text/plain": [
       "KNeighborsClassifier(metric='manhattan', n_neighbors=8)"
      ]
     },
     "execution_count": 42,
     "metadata": {},
     "output_type": "execute_result"
    }
   ],
   "source": [
    "# Using the best parameters obtained\n",
    "best={'metric': 'manhattan', 'n_neighbors': 8}\n",
    "knn1=knn=KNeighborsClassifier(**best)\n",
    "knn1.fit(X_train,y_train)"
   ]
  },
  {
   "cell_type": "code",
   "execution_count": 43,
   "metadata": {},
   "outputs": [
    {
     "data": {
      "image/png": "[encoded data removed]",
      "text/plain": [
       "<Figure size 432x288 with 1 Axes>"
      ]
     },
     "metadata": {
      "needs_background": "light"
     },
     "output_type": "display_data"
    }
   ],
   "source": [
    "conf(knn1)"
   ]
  },
  {
   "cell_type": "code",
   "execution_count": 44,
   "metadata": {},
   "outputs": [
    {
     "data": {
      "text/html": [
       "<div>\n",
       "<style scoped>\n",
       "    .dataframe tbody tr th:only-of-type {\n",
       "        vertical-align: middle;\n",
       "    }\n",
       "\n",
       "    .dataframe tbody tr th {\n",
       "        vertical-align: top;\n",
       "    }\n",
       "\n",
       "    .dataframe thead th {\n",
       "        text-align: right;\n",
       "    }\n",
       "</style>\n",
       "<table border=\"1\" class=\"dataframe\">\n",
       "  <thead>\n",
       "    <tr style=\"text-align: right;\">\n",
       "      <th></th>\n",
       "      <th>Model Name</th>\n",
       "      <th>P-cutoff</th>\n",
       "      <th>Accuracy Score</th>\n",
       "      <th>Auc Score</th>\n",
       "    </tr>\n",
       "  </thead>\n",
       "  <tbody>\n",
       "    <tr>\n",
       "      <th>0</th>\n",
       "      <td>Logistic Regression (Base Model)</td>\n",
       "      <td>0.75</td>\n",
       "      <td>0.813953</td>\n",
       "      <td>0.883117</td>\n",
       "    </tr>\n",
       "    <tr>\n",
       "      <th>1</th>\n",
       "      <td>Logistic Regression (Feature Selection)</td>\n",
       "      <td>0.7</td>\n",
       "      <td>0.813953</td>\n",
       "      <td>0.879329</td>\n",
       "    </tr>\n",
       "    <tr>\n",
       "      <th>2</th>\n",
       "      <td>Naive Bayes</td>\n",
       "      <td>-</td>\n",
       "      <td>0.813953</td>\n",
       "      <td>0.891775</td>\n",
       "    </tr>\n",
       "    <tr>\n",
       "      <th>3</th>\n",
       "      <td>KNN</td>\n",
       "      <td>-</td>\n",
       "      <td>0.848837</td>\n",
       "      <td>0.916937</td>\n",
       "    </tr>\n",
       "    <tr>\n",
       "      <th>4</th>\n",
       "      <td>KNN (Grid Search)</td>\n",
       "      <td>-</td>\n",
       "      <td>0.837209</td>\n",
       "      <td>0.914502</td>\n",
       "    </tr>\n",
       "  </tbody>\n",
       "</table>\n",
       "</div>"
      ],
      "text/plain": [
       "                                Model Name P-cutoff  Accuracy Score  Auc Score\n",
       "0         Logistic Regression (Base Model)     0.75        0.813953   0.883117\n",
       "1  Logistic Regression (Feature Selection)      0.7        0.813953   0.879329\n",
       "2                             Naive Bayes         -        0.813953   0.891775\n",
       "3                                      KNN        -        0.848837   0.916937\n",
       "4                        KNN (Grid Search)        -        0.837209   0.914502"
      ]
     },
     "execution_count": 44,
     "metadata": {},
     "output_type": "execute_result"
    }
   ],
   "source": [
    "update_score_card(\"KNN (Grid Search)\",knn1)"
   ]
  },
  {
   "cell_type": "markdown",
   "metadata": {},
   "source": [
    "###### After tuning the hyper parameters we can observe a slight reduction in the scores."
   ]
  },
  {
   "cell_type": "markdown",
   "metadata": {},
   "source": [
    "## Decision Tree (Base Model) :"
   ]
  },
  {
   "cell_type": "code",
   "execution_count": 45,
   "metadata": {},
   "outputs": [
    {
     "data": {
      "text/plain": [
       "DecisionTreeClassifier(random_state=10)"
      ]
     },
     "execution_count": 45,
     "metadata": {},
     "output_type": "execute_result"
    }
   ],
   "source": [
    "tree1=DecisionTreeClassifier(random_state=10)\n",
    "tree1.fit(X_train,y_train)"
   ]
  },
  {
   "cell_type": "code",
   "execution_count": 46,
   "metadata": {},
   "outputs": [
    {
     "data": {
      "image/png": "[encoded data removed]",
      "text/plain": [
       "<Figure size 432x288 with 1 Axes>"
      ]
     },
     "metadata": {
      "needs_background": "light"
     },
     "output_type": "display_data"
    }
   ],
   "source": [
    "conf(tree1)"
   ]
  },
  {
   "cell_type": "code",
   "execution_count": 47,
   "metadata": {},
   "outputs": [
    {
     "data": {
      "text/html": [
       "<div>\n",
       "<style scoped>\n",
       "    .dataframe tbody tr th:only-of-type {\n",
       "        vertical-align: middle;\n",
       "    }\n",
       "\n",
       "    .dataframe tbody tr th {\n",
       "        vertical-align: top;\n",
       "    }\n",
       "\n",
       "    .dataframe thead th {\n",
       "        text-align: right;\n",
       "    }\n",
       "</style>\n",
       "<table border=\"1\" class=\"dataframe\">\n",
       "  <thead>\n",
       "    <tr style=\"text-align: right;\">\n",
       "      <th></th>\n",
       "      <th>Model Name</th>\n",
       "      <th>P-cutoff</th>\n",
       "      <th>Accuracy Score</th>\n",
       "      <th>Auc Score</th>\n",
       "    </tr>\n",
       "  </thead>\n",
       "  <tbody>\n",
       "    <tr>\n",
       "      <th>0</th>\n",
       "      <td>Logistic Regression (Base Model)</td>\n",
       "      <td>0.75</td>\n",
       "      <td>0.813953</td>\n",
       "      <td>0.883117</td>\n",
       "    </tr>\n",
       "    <tr>\n",
       "      <th>1</th>\n",
       "      <td>Logistic Regression (Feature Selection)</td>\n",
       "      <td>0.7</td>\n",
       "      <td>0.813953</td>\n",
       "      <td>0.879329</td>\n",
       "    </tr>\n",
       "    <tr>\n",
       "      <th>2</th>\n",
       "      <td>Naive Bayes</td>\n",
       "      <td>-</td>\n",
       "      <td>0.813953</td>\n",
       "      <td>0.891775</td>\n",
       "    </tr>\n",
       "    <tr>\n",
       "      <th>3</th>\n",
       "      <td>KNN</td>\n",
       "      <td>-</td>\n",
       "      <td>0.848837</td>\n",
       "      <td>0.916937</td>\n",
       "    </tr>\n",
       "    <tr>\n",
       "      <th>4</th>\n",
       "      <td>KNN (Grid Search)</td>\n",
       "      <td>-</td>\n",
       "      <td>0.837209</td>\n",
       "      <td>0.914502</td>\n",
       "    </tr>\n",
       "    <tr>\n",
       "      <th>5</th>\n",
       "      <td>Decision Tree (Base Model)</td>\n",
       "      <td>-</td>\n",
       "      <td>0.813953</td>\n",
       "      <td>0.813312</td>\n",
       "    </tr>\n",
       "  </tbody>\n",
       "</table>\n",
       "</div>"
      ],
      "text/plain": [
       "                                Model Name P-cutoff  Accuracy Score  Auc Score\n",
       "0         Logistic Regression (Base Model)     0.75        0.813953   0.883117\n",
       "1  Logistic Regression (Feature Selection)      0.7        0.813953   0.879329\n",
       "2                             Naive Bayes         -        0.813953   0.891775\n",
       "3                                      KNN        -        0.848837   0.916937\n",
       "4                        KNN (Grid Search)        -        0.837209   0.914502\n",
       "5               Decision Tree (Base Model)        -        0.813953   0.813312"
      ]
     },
     "execution_count": 47,
     "metadata": {},
     "output_type": "execute_result"
    }
   ],
   "source": [
    "update_score_card(\"Decision Tree (Base Model)\",tree1)"
   ]
  },
  {
   "cell_type": "markdown",
   "metadata": {},
   "source": [
    "###### Inference : We get a reduction in scores after building a decision tree model . However the accuracy and auc score are almost same i.e 81%."
   ]
  },
  {
   "cell_type": "markdown",
   "metadata": {},
   "source": [
    "## Decision Tree Hyper parameters tuning :"
   ]
  },
  {
   "cell_type": "markdown",
   "metadata": {},
   "source": [
    "tuned_param=[{\"criterion\":['gini','entropy'],\"max_depth\":range(3,10),\"max_features\":range(2,13),\"max_leaf_nodes\":range(3,30)}]\n",
    "\n",
    "tree2=DecisionTreeClassifier(random_state=10)\n",
    "\n",
    "rsearch=RandomizedSearchCV(estimator=tree2,param_distributions=tuned_param,cv=3)\n",
    "\n",
    "rsearch.fit(X_train,y_train)"
   ]
  },
  {
   "cell_type": "markdown",
   "metadata": {},
   "source": [
    "rsearch.best_params_"
   ]
  },
  {
   "cell_type": "code",
   "execution_count": 48,
   "metadata": {},
   "outputs": [
    {
     "data": {
      "text/plain": [
       "DecisionTreeClassifier(criterion='entropy', max_depth=4, max_features=3,\n",
       "                       max_leaf_nodes=16, random_state=10)"
      ]
     },
     "execution_count": 48,
     "metadata": {},
     "output_type": "execute_result"
    }
   ],
   "source": [
    "best={'max_leaf_nodes': 16,\n",
    " 'max_features': 3,\n",
    " 'max_depth': 4,\n",
    " 'criterion': 'entropy'}\n",
    "tree2=DecisionTreeClassifier(random_state=10,**best)\n",
    "tree2.fit(X_train,y_train)"
   ]
  },
  {
   "cell_type": "code",
   "execution_count": 49,
   "metadata": {},
   "outputs": [
    {
     "data": {
      "image/png": "[encoded data removed]",
      "text/plain": [
       "<Figure size 432x288 with 1 Axes>"
      ]
     },
     "metadata": {
      "needs_background": "light"
     },
     "output_type": "display_data"
    }
   ],
   "source": [
    "conf(tree2)"
   ]
  },
  {
   "cell_type": "code",
   "execution_count": 50,
   "metadata": {},
   "outputs": [
    {
     "data": {
      "text/html": [
       "<div>\n",
       "<style scoped>\n",
       "    .dataframe tbody tr th:only-of-type {\n",
       "        vertical-align: middle;\n",
       "    }\n",
       "\n",
       "    .dataframe tbody tr th {\n",
       "        vertical-align: top;\n",
       "    }\n",
       "\n",
       "    .dataframe thead th {\n",
       "        text-align: right;\n",
       "    }\n",
       "</style>\n",
       "<table border=\"1\" class=\"dataframe\">\n",
       "  <thead>\n",
       "    <tr style=\"text-align: right;\">\n",
       "      <th></th>\n",
       "      <th>Model Name</th>\n",
       "      <th>P-cutoff</th>\n",
       "      <th>Accuracy Score</th>\n",
       "      <th>Auc Score</th>\n",
       "    </tr>\n",
       "  </thead>\n",
       "  <tbody>\n",
       "    <tr>\n",
       "      <th>0</th>\n",
       "      <td>Logistic Regression (Base Model)</td>\n",
       "      <td>0.75</td>\n",
       "      <td>0.813953</td>\n",
       "      <td>0.883117</td>\n",
       "    </tr>\n",
       "    <tr>\n",
       "      <th>1</th>\n",
       "      <td>Logistic Regression (Feature Selection)</td>\n",
       "      <td>0.7</td>\n",
       "      <td>0.813953</td>\n",
       "      <td>0.879329</td>\n",
       "    </tr>\n",
       "    <tr>\n",
       "      <th>2</th>\n",
       "      <td>Naive Bayes</td>\n",
       "      <td>-</td>\n",
       "      <td>0.813953</td>\n",
       "      <td>0.891775</td>\n",
       "    </tr>\n",
       "    <tr>\n",
       "      <th>3</th>\n",
       "      <td>KNN</td>\n",
       "      <td>-</td>\n",
       "      <td>0.848837</td>\n",
       "      <td>0.916937</td>\n",
       "    </tr>\n",
       "    <tr>\n",
       "      <th>4</th>\n",
       "      <td>KNN (Grid Search)</td>\n",
       "      <td>-</td>\n",
       "      <td>0.837209</td>\n",
       "      <td>0.914502</td>\n",
       "    </tr>\n",
       "    <tr>\n",
       "      <th>5</th>\n",
       "      <td>Decision Tree (Base Model)</td>\n",
       "      <td>-</td>\n",
       "      <td>0.813953</td>\n",
       "      <td>0.813312</td>\n",
       "    </tr>\n",
       "    <tr>\n",
       "      <th>6</th>\n",
       "      <td>Decision Tree (Randomised Search)</td>\n",
       "      <td>-</td>\n",
       "      <td>0.848837</td>\n",
       "      <td>0.860390</td>\n",
       "    </tr>\n",
       "  </tbody>\n",
       "</table>\n",
       "</div>"
      ],
      "text/plain": [
       "                                Model Name P-cutoff  Accuracy Score  Auc Score\n",
       "0         Logistic Regression (Base Model)     0.75        0.813953   0.883117\n",
       "1  Logistic Regression (Feature Selection)      0.7        0.813953   0.879329\n",
       "2                             Naive Bayes         -        0.813953   0.891775\n",
       "3                                      KNN        -        0.848837   0.916937\n",
       "4                        KNN (Grid Search)        -        0.837209   0.914502\n",
       "5               Decision Tree (Base Model)        -        0.813953   0.813312\n",
       "6        Decision Tree (Randomised Search)        -        0.848837   0.860390"
      ]
     },
     "execution_count": 50,
     "metadata": {},
     "output_type": "execute_result"
    }
   ],
   "source": [
    "update_score_card(\"Decision Tree (Randomised Search)\",tree2)"
   ]
  },
  {
   "cell_type": "markdown",
   "metadata": {},
   "source": [
    "###### Inference : After tuning the hyperparameters of the decision tree we get an increase in scores from the previous model."
   ]
  },
  {
   "cell_type": "markdown",
   "metadata": {},
   "source": [
    "## Random Forest (Base Model) :"
   ]
  },
  {
   "cell_type": "code",
   "execution_count": 53,
   "metadata": {},
   "outputs": [
    {
     "data": {
      "text/plain": [
       "RandomForestClassifier(random_state=10)"
      ]
     },
     "execution_count": 53,
     "metadata": {},
     "output_type": "execute_result"
    }
   ],
   "source": [
    "rf1=RandomForestClassifier(random_state=10)\n",
    "rf1.fit(X_train,y_train)"
   ]
  },
  {
   "cell_type": "code",
   "execution_count": 55,
   "metadata": {},
   "outputs": [
    {
     "data": {
      "image/png": "[encoded data removed]",
      "text/plain": [
       "<Figure size 432x288 with 1 Axes>"
      ]
     },
     "metadata": {
      "needs_background": "light"
     },
     "output_type": "display_data"
    }
   ],
   "source": [
    "conf(rf1)"
   ]
  },
  {
   "cell_type": "code",
   "execution_count": 54,
   "metadata": {},
   "outputs": [
    {
     "data": {
      "text/html": [
       "<div>\n",
       "<style scoped>\n",
       "    .dataframe tbody tr th:only-of-type {\n",
       "        vertical-align: middle;\n",
       "    }\n",
       "\n",
       "    .dataframe tbody tr th {\n",
       "        vertical-align: top;\n",
       "    }\n",
       "\n",
       "    .dataframe thead th {\n",
       "        text-align: right;\n",
       "    }\n",
       "</style>\n",
       "<table border=\"1\" class=\"dataframe\">\n",
       "  <thead>\n",
       "    <tr style=\"text-align: right;\">\n",
       "      <th></th>\n",
       "      <th>Model Name</th>\n",
       "      <th>P-cutoff</th>\n",
       "      <th>Accuracy Score</th>\n",
       "      <th>Auc Score</th>\n",
       "    </tr>\n",
       "  </thead>\n",
       "  <tbody>\n",
       "    <tr>\n",
       "      <th>0</th>\n",
       "      <td>Logistic Regression (Base Model)</td>\n",
       "      <td>0.75</td>\n",
       "      <td>0.813953</td>\n",
       "      <td>0.883117</td>\n",
       "    </tr>\n",
       "    <tr>\n",
       "      <th>1</th>\n",
       "      <td>Logistic Regression (Feature Selection)</td>\n",
       "      <td>0.7</td>\n",
       "      <td>0.813953</td>\n",
       "      <td>0.879329</td>\n",
       "    </tr>\n",
       "    <tr>\n",
       "      <th>2</th>\n",
       "      <td>Naive Bayes</td>\n",
       "      <td>-</td>\n",
       "      <td>0.813953</td>\n",
       "      <td>0.891775</td>\n",
       "    </tr>\n",
       "    <tr>\n",
       "      <th>3</th>\n",
       "      <td>KNN</td>\n",
       "      <td>-</td>\n",
       "      <td>0.848837</td>\n",
       "      <td>0.916937</td>\n",
       "    </tr>\n",
       "    <tr>\n",
       "      <th>4</th>\n",
       "      <td>KNN (Grid Search)</td>\n",
       "      <td>-</td>\n",
       "      <td>0.837209</td>\n",
       "      <td>0.914502</td>\n",
       "    </tr>\n",
       "    <tr>\n",
       "      <th>5</th>\n",
       "      <td>Decision Tree (Base Model)</td>\n",
       "      <td>-</td>\n",
       "      <td>0.813953</td>\n",
       "      <td>0.813312</td>\n",
       "    </tr>\n",
       "    <tr>\n",
       "      <th>6</th>\n",
       "      <td>Decision Tree (Randomised Search)</td>\n",
       "      <td>-</td>\n",
       "      <td>0.848837</td>\n",
       "      <td>0.860390</td>\n",
       "    </tr>\n",
       "    <tr>\n",
       "      <th>7</th>\n",
       "      <td>Random Forest (Base Model)</td>\n",
       "      <td>-</td>\n",
       "      <td>0.813953</td>\n",
       "      <td>0.896374</td>\n",
       "    </tr>\n",
       "  </tbody>\n",
       "</table>\n",
       "</div>"
      ],
      "text/plain": [
       "                                Model Name P-cutoff  Accuracy Score  Auc Score\n",
       "0         Logistic Regression (Base Model)     0.75        0.813953   0.883117\n",
       "1  Logistic Regression (Feature Selection)      0.7        0.813953   0.879329\n",
       "2                             Naive Bayes         -        0.813953   0.891775\n",
       "3                                      KNN        -        0.848837   0.916937\n",
       "4                        KNN (Grid Search)        -        0.837209   0.914502\n",
       "5               Decision Tree (Base Model)        -        0.813953   0.813312\n",
       "6        Decision Tree (Randomised Search)        -        0.848837   0.860390\n",
       "7               Random Forest (Base Model)        -        0.813953   0.896374"
      ]
     },
     "execution_count": 54,
     "metadata": {},
     "output_type": "execute_result"
    }
   ],
   "source": [
    "update_score_card(\"Random Forest (Base Model)\",rf1)"
   ]
  },
  {
   "cell_type": "markdown",
   "metadata": {},
   "source": [
    "###### Inference : We observe a reduction in accuracy but an increase in auc score."
   ]
  },
  {
   "cell_type": "markdown",
   "metadata": {},
   "source": [
    "## Random Forest Hyper parameters tuning :"
   ]
  },
  {
   "cell_type": "markdown",
   "metadata": {},
   "source": [
    "tuned_param=[{\"n_estimators\":range(100,200),\"criterion\":\n",
    "\n",
    "['gini','entropy'],\"max_depth\":range(3,10),\"max_features\":range(2,13),\"max_leaf_nodes\":range(3,30)}]\n",
    "\n",
    "rf2=RandomForestClassifier(random_state=10)\n",
    "\n",
    "rsearch=RandomizedSearchCV(estimator=rf2,param_distributions=tuned_param,cv=3)\n",
    "\n",
    "rsearch.fit(X_train,y_train)"
   ]
  },
  {
   "cell_type": "markdown",
   "metadata": {},
   "source": [
    "rsearch.best_params_"
   ]
  },
  {
   "cell_type": "code",
   "execution_count": 58,
   "metadata": {},
   "outputs": [
    {
     "data": {
      "text/plain": [
       "RandomForestClassifier(max_depth=7, max_features=10, max_leaf_nodes=5,\n",
       "                       n_estimators=170, random_state=10)"
      ]
     },
     "execution_count": 58,
     "metadata": {},
     "output_type": "execute_result"
    }
   ],
   "source": [
    "best={'n_estimators': 170,\n",
    " 'max_leaf_nodes': 5,\n",
    " 'max_features': 10,\n",
    " 'max_depth': 7,\n",
    " 'criterion': 'gini'}\n",
    "\n",
    "rf2=RandomForestClassifier(random_state=10,**best)\n",
    "rf2.fit(X_train,y_train)"
   ]
  },
  {
   "cell_type": "code",
   "execution_count": 59,
   "metadata": {},
   "outputs": [
    {
     "data": {
      "image/png": "[encoded data removed]",
      "text/plain": [
       "<Figure size 432x288 with 1 Axes>"
      ]
     },
     "metadata": {
      "needs_background": "light"
     },
     "output_type": "display_data"
    }
   ],
   "source": [
    "conf(rf2)"
   ]
  },
  {
   "cell_type": "code",
   "execution_count": 60,
   "metadata": {
    "scrolled": false
   },
   "outputs": [
    {
     "data": {
      "text/html": [
       "<div>\n",
       "<style scoped>\n",
       "    .dataframe tbody tr th:only-of-type {\n",
       "        vertical-align: middle;\n",
       "    }\n",
       "\n",
       "    .dataframe tbody tr th {\n",
       "        vertical-align: top;\n",
       "    }\n",
       "\n",
       "    .dataframe thead th {\n",
       "        text-align: right;\n",
       "    }\n",
       "</style>\n",
       "<table border=\"1\" class=\"dataframe\">\n",
       "  <thead>\n",
       "    <tr style=\"text-align: right;\">\n",
       "      <th></th>\n",
       "      <th>Model Name</th>\n",
       "      <th>P-cutoff</th>\n",
       "      <th>Accuracy Score</th>\n",
       "      <th>Auc Score</th>\n",
       "    </tr>\n",
       "  </thead>\n",
       "  <tbody>\n",
       "    <tr>\n",
       "      <th>0</th>\n",
       "      <td>Logistic Regression (Base Model)</td>\n",
       "      <td>0.75</td>\n",
       "      <td>0.813953</td>\n",
       "      <td>0.883117</td>\n",
       "    </tr>\n",
       "    <tr>\n",
       "      <th>1</th>\n",
       "      <td>Logistic Regression (Feature Selection)</td>\n",
       "      <td>0.7</td>\n",
       "      <td>0.813953</td>\n",
       "      <td>0.879329</td>\n",
       "    </tr>\n",
       "    <tr>\n",
       "      <th>2</th>\n",
       "      <td>Naive Bayes</td>\n",
       "      <td>-</td>\n",
       "      <td>0.813953</td>\n",
       "      <td>0.891775</td>\n",
       "    </tr>\n",
       "    <tr>\n",
       "      <th>3</th>\n",
       "      <td>KNN</td>\n",
       "      <td>-</td>\n",
       "      <td>0.848837</td>\n",
       "      <td>0.916937</td>\n",
       "    </tr>\n",
       "    <tr>\n",
       "      <th>4</th>\n",
       "      <td>KNN (Grid Search)</td>\n",
       "      <td>-</td>\n",
       "      <td>0.837209</td>\n",
       "      <td>0.914502</td>\n",
       "    </tr>\n",
       "    <tr>\n",
       "      <th>5</th>\n",
       "      <td>Decision Tree (Base Model)</td>\n",
       "      <td>-</td>\n",
       "      <td>0.813953</td>\n",
       "      <td>0.813312</td>\n",
       "    </tr>\n",
       "    <tr>\n",
       "      <th>6</th>\n",
       "      <td>Decision Tree (Randomised Search)</td>\n",
       "      <td>-</td>\n",
       "      <td>0.848837</td>\n",
       "      <td>0.860390</td>\n",
       "    </tr>\n",
       "    <tr>\n",
       "      <th>7</th>\n",
       "      <td>Random Forest (Base Model)</td>\n",
       "      <td>-</td>\n",
       "      <td>0.813953</td>\n",
       "      <td>0.896374</td>\n",
       "    </tr>\n",
       "    <tr>\n",
       "      <th>8</th>\n",
       "      <td>Random Forest (Randomised Search)</td>\n",
       "      <td>-</td>\n",
       "      <td>0.825581</td>\n",
       "      <td>0.917208</td>\n",
       "    </tr>\n",
       "  </tbody>\n",
       "</table>\n",
       "</div>"
      ],
      "text/plain": [
       "                                Model Name P-cutoff  Accuracy Score  Auc Score\n",
       "0         Logistic Regression (Base Model)     0.75        0.813953   0.883117\n",
       "1  Logistic Regression (Feature Selection)      0.7        0.813953   0.879329\n",
       "2                             Naive Bayes         -        0.813953   0.891775\n",
       "3                                      KNN        -        0.848837   0.916937\n",
       "4                        KNN (Grid Search)        -        0.837209   0.914502\n",
       "5               Decision Tree (Base Model)        -        0.813953   0.813312\n",
       "6        Decision Tree (Randomised Search)        -        0.848837   0.860390\n",
       "7               Random Forest (Base Model)        -        0.813953   0.896374\n",
       "8        Random Forest (Randomised Search)        -        0.825581   0.917208"
      ]
     },
     "execution_count": 60,
     "metadata": {},
     "output_type": "execute_result"
    }
   ],
   "source": [
    "update_score_card(\"Random Forest (Randomised Search)\",rf2)"
   ]
  },
  {
   "cell_type": "markdown",
   "metadata": {},
   "source": [
    "###### Inference : After tuning the hyper parameters we see an increase in the scores."
   ]
  },
  {
   "cell_type": "markdown",
   "metadata": {},
   "source": [
    "## Adaboost (Base Model) :"
   ]
  },
  {
   "cell_type": "code",
   "execution_count": 63,
   "metadata": {},
   "outputs": [
    {
     "data": {
      "text/plain": [
       "AdaBoostClassifier(random_state=10)"
      ]
     },
     "execution_count": 63,
     "metadata": {},
     "output_type": "execute_result"
    }
   ],
   "source": [
    "adaboost1=AdaBoostClassifier(random_state=10)\n",
    "adaboost1.fit(X_train,y_train)"
   ]
  },
  {
   "cell_type": "code",
   "execution_count": 64,
   "metadata": {},
   "outputs": [
    {
     "data": {
      "image/png": "[encoded data removed]",
      "text/plain": [
       "<Figure size 432x288 with 1 Axes>"
      ]
     },
     "metadata": {
      "needs_background": "light"
     },
     "output_type": "display_data"
    }
   ],
   "source": [
    "conf(adaboost1)"
   ]
  },
  {
   "cell_type": "code",
   "execution_count": 65,
   "metadata": {},
   "outputs": [
    {
     "data": {
      "text/html": [
       "<div>\n",
       "<style scoped>\n",
       "    .dataframe tbody tr th:only-of-type {\n",
       "        vertical-align: middle;\n",
       "    }\n",
       "\n",
       "    .dataframe tbody tr th {\n",
       "        vertical-align: top;\n",
       "    }\n",
       "\n",
       "    .dataframe thead th {\n",
       "        text-align: right;\n",
       "    }\n",
       "</style>\n",
       "<table border=\"1\" class=\"dataframe\">\n",
       "  <thead>\n",
       "    <tr style=\"text-align: right;\">\n",
       "      <th></th>\n",
       "      <th>Model Name</th>\n",
       "      <th>P-cutoff</th>\n",
       "      <th>Accuracy Score</th>\n",
       "      <th>Auc Score</th>\n",
       "    </tr>\n",
       "  </thead>\n",
       "  <tbody>\n",
       "    <tr>\n",
       "      <th>0</th>\n",
       "      <td>Logistic Regression (Base Model)</td>\n",
       "      <td>0.75</td>\n",
       "      <td>0.813953</td>\n",
       "      <td>0.883117</td>\n",
       "    </tr>\n",
       "    <tr>\n",
       "      <th>1</th>\n",
       "      <td>Logistic Regression (Feature Selection)</td>\n",
       "      <td>0.7</td>\n",
       "      <td>0.813953</td>\n",
       "      <td>0.879329</td>\n",
       "    </tr>\n",
       "    <tr>\n",
       "      <th>2</th>\n",
       "      <td>Naive Bayes</td>\n",
       "      <td>-</td>\n",
       "      <td>0.813953</td>\n",
       "      <td>0.891775</td>\n",
       "    </tr>\n",
       "    <tr>\n",
       "      <th>3</th>\n",
       "      <td>KNN</td>\n",
       "      <td>-</td>\n",
       "      <td>0.848837</td>\n",
       "      <td>0.916937</td>\n",
       "    </tr>\n",
       "    <tr>\n",
       "      <th>4</th>\n",
       "      <td>KNN (Grid Search)</td>\n",
       "      <td>-</td>\n",
       "      <td>0.837209</td>\n",
       "      <td>0.914502</td>\n",
       "    </tr>\n",
       "    <tr>\n",
       "      <th>5</th>\n",
       "      <td>Decision Tree (Base Model)</td>\n",
       "      <td>-</td>\n",
       "      <td>0.813953</td>\n",
       "      <td>0.813312</td>\n",
       "    </tr>\n",
       "    <tr>\n",
       "      <th>6</th>\n",
       "      <td>Decision Tree (Randomised Search)</td>\n",
       "      <td>-</td>\n",
       "      <td>0.848837</td>\n",
       "      <td>0.860390</td>\n",
       "    </tr>\n",
       "    <tr>\n",
       "      <th>7</th>\n",
       "      <td>Random Forest (Base Model)</td>\n",
       "      <td>-</td>\n",
       "      <td>0.813953</td>\n",
       "      <td>0.896374</td>\n",
       "    </tr>\n",
       "    <tr>\n",
       "      <th>8</th>\n",
       "      <td>Random Forest (Randomised Search)</td>\n",
       "      <td>-</td>\n",
       "      <td>0.825581</td>\n",
       "      <td>0.917208</td>\n",
       "    </tr>\n",
       "    <tr>\n",
       "      <th>9</th>\n",
       "      <td>Adaboost (Base Model)</td>\n",
       "      <td>-</td>\n",
       "      <td>0.790698</td>\n",
       "      <td>0.845238</td>\n",
       "    </tr>\n",
       "  </tbody>\n",
       "</table>\n",
       "</div>"
      ],
      "text/plain": [
       "                                Model Name P-cutoff  Accuracy Score  Auc Score\n",
       "0         Logistic Regression (Base Model)     0.75        0.813953   0.883117\n",
       "1  Logistic Regression (Feature Selection)      0.7        0.813953   0.879329\n",
       "2                             Naive Bayes         -        0.813953   0.891775\n",
       "3                                      KNN        -        0.848837   0.916937\n",
       "4                        KNN (Grid Search)        -        0.837209   0.914502\n",
       "5               Decision Tree (Base Model)        -        0.813953   0.813312\n",
       "6        Decision Tree (Randomised Search)        -        0.848837   0.860390\n",
       "7               Random Forest (Base Model)        -        0.813953   0.896374\n",
       "8        Random Forest (Randomised Search)        -        0.825581   0.917208\n",
       "9                    Adaboost (Base Model)        -        0.790698   0.845238"
      ]
     },
     "execution_count": 65,
     "metadata": {},
     "output_type": "execute_result"
    }
   ],
   "source": [
    "update_score_card(\"Adaboost (Base Model)\",adaboost1)"
   ]
  },
  {
   "cell_type": "markdown",
   "metadata": {},
   "source": [
    "######  Inference :Adaboost model has gives lower scores as compared to the previous models."
   ]
  },
  {
   "cell_type": "markdown",
   "metadata": {},
   "source": [
    "## Adaboost Hyper parameters tuning :"
   ]
  },
  {
   "cell_type": "markdown",
   "metadata": {},
   "source": [
    "tuned_param=[{\"n_estimators\":range(50,100),\"learning_rate\":[.001,.002,.004,.004,.006,.008,0.1,0.2,0.4,0.6,0.8,1,2]}]\n",
    "\n",
    "adaboost2=AdaBoostClassifier(random_state=10)\n",
    "\n",
    "rsearch=RandomizedSearchCV(estimator=adaboost2,param_distributions=tuned_param,cv=3)\n",
    "\n",
    "rsearch.fit(X_train,y_train)"
   ]
  },
  {
   "cell_type": "markdown",
   "metadata": {},
   "source": [
    "rsearch.best_params_"
   ]
  },
  {
   "cell_type": "code",
   "execution_count": 71,
   "metadata": {},
   "outputs": [
    {
     "data": {
      "text/plain": [
       "AdaBoostClassifier(learning_rate=0.008, n_estimators=63, random_state=10)"
      ]
     },
     "execution_count": 71,
     "metadata": {},
     "output_type": "execute_result"
    }
   ],
   "source": [
    "best={'n_estimators': 63, 'learning_rate': 0.008}\n",
    "adaboost2=AdaBoostClassifier(random_state=10,**best)\n",
    "adaboost2.fit(X_train,y_train)"
   ]
  },
  {
   "cell_type": "code",
   "execution_count": 72,
   "metadata": {},
   "outputs": [
    {
     "data": {
      "image/png": "[encoded data removed]",
      "text/plain": [
       "<Figure size 432x288 with 1 Axes>"
      ]
     },
     "metadata": {
      "needs_background": "light"
     },
     "output_type": "display_data"
    }
   ],
   "source": [
    "conf(adaboost2)"
   ]
  },
  {
   "cell_type": "code",
   "execution_count": 73,
   "metadata": {},
   "outputs": [
    {
     "data": {
      "text/html": [
       "<div>\n",
       "<style scoped>\n",
       "    .dataframe tbody tr th:only-of-type {\n",
       "        vertical-align: middle;\n",
       "    }\n",
       "\n",
       "    .dataframe tbody tr th {\n",
       "        vertical-align: top;\n",
       "    }\n",
       "\n",
       "    .dataframe thead th {\n",
       "        text-align: right;\n",
       "    }\n",
       "</style>\n",
       "<table border=\"1\" class=\"dataframe\">\n",
       "  <thead>\n",
       "    <tr style=\"text-align: right;\">\n",
       "      <th></th>\n",
       "      <th>Model Name</th>\n",
       "      <th>P-cutoff</th>\n",
       "      <th>Accuracy Score</th>\n",
       "      <th>Auc Score</th>\n",
       "    </tr>\n",
       "  </thead>\n",
       "  <tbody>\n",
       "    <tr>\n",
       "      <th>0</th>\n",
       "      <td>Logistic Regression (Base Model)</td>\n",
       "      <td>0.75</td>\n",
       "      <td>0.813953</td>\n",
       "      <td>0.883117</td>\n",
       "    </tr>\n",
       "    <tr>\n",
       "      <th>1</th>\n",
       "      <td>Logistic Regression (Feature Selection)</td>\n",
       "      <td>0.7</td>\n",
       "      <td>0.813953</td>\n",
       "      <td>0.879329</td>\n",
       "    </tr>\n",
       "    <tr>\n",
       "      <th>2</th>\n",
       "      <td>Naive Bayes</td>\n",
       "      <td>-</td>\n",
       "      <td>0.813953</td>\n",
       "      <td>0.891775</td>\n",
       "    </tr>\n",
       "    <tr>\n",
       "      <th>3</th>\n",
       "      <td>KNN</td>\n",
       "      <td>-</td>\n",
       "      <td>0.848837</td>\n",
       "      <td>0.916937</td>\n",
       "    </tr>\n",
       "    <tr>\n",
       "      <th>4</th>\n",
       "      <td>KNN (Grid Search)</td>\n",
       "      <td>-</td>\n",
       "      <td>0.837209</td>\n",
       "      <td>0.914502</td>\n",
       "    </tr>\n",
       "    <tr>\n",
       "      <th>5</th>\n",
       "      <td>Decision Tree (Base Model)</td>\n",
       "      <td>-</td>\n",
       "      <td>0.813953</td>\n",
       "      <td>0.813312</td>\n",
       "    </tr>\n",
       "    <tr>\n",
       "      <th>6</th>\n",
       "      <td>Decision Tree (Randomised Search)</td>\n",
       "      <td>-</td>\n",
       "      <td>0.848837</td>\n",
       "      <td>0.860390</td>\n",
       "    </tr>\n",
       "    <tr>\n",
       "      <th>7</th>\n",
       "      <td>Random Forest (Base Model)</td>\n",
       "      <td>-</td>\n",
       "      <td>0.813953</td>\n",
       "      <td>0.896374</td>\n",
       "    </tr>\n",
       "    <tr>\n",
       "      <th>8</th>\n",
       "      <td>Random Forest (Randomised Search)</td>\n",
       "      <td>-</td>\n",
       "      <td>0.825581</td>\n",
       "      <td>0.917208</td>\n",
       "    </tr>\n",
       "    <tr>\n",
       "      <th>9</th>\n",
       "      <td>Adaboost (Base Model)</td>\n",
       "      <td>-</td>\n",
       "      <td>0.790698</td>\n",
       "      <td>0.845238</td>\n",
       "    </tr>\n",
       "    <tr>\n",
       "      <th>10</th>\n",
       "      <td>Adaboost (Randomised Search)</td>\n",
       "      <td>-</td>\n",
       "      <td>0.848837</td>\n",
       "      <td>0.910714</td>\n",
       "    </tr>\n",
       "  </tbody>\n",
       "</table>\n",
       "</div>"
      ],
      "text/plain": [
       "                                 Model Name P-cutoff  Accuracy Score  \\\n",
       "0          Logistic Regression (Base Model)     0.75        0.813953   \n",
       "1   Logistic Regression (Feature Selection)      0.7        0.813953   \n",
       "2                              Naive Bayes         -        0.813953   \n",
       "3                                       KNN        -        0.848837   \n",
       "4                         KNN (Grid Search)        -        0.837209   \n",
       "5                Decision Tree (Base Model)        -        0.813953   \n",
       "6         Decision Tree (Randomised Search)        -        0.848837   \n",
       "7                Random Forest (Base Model)        -        0.813953   \n",
       "8         Random Forest (Randomised Search)        -        0.825581   \n",
       "9                     Adaboost (Base Model)        -        0.790698   \n",
       "10             Adaboost (Randomised Search)        -        0.848837   \n",
       "\n",
       "    Auc Score  \n",
       "0    0.883117  \n",
       "1    0.879329  \n",
       "2    0.891775  \n",
       "3    0.916937  \n",
       "4    0.914502  \n",
       "5    0.813312  \n",
       "6    0.860390  \n",
       "7    0.896374  \n",
       "8    0.917208  \n",
       "9    0.845238  \n",
       "10   0.910714  "
      ]
     },
     "execution_count": 73,
     "metadata": {},
     "output_type": "execute_result"
    }
   ],
   "source": [
    "update_score_card(\"Adaboost (Randomised Search)\",adaboost2)"
   ]
  },
  {
   "cell_type": "markdown",
   "metadata": {},
   "source": [
    "###### Inference :After tuning the hyper parameters we see an increase in the scores."
   ]
  },
  {
   "cell_type": "markdown",
   "metadata": {},
   "source": [
    "## XGBoost (Base Model) :"
   ]
  },
  {
   "cell_type": "code",
   "execution_count": 75,
   "metadata": {},
   "outputs": [
    {
     "name": "stdout",
     "output_type": "stream",
     "text": [
      "[13:28:43] WARNING: C:/Users/Administrator/workspace/xgboost-win64_release_1.3.0/src/learner.cc:1061: Starting in XGBoost 1.3.0, the default evaluation metric used with the objective 'binary:logistic' was changed from 'error' to 'logloss'. Explicitly set eval_metric if you'd like to restore the old behavior.\n"
     ]
    },
    {
     "data": {
      "text/plain": [
       "XGBClassifier(base_score=0.5, booster='gbtree', colsample_bylevel=1,\n",
       "              colsample_bynode=1, colsample_bytree=1, gamma=0, gpu_id=-1,\n",
       "              importance_type='gain', interaction_constraints='',\n",
       "              learning_rate=0.300000012, max_delta_step=0, max_depth=6,\n",
       "              min_child_weight=1, missing=nan, monotone_constraints='()',\n",
       "              n_estimators=100, n_jobs=8, num_parallel_tree=1, random_state=10,\n",
       "              reg_alpha=0, reg_lambda=1, scale_pos_weight=1, subsample=1,\n",
       "              tree_method='exact', validate_parameters=1, verbosity=None)"
      ]
     },
     "execution_count": 75,
     "metadata": {},
     "output_type": "execute_result"
    }
   ],
   "source": [
    "xgb1=XGBClassifier(random_state=10)\n",
    "xgb1.fit(X_train,y_train)"
   ]
  },
  {
   "cell_type": "code",
   "execution_count": 76,
   "metadata": {},
   "outputs": [
    {
     "data": {
      "image/png": "[encoded data removed]",
      "text/plain": [
       "<Figure size 432x288 with 1 Axes>"
      ]
     },
     "metadata": {
      "needs_background": "light"
     },
     "output_type": "display_data"
    }
   ],
   "source": [
    "conf(xgb1)"
   ]
  },
  {
   "cell_type": "code",
   "execution_count": 77,
   "metadata": {},
   "outputs": [
    {
     "data": {
      "text/html": [
       "<div>\n",
       "<style scoped>\n",
       "    .dataframe tbody tr th:only-of-type {\n",
       "        vertical-align: middle;\n",
       "    }\n",
       "\n",
       "    .dataframe tbody tr th {\n",
       "        vertical-align: top;\n",
       "    }\n",
       "\n",
       "    .dataframe thead th {\n",
       "        text-align: right;\n",
       "    }\n",
       "</style>\n",
       "<table border=\"1\" class=\"dataframe\">\n",
       "  <thead>\n",
       "    <tr style=\"text-align: right;\">\n",
       "      <th></th>\n",
       "      <th>Model Name</th>\n",
       "      <th>P-cutoff</th>\n",
       "      <th>Accuracy Score</th>\n",
       "      <th>Auc Score</th>\n",
       "    </tr>\n",
       "  </thead>\n",
       "  <tbody>\n",
       "    <tr>\n",
       "      <th>0</th>\n",
       "      <td>Logistic Regression (Base Model)</td>\n",
       "      <td>0.75</td>\n",
       "      <td>0.813953</td>\n",
       "      <td>0.883117</td>\n",
       "    </tr>\n",
       "    <tr>\n",
       "      <th>1</th>\n",
       "      <td>Logistic Regression (Feature Selection)</td>\n",
       "      <td>0.7</td>\n",
       "      <td>0.813953</td>\n",
       "      <td>0.879329</td>\n",
       "    </tr>\n",
       "    <tr>\n",
       "      <th>2</th>\n",
       "      <td>Naive Bayes</td>\n",
       "      <td>-</td>\n",
       "      <td>0.813953</td>\n",
       "      <td>0.891775</td>\n",
       "    </tr>\n",
       "    <tr>\n",
       "      <th>3</th>\n",
       "      <td>KNN</td>\n",
       "      <td>-</td>\n",
       "      <td>0.848837</td>\n",
       "      <td>0.916937</td>\n",
       "    </tr>\n",
       "    <tr>\n",
       "      <th>4</th>\n",
       "      <td>KNN (Grid Search)</td>\n",
       "      <td>-</td>\n",
       "      <td>0.837209</td>\n",
       "      <td>0.914502</td>\n",
       "    </tr>\n",
       "    <tr>\n",
       "      <th>5</th>\n",
       "      <td>Decision Tree (Base Model)</td>\n",
       "      <td>-</td>\n",
       "      <td>0.813953</td>\n",
       "      <td>0.813312</td>\n",
       "    </tr>\n",
       "    <tr>\n",
       "      <th>6</th>\n",
       "      <td>Decision Tree (Randomised Search)</td>\n",
       "      <td>-</td>\n",
       "      <td>0.848837</td>\n",
       "      <td>0.860390</td>\n",
       "    </tr>\n",
       "    <tr>\n",
       "      <th>7</th>\n",
       "      <td>Random Forest (Base Model)</td>\n",
       "      <td>-</td>\n",
       "      <td>0.813953</td>\n",
       "      <td>0.896374</td>\n",
       "    </tr>\n",
       "    <tr>\n",
       "      <th>8</th>\n",
       "      <td>Random Forest (Randomised Search)</td>\n",
       "      <td>-</td>\n",
       "      <td>0.825581</td>\n",
       "      <td>0.917208</td>\n",
       "    </tr>\n",
       "    <tr>\n",
       "      <th>9</th>\n",
       "      <td>Adaboost (Base Model)</td>\n",
       "      <td>-</td>\n",
       "      <td>0.790698</td>\n",
       "      <td>0.845238</td>\n",
       "    </tr>\n",
       "    <tr>\n",
       "      <th>10</th>\n",
       "      <td>Adaboost (Randomised Search)</td>\n",
       "      <td>-</td>\n",
       "      <td>0.848837</td>\n",
       "      <td>0.910714</td>\n",
       "    </tr>\n",
       "    <tr>\n",
       "      <th>11</th>\n",
       "      <td>XGBoost (Base Model)</td>\n",
       "      <td>-</td>\n",
       "      <td>0.790698</td>\n",
       "      <td>0.876082</td>\n",
       "    </tr>\n",
       "  </tbody>\n",
       "</table>\n",
       "</div>"
      ],
      "text/plain": [
       "                                 Model Name P-cutoff  Accuracy Score  \\\n",
       "0          Logistic Regression (Base Model)     0.75        0.813953   \n",
       "1   Logistic Regression (Feature Selection)      0.7        0.813953   \n",
       "2                              Naive Bayes         -        0.813953   \n",
       "3                                       KNN        -        0.848837   \n",
       "4                         KNN (Grid Search)        -        0.837209   \n",
       "5                Decision Tree (Base Model)        -        0.813953   \n",
       "6         Decision Tree (Randomised Search)        -        0.848837   \n",
       "7                Random Forest (Base Model)        -        0.813953   \n",
       "8         Random Forest (Randomised Search)        -        0.825581   \n",
       "9                     Adaboost (Base Model)        -        0.790698   \n",
       "10             Adaboost (Randomised Search)        -        0.848837   \n",
       "11                     XGBoost (Base Model)        -        0.790698   \n",
       "\n",
       "    Auc Score  \n",
       "0    0.883117  \n",
       "1    0.879329  \n",
       "2    0.891775  \n",
       "3    0.916937  \n",
       "4    0.914502  \n",
       "5    0.813312  \n",
       "6    0.860390  \n",
       "7    0.896374  \n",
       "8    0.917208  \n",
       "9    0.845238  \n",
       "10   0.910714  \n",
       "11   0.876082  "
      ]
     },
     "execution_count": 77,
     "metadata": {},
     "output_type": "execute_result"
    }
   ],
   "source": [
    "update_score_card(\"XGBoost (Base Model)\",xgb1)"
   ]
  },
  {
   "cell_type": "markdown",
   "metadata": {},
   "source": [
    "###### Inference :XGboost model has gives lower scores as compared to the previous models."
   ]
  },
  {
   "cell_type": "markdown",
   "metadata": {},
   "source": [
    "## XGboost Hyper parameters tuning :"
   ]
  },
  {
   "cell_type": "markdown",
   "metadata": {},
   "source": [
    "tuned_param=[{\"n_estimators\":range(100,200),\"max_depth\":range(3,10),\"learning_rate\":\n",
    "\n",
    "[.001,.002,.004,.004,.006,.008,0.1,0.2,0.4,0.6,0.8,1,2],\"gamma\":[0.1,0.3,0.5,0.7,0.9,1,2,3,4,5,6,7,8,9,10]}]\n",
    "\n",
    "xgb2=XGBClassifier(random_state=10)\n",
    "\n",
    "rsearch=RandomizedSearchCV(estimator=xgb2,param_distributions=tuned_param,cv=3)\n",
    "\n",
    "rsearch.fit(X_train,y_train)"
   ]
  },
  {
   "cell_type": "markdown",
   "metadata": {},
   "source": [
    "rsearch.best_params_"
   ]
  },
  {
   "cell_type": "code",
   "execution_count": 81,
   "metadata": {},
   "outputs": [
    {
     "name": "stdout",
     "output_type": "stream",
     "text": [
      "[13:35:44] WARNING: C:/Users/Administrator/workspace/xgboost-win64_release_1.3.0/src/learner.cc:1061: Starting in XGBoost 1.3.0, the default evaluation metric used with the objective 'binary:logistic' was changed from 'error' to 'logloss'. Explicitly set eval_metric if you'd like to restore the old behavior.\n"
     ]
    },
    {
     "data": {
      "text/plain": [
       "XGBClassifier(base_score=0.5, booster='gbtree', colsample_bylevel=1,\n",
       "              colsample_bynode=1, colsample_bytree=1, gamma=9, gpu_id=-1,\n",
       "              importance_type='gain', interaction_constraints='',\n",
       "              learning_rate=0.004, max_delta_step=0, max_depth=6,\n",
       "              min_child_weight=1, missing=nan, monotone_constraints='()',\n",
       "              n_estimators=173, n_jobs=8, num_parallel_tree=1, random_state=10,\n",
       "              reg_alpha=0, reg_lambda=1, scale_pos_weight=1, subsample=1,\n",
       "              tree_method='exact', validate_parameters=1, verbosity=None)"
      ]
     },
     "execution_count": 81,
     "metadata": {},
     "output_type": "execute_result"
    }
   ],
   "source": [
    "best={'n_estimators': 173, 'max_depth': 6, 'learning_rate': 0.004, 'gamma': 9}\n",
    "xgb2=xgb2=XGBClassifier(random_state=10,**best)\n",
    "xgb2.fit(X_train,y_train)"
   ]
  },
  {
   "cell_type": "code",
   "execution_count": 82,
   "metadata": {},
   "outputs": [
    {
     "data": {
      "image/png": "[encoded data removed]",
      "text/plain": [
       "<Figure size 432x288 with 1 Axes>"
      ]
     },
     "metadata": {
      "needs_background": "light"
     },
     "output_type": "display_data"
    }
   ],
   "source": [
    "conf(xgb2)"
   ]
  },
  {
   "cell_type": "code",
   "execution_count": 83,
   "metadata": {},
   "outputs": [
    {
     "data": {
      "text/html": [
       "<div>\n",
       "<style scoped>\n",
       "    .dataframe tbody tr th:only-of-type {\n",
       "        vertical-align: middle;\n",
       "    }\n",
       "\n",
       "    .dataframe tbody tr th {\n",
       "        vertical-align: top;\n",
       "    }\n",
       "\n",
       "    .dataframe thead th {\n",
       "        text-align: right;\n",
       "    }\n",
       "</style>\n",
       "<table border=\"1\" class=\"dataframe\">\n",
       "  <thead>\n",
       "    <tr style=\"text-align: right;\">\n",
       "      <th></th>\n",
       "      <th>Model Name</th>\n",
       "      <th>P-cutoff</th>\n",
       "      <th>Accuracy Score</th>\n",
       "      <th>Auc Score</th>\n",
       "    </tr>\n",
       "  </thead>\n",
       "  <tbody>\n",
       "    <tr>\n",
       "      <th>0</th>\n",
       "      <td>Logistic Regression (Base Model)</td>\n",
       "      <td>0.75</td>\n",
       "      <td>0.813953</td>\n",
       "      <td>0.883117</td>\n",
       "    </tr>\n",
       "    <tr>\n",
       "      <th>1</th>\n",
       "      <td>Logistic Regression (Feature Selection)</td>\n",
       "      <td>0.7</td>\n",
       "      <td>0.813953</td>\n",
       "      <td>0.879329</td>\n",
       "    </tr>\n",
       "    <tr>\n",
       "      <th>2</th>\n",
       "      <td>Naive Bayes</td>\n",
       "      <td>-</td>\n",
       "      <td>0.813953</td>\n",
       "      <td>0.891775</td>\n",
       "    </tr>\n",
       "    <tr>\n",
       "      <th>3</th>\n",
       "      <td>KNN</td>\n",
       "      <td>-</td>\n",
       "      <td>0.848837</td>\n",
       "      <td>0.916937</td>\n",
       "    </tr>\n",
       "    <tr>\n",
       "      <th>4</th>\n",
       "      <td>KNN (Grid Search)</td>\n",
       "      <td>-</td>\n",
       "      <td>0.837209</td>\n",
       "      <td>0.914502</td>\n",
       "    </tr>\n",
       "    <tr>\n",
       "      <th>5</th>\n",
       "      <td>Decision Tree (Base Model)</td>\n",
       "      <td>-</td>\n",
       "      <td>0.813953</td>\n",
       "      <td>0.813312</td>\n",
       "    </tr>\n",
       "    <tr>\n",
       "      <th>6</th>\n",
       "      <td>Decision Tree (Randomised Search)</td>\n",
       "      <td>-</td>\n",
       "      <td>0.848837</td>\n",
       "      <td>0.860390</td>\n",
       "    </tr>\n",
       "    <tr>\n",
       "      <th>7</th>\n",
       "      <td>Random Forest (Base Model)</td>\n",
       "      <td>-</td>\n",
       "      <td>0.813953</td>\n",
       "      <td>0.896374</td>\n",
       "    </tr>\n",
       "    <tr>\n",
       "      <th>8</th>\n",
       "      <td>Random Forest (Randomised Search)</td>\n",
       "      <td>-</td>\n",
       "      <td>0.825581</td>\n",
       "      <td>0.917208</td>\n",
       "    </tr>\n",
       "    <tr>\n",
       "      <th>9</th>\n",
       "      <td>Adaboost (Base Model)</td>\n",
       "      <td>-</td>\n",
       "      <td>0.790698</td>\n",
       "      <td>0.845238</td>\n",
       "    </tr>\n",
       "    <tr>\n",
       "      <th>10</th>\n",
       "      <td>Adaboost (Randomised Search)</td>\n",
       "      <td>-</td>\n",
       "      <td>0.848837</td>\n",
       "      <td>0.910714</td>\n",
       "    </tr>\n",
       "    <tr>\n",
       "      <th>11</th>\n",
       "      <td>XGBoost (Base Model)</td>\n",
       "      <td>-</td>\n",
       "      <td>0.790698</td>\n",
       "      <td>0.876082</td>\n",
       "    </tr>\n",
       "    <tr>\n",
       "      <th>12</th>\n",
       "      <td>XGboost (Randomised Search)</td>\n",
       "      <td>-</td>\n",
       "      <td>0.813953</td>\n",
       "      <td>0.915584</td>\n",
       "    </tr>\n",
       "  </tbody>\n",
       "</table>\n",
       "</div>"
      ],
      "text/plain": [
       "                                 Model Name P-cutoff  Accuracy Score  \\\n",
       "0          Logistic Regression (Base Model)     0.75        0.813953   \n",
       "1   Logistic Regression (Feature Selection)      0.7        0.813953   \n",
       "2                              Naive Bayes         -        0.813953   \n",
       "3                                       KNN        -        0.848837   \n",
       "4                         KNN (Grid Search)        -        0.837209   \n",
       "5                Decision Tree (Base Model)        -        0.813953   \n",
       "6         Decision Tree (Randomised Search)        -        0.848837   \n",
       "7                Random Forest (Base Model)        -        0.813953   \n",
       "8         Random Forest (Randomised Search)        -        0.825581   \n",
       "9                     Adaboost (Base Model)        -        0.790698   \n",
       "10             Adaboost (Randomised Search)        -        0.848837   \n",
       "11                     XGBoost (Base Model)        -        0.790698   \n",
       "12              XGboost (Randomised Search)        -        0.813953   \n",
       "\n",
       "    Auc Score  \n",
       "0    0.883117  \n",
       "1    0.879329  \n",
       "2    0.891775  \n",
       "3    0.916937  \n",
       "4    0.914502  \n",
       "5    0.813312  \n",
       "6    0.860390  \n",
       "7    0.896374  \n",
       "8    0.917208  \n",
       "9    0.845238  \n",
       "10   0.910714  \n",
       "11   0.876082  \n",
       "12   0.915584  "
      ]
     },
     "execution_count": 83,
     "metadata": {},
     "output_type": "execute_result"
    }
   ],
   "source": [
    "update_score_card(\"XGboost (Randomised Search)\",xgb2)"
   ]
  },
  {
   "cell_type": "markdown",
   "metadata": {},
   "source": [
    "###### Inference : After tuning the hyper parameters we see an increase in the scores."
   ]
  },
  {
   "cell_type": "markdown",
   "metadata": {},
   "source": [
    "## Stacking Classifiers :"
   ]
  },
  {
   "cell_type": "code",
   "execution_count": 92,
   "metadata": {},
   "outputs": [
    {
     "name": "stdout",
     "output_type": "stream",
     "text": [
      "[13:47:48] WARNING: C:/Users/Administrator/workspace/xgboost-win64_release_1.3.0/src/learner.cc:1061: Starting in XGBoost 1.3.0, the default evaluation metric used with the objective 'binary:logistic' was changed from 'error' to 'logloss'. Explicitly set eval_metric if you'd like to restore the old behavior.\n"
     ]
    },
    {
     "data": {
      "text/plain": [
       "StackingClassifier(cv=3,\n",
       "                   estimators=[('Naive Bayes', GaussianNB()),\n",
       "                               ('KNN',\n",
       "                                KNeighborsClassifier(metric='manhattan',\n",
       "                                                     n_neighbors=8)),\n",
       "                               ('Random Forest',\n",
       "                                RandomForestClassifier(max_depth=7,\n",
       "                                                       max_features=10,\n",
       "                                                       max_leaf_nodes=5,\n",
       "                                                       n_estimators=170))],\n",
       "                   final_estimator=XGBClassifier(base_score=0.5,\n",
       "                                                 booster='gbtree',\n",
       "                                                 colsample_bylevel=1,\n",
       "                                                 colsample_bynode=1,\n",
       "                                                 colsample_bytree=1, gamma=9,\n",
       "                                                 gpu_id=-1,\n",
       "                                                 importance_type='gain',\n",
       "                                                 interaction_constraints='',\n",
       "                                                 learning_rate=0.004,\n",
       "                                                 max_delta_step=0, max_depth=6,\n",
       "                                                 min_child_weight=1,\n",
       "                                                 missing=nan,\n",
       "                                                 monotone_constraints='()',\n",
       "                                                 n_estimators=173, n_jobs=8,\n",
       "                                                 num_parallel_tree=1,\n",
       "                                                 random_state=10, reg_alpha=0,\n",
       "                                                 reg_lambda=1,\n",
       "                                                 scale_pos_weight=1,\n",
       "                                                 subsample=1,\n",
       "                                                 tree_method='exact',\n",
       "                                                 validate_parameters=1,\n",
       "                                                 verbosity=None))"
      ]
     },
     "execution_count": 92,
     "metadata": {},
     "output_type": "execute_result"
    }
   ],
   "source": [
    "base_estimators=[(\"Naive Bayes\",GaussianNB()),(\"KNN\",KNeighborsClassifier(metric='manhattan',n_neighbors = 8)),\n",
    "                (\"Random Forest\",RandomForestClassifier(n_estimators= 170,\n",
    " max_leaf_nodes= 5,\n",
    " max_features=10,\n",
    " max_depth=7,\n",
    " criterion= 'gini'))]\n",
    "\n",
    "stack_model=StackingClassifier(estimators=base_estimators,final_estimator=xgb2,cv=3)\n",
    "stack_model.fit(X_train,y_train)"
   ]
  },
  {
   "cell_type": "code",
   "execution_count": 93,
   "metadata": {},
   "outputs": [
    {
     "data": {
      "image/png": "[encoded data removed]",
      "text/plain": [
       "<Figure size 432x288 with 1 Axes>"
      ]
     },
     "metadata": {
      "needs_background": "light"
     },
     "output_type": "display_data"
    }
   ],
   "source": [
    "conf(stack_model)"
   ]
  },
  {
   "cell_type": "code",
   "execution_count": 94,
   "metadata": {},
   "outputs": [
    {
     "data": {
      "text/html": [
       "<div>\n",
       "<style scoped>\n",
       "    .dataframe tbody tr th:only-of-type {\n",
       "        vertical-align: middle;\n",
       "    }\n",
       "\n",
       "    .dataframe tbody tr th {\n",
       "        vertical-align: top;\n",
       "    }\n",
       "\n",
       "    .dataframe thead th {\n",
       "        text-align: right;\n",
       "    }\n",
       "</style>\n",
       "<table border=\"1\" class=\"dataframe\">\n",
       "  <thead>\n",
       "    <tr style=\"text-align: right;\">\n",
       "      <th></th>\n",
       "      <th>Model Name</th>\n",
       "      <th>P-cutoff</th>\n",
       "      <th>Accuracy Score</th>\n",
       "      <th>Auc Score</th>\n",
       "    </tr>\n",
       "  </thead>\n",
       "  <tbody>\n",
       "    <tr>\n",
       "      <th>0</th>\n",
       "      <td>Logistic Regression (Base Model)</td>\n",
       "      <td>0.75</td>\n",
       "      <td>0.813953</td>\n",
       "      <td>0.883117</td>\n",
       "    </tr>\n",
       "    <tr>\n",
       "      <th>1</th>\n",
       "      <td>Logistic Regression (Feature Selection)</td>\n",
       "      <td>0.7</td>\n",
       "      <td>0.813953</td>\n",
       "      <td>0.879329</td>\n",
       "    </tr>\n",
       "    <tr>\n",
       "      <th>2</th>\n",
       "      <td>Naive Bayes</td>\n",
       "      <td>-</td>\n",
       "      <td>0.813953</td>\n",
       "      <td>0.891775</td>\n",
       "    </tr>\n",
       "    <tr>\n",
       "      <th>3</th>\n",
       "      <td>KNN</td>\n",
       "      <td>-</td>\n",
       "      <td>0.848837</td>\n",
       "      <td>0.916937</td>\n",
       "    </tr>\n",
       "    <tr>\n",
       "      <th>4</th>\n",
       "      <td>KNN (Grid Search)</td>\n",
       "      <td>-</td>\n",
       "      <td>0.837209</td>\n",
       "      <td>0.914502</td>\n",
       "    </tr>\n",
       "    <tr>\n",
       "      <th>5</th>\n",
       "      <td>Decision Tree (Base Model)</td>\n",
       "      <td>-</td>\n",
       "      <td>0.813953</td>\n",
       "      <td>0.813312</td>\n",
       "    </tr>\n",
       "    <tr>\n",
       "      <th>6</th>\n",
       "      <td>Decision Tree (Randomised Search)</td>\n",
       "      <td>-</td>\n",
       "      <td>0.848837</td>\n",
       "      <td>0.860390</td>\n",
       "    </tr>\n",
       "    <tr>\n",
       "      <th>7</th>\n",
       "      <td>Random Forest (Base Model)</td>\n",
       "      <td>-</td>\n",
       "      <td>0.813953</td>\n",
       "      <td>0.896374</td>\n",
       "    </tr>\n",
       "    <tr>\n",
       "      <th>8</th>\n",
       "      <td>Random Forest (Randomised Search)</td>\n",
       "      <td>-</td>\n",
       "      <td>0.825581</td>\n",
       "      <td>0.917208</td>\n",
       "    </tr>\n",
       "    <tr>\n",
       "      <th>9</th>\n",
       "      <td>Adaboost (Base Model)</td>\n",
       "      <td>-</td>\n",
       "      <td>0.790698</td>\n",
       "      <td>0.845238</td>\n",
       "    </tr>\n",
       "    <tr>\n",
       "      <th>10</th>\n",
       "      <td>Adaboost (Randomised Search)</td>\n",
       "      <td>-</td>\n",
       "      <td>0.848837</td>\n",
       "      <td>0.910714</td>\n",
       "    </tr>\n",
       "    <tr>\n",
       "      <th>11</th>\n",
       "      <td>XGBoost (Base Model)</td>\n",
       "      <td>-</td>\n",
       "      <td>0.790698</td>\n",
       "      <td>0.876082</td>\n",
       "    </tr>\n",
       "    <tr>\n",
       "      <th>12</th>\n",
       "      <td>XGboost (Randomised Search)</td>\n",
       "      <td>-</td>\n",
       "      <td>0.813953</td>\n",
       "      <td>0.915584</td>\n",
       "    </tr>\n",
       "    <tr>\n",
       "      <th>13</th>\n",
       "      <td>Stacking Model</td>\n",
       "      <td>-</td>\n",
       "      <td>0.825581</td>\n",
       "      <td>0.899621</td>\n",
       "    </tr>\n",
       "  </tbody>\n",
       "</table>\n",
       "</div>"
      ],
      "text/plain": [
       "                                 Model Name P-cutoff  Accuracy Score  \\\n",
       "0          Logistic Regression (Base Model)     0.75        0.813953   \n",
       "1   Logistic Regression (Feature Selection)      0.7        0.813953   \n",
       "2                              Naive Bayes         -        0.813953   \n",
       "3                                       KNN        -        0.848837   \n",
       "4                         KNN (Grid Search)        -        0.837209   \n",
       "5                Decision Tree (Base Model)        -        0.813953   \n",
       "6         Decision Tree (Randomised Search)        -        0.848837   \n",
       "7                Random Forest (Base Model)        -        0.813953   \n",
       "8         Random Forest (Randomised Search)        -        0.825581   \n",
       "9                     Adaboost (Base Model)        -        0.790698   \n",
       "10             Adaboost (Randomised Search)        -        0.848837   \n",
       "11                     XGBoost (Base Model)        -        0.790698   \n",
       "12              XGboost (Randomised Search)        -        0.813953   \n",
       "13                           Stacking Model        -        0.825581   \n",
       "\n",
       "    Auc Score  \n",
       "0    0.883117  \n",
       "1    0.879329  \n",
       "2    0.891775  \n",
       "3    0.916937  \n",
       "4    0.914502  \n",
       "5    0.813312  \n",
       "6    0.860390  \n",
       "7    0.896374  \n",
       "8    0.917208  \n",
       "9    0.845238  \n",
       "10   0.910714  \n",
       "11   0.876082  \n",
       "12   0.915584  \n",
       "13   0.899621  "
      ]
     },
     "execution_count": 94,
     "metadata": {},
     "output_type": "execute_result"
    }
   ],
   "source": [
    "update_score_card(\"Stacking Model\",stack_model)"
   ]
  },
  {
   "cell_type": "markdown",
   "metadata": {},
   "source": [
    "###### Inference : After Stacking multiple classifiers we  see an increase in the accuracy score but a slight decrease in auc score."
   ]
  },
  {
   "cell_type": "code",
   "execution_count": 104,
   "metadata": {},
   "outputs": [
    {
     "data": {
      "text/html": [
       "<style  type=\"text/css\" >\n",
       "#T_119515e9_a40d_11eb_b643_b89a2abca9acrow8_col3{\n",
       "            background-color:  skyblue;\n",
       "        }</style><table id=\"T_119515e9_a40d_11eb_b643_b89a2abca9ac\" ><thead>    <tr>        <th class=\"blank level0\" ></th>        <th class=\"col_heading level0 col0\" >Model Name</th>        <th class=\"col_heading level0 col1\" >P-cutoff</th>        <th class=\"col_heading level0 col2\" >Accuracy Score</th>        <th class=\"col_heading level0 col3\" >Auc Score</th>    </tr></thead><tbody>\n",
       "                <tr>\n",
       "                        <th id=\"T_119515e9_a40d_11eb_b643_b89a2abca9aclevel0_row0\" class=\"row_heading level0 row0\" >0</th>\n",
       "                        <td id=\"T_119515e9_a40d_11eb_b643_b89a2abca9acrow0_col0\" class=\"data row0 col0\" >Logistic Regression (Base Model)</td>\n",
       "                        <td id=\"T_119515e9_a40d_11eb_b643_b89a2abca9acrow0_col1\" class=\"data row0 col1\" >0.750000</td>\n",
       "                        <td id=\"T_119515e9_a40d_11eb_b643_b89a2abca9acrow0_col2\" class=\"data row0 col2\" >0.813953</td>\n",
       "                        <td id=\"T_119515e9_a40d_11eb_b643_b89a2abca9acrow0_col3\" class=\"data row0 col3\" >0.883117</td>\n",
       "            </tr>\n",
       "            <tr>\n",
       "                        <th id=\"T_119515e9_a40d_11eb_b643_b89a2abca9aclevel0_row1\" class=\"row_heading level0 row1\" >1</th>\n",
       "                        <td id=\"T_119515e9_a40d_11eb_b643_b89a2abca9acrow1_col0\" class=\"data row1 col0\" >Logistic Regression (Feature Selection)</td>\n",
       "                        <td id=\"T_119515e9_a40d_11eb_b643_b89a2abca9acrow1_col1\" class=\"data row1 col1\" >0.700000</td>\n",
       "                        <td id=\"T_119515e9_a40d_11eb_b643_b89a2abca9acrow1_col2\" class=\"data row1 col2\" >0.813953</td>\n",
       "                        <td id=\"T_119515e9_a40d_11eb_b643_b89a2abca9acrow1_col3\" class=\"data row1 col3\" >0.879329</td>\n",
       "            </tr>\n",
       "            <tr>\n",
       "                        <th id=\"T_119515e9_a40d_11eb_b643_b89a2abca9aclevel0_row2\" class=\"row_heading level0 row2\" >2</th>\n",
       "                        <td id=\"T_119515e9_a40d_11eb_b643_b89a2abca9acrow2_col0\" class=\"data row2 col0\" >Naive Bayes </td>\n",
       "                        <td id=\"T_119515e9_a40d_11eb_b643_b89a2abca9acrow2_col1\" class=\"data row2 col1\" >-</td>\n",
       "                        <td id=\"T_119515e9_a40d_11eb_b643_b89a2abca9acrow2_col2\" class=\"data row2 col2\" >0.813953</td>\n",
       "                        <td id=\"T_119515e9_a40d_11eb_b643_b89a2abca9acrow2_col3\" class=\"data row2 col3\" >0.891775</td>\n",
       "            </tr>\n",
       "            <tr>\n",
       "                        <th id=\"T_119515e9_a40d_11eb_b643_b89a2abca9aclevel0_row3\" class=\"row_heading level0 row3\" >3</th>\n",
       "                        <td id=\"T_119515e9_a40d_11eb_b643_b89a2abca9acrow3_col0\" class=\"data row3 col0\" >KNN</td>\n",
       "                        <td id=\"T_119515e9_a40d_11eb_b643_b89a2abca9acrow3_col1\" class=\"data row3 col1\" >-</td>\n",
       "                        <td id=\"T_119515e9_a40d_11eb_b643_b89a2abca9acrow3_col2\" class=\"data row3 col2\" >0.848837</td>\n",
       "                        <td id=\"T_119515e9_a40d_11eb_b643_b89a2abca9acrow3_col3\" class=\"data row3 col3\" >0.916937</td>\n",
       "            </tr>\n",
       "            <tr>\n",
       "                        <th id=\"T_119515e9_a40d_11eb_b643_b89a2abca9aclevel0_row4\" class=\"row_heading level0 row4\" >4</th>\n",
       "                        <td id=\"T_119515e9_a40d_11eb_b643_b89a2abca9acrow4_col0\" class=\"data row4 col0\" >KNN (Grid Search)</td>\n",
       "                        <td id=\"T_119515e9_a40d_11eb_b643_b89a2abca9acrow4_col1\" class=\"data row4 col1\" >-</td>\n",
       "                        <td id=\"T_119515e9_a40d_11eb_b643_b89a2abca9acrow4_col2\" class=\"data row4 col2\" >0.837209</td>\n",
       "                        <td id=\"T_119515e9_a40d_11eb_b643_b89a2abca9acrow4_col3\" class=\"data row4 col3\" >0.914502</td>\n",
       "            </tr>\n",
       "            <tr>\n",
       "                        <th id=\"T_119515e9_a40d_11eb_b643_b89a2abca9aclevel0_row5\" class=\"row_heading level0 row5\" >5</th>\n",
       "                        <td id=\"T_119515e9_a40d_11eb_b643_b89a2abca9acrow5_col0\" class=\"data row5 col0\" >Decision Tree (Base Model)</td>\n",
       "                        <td id=\"T_119515e9_a40d_11eb_b643_b89a2abca9acrow5_col1\" class=\"data row5 col1\" >-</td>\n",
       "                        <td id=\"T_119515e9_a40d_11eb_b643_b89a2abca9acrow5_col2\" class=\"data row5 col2\" >0.813953</td>\n",
       "                        <td id=\"T_119515e9_a40d_11eb_b643_b89a2abca9acrow5_col3\" class=\"data row5 col3\" >0.813312</td>\n",
       "            </tr>\n",
       "            <tr>\n",
       "                        <th id=\"T_119515e9_a40d_11eb_b643_b89a2abca9aclevel0_row6\" class=\"row_heading level0 row6\" >6</th>\n",
       "                        <td id=\"T_119515e9_a40d_11eb_b643_b89a2abca9acrow6_col0\" class=\"data row6 col0\" >Decision Tree (Randomised Search)</td>\n",
       "                        <td id=\"T_119515e9_a40d_11eb_b643_b89a2abca9acrow6_col1\" class=\"data row6 col1\" >-</td>\n",
       "                        <td id=\"T_119515e9_a40d_11eb_b643_b89a2abca9acrow6_col2\" class=\"data row6 col2\" >0.848837</td>\n",
       "                        <td id=\"T_119515e9_a40d_11eb_b643_b89a2abca9acrow6_col3\" class=\"data row6 col3\" >0.860390</td>\n",
       "            </tr>\n",
       "            <tr>\n",
       "                        <th id=\"T_119515e9_a40d_11eb_b643_b89a2abca9aclevel0_row7\" class=\"row_heading level0 row7\" >7</th>\n",
       "                        <td id=\"T_119515e9_a40d_11eb_b643_b89a2abca9acrow7_col0\" class=\"data row7 col0\" >Random Forest (Base Model)</td>\n",
       "                        <td id=\"T_119515e9_a40d_11eb_b643_b89a2abca9acrow7_col1\" class=\"data row7 col1\" >-</td>\n",
       "                        <td id=\"T_119515e9_a40d_11eb_b643_b89a2abca9acrow7_col2\" class=\"data row7 col2\" >0.813953</td>\n",
       "                        <td id=\"T_119515e9_a40d_11eb_b643_b89a2abca9acrow7_col3\" class=\"data row7 col3\" >0.896374</td>\n",
       "            </tr>\n",
       "            <tr>\n",
       "                        <th id=\"T_119515e9_a40d_11eb_b643_b89a2abca9aclevel0_row8\" class=\"row_heading level0 row8\" >8</th>\n",
       "                        <td id=\"T_119515e9_a40d_11eb_b643_b89a2abca9acrow8_col0\" class=\"data row8 col0\" >Random Forest (Randomised Search)</td>\n",
       "                        <td id=\"T_119515e9_a40d_11eb_b643_b89a2abca9acrow8_col1\" class=\"data row8 col1\" >-</td>\n",
       "                        <td id=\"T_119515e9_a40d_11eb_b643_b89a2abca9acrow8_col2\" class=\"data row8 col2\" >0.825581</td>\n",
       "                        <td id=\"T_119515e9_a40d_11eb_b643_b89a2abca9acrow8_col3\" class=\"data row8 col3\" >0.917208</td>\n",
       "            </tr>\n",
       "            <tr>\n",
       "                        <th id=\"T_119515e9_a40d_11eb_b643_b89a2abca9aclevel0_row9\" class=\"row_heading level0 row9\" >9</th>\n",
       "                        <td id=\"T_119515e9_a40d_11eb_b643_b89a2abca9acrow9_col0\" class=\"data row9 col0\" >Adaboost (Base Model)</td>\n",
       "                        <td id=\"T_119515e9_a40d_11eb_b643_b89a2abca9acrow9_col1\" class=\"data row9 col1\" >-</td>\n",
       "                        <td id=\"T_119515e9_a40d_11eb_b643_b89a2abca9acrow9_col2\" class=\"data row9 col2\" >0.790698</td>\n",
       "                        <td id=\"T_119515e9_a40d_11eb_b643_b89a2abca9acrow9_col3\" class=\"data row9 col3\" >0.845238</td>\n",
       "            </tr>\n",
       "            <tr>\n",
       "                        <th id=\"T_119515e9_a40d_11eb_b643_b89a2abca9aclevel0_row10\" class=\"row_heading level0 row10\" >10</th>\n",
       "                        <td id=\"T_119515e9_a40d_11eb_b643_b89a2abca9acrow10_col0\" class=\"data row10 col0\" >Adaboost (Randomised Search)</td>\n",
       "                        <td id=\"T_119515e9_a40d_11eb_b643_b89a2abca9acrow10_col1\" class=\"data row10 col1\" >-</td>\n",
       "                        <td id=\"T_119515e9_a40d_11eb_b643_b89a2abca9acrow10_col2\" class=\"data row10 col2\" >0.848837</td>\n",
       "                        <td id=\"T_119515e9_a40d_11eb_b643_b89a2abca9acrow10_col3\" class=\"data row10 col3\" >0.910714</td>\n",
       "            </tr>\n",
       "            <tr>\n",
       "                        <th id=\"T_119515e9_a40d_11eb_b643_b89a2abca9aclevel0_row11\" class=\"row_heading level0 row11\" >11</th>\n",
       "                        <td id=\"T_119515e9_a40d_11eb_b643_b89a2abca9acrow11_col0\" class=\"data row11 col0\" >XGBoost (Base Model)</td>\n",
       "                        <td id=\"T_119515e9_a40d_11eb_b643_b89a2abca9acrow11_col1\" class=\"data row11 col1\" >-</td>\n",
       "                        <td id=\"T_119515e9_a40d_11eb_b643_b89a2abca9acrow11_col2\" class=\"data row11 col2\" >0.790698</td>\n",
       "                        <td id=\"T_119515e9_a40d_11eb_b643_b89a2abca9acrow11_col3\" class=\"data row11 col3\" >0.876082</td>\n",
       "            </tr>\n",
       "            <tr>\n",
       "                        <th id=\"T_119515e9_a40d_11eb_b643_b89a2abca9aclevel0_row12\" class=\"row_heading level0 row12\" >12</th>\n",
       "                        <td id=\"T_119515e9_a40d_11eb_b643_b89a2abca9acrow12_col0\" class=\"data row12 col0\" >XGboost (Randomised Search)</td>\n",
       "                        <td id=\"T_119515e9_a40d_11eb_b643_b89a2abca9acrow12_col1\" class=\"data row12 col1\" >-</td>\n",
       "                        <td id=\"T_119515e9_a40d_11eb_b643_b89a2abca9acrow12_col2\" class=\"data row12 col2\" >0.813953</td>\n",
       "                        <td id=\"T_119515e9_a40d_11eb_b643_b89a2abca9acrow12_col3\" class=\"data row12 col3\" >0.915584</td>\n",
       "            </tr>\n",
       "            <tr>\n",
       "                        <th id=\"T_119515e9_a40d_11eb_b643_b89a2abca9aclevel0_row13\" class=\"row_heading level0 row13\" >13</th>\n",
       "                        <td id=\"T_119515e9_a40d_11eb_b643_b89a2abca9acrow13_col0\" class=\"data row13 col0\" >Stacking Model</td>\n",
       "                        <td id=\"T_119515e9_a40d_11eb_b643_b89a2abca9acrow13_col1\" class=\"data row13 col1\" >-</td>\n",
       "                        <td id=\"T_119515e9_a40d_11eb_b643_b89a2abca9acrow13_col2\" class=\"data row13 col2\" >0.825581</td>\n",
       "                        <td id=\"T_119515e9_a40d_11eb_b643_b89a2abca9acrow13_col3\" class=\"data row13 col3\" >0.899621</td>\n",
       "            </tr>\n",
       "    </tbody></table>"
      ],
      "text/plain": [
       "<pandas.io.formats.style.Styler at 0x1ed34877cd0>"
      ]
     },
     "execution_count": 104,
     "metadata": {},
     "output_type": "execute_result"
    }
   ],
   "source": [
    "score_card.style.highlight_max(['Auc Score'],color='skyblue')"
   ]
  },
  {
   "cell_type": "markdown",
   "metadata": {},
   "source": [
    "###### Inference : The model giving us the highest AUC score is Random Forest (Randomised Search) of 91% . Further cross validating this score for conformation."
   ]
  },
  {
   "cell_type": "markdown",
   "metadata": {},
   "source": [
    "## Cross Validating the AUC score :"
   ]
  },
  {
   "cell_type": "code",
   "execution_count": 132,
   "metadata": {},
   "outputs": [],
   "source": [
    "scores=cross_val_score(estimator=rf2,X=X_train,y=y_train,scoring='roc_auc',cv=10)"
   ]
  },
  {
   "cell_type": "code",
   "execution_count": 131,
   "metadata": {},
   "outputs": [
    {
     "name": "stdout",
     "output_type": "stream",
     "text": [
      "Minimum score: 0.7576\n",
      "Maximum score: 1.0\n",
      "Average score: 0.8819\n"
     ]
    }
   ],
   "source": [
    "print(\"Minimum score:\",round(scores.min(),4))\n",
    "print(\"Maximum score:\",round(scores.max(),4))\n",
    "print(\"Average score:\",round(scores.mean(),4))"
   ]
  },
  {
   "cell_type": "markdown",
   "metadata": {},
   "source": [
    "###### Inference : The average score obtained after cross_validation is 86% .This means the Random Forest (Randomised Search) model is overfitted."
   ]
  },
  {
   "cell_type": "markdown",
   "metadata": {},
   "source": [
    "### Looking at the Random Forest (Base Model) giving an AUC score of 89% "
   ]
  },
  {
   "cell_type": "code",
   "execution_count": 133,
   "metadata": {},
   "outputs": [],
   "source": [
    "scores=cross_val_score(estimator=rf1,X=X_train,y=y_train,scoring='roc_auc',cv=10)"
   ]
  },
  {
   "cell_type": "code",
   "execution_count": 134,
   "metadata": {
    "scrolled": true
   },
   "outputs": [
    {
     "name": "stdout",
     "output_type": "stream",
     "text": [
      "Minimum score: 0.7576\n",
      "Maximum score: 1.0\n",
      "Average score: 0.8819\n"
     ]
    }
   ],
   "source": [
    "print(\"Minimum score:\",round(scores.min(),4))\n",
    "print(\"Maximum score:\",round(scores.max(),4))\n",
    "print(\"Average score:\",round(scores.mean(),4))"
   ]
  },
  {
   "cell_type": "markdown",
   "metadata": {},
   "source": [
    "###### Inference : After cross validating the auc scores of the model  Random Forest (Base Model) we get an average score of 88% .This means the effect of over-fitting in this model is much lower than the previous model."
   ]
  },
  {
   "cell_type": "markdown",
   "metadata": {},
   "source": [
    "## Conclusion :"
   ]
  },
  {
   "cell_type": "code",
   "execution_count": 135,
   "metadata": {},
   "outputs": [
    {
     "data": {
      "text/html": [
       "<div>\n",
       "<style scoped>\n",
       "    .dataframe tbody tr th:only-of-type {\n",
       "        vertical-align: middle;\n",
       "    }\n",
       "\n",
       "    .dataframe tbody tr th {\n",
       "        vertical-align: top;\n",
       "    }\n",
       "\n",
       "    .dataframe thead th {\n",
       "        text-align: right;\n",
       "    }\n",
       "</style>\n",
       "<table border=\"1\" class=\"dataframe\">\n",
       "  <thead>\n",
       "    <tr style=\"text-align: right;\">\n",
       "      <th></th>\n",
       "      <th>Model Name</th>\n",
       "      <th>P-cutoff</th>\n",
       "      <th>Accuracy Score</th>\n",
       "      <th>Auc Score</th>\n",
       "    </tr>\n",
       "  </thead>\n",
       "  <tbody>\n",
       "    <tr>\n",
       "      <th>0</th>\n",
       "      <td>Logistic Regression (Base Model)</td>\n",
       "      <td>0.75</td>\n",
       "      <td>0.813953</td>\n",
       "      <td>0.883117</td>\n",
       "    </tr>\n",
       "    <tr>\n",
       "      <th>1</th>\n",
       "      <td>Logistic Regression (Feature Selection)</td>\n",
       "      <td>0.7</td>\n",
       "      <td>0.813953</td>\n",
       "      <td>0.879329</td>\n",
       "    </tr>\n",
       "    <tr>\n",
       "      <th>2</th>\n",
       "      <td>Naive Bayes</td>\n",
       "      <td>-</td>\n",
       "      <td>0.813953</td>\n",
       "      <td>0.891775</td>\n",
       "    </tr>\n",
       "    <tr>\n",
       "      <th>3</th>\n",
       "      <td>KNN</td>\n",
       "      <td>-</td>\n",
       "      <td>0.848837</td>\n",
       "      <td>0.916937</td>\n",
       "    </tr>\n",
       "    <tr>\n",
       "      <th>4</th>\n",
       "      <td>KNN (Grid Search)</td>\n",
       "      <td>-</td>\n",
       "      <td>0.837209</td>\n",
       "      <td>0.914502</td>\n",
       "    </tr>\n",
       "    <tr>\n",
       "      <th>5</th>\n",
       "      <td>Decision Tree (Base Model)</td>\n",
       "      <td>-</td>\n",
       "      <td>0.813953</td>\n",
       "      <td>0.813312</td>\n",
       "    </tr>\n",
       "    <tr>\n",
       "      <th>6</th>\n",
       "      <td>Decision Tree (Randomised Search)</td>\n",
       "      <td>-</td>\n",
       "      <td>0.848837</td>\n",
       "      <td>0.860390</td>\n",
       "    </tr>\n",
       "    <tr>\n",
       "      <th>7</th>\n",
       "      <td>Random Forest (Base Model)</td>\n",
       "      <td>-</td>\n",
       "      <td>0.813953</td>\n",
       "      <td>0.896374</td>\n",
       "    </tr>\n",
       "    <tr>\n",
       "      <th>8</th>\n",
       "      <td>Random Forest (Randomised Search)</td>\n",
       "      <td>-</td>\n",
       "      <td>0.825581</td>\n",
       "      <td>0.917208</td>\n",
       "    </tr>\n",
       "    <tr>\n",
       "      <th>9</th>\n",
       "      <td>Adaboost (Base Model)</td>\n",
       "      <td>-</td>\n",
       "      <td>0.790698</td>\n",
       "      <td>0.845238</td>\n",
       "    </tr>\n",
       "    <tr>\n",
       "      <th>10</th>\n",
       "      <td>Adaboost (Randomised Search)</td>\n",
       "      <td>-</td>\n",
       "      <td>0.848837</td>\n",
       "      <td>0.910714</td>\n",
       "    </tr>\n",
       "    <tr>\n",
       "      <th>11</th>\n",
       "      <td>XGBoost (Base Model)</td>\n",
       "      <td>-</td>\n",
       "      <td>0.790698</td>\n",
       "      <td>0.876082</td>\n",
       "    </tr>\n",
       "    <tr>\n",
       "      <th>12</th>\n",
       "      <td>XGboost (Randomised Search)</td>\n",
       "      <td>-</td>\n",
       "      <td>0.813953</td>\n",
       "      <td>0.915584</td>\n",
       "    </tr>\n",
       "    <tr>\n",
       "      <th>13</th>\n",
       "      <td>Stacking Model</td>\n",
       "      <td>-</td>\n",
       "      <td>0.825581</td>\n",
       "      <td>0.899621</td>\n",
       "    </tr>\n",
       "  </tbody>\n",
       "</table>\n",
       "</div>"
      ],
      "text/plain": [
       "                                 Model Name P-cutoff  Accuracy Score  \\\n",
       "0          Logistic Regression (Base Model)     0.75        0.813953   \n",
       "1   Logistic Regression (Feature Selection)      0.7        0.813953   \n",
       "2                              Naive Bayes         -        0.813953   \n",
       "3                                       KNN        -        0.848837   \n",
       "4                         KNN (Grid Search)        -        0.837209   \n",
       "5                Decision Tree (Base Model)        -        0.813953   \n",
       "6         Decision Tree (Randomised Search)        -        0.848837   \n",
       "7                Random Forest (Base Model)        -        0.813953   \n",
       "8         Random Forest (Randomised Search)        -        0.825581   \n",
       "9                     Adaboost (Base Model)        -        0.790698   \n",
       "10             Adaboost (Randomised Search)        -        0.848837   \n",
       "11                     XGBoost (Base Model)        -        0.790698   \n",
       "12              XGboost (Randomised Search)        -        0.813953   \n",
       "13                           Stacking Model        -        0.825581   \n",
       "\n",
       "    Auc Score  \n",
       "0    0.883117  \n",
       "1    0.879329  \n",
       "2    0.891775  \n",
       "3    0.916937  \n",
       "4    0.914502  \n",
       "5    0.813312  \n",
       "6    0.860390  \n",
       "7    0.896374  \n",
       "8    0.917208  \n",
       "9    0.845238  \n",
       "10   0.910714  \n",
       "11   0.876082  \n",
       "12   0.915584  \n",
       "13   0.899621  "
      ]
     },
     "execution_count": 135,
     "metadata": {},
     "output_type": "execute_result"
    }
   ],
   "source": [
    "score_card"
   ]
  },
  {
   "cell_type": "markdown",
   "metadata": {},
   "source": [
    "##### * The model Random Forest (Base Model) is considered best fitted since it gives an AUC of 89 % and an accuracy score of 81% .\n",
    "\n",
    "##### * The situation of over-fitting is doesn't arise in this model.\n",
    "\n",
    "##### * This also means the model has a comparitively lower variance and lower bias as compared to other models."
   ]
  },
  {
   "cell_type": "code",
   "execution_count": null,
   "metadata": {},
   "outputs": [],
   "source": []
  }
 ],
 "metadata": {
  "kernelspec": {
   "display_name": "Python 3",
   "language": "python",
   "name": "python3"
  },
  "language_info": {
   "codemirror_mode": {
    "name": "ipython",
    "version": 3
   },
   "file_extension": ".py",
   "mimetype": "text/x-python",
   "name": "python",
   "nbconvert_exporter": "python",
   "pygments_lexer": "ipython3",
   "version": "3.8.5"
  }
 },
 "nbformat": 4,
 "nbformat_minor": 4
}
