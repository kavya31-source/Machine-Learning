{
 "cells": [
  {
   "cell_type": "markdown",
   "metadata": {},
   "source": [
    "## Problem Statement:"
   ]
  },
  {
   "cell_type": "markdown",
   "metadata": {},
   "source": [
    " People coming from various states to Bangalore look for different kinds of housing all over the city. The dataset gives various details about the types of housings people coming to Bangalore generally look for,along with their pricings.I have built various regression models,evaluated the performance of  each of the models and finally found the best regression model so as to predict the price of the housing the people are looking for. "
   ]
  },
  {
   "cell_type": "markdown",
   "metadata": {},
   "source": [
    "#### Independent variables:"
   ]
  },
  {
   "cell_type": "markdown",
   "metadata": {},
   "source": [
    "area_type: Type of area surrounding the housing\n",
    "    \n",
    "availability: The availabilty status of the housing\n",
    "    \n",
    "location: Where in Bangalore is the housing located\n",
    "    \n",
    "size: Size of the house \n",
    "    \n",
    "society : Society name  of the respective house\n",
    "    \n",
    "total_sqft: Total square feet of the house\n",
    "    \n",
    "bath: Number of bathrooms in the house\n",
    "    \n",
    "balcony: Number of balconies in the house"
   ]
  },
  {
   "cell_type": "markdown",
   "metadata": {},
   "source": [
    "#### Dependent/Target variable:"
   ]
  },
  {
   "cell_type": "markdown",
   "metadata": {},
   "source": [
    "price: Price of the house."
   ]
  },
  {
   "cell_type": "markdown",
   "metadata": {},
   "source": [
    "## Importing Required Libraries:"
   ]
  },
  {
   "cell_type": "code",
   "execution_count": 1,
   "metadata": {},
   "outputs": [],
   "source": [
    "import pandas as pd\n",
    "import numpy as np\n",
    "import matplotlib.pyplot as plt\n",
    "import seaborn as sns\n",
    "plt.style.use('ggplot')\n",
    "from warnings import filterwarnings\n",
    "filterwarnings(\"ignore\")\n",
    "from category_encoders import TargetEncoder \n",
    "from sklearn.preprocessing import LabelEncoder\n",
    "from sklearn.preprocessing import MinMaxScaler\n",
    "from sklearn.model_selection import train_test_split,RandomizedSearchCV,GridSearchCV\n",
    "from sklearn.metrics import r2_score,mean_squared_error\n",
    "from sklearn.linear_model import LinearRegression,Ridge\n",
    "from sklearn.feature_selection import RFE\n",
    "from sklearn.svm import SVR\n",
    "from sklearn.tree import DecisionTreeRegressor\n",
    "from sklearn.ensemble import RandomForestRegressor,GradientBoostingRegressor,StackingRegressor\n",
    "from xgboost import XGBRegressor"
   ]
  },
  {
   "cell_type": "markdown",
   "metadata": {},
   "source": [
    "## Reading CSV File:"
   ]
  },
  {
   "cell_type": "code",
   "execution_count": 2,
   "metadata": {},
   "outputs": [
    {
     "data": {
      "text/html": [
       "<div>\n",
       "<style scoped>\n",
       "    .dataframe tbody tr th:only-of-type {\n",
       "        vertical-align: middle;\n",
       "    }\n",
       "\n",
       "    .dataframe tbody tr th {\n",
       "        vertical-align: top;\n",
       "    }\n",
       "\n",
       "    .dataframe thead th {\n",
       "        text-align: right;\n",
       "    }\n",
       "</style>\n",
       "<table border=\"1\" class=\"dataframe\">\n",
       "  <thead>\n",
       "    <tr style=\"text-align: right;\">\n",
       "      <th></th>\n",
       "      <th>area_type</th>\n",
       "      <th>availability</th>\n",
       "      <th>location</th>\n",
       "      <th>size</th>\n",
       "      <th>society</th>\n",
       "      <th>total_sqft</th>\n",
       "      <th>bath</th>\n",
       "      <th>balcony</th>\n",
       "      <th>price</th>\n",
       "    </tr>\n",
       "  </thead>\n",
       "  <tbody>\n",
       "    <tr>\n",
       "      <th>0</th>\n",
       "      <td>Super built-up  Area</td>\n",
       "      <td>19-Dec</td>\n",
       "      <td>Electronic City Phase II</td>\n",
       "      <td>2 BHK</td>\n",
       "      <td>Coomee</td>\n",
       "      <td>1056.0</td>\n",
       "      <td>2.0</td>\n",
       "      <td>1.0</td>\n",
       "      <td>39.07</td>\n",
       "    </tr>\n",
       "    <tr>\n",
       "      <th>1</th>\n",
       "      <td>Plot  Area</td>\n",
       "      <td>Ready To Move</td>\n",
       "      <td>Chikka Tirupathi</td>\n",
       "      <td>4 Bedroom</td>\n",
       "      <td>Theanmp</td>\n",
       "      <td>2600.0</td>\n",
       "      <td>5.0</td>\n",
       "      <td>3.0</td>\n",
       "      <td>120.00</td>\n",
       "    </tr>\n",
       "  </tbody>\n",
       "</table>\n",
       "</div>"
      ],
      "text/plain": [
       "              area_type   availability                  location       size  \\\n",
       "0  Super built-up  Area         19-Dec  Electronic City Phase II      2 BHK   \n",
       "1            Plot  Area  Ready To Move          Chikka Tirupathi  4 Bedroom   \n",
       "\n",
       "   society  total_sqft  bath  balcony   price  \n",
       "0  Coomee       1056.0   2.0      1.0   39.07  \n",
       "1  Theanmp      2600.0   5.0      3.0  120.00  "
      ]
     },
     "execution_count": 2,
     "metadata": {},
     "output_type": "execute_result"
    }
   ],
   "source": [
    "df_house=pd.read_csv(\"Train.csv\")\n",
    "# Top 5 rows\n",
    "df_house.head(2)"
   ]
  },
  {
   "cell_type": "code",
   "execution_count": 3,
   "metadata": {},
   "outputs": [
    {
     "data": {
      "text/html": [
       "<div>\n",
       "<style scoped>\n",
       "    .dataframe tbody tr th:only-of-type {\n",
       "        vertical-align: middle;\n",
       "    }\n",
       "\n",
       "    .dataframe tbody tr th {\n",
       "        vertical-align: top;\n",
       "    }\n",
       "\n",
       "    .dataframe thead th {\n",
       "        text-align: right;\n",
       "    }\n",
       "</style>\n",
       "<table border=\"1\" class=\"dataframe\">\n",
       "  <thead>\n",
       "    <tr style=\"text-align: right;\">\n",
       "      <th></th>\n",
       "      <th>area_type</th>\n",
       "      <th>availability</th>\n",
       "      <th>location</th>\n",
       "      <th>size</th>\n",
       "      <th>society</th>\n",
       "      <th>total_sqft</th>\n",
       "      <th>bath</th>\n",
       "      <th>balcony</th>\n",
       "      <th>price</th>\n",
       "    </tr>\n",
       "  </thead>\n",
       "  <tbody>\n",
       "    <tr>\n",
       "      <th>13318</th>\n",
       "      <td>Super built-up  Area</td>\n",
       "      <td>18-Jun</td>\n",
       "      <td>Padmanabhanagar</td>\n",
       "      <td>4 BHK</td>\n",
       "      <td>SollyCl</td>\n",
       "      <td>4689.0</td>\n",
       "      <td>4.0</td>\n",
       "      <td>1.0</td>\n",
       "      <td>488.0</td>\n",
       "    </tr>\n",
       "    <tr>\n",
       "      <th>13319</th>\n",
       "      <td>Super built-up  Area</td>\n",
       "      <td>Ready To Move</td>\n",
       "      <td>Doddathoguru</td>\n",
       "      <td>1 BHK</td>\n",
       "      <td>NaN</td>\n",
       "      <td>550.0</td>\n",
       "      <td>1.0</td>\n",
       "      <td>1.0</td>\n",
       "      <td>17.0</td>\n",
       "    </tr>\n",
       "  </tbody>\n",
       "</table>\n",
       "</div>"
      ],
      "text/plain": [
       "                  area_type   availability         location   size  society  \\\n",
       "13318  Super built-up  Area         18-Jun  Padmanabhanagar  4 BHK  SollyCl   \n",
       "13319  Super built-up  Area  Ready To Move     Doddathoguru  1 BHK      NaN   \n",
       "\n",
       "       total_sqft  bath  balcony  price  \n",
       "13318      4689.0   4.0      1.0  488.0  \n",
       "13319       550.0   1.0      1.0   17.0  "
      ]
     },
     "execution_count": 3,
     "metadata": {},
     "output_type": "execute_result"
    }
   ],
   "source": [
    "# Last 5 rows\n",
    "df_house.tail(2)"
   ]
  },
  {
   "cell_type": "code",
   "execution_count": 4,
   "metadata": {},
   "outputs": [
    {
     "data": {
      "text/plain": [
       "(13320, 9)"
      ]
     },
     "execution_count": 4,
     "metadata": {},
     "output_type": "execute_result"
    }
   ],
   "source": [
    "df_house.shape"
   ]
  },
  {
   "cell_type": "markdown",
   "metadata": {},
   "source": [
    "###### Inference: 13320 rows and 9 columns are present in the dataset."
   ]
  },
  {
   "cell_type": "markdown",
   "metadata": {},
   "source": [
    "## Null Value Treatment:"
   ]
  },
  {
   "cell_type": "code",
   "execution_count": 5,
   "metadata": {},
   "outputs": [
    {
     "name": "stdout",
     "output_type": "stream",
     "text": [
      "<class 'pandas.core.frame.DataFrame'>\n",
      "RangeIndex: 13320 entries, 0 to 13319\n",
      "Data columns (total 9 columns):\n",
      " #   Column        Non-Null Count  Dtype  \n",
      "---  ------        --------------  -----  \n",
      " 0   area_type     13320 non-null  object \n",
      " 1   availability  13320 non-null  object \n",
      " 2   location      13319 non-null  object \n",
      " 3   size          13304 non-null  object \n",
      " 4   society       7818 non-null   object \n",
      " 5   total_sqft    13320 non-null  float64\n",
      " 6   bath          13247 non-null  float64\n",
      " 7   balcony       12711 non-null  float64\n",
      " 8   price         13320 non-null  float64\n",
      "dtypes: float64(4), object(5)\n",
      "memory usage: 936.7+ KB\n"
     ]
    }
   ],
   "source": [
    "df_house.info()"
   ]
  },
  {
   "cell_type": "markdown",
   "metadata": {},
   "source": [
    "###### Inference: Using the info() function , we can see that few columns have null values in them . Also we can inspect if the datatypes of each variables are correct."
   ]
  },
  {
   "cell_type": "code",
   "execution_count": 6,
   "metadata": {},
   "outputs": [
    {
     "data": {
      "text/plain": [
       "area_type          0\n",
       "availability       0\n",
       "location           1\n",
       "size              16\n",
       "society         5502\n",
       "total_sqft         0\n",
       "bath              73\n",
       "balcony          609\n",
       "price              0\n",
       "dtype: int64"
      ]
     },
     "execution_count": 6,
     "metadata": {},
     "output_type": "execute_result"
    }
   ],
   "source": [
    "df_house.isnull().sum()"
   ]
  },
  {
   "cell_type": "code",
   "execution_count": 7,
   "metadata": {},
   "outputs": [],
   "source": [
    "df_house.drop(columns=['society'],axis=1,inplace=True)"
   ]
  },
  {
   "cell_type": "markdown",
   "metadata": {},
   "source": [
    "###### Inference: Since 'Society' variable has alot of null values in them and also the columns 'Location' has scome association with it , 'Society' variable has  been dropped."
   ]
  },
  {
   "cell_type": "code",
   "execution_count": 8,
   "metadata": {
    "scrolled": true
   },
   "outputs": [
    {
     "data": {
      "text/plain": [
       "0    2 BHK\n",
       "dtype: object"
      ]
     },
     "execution_count": 8,
     "metadata": {},
     "output_type": "execute_result"
    }
   ],
   "source": [
    "df_house['size'].mode()"
   ]
  },
  {
   "cell_type": "code",
   "execution_count": 9,
   "metadata": {},
   "outputs": [],
   "source": [
    "df_house['size'].fillna(\"2 BHK\",inplace=True)"
   ]
  },
  {
   "cell_type": "code",
   "execution_count": 10,
   "metadata": {},
   "outputs": [
    {
     "data": {
      "text/plain": [
       "0    Whitefield\n",
       "dtype: object"
      ]
     },
     "execution_count": 10,
     "metadata": {},
     "output_type": "execute_result"
    }
   ],
   "source": [
    "df_house['location'].mode()"
   ]
  },
  {
   "cell_type": "code",
   "execution_count": 11,
   "metadata": {},
   "outputs": [],
   "source": [
    "df_house['location'].fillna(\"Whitefield\",inplace=True)"
   ]
  },
  {
   "cell_type": "markdown",
   "metadata": {},
   "source": [
    "###### Inference: Null values in  'Size'  & 'Location' variable  has been replaced by it's respective mode since it is a categorical variables. "
   ]
  },
  {
   "cell_type": "code",
   "execution_count": 12,
   "metadata": {},
   "outputs": [],
   "source": [
    "df_house['bath'].fillna(df_house['bath'].mean(),inplace=True)"
   ]
  },
  {
   "cell_type": "code",
   "execution_count": 13,
   "metadata": {},
   "outputs": [],
   "source": [
    "df_house['balcony'].fillna(df_house['balcony'].mean(),inplace=True)"
   ]
  },
  {
   "cell_type": "markdown",
   "metadata": {},
   "source": [
    "###### Inference: Null values in variables 'Bath' & 'Balcony' have been replaced by their respective mean values ."
   ]
  },
  {
   "cell_type": "code",
   "execution_count": 14,
   "metadata": {},
   "outputs": [
    {
     "data": {
      "text/plain": [
       "area_type       0\n",
       "availability    0\n",
       "location        0\n",
       "size            0\n",
       "total_sqft      0\n",
       "bath            0\n",
       "balcony         0\n",
       "price           0\n",
       "dtype: int64"
      ]
     },
     "execution_count": 14,
     "metadata": {},
     "output_type": "execute_result"
    }
   ],
   "source": [
    "df_house.isnull().sum()"
   ]
  },
  {
   "cell_type": "markdown",
   "metadata": {},
   "source": [
    "###### Inference: Null values have been treated."
   ]
  },
  {
   "cell_type": "markdown",
   "metadata": {},
   "source": [
    "## Checking for Outliers:"
   ]
  },
  {
   "cell_type": "code",
   "execution_count": 15,
   "metadata": {
    "scrolled": false
   },
   "outputs": [
    {
     "data": {
      "image/png": "[encoded data removed]",
      "text/plain": [
       "<Figure size 1080x720 with 4 Axes>"
      ]
     },
     "metadata": {},
     "output_type": "display_data"
    }
   ],
   "source": [
    "# Checking the numerical independent variables for outliers\n",
    "df_num=df_house.select_dtypes(np.number)\n",
    "fig,ax=plt.subplots(2,2,figsize=(15,10))\n",
    "for i,ax in zip(df_num.columns,ax.flatten()):\n",
    "    x=sns.boxplot(df_num[i],ax=ax,palette='Dark2_r')\n",
    "plt.tight_layout(pad=4)"
   ]
  },
  {
   "cell_type": "markdown",
   "metadata": {},
   "source": [
    "###### Inference: As per the boxplots above the ' Total_Sqft' ,'Bath' and 'Price' variables has outliers in them."
   ]
  },
  {
   "cell_type": "markdown",
   "metadata": {},
   "source": [
    "## Exploratory Data Analysis:"
   ]
  },
  {
   "cell_type": "code",
   "execution_count": 16,
   "metadata": {},
   "outputs": [
    {
     "data": {
      "text/html": [
       "<div>\n",
       "<style scoped>\n",
       "    .dataframe tbody tr th:only-of-type {\n",
       "        vertical-align: middle;\n",
       "    }\n",
       "\n",
       "    .dataframe tbody tr th {\n",
       "        vertical-align: top;\n",
       "    }\n",
       "\n",
       "    .dataframe thead th {\n",
       "        text-align: right;\n",
       "    }\n",
       "</style>\n",
       "<table border=\"1\" class=\"dataframe\">\n",
       "  <thead>\n",
       "    <tr style=\"text-align: right;\">\n",
       "      <th></th>\n",
       "      <th>area_type</th>\n",
       "      <th>availability</th>\n",
       "      <th>location</th>\n",
       "      <th>size</th>\n",
       "    </tr>\n",
       "  </thead>\n",
       "  <tbody>\n",
       "    <tr>\n",
       "      <th>0</th>\n",
       "      <td>Super built-up  Area</td>\n",
       "      <td>19-Dec</td>\n",
       "      <td>Electronic City Phase II</td>\n",
       "      <td>2 BHK</td>\n",
       "    </tr>\n",
       "    <tr>\n",
       "      <th>1</th>\n",
       "      <td>Plot  Area</td>\n",
       "      <td>Ready To Move</td>\n",
       "      <td>Chikka Tirupathi</td>\n",
       "      <td>4 Bedroom</td>\n",
       "    </tr>\n",
       "  </tbody>\n",
       "</table>\n",
       "</div>"
      ],
      "text/plain": [
       "              area_type   availability                  location       size\n",
       "0  Super built-up  Area         19-Dec  Electronic City Phase II      2 BHK\n",
       "1            Plot  Area  Ready To Move          Chikka Tirupathi  4 Bedroom"
      ]
     },
     "execution_count": 16,
     "metadata": {},
     "output_type": "execute_result"
    }
   ],
   "source": [
    "df_cat=df_house.select_dtypes(np.object)\n",
    "df_cat.head(2)"
   ]
  },
  {
   "cell_type": "code",
   "execution_count": 17,
   "metadata": {},
   "outputs": [
    {
     "data": {
      "text/html": [
       "<div>\n",
       "<style scoped>\n",
       "    .dataframe tbody tr th:only-of-type {\n",
       "        vertical-align: middle;\n",
       "    }\n",
       "\n",
       "    .dataframe tbody tr th {\n",
       "        vertical-align: top;\n",
       "    }\n",
       "\n",
       "    .dataframe thead th {\n",
       "        text-align: right;\n",
       "    }\n",
       "</style>\n",
       "<table border=\"1\" class=\"dataframe\">\n",
       "  <thead>\n",
       "    <tr style=\"text-align: right;\">\n",
       "      <th></th>\n",
       "      <th>area_type</th>\n",
       "      <th>availability</th>\n",
       "      <th>location</th>\n",
       "      <th>size</th>\n",
       "    </tr>\n",
       "  </thead>\n",
       "  <tbody>\n",
       "    <tr>\n",
       "      <th>count</th>\n",
       "      <td>13320</td>\n",
       "      <td>13320</td>\n",
       "      <td>13320</td>\n",
       "      <td>13320</td>\n",
       "    </tr>\n",
       "    <tr>\n",
       "      <th>unique</th>\n",
       "      <td>4</td>\n",
       "      <td>81</td>\n",
       "      <td>1305</td>\n",
       "      <td>31</td>\n",
       "    </tr>\n",
       "    <tr>\n",
       "      <th>top</th>\n",
       "      <td>Super built-up  Area</td>\n",
       "      <td>Ready To Move</td>\n",
       "      <td>Whitefield</td>\n",
       "      <td>2 BHK</td>\n",
       "    </tr>\n",
       "    <tr>\n",
       "      <th>freq</th>\n",
       "      <td>8790</td>\n",
       "      <td>10581</td>\n",
       "      <td>541</td>\n",
       "      <td>5215</td>\n",
       "    </tr>\n",
       "  </tbody>\n",
       "</table>\n",
       "</div>"
      ],
      "text/plain": [
       "                   area_type   availability    location   size\n",
       "count                  13320          13320       13320  13320\n",
       "unique                     4             81        1305     31\n",
       "top     Super built-up  Area  Ready To Move  Whitefield  2 BHK\n",
       "freq                    8790          10581         541   5215"
      ]
     },
     "execution_count": 17,
     "metadata": {},
     "output_type": "execute_result"
    }
   ],
   "source": [
    "df_cat.describe()"
   ]
  },
  {
   "cell_type": "markdown",
   "metadata": {},
   "source": [
    "###### Inference: The count of each variable is given. The classes of each categorical variable is given along with the class with the highest frequency."
   ]
  },
  {
   "cell_type": "code",
   "execution_count": 18,
   "metadata": {},
   "outputs": [
    {
     "data": {
      "image/png": "[encoded data removed]",
      "text/plain": [
       "<Figure size 720x360 with 1 Axes>"
      ]
     },
     "metadata": {},
     "output_type": "display_data"
    }
   ],
   "source": [
    "plt.figure(figsize=(10,5))\n",
    "sns.barplot(df_house['area_type'],df_house['price'],palette='autumn')\n",
    "plt.show()"
   ]
  },
  {
   "cell_type": "markdown",
   "metadata": {},
   "source": [
    "###### Inference: The area type 'Plot Area' has the highest price as per the bar plot above."
   ]
  },
  {
   "cell_type": "code",
   "execution_count": 19,
   "metadata": {},
   "outputs": [
    {
     "data": {
      "image/png": "[encoded data removed]",
      "text/plain": [
       "<Figure size 720x360 with 1 Axes>"
      ]
     },
     "metadata": {},
     "output_type": "display_data"
    }
   ],
   "source": [
    "plt.figure(figsize=(10,5))\n",
    "sns.scatterplot(df_house['total_sqft'],df_house['price'],hue=df_house['area_type'])\n",
    "plt.show()"
   ]
  },
  {
   "cell_type": "markdown",
   "metadata": {},
   "source": [
    "###### Inference: As per the scatter plot above  different the area types with higher prices have a lower total square feet and the ones with higher total square feet have lower prices."
   ]
  },
  {
   "cell_type": "markdown",
   "metadata": {},
   "source": [
    "## Encoding Categorical Variables :"
   ]
  },
  {
   "cell_type": "code",
   "execution_count": 20,
   "metadata": {},
   "outputs": [
    {
     "data": {
      "text/html": [
       "<div>\n",
       "<style scoped>\n",
       "    .dataframe tbody tr th:only-of-type {\n",
       "        vertical-align: middle;\n",
       "    }\n",
       "\n",
       "    .dataframe tbody tr th {\n",
       "        vertical-align: top;\n",
       "    }\n",
       "\n",
       "    .dataframe thead th {\n",
       "        text-align: right;\n",
       "    }\n",
       "</style>\n",
       "<table border=\"1\" class=\"dataframe\">\n",
       "  <thead>\n",
       "    <tr style=\"text-align: right;\">\n",
       "      <th></th>\n",
       "      <th>area_type</th>\n",
       "      <th>availability</th>\n",
       "      <th>location</th>\n",
       "      <th>size</th>\n",
       "    </tr>\n",
       "  </thead>\n",
       "  <tbody>\n",
       "    <tr>\n",
       "      <th>0</th>\n",
       "      <td>92.971757</td>\n",
       "      <td>111.379351</td>\n",
       "      <td>48.316667</td>\n",
       "      <td>57.555944</td>\n",
       "    </tr>\n",
       "    <tr>\n",
       "      <th>1</th>\n",
       "      <td>208.495486</td>\n",
       "      <td>115.179137</td>\n",
       "      <td>115.015882</td>\n",
       "      <td>265.067379</td>\n",
       "    </tr>\n",
       "  </tbody>\n",
       "</table>\n",
       "</div>"
      ],
      "text/plain": [
       "    area_type  availability    location        size\n",
       "0   92.971757    111.379351   48.316667   57.555944\n",
       "1  208.495486    115.179137  115.015882  265.067379"
      ]
     },
     "execution_count": 20,
     "metadata": {},
     "output_type": "execute_result"
    }
   ],
   "source": [
    "# Encoding categorical data first by target encoding them \n",
    "enc=TargetEncoder()\n",
    "data_encode=enc.fit_transform(df_cat,df_house.iloc[:,[-1]])\n",
    "data_encode.head(2)"
   ]
  },
  {
   "cell_type": "code",
   "execution_count": 21,
   "metadata": {
    "scrolled": false
   },
   "outputs": [
    {
     "data": {
      "text/html": [
       "<div>\n",
       "<style scoped>\n",
       "    .dataframe tbody tr th:only-of-type {\n",
       "        vertical-align: middle;\n",
       "    }\n",
       "\n",
       "    .dataframe tbody tr th {\n",
       "        vertical-align: top;\n",
       "    }\n",
       "\n",
       "    .dataframe thead th {\n",
       "        text-align: right;\n",
       "    }\n",
       "</style>\n",
       "<table border=\"1\" class=\"dataframe\">\n",
       "  <thead>\n",
       "    <tr style=\"text-align: right;\">\n",
       "      <th></th>\n",
       "      <th>area_type</th>\n",
       "      <th>availability</th>\n",
       "      <th>location</th>\n",
       "      <th>size</th>\n",
       "    </tr>\n",
       "  </thead>\n",
       "  <tbody>\n",
       "    <tr>\n",
       "      <th>0</th>\n",
       "      <td>1</td>\n",
       "      <td>45</td>\n",
       "      <td>48</td>\n",
       "      <td>2</td>\n",
       "    </tr>\n",
       "    <tr>\n",
       "      <th>1</th>\n",
       "      <td>3</td>\n",
       "      <td>48</td>\n",
       "      <td>484</td>\n",
       "      <td>18</td>\n",
       "    </tr>\n",
       "  </tbody>\n",
       "</table>\n",
       "</div>"
      ],
      "text/plain": [
       "   area_type  availability  location  size\n",
       "0          1            45        48     2\n",
       "1          3            48       484    18"
      ]
     },
     "execution_count": 21,
     "metadata": {},
     "output_type": "execute_result"
    }
   ],
   "source": [
    "# Encoding the target encoded variables using Label Encoder so the it is encoded in an ascending order\n",
    "data_encoded=data_encode.apply(LabelEncoder().fit_transform)\n",
    "data_encoded.head(2)"
   ]
  },
  {
   "cell_type": "markdown",
   "metadata": {},
   "source": [
    "## Scaling Numerical Variables:"
   ]
  },
  {
   "cell_type": "code",
   "execution_count": 22,
   "metadata": {},
   "outputs": [
    {
     "data": {
      "text/html": [
       "<div>\n",
       "<style scoped>\n",
       "    .dataframe tbody tr th:only-of-type {\n",
       "        vertical-align: middle;\n",
       "    }\n",
       "\n",
       "    .dataframe tbody tr th {\n",
       "        vertical-align: top;\n",
       "    }\n",
       "\n",
       "    .dataframe thead th {\n",
       "        text-align: right;\n",
       "    }\n",
       "</style>\n",
       "<table border=\"1\" class=\"dataframe\">\n",
       "  <thead>\n",
       "    <tr style=\"text-align: right;\">\n",
       "      <th></th>\n",
       "      <th>total_sqft</th>\n",
       "      <th>bath</th>\n",
       "      <th>balcony</th>\n",
       "    </tr>\n",
       "  </thead>\n",
       "  <tbody>\n",
       "    <tr>\n",
       "      <th>0</th>\n",
       "      <td>1056.0</td>\n",
       "      <td>2.0</td>\n",
       "      <td>1.0</td>\n",
       "    </tr>\n",
       "    <tr>\n",
       "      <th>1</th>\n",
       "      <td>2600.0</td>\n",
       "      <td>5.0</td>\n",
       "      <td>3.0</td>\n",
       "    </tr>\n",
       "  </tbody>\n",
       "</table>\n",
       "</div>"
      ],
      "text/plain": [
       "   total_sqft  bath  balcony\n",
       "0      1056.0   2.0      1.0\n",
       "1      2600.0   5.0      3.0"
      ]
     },
     "execution_count": 22,
     "metadata": {},
     "output_type": "execute_result"
    }
   ],
   "source": [
    "df_num1=df_num.drop(columns=['price'])\n",
    "df_num1.head(2)"
   ]
  },
  {
   "cell_type": "code",
   "execution_count": 23,
   "metadata": {},
   "outputs": [
    {
     "data": {
      "text/html": [
       "<div>\n",
       "<style scoped>\n",
       "    .dataframe tbody tr th:only-of-type {\n",
       "        vertical-align: middle;\n",
       "    }\n",
       "\n",
       "    .dataframe tbody tr th {\n",
       "        vertical-align: top;\n",
       "    }\n",
       "\n",
       "    .dataframe thead th {\n",
       "        text-align: right;\n",
       "    }\n",
       "</style>\n",
       "<table border=\"1\" class=\"dataframe\">\n",
       "  <thead>\n",
       "    <tr style=\"text-align: right;\">\n",
       "      <th></th>\n",
       "      <th>total_sqft</th>\n",
       "      <th>bath</th>\n",
       "      <th>balcony</th>\n",
       "    </tr>\n",
       "  </thead>\n",
       "  <tbody>\n",
       "    <tr>\n",
       "      <th>0</th>\n",
       "      <td>0.020183</td>\n",
       "      <td>0.025641</td>\n",
       "      <td>0.333333</td>\n",
       "    </tr>\n",
       "    <tr>\n",
       "      <th>1</th>\n",
       "      <td>0.049722</td>\n",
       "      <td>0.102564</td>\n",
       "      <td>1.000000</td>\n",
       "    </tr>\n",
       "  </tbody>\n",
       "</table>\n",
       "</div>"
      ],
      "text/plain": [
       "   total_sqft      bath   balcony\n",
       "0    0.020183  0.025641  0.333333\n",
       "1    0.049722  0.102564  1.000000"
      ]
     },
     "execution_count": 23,
     "metadata": {},
     "output_type": "execute_result"
    }
   ],
   "source": [
    "# Scaling numerical variables using MinMaxScaler\n",
    "sc=MinMaxScaler()\n",
    "data_scaled=pd.DataFrame(sc.fit_transform(df_num1),columns=df_num1.columns)\n",
    "data_scaled.head(2)"
   ]
  },
  {
   "cell_type": "code",
   "execution_count": 24,
   "metadata": {},
   "outputs": [
    {
     "data": {
      "text/html": [
       "<div>\n",
       "<style scoped>\n",
       "    .dataframe tbody tr th:only-of-type {\n",
       "        vertical-align: middle;\n",
       "    }\n",
       "\n",
       "    .dataframe tbody tr th {\n",
       "        vertical-align: top;\n",
       "    }\n",
       "\n",
       "    .dataframe thead th {\n",
       "        text-align: right;\n",
       "    }\n",
       "</style>\n",
       "<table border=\"1\" class=\"dataframe\">\n",
       "  <thead>\n",
       "    <tr style=\"text-align: right;\">\n",
       "      <th></th>\n",
       "      <th>area_type</th>\n",
       "      <th>availability</th>\n",
       "      <th>location</th>\n",
       "      <th>size</th>\n",
       "      <th>total_sqft</th>\n",
       "      <th>bath</th>\n",
       "      <th>balcony</th>\n",
       "      <th>price</th>\n",
       "    </tr>\n",
       "  </thead>\n",
       "  <tbody>\n",
       "    <tr>\n",
       "      <th>0</th>\n",
       "      <td>1</td>\n",
       "      <td>45</td>\n",
       "      <td>48</td>\n",
       "      <td>2</td>\n",
       "      <td>0.020183</td>\n",
       "      <td>0.025641</td>\n",
       "      <td>0.333333</td>\n",
       "      <td>39.07</td>\n",
       "    </tr>\n",
       "    <tr>\n",
       "      <th>1</th>\n",
       "      <td>3</td>\n",
       "      <td>48</td>\n",
       "      <td>484</td>\n",
       "      <td>18</td>\n",
       "      <td>0.049722</td>\n",
       "      <td>0.102564</td>\n",
       "      <td>1.000000</td>\n",
       "      <td>120.00</td>\n",
       "    </tr>\n",
       "  </tbody>\n",
       "</table>\n",
       "</div>"
      ],
      "text/plain": [
       "   area_type  availability  location  size  total_sqft      bath   balcony  \\\n",
       "0          1            45        48     2    0.020183  0.025641  0.333333   \n",
       "1          3            48       484    18    0.049722  0.102564  1.000000   \n",
       "\n",
       "    price  \n",
       "0   39.07  \n",
       "1  120.00  "
      ]
     },
     "execution_count": 24,
     "metadata": {},
     "output_type": "execute_result"
    }
   ],
   "source": [
    "data_price=pd.concat([data_encoded,data_scaled,df_house.iloc[:,[-1]]],axis=1)\n",
    "data_price.head(2)"
   ]
  },
  {
   "cell_type": "markdown",
   "metadata": {},
   "source": [
    "## Splitting data into Train and Test :"
   ]
  },
  {
   "cell_type": "code",
   "execution_count": 25,
   "metadata": {
    "scrolled": true
   },
   "outputs": [
    {
     "name": "stdout",
     "output_type": "stream",
     "text": [
      "X train shape: (9324, 7)\n",
      "X test shape: (3996, 7)\n",
      "Y train shape: (9324,)\n",
      "Y test shape: (3996,)\n"
     ]
    }
   ],
   "source": [
    "#Independent variables\n",
    "X=data_price.drop(columns=['price'])\n",
    "\n",
    "#Dependent variable\n",
    "y=data_price['price']\n",
    "\n",
    "X_train,X_test,y_train,y_test=train_test_split(X,y,test_size=0.3,random_state=10)\n",
    "print(\"X train shape:\",X_train.shape)\n",
    "print(\"X test shape:\",X_test.shape)\n",
    "print(\"Y train shape:\",y_train.shape)\n",
    "print(\"Y test shape:\",y_test.shape)"
   ]
  },
  {
   "cell_type": "markdown",
   "metadata": {},
   "source": [
    "## Defining Functions to obtain scores of model :"
   ]
  },
  {
   "cell_type": "code",
   "execution_count": 26,
   "metadata": {},
   "outputs": [],
   "source": [
    "def get_train_score(model):\n",
    "    r2=round(model.score(X_train,y_train),4)\n",
    "    N=X_train.shape[0]\n",
    "    p=X_train.shape[1]\n",
    "    adj_r2=round(1 - ((1-r2)*(N-1)/(N-p-1)),4)\n",
    "    return ([r2,adj_r2])"
   ]
  },
  {
   "cell_type": "code",
   "execution_count": 27,
   "metadata": {},
   "outputs": [],
   "source": [
    "def get_test_rmse(model):\n",
    "    y_test_pred=model.predict(X_test)\n",
    "    mse_test=mean_squared_error(y_test,y_test_pred)\n",
    "    test_rmse=round(np.sqrt(mse_test),4)\n",
    "    return(test_rmse)"
   ]
  },
  {
   "cell_type": "code",
   "execution_count": 28,
   "metadata": {},
   "outputs": [],
   "source": [
    "score_card=pd.DataFrame(columns=[\"Model Name\",\"R2\",\"Adjusted R2\",\"Alpha when required\",\"Test Rmse\"])\n",
    "def update_score_card(algo_name,model,alpha='-'):\n",
    "    global score_card\n",
    "    \n",
    "    score_card=score_card.append({\"Model Name\":algo_name,\"R2\":get_train_score(model)[0],\n",
    "                                  \"Adjusted R2\":get_train_score(model)[1],\n",
    "                                 \"Alpha when required\":alpha,\"Test Rmse\":get_test_rmse(model)},ignore_index=True)\n",
    "    return score_card"
   ]
  },
  {
   "cell_type": "markdown",
   "metadata": {},
   "source": [
    "## Linear Regression (Base Model):"
   ]
  },
  {
   "cell_type": "code",
   "execution_count": 29,
   "metadata": {},
   "outputs": [
    {
     "data": {
      "text/plain": [
       "LinearRegression()"
      ]
     },
     "execution_count": 29,
     "metadata": {},
     "output_type": "execute_result"
    }
   ],
   "source": [
    "lin_reg1=LinearRegression()\n",
    "lin_reg1.fit(X_train,y_train)"
   ]
  },
  {
   "cell_type": "code",
   "execution_count": 30,
   "metadata": {},
   "outputs": [
    {
     "data": {
      "text/html": [
       "<div>\n",
       "<style scoped>\n",
       "    .dataframe tbody tr th:only-of-type {\n",
       "        vertical-align: middle;\n",
       "    }\n",
       "\n",
       "    .dataframe tbody tr th {\n",
       "        vertical-align: top;\n",
       "    }\n",
       "\n",
       "    .dataframe thead th {\n",
       "        text-align: right;\n",
       "    }\n",
       "</style>\n",
       "<table border=\"1\" class=\"dataframe\">\n",
       "  <thead>\n",
       "    <tr style=\"text-align: right;\">\n",
       "      <th></th>\n",
       "      <th>Model Name</th>\n",
       "      <th>R2</th>\n",
       "      <th>Adjusted R2</th>\n",
       "      <th>Alpha when required</th>\n",
       "      <th>Test Rmse</th>\n",
       "    </tr>\n",
       "  </thead>\n",
       "  <tbody>\n",
       "    <tr>\n",
       "      <th>0</th>\n",
       "      <td>Linear Regression (Base Model)</td>\n",
       "      <td>0.5316</td>\n",
       "      <td>0.5312</td>\n",
       "      <td>-</td>\n",
       "      <td>140.1678</td>\n",
       "    </tr>\n",
       "  </tbody>\n",
       "</table>\n",
       "</div>"
      ],
      "text/plain": [
       "                       Model Name      R2  Adjusted R2 Alpha when required  \\\n",
       "0  Linear Regression (Base Model)  0.5316       0.5312                   -   \n",
       "\n",
       "   Test Rmse  \n",
       "0   140.1678  "
      ]
     },
     "execution_count": 30,
     "metadata": {},
     "output_type": "execute_result"
    }
   ],
   "source": [
    "update_score_card(\"Linear Regression (Base Model)\",lin_reg1)"
   ]
  },
  {
   "cell_type": "markdown",
   "metadata": {},
   "source": [
    "###### Inference: The model score obtained after training the model using 70% data is 53% , adjusted R2 gives only slight change . The rmse is calculated from the remaining 30% of the data which is 140.1678."
   ]
  },
  {
   "cell_type": "markdown",
   "metadata": {},
   "source": [
    "## Improving the previous model :"
   ]
  },
  {
   "cell_type": "code",
   "execution_count": 31,
   "metadata": {},
   "outputs": [
    {
     "data": {
      "image/png": "[encoded data removed]",
      "text/plain": [
       "<Figure size 720x360 with 2 Axes>"
      ]
     },
     "metadata": {},
     "output_type": "display_data"
    }
   ],
   "source": [
    "plt.figure(figsize=(10,5))\n",
    "sns.heatmap(data_price.corr(),annot=True,cmap='YlGnBu_r')\n",
    "plt.show()"
   ]
  },
  {
   "cell_type": "markdown",
   "metadata": {},
   "source": [
    "###### Inference: As per the heatmap above, the variables 'location','size' ,'total_sqft' and 'bath' have a strong correlation with the target variable 'price'"
   ]
  },
  {
   "cell_type": "markdown",
   "metadata": {},
   "source": [
    "## Building a model using the above mentioned features :"
   ]
  },
  {
   "cell_type": "code",
   "execution_count": 32,
   "metadata": {},
   "outputs": [],
   "source": [
    "X_train=X_train.iloc[:,[2,3,4,5]]\n",
    "X_test=X_test.iloc[:,[2,3,4,5]]"
   ]
  },
  {
   "cell_type": "code",
   "execution_count": 33,
   "metadata": {},
   "outputs": [
    {
     "data": {
      "text/plain": [
       "LinearRegression()"
      ]
     },
     "execution_count": 33,
     "metadata": {},
     "output_type": "execute_result"
    }
   ],
   "source": [
    "lin_reg2=LinearRegression()\n",
    "lin_reg2.fit(X_train,y_train)"
   ]
  },
  {
   "cell_type": "code",
   "execution_count": 34,
   "metadata": {},
   "outputs": [
    {
     "data": {
      "text/html": [
       "<div>\n",
       "<style scoped>\n",
       "    .dataframe tbody tr th:only-of-type {\n",
       "        vertical-align: middle;\n",
       "    }\n",
       "\n",
       "    .dataframe tbody tr th {\n",
       "        vertical-align: top;\n",
       "    }\n",
       "\n",
       "    .dataframe thead th {\n",
       "        text-align: right;\n",
       "    }\n",
       "</style>\n",
       "<table border=\"1\" class=\"dataframe\">\n",
       "  <thead>\n",
       "    <tr style=\"text-align: right;\">\n",
       "      <th></th>\n",
       "      <th>Model Name</th>\n",
       "      <th>R2</th>\n",
       "      <th>Adjusted R2</th>\n",
       "      <th>Alpha when required</th>\n",
       "      <th>Test Rmse</th>\n",
       "    </tr>\n",
       "  </thead>\n",
       "  <tbody>\n",
       "    <tr>\n",
       "      <th>0</th>\n",
       "      <td>Linear Regression (Base Model)</td>\n",
       "      <td>0.5316</td>\n",
       "      <td>0.5312</td>\n",
       "      <td>-</td>\n",
       "      <td>140.1678</td>\n",
       "    </tr>\n",
       "    <tr>\n",
       "      <th>1</th>\n",
       "      <td>Linear Regression (Correlated Features)</td>\n",
       "      <td>0.5237</td>\n",
       "      <td>0.5235</td>\n",
       "      <td>-</td>\n",
       "      <td>138.9395</td>\n",
       "    </tr>\n",
       "  </tbody>\n",
       "</table>\n",
       "</div>"
      ],
      "text/plain": [
       "                                Model Name      R2  Adjusted R2  \\\n",
       "0           Linear Regression (Base Model)  0.5316       0.5312   \n",
       "1  Linear Regression (Correlated Features)  0.5237       0.5235   \n",
       "\n",
       "  Alpha when required  Test Rmse  \n",
       "0                   -   140.1678  \n",
       "1                   -   138.9395  "
      ]
     },
     "execution_count": 34,
     "metadata": {},
     "output_type": "execute_result"
    }
   ],
   "source": [
    "update_score_card(\"Linear Regression (Correlated Features)\",lin_reg2)"
   ]
  },
  {
   "cell_type": "markdown",
   "metadata": {},
   "source": [
    "###### Inference : On using just the features with high correlation with the target variable we get a reduction in both R2 and Adjusted R2 but also a slight reduction in Rmse."
   ]
  },
  {
   "cell_type": "markdown",
   "metadata": {},
   "source": [
    "## Feature Selection using Recursive Feature Elimination:"
   ]
  },
  {
   "cell_type": "code",
   "execution_count": 35,
   "metadata": {},
   "outputs": [
    {
     "data": {
      "text/plain": [
       "RFE(estimator=LinearRegression(), n_features_to_select=5)"
      ]
     },
     "execution_count": 35,
     "metadata": {},
     "output_type": "execute_result"
    }
   ],
   "source": [
    "X=data_price.drop(columns=['price'])\n",
    "y=data_price['price']\n",
    "X_train,X_test,y_train,y_test=train_test_split(X,y,test_size=0.3,random_state=10)\n",
    "lin_reg3=LinearRegression()\n",
    "rfe=RFE(estimator=lin_reg3,n_features_to_select=5)\n",
    "rfe.fit(X_train,y_train)"
   ]
  },
  {
   "cell_type": "code",
   "execution_count": 36,
   "metadata": {},
   "outputs": [
    {
     "data": {
      "text/plain": [
       "area_type       1\n",
       "availability    2\n",
       "location        3\n",
       "size            1\n",
       "total_sqft      1\n",
       "bath            1\n",
       "balcony         1\n",
       "dtype: int32"
      ]
     },
     "execution_count": 36,
     "metadata": {},
     "output_type": "execute_result"
    }
   ],
   "source": [
    "# RFE returns the ranking of each feature.\n",
    "sig_feat=pd.Series(rfe.ranking_,index=X_train.columns)\n",
    "sig_feat"
   ]
  },
  {
   "cell_type": "code",
   "execution_count": 37,
   "metadata": {},
   "outputs": [
    {
     "data": {
      "text/plain": [
       "Index(['area_type', 'size', 'total_sqft', 'bath', 'balcony'], dtype='object')"
      ]
     },
     "execution_count": 37,
     "metadata": {},
     "output_type": "execute_result"
    }
   ],
   "source": [
    "#Features with ranking 1 are selected for model training\n",
    "feat_1=sig_feat[sig_feat==1].index\n",
    "feat_1"
   ]
  },
  {
   "cell_type": "code",
   "execution_count": 38,
   "metadata": {},
   "outputs": [
    {
     "data": {
      "text/plain": [
       "LinearRegression()"
      ]
     },
     "execution_count": 38,
     "metadata": {},
     "output_type": "execute_result"
    }
   ],
   "source": [
    "X_train=X_train.loc[:,feat_1]\n",
    "X_test=X_test.loc[:,feat_1]\n",
    "lin_reg4=LinearRegression()\n",
    "lin_reg4.fit(X_train,y_train)"
   ]
  },
  {
   "cell_type": "code",
   "execution_count": 39,
   "metadata": {},
   "outputs": [
    {
     "data": {
      "text/html": [
       "<div>\n",
       "<style scoped>\n",
       "    .dataframe tbody tr th:only-of-type {\n",
       "        vertical-align: middle;\n",
       "    }\n",
       "\n",
       "    .dataframe tbody tr th {\n",
       "        vertical-align: top;\n",
       "    }\n",
       "\n",
       "    .dataframe thead th {\n",
       "        text-align: right;\n",
       "    }\n",
       "</style>\n",
       "<table border=\"1\" class=\"dataframe\">\n",
       "  <thead>\n",
       "    <tr style=\"text-align: right;\">\n",
       "      <th></th>\n",
       "      <th>Model Name</th>\n",
       "      <th>R2</th>\n",
       "      <th>Adjusted R2</th>\n",
       "      <th>Alpha when required</th>\n",
       "      <th>Test Rmse</th>\n",
       "    </tr>\n",
       "  </thead>\n",
       "  <tbody>\n",
       "    <tr>\n",
       "      <th>0</th>\n",
       "      <td>Linear Regression (Base Model)</td>\n",
       "      <td>0.5316</td>\n",
       "      <td>0.5312</td>\n",
       "      <td>-</td>\n",
       "      <td>140.1678</td>\n",
       "    </tr>\n",
       "    <tr>\n",
       "      <th>1</th>\n",
       "      <td>Linear Regression (Correlated Features)</td>\n",
       "      <td>0.5237</td>\n",
       "      <td>0.5235</td>\n",
       "      <td>-</td>\n",
       "      <td>138.9395</td>\n",
       "    </tr>\n",
       "    <tr>\n",
       "      <th>2</th>\n",
       "      <td>Linear Regression (RFE)</td>\n",
       "      <td>0.4916</td>\n",
       "      <td>0.4913</td>\n",
       "      <td>-</td>\n",
       "      <td>146.6281</td>\n",
       "    </tr>\n",
       "  </tbody>\n",
       "</table>\n",
       "</div>"
      ],
      "text/plain": [
       "                                Model Name      R2  Adjusted R2  \\\n",
       "0           Linear Regression (Base Model)  0.5316       0.5312   \n",
       "1  Linear Regression (Correlated Features)  0.5237       0.5235   \n",
       "2                  Linear Regression (RFE)  0.4916       0.4913   \n",
       "\n",
       "  Alpha when required  Test Rmse  \n",
       "0                   -   140.1678  \n",
       "1                   -   138.9395  \n",
       "2                   -   146.6281  "
      ]
     },
     "execution_count": 39,
     "metadata": {},
     "output_type": "execute_result"
    }
   ],
   "source": [
    "update_score_card(\"Linear Regression (RFE)\",lin_reg4)"
   ]
  },
  {
   "cell_type": "markdown",
   "metadata": {},
   "source": [
    "###### Inference: The R2 and Adjusted R2 have reduced even more and the Rmse has increased alot."
   ]
  },
  {
   "cell_type": "markdown",
   "metadata": {},
   "source": [
    "## Supervised Vector Regression (Base Model):"
   ]
  },
  {
   "cell_type": "code",
   "execution_count": 40,
   "metadata": {},
   "outputs": [
    {
     "data": {
      "text/plain": [
       "SVR()"
      ]
     },
     "execution_count": 40,
     "metadata": {},
     "output_type": "execute_result"
    }
   ],
   "source": [
    "X=data_price.drop(columns=['price'])\n",
    "y=data_price['price']\n",
    "X_train,X_test,y_train,y_test=train_test_split(X,y,test_size=0.3,random_state=10)\n",
    "svm=SVR()\n",
    "svm.fit(X_train,y_train)"
   ]
  },
  {
   "cell_type": "code",
   "execution_count": 41,
   "metadata": {},
   "outputs": [
    {
     "data": {
      "text/html": [
       "<div>\n",
       "<style scoped>\n",
       "    .dataframe tbody tr th:only-of-type {\n",
       "        vertical-align: middle;\n",
       "    }\n",
       "\n",
       "    .dataframe tbody tr th {\n",
       "        vertical-align: top;\n",
       "    }\n",
       "\n",
       "    .dataframe thead th {\n",
       "        text-align: right;\n",
       "    }\n",
       "</style>\n",
       "<table border=\"1\" class=\"dataframe\">\n",
       "  <thead>\n",
       "    <tr style=\"text-align: right;\">\n",
       "      <th></th>\n",
       "      <th>Model Name</th>\n",
       "      <th>R2</th>\n",
       "      <th>Adjusted R2</th>\n",
       "      <th>Alpha when required</th>\n",
       "      <th>Test Rmse</th>\n",
       "    </tr>\n",
       "  </thead>\n",
       "  <tbody>\n",
       "    <tr>\n",
       "      <th>0</th>\n",
       "      <td>Linear Regression (Base Model)</td>\n",
       "      <td>0.5316</td>\n",
       "      <td>0.5312</td>\n",
       "      <td>-</td>\n",
       "      <td>140.1678</td>\n",
       "    </tr>\n",
       "    <tr>\n",
       "      <th>1</th>\n",
       "      <td>Linear Regression (Correlated Features)</td>\n",
       "      <td>0.5237</td>\n",
       "      <td>0.5235</td>\n",
       "      <td>-</td>\n",
       "      <td>138.9395</td>\n",
       "    </tr>\n",
       "    <tr>\n",
       "      <th>2</th>\n",
       "      <td>Linear Regression (RFE)</td>\n",
       "      <td>0.4916</td>\n",
       "      <td>0.4913</td>\n",
       "      <td>-</td>\n",
       "      <td>146.6281</td>\n",
       "    </tr>\n",
       "    <tr>\n",
       "      <th>3</th>\n",
       "      <td>SVR (Base Model)</td>\n",
       "      <td>0.1543</td>\n",
       "      <td>0.1537</td>\n",
       "      <td>-</td>\n",
       "      <td>157.0207</td>\n",
       "    </tr>\n",
       "  </tbody>\n",
       "</table>\n",
       "</div>"
      ],
      "text/plain": [
       "                                Model Name      R2  Adjusted R2  \\\n",
       "0           Linear Regression (Base Model)  0.5316       0.5312   \n",
       "1  Linear Regression (Correlated Features)  0.5237       0.5235   \n",
       "2                  Linear Regression (RFE)  0.4916       0.4913   \n",
       "3                         SVR (Base Model)  0.1543       0.1537   \n",
       "\n",
       "  Alpha when required  Test Rmse  \n",
       "0                   -   140.1678  \n",
       "1                   -   138.9395  \n",
       "2                   -   146.6281  \n",
       "3                   -   157.0207  "
      ]
     },
     "execution_count": 41,
     "metadata": {},
     "output_type": "execute_result"
    }
   ],
   "source": [
    "update_score_card(\"SVR (Base Model)\",svm)"
   ]
  },
  {
   "cell_type": "markdown",
   "metadata": {},
   "source": [
    "###### Inference: The scores obtained are the lowest and the rmse is the highest."
   ]
  },
  {
   "cell_type": "markdown",
   "metadata": {},
   "source": [
    "## Tuning Hyperparameters of Supervised Vector Regression:"
   ]
  },
  {
   "cell_type": "markdown",
   "metadata": {},
   "source": [
    "best_param=[{\"kernel\":['linear','rbf', 'sigmoid'],\"max_iter\":range(70,100)}]\n",
    "\n",
    "svm=SVR()\n",
    "\n",
    "gsearch=GridSearchCV(estimator=svm,param_grid=best_param)\n",
    "\n",
    "gsearch.fit(X_train,y_train)"
   ]
  },
  {
   "cell_type": "markdown",
   "metadata": {},
   "source": [
    "gsearch.best_params_"
   ]
  },
  {
   "cell_type": "code",
   "execution_count": 42,
   "metadata": {},
   "outputs": [],
   "source": [
    "best_params={'kernel': 'sigmoid', 'max_iter': 1000}"
   ]
  },
  {
   "cell_type": "code",
   "execution_count": 43,
   "metadata": {},
   "outputs": [
    {
     "data": {
      "text/plain": [
       "SVR(kernel='sigmoid', max_iter=1000)"
      ]
     },
     "execution_count": 43,
     "metadata": {},
     "output_type": "execute_result"
    }
   ],
   "source": [
    "# Using the parameters obtained\n",
    "svm1=SVR(**best_params)\n",
    "svm1.fit(X_train,y_train)"
   ]
  },
  {
   "cell_type": "code",
   "execution_count": 44,
   "metadata": {},
   "outputs": [
    {
     "data": {
      "text/html": [
       "<div>\n",
       "<style scoped>\n",
       "    .dataframe tbody tr th:only-of-type {\n",
       "        vertical-align: middle;\n",
       "    }\n",
       "\n",
       "    .dataframe tbody tr th {\n",
       "        vertical-align: top;\n",
       "    }\n",
       "\n",
       "    .dataframe thead th {\n",
       "        text-align: right;\n",
       "    }\n",
       "</style>\n",
       "<table border=\"1\" class=\"dataframe\">\n",
       "  <thead>\n",
       "    <tr style=\"text-align: right;\">\n",
       "      <th></th>\n",
       "      <th>Model Name</th>\n",
       "      <th>R2</th>\n",
       "      <th>Adjusted R2</th>\n",
       "      <th>Alpha when required</th>\n",
       "      <th>Test Rmse</th>\n",
       "    </tr>\n",
       "  </thead>\n",
       "  <tbody>\n",
       "    <tr>\n",
       "      <th>0</th>\n",
       "      <td>Linear Regression (Base Model)</td>\n",
       "      <td>0.5316</td>\n",
       "      <td>0.5312</td>\n",
       "      <td>-</td>\n",
       "      <td>140.1678</td>\n",
       "    </tr>\n",
       "    <tr>\n",
       "      <th>1</th>\n",
       "      <td>Linear Regression (Correlated Features)</td>\n",
       "      <td>0.5237</td>\n",
       "      <td>0.5235</td>\n",
       "      <td>-</td>\n",
       "      <td>138.9395</td>\n",
       "    </tr>\n",
       "    <tr>\n",
       "      <th>2</th>\n",
       "      <td>Linear Regression (RFE)</td>\n",
       "      <td>0.4916</td>\n",
       "      <td>0.4913</td>\n",
       "      <td>-</td>\n",
       "      <td>146.6281</td>\n",
       "    </tr>\n",
       "    <tr>\n",
       "      <th>3</th>\n",
       "      <td>SVR (Base Model)</td>\n",
       "      <td>0.1543</td>\n",
       "      <td>0.1537</td>\n",
       "      <td>-</td>\n",
       "      <td>157.0207</td>\n",
       "    </tr>\n",
       "    <tr>\n",
       "      <th>4</th>\n",
       "      <td>SVR (Grid Search)</td>\n",
       "      <td>-0.4886</td>\n",
       "      <td>-0.4897</td>\n",
       "      <td>-</td>\n",
       "      <td>196.0099</td>\n",
       "    </tr>\n",
       "  </tbody>\n",
       "</table>\n",
       "</div>"
      ],
      "text/plain": [
       "                                Model Name      R2  Adjusted R2  \\\n",
       "0           Linear Regression (Base Model)  0.5316       0.5312   \n",
       "1  Linear Regression (Correlated Features)  0.5237       0.5235   \n",
       "2                  Linear Regression (RFE)  0.4916       0.4913   \n",
       "3                         SVR (Base Model)  0.1543       0.1537   \n",
       "4                        SVR (Grid Search) -0.4886      -0.4897   \n",
       "\n",
       "  Alpha when required  Test Rmse  \n",
       "0                   -   140.1678  \n",
       "1                   -   138.9395  \n",
       "2                   -   146.6281  \n",
       "3                   -   157.0207  \n",
       "4                   -   196.0099  "
      ]
     },
     "execution_count": 44,
     "metadata": {},
     "output_type": "execute_result"
    }
   ],
   "source": [
    "update_score_card(\"SVR (Grid Search)\",svm1)"
   ]
  },
  {
   "cell_type": "markdown",
   "metadata": {},
   "source": [
    "###### Inference: The scores obtained are the -ve and the rmse is the highest. This model is not suitable."
   ]
  },
  {
   "cell_type": "markdown",
   "metadata": {},
   "source": [
    "## Decision Tree Regression (Base Model):"
   ]
  },
  {
   "cell_type": "code",
   "execution_count": 45,
   "metadata": {},
   "outputs": [
    {
     "data": {
      "text/plain": [
       "DecisionTreeRegressor(random_state=10)"
      ]
     },
     "execution_count": 45,
     "metadata": {},
     "output_type": "execute_result"
    }
   ],
   "source": [
    "tree1=DecisionTreeRegressor(random_state=10)\n",
    "tree1.fit(X_train,y_train)"
   ]
  },
  {
   "cell_type": "code",
   "execution_count": 46,
   "metadata": {},
   "outputs": [
    {
     "data": {
      "text/html": [
       "<div>\n",
       "<style scoped>\n",
       "    .dataframe tbody tr th:only-of-type {\n",
       "        vertical-align: middle;\n",
       "    }\n",
       "\n",
       "    .dataframe tbody tr th {\n",
       "        vertical-align: top;\n",
       "    }\n",
       "\n",
       "    .dataframe thead th {\n",
       "        text-align: right;\n",
       "    }\n",
       "</style>\n",
       "<table border=\"1\" class=\"dataframe\">\n",
       "  <thead>\n",
       "    <tr style=\"text-align: right;\">\n",
       "      <th></th>\n",
       "      <th>Model Name</th>\n",
       "      <th>R2</th>\n",
       "      <th>Adjusted R2</th>\n",
       "      <th>Alpha when required</th>\n",
       "      <th>Test Rmse</th>\n",
       "    </tr>\n",
       "  </thead>\n",
       "  <tbody>\n",
       "    <tr>\n",
       "      <th>0</th>\n",
       "      <td>Linear Regression (Base Model)</td>\n",
       "      <td>0.5316</td>\n",
       "      <td>0.5312</td>\n",
       "      <td>-</td>\n",
       "      <td>140.1678</td>\n",
       "    </tr>\n",
       "    <tr>\n",
       "      <th>1</th>\n",
       "      <td>Linear Regression (Correlated Features)</td>\n",
       "      <td>0.5237</td>\n",
       "      <td>0.5235</td>\n",
       "      <td>-</td>\n",
       "      <td>138.9395</td>\n",
       "    </tr>\n",
       "    <tr>\n",
       "      <th>2</th>\n",
       "      <td>Linear Regression (RFE)</td>\n",
       "      <td>0.4916</td>\n",
       "      <td>0.4913</td>\n",
       "      <td>-</td>\n",
       "      <td>146.6281</td>\n",
       "    </tr>\n",
       "    <tr>\n",
       "      <th>3</th>\n",
       "      <td>SVR (Base Model)</td>\n",
       "      <td>0.1543</td>\n",
       "      <td>0.1537</td>\n",
       "      <td>-</td>\n",
       "      <td>157.0207</td>\n",
       "    </tr>\n",
       "    <tr>\n",
       "      <th>4</th>\n",
       "      <td>SVR (Grid Search)</td>\n",
       "      <td>-0.4886</td>\n",
       "      <td>-0.4897</td>\n",
       "      <td>-</td>\n",
       "      <td>196.0099</td>\n",
       "    </tr>\n",
       "    <tr>\n",
       "      <th>5</th>\n",
       "      <td>Decision Tree Regressor(Base Model)</td>\n",
       "      <td>0.9985</td>\n",
       "      <td>0.9985</td>\n",
       "      <td>-</td>\n",
       "      <td>90.3204</td>\n",
       "    </tr>\n",
       "  </tbody>\n",
       "</table>\n",
       "</div>"
      ],
      "text/plain": [
       "                                Model Name      R2  Adjusted R2  \\\n",
       "0           Linear Regression (Base Model)  0.5316       0.5312   \n",
       "1  Linear Regression (Correlated Features)  0.5237       0.5235   \n",
       "2                  Linear Regression (RFE)  0.4916       0.4913   \n",
       "3                         SVR (Base Model)  0.1543       0.1537   \n",
       "4                        SVR (Grid Search) -0.4886      -0.4897   \n",
       "5      Decision Tree Regressor(Base Model)  0.9985       0.9985   \n",
       "\n",
       "  Alpha when required  Test Rmse  \n",
       "0                   -   140.1678  \n",
       "1                   -   138.9395  \n",
       "2                   -   146.6281  \n",
       "3                   -   157.0207  \n",
       "4                   -   196.0099  \n",
       "5                   -    90.3204  "
      ]
     },
     "execution_count": 46,
     "metadata": {},
     "output_type": "execute_result"
    }
   ],
   "source": [
    "update_score_card(\"Decision Tree Regressor(Base Model)\",tree1)"
   ]
  },
  {
   "cell_type": "markdown",
   "metadata": {},
   "source": [
    "###### Inference : The R2 and Adjusted R2 are 99% .However decision tree is highly prone to over-fitting and so tuning of hyperparameters is necessary."
   ]
  },
  {
   "cell_type": "markdown",
   "metadata": {},
   "source": [
    "## Tuning Hyperparameters of Decision Tree Regression :"
   ]
  },
  {
   "cell_type": "markdown",
   "metadata": {},
   "source": [
    "best_param=[{\"max_depth\":range(1,20),\"max_features\":range(1,8),\"max_leaf_nodes\":range(2,10)}]\n",
    "\n",
    "tree2=DecisionTreeRegressor(random_state=10)\n",
    "\n",
    "rsearch=RandomizedSearchCV(estimator=tree2,param_distributions=best_param)\n",
    "\n",
    "rsearch.fit(X_train,y_train)"
   ]
  },
  {
   "cell_type": "markdown",
   "metadata": {},
   "source": [
    "rsearch.best_params_"
   ]
  },
  {
   "cell_type": "code",
   "execution_count": 47,
   "metadata": {},
   "outputs": [],
   "source": [
    "# Using the best parameters above for model building\n",
    "best_param={'max_leaf_nodes': 6, 'max_features': 6, 'max_depth': 10}"
   ]
  },
  {
   "cell_type": "code",
   "execution_count": 48,
   "metadata": {},
   "outputs": [
    {
     "data": {
      "text/plain": [
       "DecisionTreeRegressor(max_depth=10, max_features=6, max_leaf_nodes=6,\n",
       "                      random_state=10)"
      ]
     },
     "execution_count": 48,
     "metadata": {},
     "output_type": "execute_result"
    }
   ],
   "source": [
    "tree2=DecisionTreeRegressor(random_state=10,**best_param)\n",
    "tree2.fit(X_train,y_train)"
   ]
  },
  {
   "cell_type": "code",
   "execution_count": 49,
   "metadata": {},
   "outputs": [
    {
     "data": {
      "text/html": [
       "<div>\n",
       "<style scoped>\n",
       "    .dataframe tbody tr th:only-of-type {\n",
       "        vertical-align: middle;\n",
       "    }\n",
       "\n",
       "    .dataframe tbody tr th {\n",
       "        vertical-align: top;\n",
       "    }\n",
       "\n",
       "    .dataframe thead th {\n",
       "        text-align: right;\n",
       "    }\n",
       "</style>\n",
       "<table border=\"1\" class=\"dataframe\">\n",
       "  <thead>\n",
       "    <tr style=\"text-align: right;\">\n",
       "      <th></th>\n",
       "      <th>Model Name</th>\n",
       "      <th>R2</th>\n",
       "      <th>Adjusted R2</th>\n",
       "      <th>Alpha when required</th>\n",
       "      <th>Test Rmse</th>\n",
       "    </tr>\n",
       "  </thead>\n",
       "  <tbody>\n",
       "    <tr>\n",
       "      <th>0</th>\n",
       "      <td>Linear Regression (Base Model)</td>\n",
       "      <td>0.5316</td>\n",
       "      <td>0.5312</td>\n",
       "      <td>-</td>\n",
       "      <td>140.1678</td>\n",
       "    </tr>\n",
       "    <tr>\n",
       "      <th>1</th>\n",
       "      <td>Linear Regression (Correlated Features)</td>\n",
       "      <td>0.5237</td>\n",
       "      <td>0.5235</td>\n",
       "      <td>-</td>\n",
       "      <td>138.9395</td>\n",
       "    </tr>\n",
       "    <tr>\n",
       "      <th>2</th>\n",
       "      <td>Linear Regression (RFE)</td>\n",
       "      <td>0.4916</td>\n",
       "      <td>0.4913</td>\n",
       "      <td>-</td>\n",
       "      <td>146.6281</td>\n",
       "    </tr>\n",
       "    <tr>\n",
       "      <th>3</th>\n",
       "      <td>SVR (Base Model)</td>\n",
       "      <td>0.1543</td>\n",
       "      <td>0.1537</td>\n",
       "      <td>-</td>\n",
       "      <td>157.0207</td>\n",
       "    </tr>\n",
       "    <tr>\n",
       "      <th>4</th>\n",
       "      <td>SVR (Grid Search)</td>\n",
       "      <td>-0.4886</td>\n",
       "      <td>-0.4897</td>\n",
       "      <td>-</td>\n",
       "      <td>196.0099</td>\n",
       "    </tr>\n",
       "    <tr>\n",
       "      <th>5</th>\n",
       "      <td>Decision Tree Regressor(Base Model)</td>\n",
       "      <td>0.9985</td>\n",
       "      <td>0.9985</td>\n",
       "      <td>-</td>\n",
       "      <td>90.3204</td>\n",
       "    </tr>\n",
       "    <tr>\n",
       "      <th>6</th>\n",
       "      <td>Decision Tree Regressor(Randomized Search)</td>\n",
       "      <td>0.6241</td>\n",
       "      <td>0.6238</td>\n",
       "      <td>-</td>\n",
       "      <td>97.3690</td>\n",
       "    </tr>\n",
       "  </tbody>\n",
       "</table>\n",
       "</div>"
      ],
      "text/plain": [
       "                                   Model Name      R2  Adjusted R2  \\\n",
       "0              Linear Regression (Base Model)  0.5316       0.5312   \n",
       "1     Linear Regression (Correlated Features)  0.5237       0.5235   \n",
       "2                     Linear Regression (RFE)  0.4916       0.4913   \n",
       "3                            SVR (Base Model)  0.1543       0.1537   \n",
       "4                           SVR (Grid Search) -0.4886      -0.4897   \n",
       "5         Decision Tree Regressor(Base Model)  0.9985       0.9985   \n",
       "6  Decision Tree Regressor(Randomized Search)  0.6241       0.6238   \n",
       "\n",
       "  Alpha when required  Test Rmse  \n",
       "0                   -   140.1678  \n",
       "1                   -   138.9395  \n",
       "2                   -   146.6281  \n",
       "3                   -   157.0207  \n",
       "4                   -   196.0099  \n",
       "5                   -    90.3204  \n",
       "6                   -    97.3690  "
      ]
     },
     "execution_count": 49,
     "metadata": {},
     "output_type": "execute_result"
    }
   ],
   "source": [
    "update_score_card(\"Decision Tree Regressor(Randomized Search)\",tree2)"
   ]
  },
  {
   "cell_type": "markdown",
   "metadata": {},
   "source": [
    "###### Inference: The model gives an R2 and Adjusted R2 of 62% and a rmse of 97.36."
   ]
  },
  {
   "cell_type": "markdown",
   "metadata": {},
   "source": [
    "#### Applying Regularization, Bagging & Boosting Techniques to further reduce the Rmse score "
   ]
  },
  {
   "cell_type": "markdown",
   "metadata": {},
   "source": [
    "## Regularizarion using Ridge Regression :"
   ]
  },
  {
   "cell_type": "code",
   "execution_count": 50,
   "metadata": {},
   "outputs": [
    {
     "data": {
      "text/plain": [
       "Ridge(random_state=10)"
      ]
     },
     "execution_count": 50,
     "metadata": {},
     "output_type": "execute_result"
    }
   ],
   "source": [
    "ridge=Ridge(random_state=10)\n",
    "ridge.fit(X_train,y_train)"
   ]
  },
  {
   "cell_type": "code",
   "execution_count": 51,
   "metadata": {},
   "outputs": [
    {
     "data": {
      "text/html": [
       "<div>\n",
       "<style scoped>\n",
       "    .dataframe tbody tr th:only-of-type {\n",
       "        vertical-align: middle;\n",
       "    }\n",
       "\n",
       "    .dataframe tbody tr th {\n",
       "        vertical-align: top;\n",
       "    }\n",
       "\n",
       "    .dataframe thead th {\n",
       "        text-align: right;\n",
       "    }\n",
       "</style>\n",
       "<table border=\"1\" class=\"dataframe\">\n",
       "  <thead>\n",
       "    <tr style=\"text-align: right;\">\n",
       "      <th></th>\n",
       "      <th>Model Name</th>\n",
       "      <th>R2</th>\n",
       "      <th>Adjusted R2</th>\n",
       "      <th>Alpha when required</th>\n",
       "      <th>Test Rmse</th>\n",
       "    </tr>\n",
       "  </thead>\n",
       "  <tbody>\n",
       "    <tr>\n",
       "      <th>0</th>\n",
       "      <td>Linear Regression (Base Model)</td>\n",
       "      <td>0.5316</td>\n",
       "      <td>0.5312</td>\n",
       "      <td>-</td>\n",
       "      <td>140.1678</td>\n",
       "    </tr>\n",
       "    <tr>\n",
       "      <th>1</th>\n",
       "      <td>Linear Regression (Correlated Features)</td>\n",
       "      <td>0.5237</td>\n",
       "      <td>0.5235</td>\n",
       "      <td>-</td>\n",
       "      <td>138.9395</td>\n",
       "    </tr>\n",
       "    <tr>\n",
       "      <th>2</th>\n",
       "      <td>Linear Regression (RFE)</td>\n",
       "      <td>0.4916</td>\n",
       "      <td>0.4913</td>\n",
       "      <td>-</td>\n",
       "      <td>146.6281</td>\n",
       "    </tr>\n",
       "    <tr>\n",
       "      <th>3</th>\n",
       "      <td>SVR (Base Model)</td>\n",
       "      <td>0.1543</td>\n",
       "      <td>0.1537</td>\n",
       "      <td>-</td>\n",
       "      <td>157.0207</td>\n",
       "    </tr>\n",
       "    <tr>\n",
       "      <th>4</th>\n",
       "      <td>SVR (Grid Search)</td>\n",
       "      <td>-0.4886</td>\n",
       "      <td>-0.4897</td>\n",
       "      <td>-</td>\n",
       "      <td>196.0099</td>\n",
       "    </tr>\n",
       "    <tr>\n",
       "      <th>5</th>\n",
       "      <td>Decision Tree Regressor(Base Model)</td>\n",
       "      <td>0.9985</td>\n",
       "      <td>0.9985</td>\n",
       "      <td>-</td>\n",
       "      <td>90.3204</td>\n",
       "    </tr>\n",
       "    <tr>\n",
       "      <th>6</th>\n",
       "      <td>Decision Tree Regressor(Randomized Search)</td>\n",
       "      <td>0.6241</td>\n",
       "      <td>0.6238</td>\n",
       "      <td>-</td>\n",
       "      <td>97.3690</td>\n",
       "    </tr>\n",
       "    <tr>\n",
       "      <th>7</th>\n",
       "      <td>Ridge Regression</td>\n",
       "      <td>0.5172</td>\n",
       "      <td>0.5168</td>\n",
       "      <td>1</td>\n",
       "      <td>131.5150</td>\n",
       "    </tr>\n",
       "  </tbody>\n",
       "</table>\n",
       "</div>"
      ],
      "text/plain": [
       "                                   Model Name      R2  Adjusted R2  \\\n",
       "0              Linear Regression (Base Model)  0.5316       0.5312   \n",
       "1     Linear Regression (Correlated Features)  0.5237       0.5235   \n",
       "2                     Linear Regression (RFE)  0.4916       0.4913   \n",
       "3                            SVR (Base Model)  0.1543       0.1537   \n",
       "4                           SVR (Grid Search) -0.4886      -0.4897   \n",
       "5         Decision Tree Regressor(Base Model)  0.9985       0.9985   \n",
       "6  Decision Tree Regressor(Randomized Search)  0.6241       0.6238   \n",
       "7                            Ridge Regression  0.5172       0.5168   \n",
       "\n",
       "  Alpha when required  Test Rmse  \n",
       "0                   -   140.1678  \n",
       "1                   -   138.9395  \n",
       "2                   -   146.6281  \n",
       "3                   -   157.0207  \n",
       "4                   -   196.0099  \n",
       "5                   -    90.3204  \n",
       "6                   -    97.3690  \n",
       "7                   1   131.5150  "
      ]
     },
     "execution_count": 51,
     "metadata": {},
     "output_type": "execute_result"
    }
   ],
   "source": [
    "update_score_card(\"Ridge Regression\",ridge,alpha=1)"
   ]
  },
  {
   "cell_type": "markdown",
   "metadata": {},
   "source": [
    "######  Inference: The scores obtained are not the best . Further tuning the hyperparameters."
   ]
  },
  {
   "cell_type": "markdown",
   "metadata": {},
   "source": [
    "## Tuning Hyperparameters of Ridge Regression :"
   ]
  },
  {
   "cell_type": "markdown",
   "metadata": {},
   "source": [
    "tuned_param=[{\"alpha\": [.001,.002,.003,.004,.005,.006,.007,.008,.009,.01,.02,.05,.1,.2,.5,1,2,5,10]}]\n",
    "\n",
    "ridge2=Ridge(random_state=10)\n",
    "\n",
    "gsearch=GridSearchCV(estimator=ridge2,param_grid=tuned_param)\n",
    "\n",
    "gsearch.fit(X_train,y_train)"
   ]
  },
  {
   "cell_type": "markdown",
   "metadata": {},
   "source": [
    "gsearch.best_params_"
   ]
  },
  {
   "cell_type": "code",
   "execution_count": 52,
   "metadata": {},
   "outputs": [],
   "source": [
    "# Using the best parameter obtained.\n",
    "best_params={'alpha': 0.2}"
   ]
  },
  {
   "cell_type": "code",
   "execution_count": 53,
   "metadata": {},
   "outputs": [
    {
     "data": {
      "text/plain": [
       "Ridge(alpha=0.2, random_state=10)"
      ]
     },
     "execution_count": 53,
     "metadata": {},
     "output_type": "execute_result"
    }
   ],
   "source": [
    "ridge2=Ridge(alpha=0.2,random_state=10)\n",
    "ridge2.fit(X_train,y_train)"
   ]
  },
  {
   "cell_type": "code",
   "execution_count": 54,
   "metadata": {},
   "outputs": [
    {
     "data": {
      "text/html": [
       "<div>\n",
       "<style scoped>\n",
       "    .dataframe tbody tr th:only-of-type {\n",
       "        vertical-align: middle;\n",
       "    }\n",
       "\n",
       "    .dataframe tbody tr th {\n",
       "        vertical-align: top;\n",
       "    }\n",
       "\n",
       "    .dataframe thead th {\n",
       "        text-align: right;\n",
       "    }\n",
       "</style>\n",
       "<table border=\"1\" class=\"dataframe\">\n",
       "  <thead>\n",
       "    <tr style=\"text-align: right;\">\n",
       "      <th></th>\n",
       "      <th>Model Name</th>\n",
       "      <th>R2</th>\n",
       "      <th>Adjusted R2</th>\n",
       "      <th>Alpha when required</th>\n",
       "      <th>Test Rmse</th>\n",
       "    </tr>\n",
       "  </thead>\n",
       "  <tbody>\n",
       "    <tr>\n",
       "      <th>0</th>\n",
       "      <td>Linear Regression (Base Model)</td>\n",
       "      <td>0.5316</td>\n",
       "      <td>0.5312</td>\n",
       "      <td>-</td>\n",
       "      <td>140.1678</td>\n",
       "    </tr>\n",
       "    <tr>\n",
       "      <th>1</th>\n",
       "      <td>Linear Regression (Correlated Features)</td>\n",
       "      <td>0.5237</td>\n",
       "      <td>0.5235</td>\n",
       "      <td>-</td>\n",
       "      <td>138.9395</td>\n",
       "    </tr>\n",
       "    <tr>\n",
       "      <th>2</th>\n",
       "      <td>Linear Regression (RFE)</td>\n",
       "      <td>0.4916</td>\n",
       "      <td>0.4913</td>\n",
       "      <td>-</td>\n",
       "      <td>146.6281</td>\n",
       "    </tr>\n",
       "    <tr>\n",
       "      <th>3</th>\n",
       "      <td>SVR (Base Model)</td>\n",
       "      <td>0.1543</td>\n",
       "      <td>0.1537</td>\n",
       "      <td>-</td>\n",
       "      <td>157.0207</td>\n",
       "    </tr>\n",
       "    <tr>\n",
       "      <th>4</th>\n",
       "      <td>SVR (Grid Search)</td>\n",
       "      <td>-0.4886</td>\n",
       "      <td>-0.4897</td>\n",
       "      <td>-</td>\n",
       "      <td>196.0099</td>\n",
       "    </tr>\n",
       "    <tr>\n",
       "      <th>5</th>\n",
       "      <td>Decision Tree Regressor(Base Model)</td>\n",
       "      <td>0.9985</td>\n",
       "      <td>0.9985</td>\n",
       "      <td>-</td>\n",
       "      <td>90.3204</td>\n",
       "    </tr>\n",
       "    <tr>\n",
       "      <th>6</th>\n",
       "      <td>Decision Tree Regressor(Randomized Search)</td>\n",
       "      <td>0.6241</td>\n",
       "      <td>0.6238</td>\n",
       "      <td>-</td>\n",
       "      <td>97.3690</td>\n",
       "    </tr>\n",
       "    <tr>\n",
       "      <th>7</th>\n",
       "      <td>Ridge Regression</td>\n",
       "      <td>0.5172</td>\n",
       "      <td>0.5168</td>\n",
       "      <td>1</td>\n",
       "      <td>131.5150</td>\n",
       "    </tr>\n",
       "    <tr>\n",
       "      <th>8</th>\n",
       "      <td>Ridge Regression (Grid Search)</td>\n",
       "      <td>0.5306</td>\n",
       "      <td>0.5302</td>\n",
       "      <td>0.2</td>\n",
       "      <td>137.3025</td>\n",
       "    </tr>\n",
       "  </tbody>\n",
       "</table>\n",
       "</div>"
      ],
      "text/plain": [
       "                                   Model Name      R2  Adjusted R2  \\\n",
       "0              Linear Regression (Base Model)  0.5316       0.5312   \n",
       "1     Linear Regression (Correlated Features)  0.5237       0.5235   \n",
       "2                     Linear Regression (RFE)  0.4916       0.4913   \n",
       "3                            SVR (Base Model)  0.1543       0.1537   \n",
       "4                           SVR (Grid Search) -0.4886      -0.4897   \n",
       "5         Decision Tree Regressor(Base Model)  0.9985       0.9985   \n",
       "6  Decision Tree Regressor(Randomized Search)  0.6241       0.6238   \n",
       "7                            Ridge Regression  0.5172       0.5168   \n",
       "8              Ridge Regression (Grid Search)  0.5306       0.5302   \n",
       "\n",
       "  Alpha when required  Test Rmse  \n",
       "0                   -   140.1678  \n",
       "1                   -   138.9395  \n",
       "2                   -   146.6281  \n",
       "3                   -   157.0207  \n",
       "4                   -   196.0099  \n",
       "5                   -    90.3204  \n",
       "6                   -    97.3690  \n",
       "7                   1   131.5150  \n",
       "8                 0.2   137.3025  "
      ]
     },
     "execution_count": 54,
     "metadata": {},
     "output_type": "execute_result"
    }
   ],
   "source": [
    "update_score_card(\"Ridge Regression (Grid Search)\",ridge2,alpha=0.2)"
   ]
  },
  {
   "cell_type": "markdown",
   "metadata": {},
   "source": [
    "###### Inference: The scores have improved from the last model but not enough."
   ]
  },
  {
   "cell_type": "markdown",
   "metadata": {},
   "source": [
    "## Random Forest Regression (Base Model) :"
   ]
  },
  {
   "cell_type": "code",
   "execution_count": 55,
   "metadata": {},
   "outputs": [
    {
     "data": {
      "text/plain": [
       "RandomForestRegressor(random_state=10)"
      ]
     },
     "execution_count": 55,
     "metadata": {},
     "output_type": "execute_result"
    }
   ],
   "source": [
    "rf=RandomForestRegressor(random_state=10)\n",
    "rf.fit(X_train,y_train)"
   ]
  },
  {
   "cell_type": "code",
   "execution_count": 56,
   "metadata": {},
   "outputs": [
    {
     "data": {
      "text/html": [
       "<div>\n",
       "<style scoped>\n",
       "    .dataframe tbody tr th:only-of-type {\n",
       "        vertical-align: middle;\n",
       "    }\n",
       "\n",
       "    .dataframe tbody tr th {\n",
       "        vertical-align: top;\n",
       "    }\n",
       "\n",
       "    .dataframe thead th {\n",
       "        text-align: right;\n",
       "    }\n",
       "</style>\n",
       "<table border=\"1\" class=\"dataframe\">\n",
       "  <thead>\n",
       "    <tr style=\"text-align: right;\">\n",
       "      <th></th>\n",
       "      <th>Model Name</th>\n",
       "      <th>R2</th>\n",
       "      <th>Adjusted R2</th>\n",
       "      <th>Alpha when required</th>\n",
       "      <th>Test Rmse</th>\n",
       "    </tr>\n",
       "  </thead>\n",
       "  <tbody>\n",
       "    <tr>\n",
       "      <th>0</th>\n",
       "      <td>Linear Regression (Base Model)</td>\n",
       "      <td>0.5316</td>\n",
       "      <td>0.5312</td>\n",
       "      <td>-</td>\n",
       "      <td>140.1678</td>\n",
       "    </tr>\n",
       "    <tr>\n",
       "      <th>1</th>\n",
       "      <td>Linear Regression (Correlated Features)</td>\n",
       "      <td>0.5237</td>\n",
       "      <td>0.5235</td>\n",
       "      <td>-</td>\n",
       "      <td>138.9395</td>\n",
       "    </tr>\n",
       "    <tr>\n",
       "      <th>2</th>\n",
       "      <td>Linear Regression (RFE)</td>\n",
       "      <td>0.4916</td>\n",
       "      <td>0.4913</td>\n",
       "      <td>-</td>\n",
       "      <td>146.6281</td>\n",
       "    </tr>\n",
       "    <tr>\n",
       "      <th>3</th>\n",
       "      <td>SVR (Base Model)</td>\n",
       "      <td>0.1543</td>\n",
       "      <td>0.1537</td>\n",
       "      <td>-</td>\n",
       "      <td>157.0207</td>\n",
       "    </tr>\n",
       "    <tr>\n",
       "      <th>4</th>\n",
       "      <td>SVR (Grid Search)</td>\n",
       "      <td>-0.4886</td>\n",
       "      <td>-0.4897</td>\n",
       "      <td>-</td>\n",
       "      <td>196.0099</td>\n",
       "    </tr>\n",
       "    <tr>\n",
       "      <th>5</th>\n",
       "      <td>Decision Tree Regressor(Base Model)</td>\n",
       "      <td>0.9985</td>\n",
       "      <td>0.9985</td>\n",
       "      <td>-</td>\n",
       "      <td>90.3204</td>\n",
       "    </tr>\n",
       "    <tr>\n",
       "      <th>6</th>\n",
       "      <td>Decision Tree Regressor(Randomized Search)</td>\n",
       "      <td>0.6241</td>\n",
       "      <td>0.6238</td>\n",
       "      <td>-</td>\n",
       "      <td>97.3690</td>\n",
       "    </tr>\n",
       "    <tr>\n",
       "      <th>7</th>\n",
       "      <td>Ridge Regression</td>\n",
       "      <td>0.5172</td>\n",
       "      <td>0.5168</td>\n",
       "      <td>1</td>\n",
       "      <td>131.5150</td>\n",
       "    </tr>\n",
       "    <tr>\n",
       "      <th>8</th>\n",
       "      <td>Ridge Regression (Grid Search)</td>\n",
       "      <td>0.5306</td>\n",
       "      <td>0.5302</td>\n",
       "      <td>0.2</td>\n",
       "      <td>137.3025</td>\n",
       "    </tr>\n",
       "    <tr>\n",
       "      <th>9</th>\n",
       "      <td>Random Forest Regressor(Base Model)</td>\n",
       "      <td>0.9603</td>\n",
       "      <td>0.9603</td>\n",
       "      <td>-</td>\n",
       "      <td>71.3185</td>\n",
       "    </tr>\n",
       "  </tbody>\n",
       "</table>\n",
       "</div>"
      ],
      "text/plain": [
       "                                   Model Name      R2  Adjusted R2  \\\n",
       "0              Linear Regression (Base Model)  0.5316       0.5312   \n",
       "1     Linear Regression (Correlated Features)  0.5237       0.5235   \n",
       "2                     Linear Regression (RFE)  0.4916       0.4913   \n",
       "3                            SVR (Base Model)  0.1543       0.1537   \n",
       "4                           SVR (Grid Search) -0.4886      -0.4897   \n",
       "5         Decision Tree Regressor(Base Model)  0.9985       0.9985   \n",
       "6  Decision Tree Regressor(Randomized Search)  0.6241       0.6238   \n",
       "7                            Ridge Regression  0.5172       0.5168   \n",
       "8              Ridge Regression (Grid Search)  0.5306       0.5302   \n",
       "9         Random Forest Regressor(Base Model)  0.9603       0.9603   \n",
       "\n",
       "  Alpha when required  Test Rmse  \n",
       "0                   -   140.1678  \n",
       "1                   -   138.9395  \n",
       "2                   -   146.6281  \n",
       "3                   -   157.0207  \n",
       "4                   -   196.0099  \n",
       "5                   -    90.3204  \n",
       "6                   -    97.3690  \n",
       "7                   1   131.5150  \n",
       "8                 0.2   137.3025  \n",
       "9                   -    71.3185  "
      ]
     },
     "execution_count": 56,
     "metadata": {},
     "output_type": "execute_result"
    }
   ],
   "source": [
    "update_score_card(\"Random Forest Regressor(Base Model)\",rf)"
   ]
  },
  {
   "cell_type": "markdown",
   "metadata": {},
   "source": [
    "###### Inference: The scores obtained are very good .Also the rmse value obtained is the lowest . In order to eliminate the doubt of overfitting, the hyperparameters will be tuned further."
   ]
  },
  {
   "cell_type": "markdown",
   "metadata": {},
   "source": [
    "## Tuning Hyperparameters of Random Forest Regressor:"
   ]
  },
  {
   "cell_type": "markdown",
   "metadata": {},
   "source": [
    "tuned_param=[{\"n_estimators\":range(100,200),\"max_depth\":range(5,11),\"max_features\":range(2,11),\"max_leaf_nodes\":range(5,30)}]\n",
    "\n",
    "rf2=RandomForestRegressor(random_state=10)\n",
    "\n",
    "rsearch=RandomizedSearchCV(estimator=rf2,param_distributions=tuned_param,cv=3,random_state=10)\n",
    "\n",
    "rsearch.fit(X_train,y_train)"
   ]
  },
  {
   "cell_type": "markdown",
   "metadata": {},
   "source": [
    "rsearch.best_params_"
   ]
  },
  {
   "cell_type": "code",
   "execution_count": 57,
   "metadata": {},
   "outputs": [
    {
     "data": {
      "text/plain": [
       "RandomForestRegressor(max_depth=5, max_features=5, max_leaf_nodes=23,\n",
       "                      n_estimators=172, random_state=10)"
      ]
     },
     "execution_count": 57,
     "metadata": {},
     "output_type": "execute_result"
    }
   ],
   "source": [
    "#Using the parameters obtained.\n",
    "best_param={'n_estimators': 172, 'max_leaf_nodes': 23, 'max_features': 5, 'max_depth': 5}\n",
    "rf2=RandomForestRegressor(random_state=10,**best_param)\n",
    "rf2.fit(X_train,y_train)"
   ]
  },
  {
   "cell_type": "code",
   "execution_count": 58,
   "metadata": {},
   "outputs": [
    {
     "data": {
      "text/html": [
       "<div>\n",
       "<style scoped>\n",
       "    .dataframe tbody tr th:only-of-type {\n",
       "        vertical-align: middle;\n",
       "    }\n",
       "\n",
       "    .dataframe tbody tr th {\n",
       "        vertical-align: top;\n",
       "    }\n",
       "\n",
       "    .dataframe thead th {\n",
       "        text-align: right;\n",
       "    }\n",
       "</style>\n",
       "<table border=\"1\" class=\"dataframe\">\n",
       "  <thead>\n",
       "    <tr style=\"text-align: right;\">\n",
       "      <th></th>\n",
       "      <th>Model Name</th>\n",
       "      <th>R2</th>\n",
       "      <th>Adjusted R2</th>\n",
       "      <th>Alpha when required</th>\n",
       "      <th>Test Rmse</th>\n",
       "    </tr>\n",
       "  </thead>\n",
       "  <tbody>\n",
       "    <tr>\n",
       "      <th>0</th>\n",
       "      <td>Linear Regression (Base Model)</td>\n",
       "      <td>0.5316</td>\n",
       "      <td>0.5312</td>\n",
       "      <td>-</td>\n",
       "      <td>140.1678</td>\n",
       "    </tr>\n",
       "    <tr>\n",
       "      <th>1</th>\n",
       "      <td>Linear Regression (Correlated Features)</td>\n",
       "      <td>0.5237</td>\n",
       "      <td>0.5235</td>\n",
       "      <td>-</td>\n",
       "      <td>138.9395</td>\n",
       "    </tr>\n",
       "    <tr>\n",
       "      <th>2</th>\n",
       "      <td>Linear Regression (RFE)</td>\n",
       "      <td>0.4916</td>\n",
       "      <td>0.4913</td>\n",
       "      <td>-</td>\n",
       "      <td>146.6281</td>\n",
       "    </tr>\n",
       "    <tr>\n",
       "      <th>3</th>\n",
       "      <td>SVR (Base Model)</td>\n",
       "      <td>0.1543</td>\n",
       "      <td>0.1537</td>\n",
       "      <td>-</td>\n",
       "      <td>157.0207</td>\n",
       "    </tr>\n",
       "    <tr>\n",
       "      <th>4</th>\n",
       "      <td>SVR (Grid Search)</td>\n",
       "      <td>-0.4886</td>\n",
       "      <td>-0.4897</td>\n",
       "      <td>-</td>\n",
       "      <td>196.0099</td>\n",
       "    </tr>\n",
       "    <tr>\n",
       "      <th>5</th>\n",
       "      <td>Decision Tree Regressor(Base Model)</td>\n",
       "      <td>0.9985</td>\n",
       "      <td>0.9985</td>\n",
       "      <td>-</td>\n",
       "      <td>90.3204</td>\n",
       "    </tr>\n",
       "    <tr>\n",
       "      <th>6</th>\n",
       "      <td>Decision Tree Regressor(Randomized Search)</td>\n",
       "      <td>0.6241</td>\n",
       "      <td>0.6238</td>\n",
       "      <td>-</td>\n",
       "      <td>97.3690</td>\n",
       "    </tr>\n",
       "    <tr>\n",
       "      <th>7</th>\n",
       "      <td>Ridge Regression</td>\n",
       "      <td>0.5172</td>\n",
       "      <td>0.5168</td>\n",
       "      <td>1</td>\n",
       "      <td>131.5150</td>\n",
       "    </tr>\n",
       "    <tr>\n",
       "      <th>8</th>\n",
       "      <td>Ridge Regression (Grid Search)</td>\n",
       "      <td>0.5306</td>\n",
       "      <td>0.5302</td>\n",
       "      <td>0.2</td>\n",
       "      <td>137.3025</td>\n",
       "    </tr>\n",
       "    <tr>\n",
       "      <th>9</th>\n",
       "      <td>Random Forest Regressor(Base Model)</td>\n",
       "      <td>0.9603</td>\n",
       "      <td>0.9603</td>\n",
       "      <td>-</td>\n",
       "      <td>71.3185</td>\n",
       "    </tr>\n",
       "    <tr>\n",
       "      <th>10</th>\n",
       "      <td>Random Forest Regressor(Randomized Search)</td>\n",
       "      <td>0.7866</td>\n",
       "      <td>0.7864</td>\n",
       "      <td>-</td>\n",
       "      <td>77.6250</td>\n",
       "    </tr>\n",
       "  </tbody>\n",
       "</table>\n",
       "</div>"
      ],
      "text/plain": [
       "                                    Model Name      R2  Adjusted R2  \\\n",
       "0               Linear Regression (Base Model)  0.5316       0.5312   \n",
       "1      Linear Regression (Correlated Features)  0.5237       0.5235   \n",
       "2                      Linear Regression (RFE)  0.4916       0.4913   \n",
       "3                             SVR (Base Model)  0.1543       0.1537   \n",
       "4                            SVR (Grid Search) -0.4886      -0.4897   \n",
       "5          Decision Tree Regressor(Base Model)  0.9985       0.9985   \n",
       "6   Decision Tree Regressor(Randomized Search)  0.6241       0.6238   \n",
       "7                             Ridge Regression  0.5172       0.5168   \n",
       "8               Ridge Regression (Grid Search)  0.5306       0.5302   \n",
       "9          Random Forest Regressor(Base Model)  0.9603       0.9603   \n",
       "10  Random Forest Regressor(Randomized Search)  0.7866       0.7864   \n",
       "\n",
       "   Alpha when required  Test Rmse  \n",
       "0                    -   140.1678  \n",
       "1                    -   138.9395  \n",
       "2                    -   146.6281  \n",
       "3                    -   157.0207  \n",
       "4                    -   196.0099  \n",
       "5                    -    90.3204  \n",
       "6                    -    97.3690  \n",
       "7                    1   131.5150  \n",
       "8                  0.2   137.3025  \n",
       "9                    -    71.3185  \n",
       "10                   -    77.6250  "
      ]
     },
     "execution_count": 58,
     "metadata": {},
     "output_type": "execute_result"
    }
   ],
   "source": [
    "update_score_card(\"Random Forest Regressor(Randomized Search)\",rf2)"
   ]
  },
  {
   "cell_type": "markdown",
   "metadata": {},
   "source": [
    "###### Inference: The scores dropped down after tuning hyperparameters. Also the rmse increased. This means the random forest  model works better before tuning hyper parameters."
   ]
  },
  {
   "cell_type": "markdown",
   "metadata": {},
   "source": [
    "## Gradient Boosting (Base Model) :"
   ]
  },
  {
   "cell_type": "code",
   "execution_count": 61,
   "metadata": {},
   "outputs": [
    {
     "data": {
      "text/plain": [
       "GradientBoostingRegressor(random_state=10)"
      ]
     },
     "execution_count": 61,
     "metadata": {},
     "output_type": "execute_result"
    }
   ],
   "source": [
    "gboost=GradientBoostingRegressor(random_state=10)\n",
    "gboost.fit(X_train,y_train)"
   ]
  },
  {
   "cell_type": "code",
   "execution_count": 62,
   "metadata": {},
   "outputs": [
    {
     "data": {
      "text/html": [
       "<div>\n",
       "<style scoped>\n",
       "    .dataframe tbody tr th:only-of-type {\n",
       "        vertical-align: middle;\n",
       "    }\n",
       "\n",
       "    .dataframe tbody tr th {\n",
       "        vertical-align: top;\n",
       "    }\n",
       "\n",
       "    .dataframe thead th {\n",
       "        text-align: right;\n",
       "    }\n",
       "</style>\n",
       "<table border=\"1\" class=\"dataframe\">\n",
       "  <thead>\n",
       "    <tr style=\"text-align: right;\">\n",
       "      <th></th>\n",
       "      <th>Model Name</th>\n",
       "      <th>R2</th>\n",
       "      <th>Adjusted R2</th>\n",
       "      <th>Alpha when required</th>\n",
       "      <th>Test Rmse</th>\n",
       "    </tr>\n",
       "  </thead>\n",
       "  <tbody>\n",
       "    <tr>\n",
       "      <th>0</th>\n",
       "      <td>Linear Regression (Base Model)</td>\n",
       "      <td>0.5316</td>\n",
       "      <td>0.5312</td>\n",
       "      <td>-</td>\n",
       "      <td>140.1678</td>\n",
       "    </tr>\n",
       "    <tr>\n",
       "      <th>1</th>\n",
       "      <td>Linear Regression (Correlated Features)</td>\n",
       "      <td>0.5237</td>\n",
       "      <td>0.5235</td>\n",
       "      <td>-</td>\n",
       "      <td>138.9395</td>\n",
       "    </tr>\n",
       "    <tr>\n",
       "      <th>2</th>\n",
       "      <td>Linear Regression (RFE)</td>\n",
       "      <td>0.4916</td>\n",
       "      <td>0.4913</td>\n",
       "      <td>-</td>\n",
       "      <td>146.6281</td>\n",
       "    </tr>\n",
       "    <tr>\n",
       "      <th>3</th>\n",
       "      <td>SVR (Base Model)</td>\n",
       "      <td>0.1543</td>\n",
       "      <td>0.1537</td>\n",
       "      <td>-</td>\n",
       "      <td>157.0207</td>\n",
       "    </tr>\n",
       "    <tr>\n",
       "      <th>4</th>\n",
       "      <td>SVR (Grid Search)</td>\n",
       "      <td>-0.4886</td>\n",
       "      <td>-0.4897</td>\n",
       "      <td>-</td>\n",
       "      <td>196.0099</td>\n",
       "    </tr>\n",
       "    <tr>\n",
       "      <th>5</th>\n",
       "      <td>Decision Tree Regressor(Base Model)</td>\n",
       "      <td>0.9985</td>\n",
       "      <td>0.9985</td>\n",
       "      <td>-</td>\n",
       "      <td>90.3204</td>\n",
       "    </tr>\n",
       "    <tr>\n",
       "      <th>6</th>\n",
       "      <td>Decision Tree Regressor(Randomized Search)</td>\n",
       "      <td>0.6241</td>\n",
       "      <td>0.6238</td>\n",
       "      <td>-</td>\n",
       "      <td>97.3690</td>\n",
       "    </tr>\n",
       "    <tr>\n",
       "      <th>7</th>\n",
       "      <td>Ridge Regression</td>\n",
       "      <td>0.5172</td>\n",
       "      <td>0.5168</td>\n",
       "      <td>1</td>\n",
       "      <td>131.5150</td>\n",
       "    </tr>\n",
       "    <tr>\n",
       "      <th>8</th>\n",
       "      <td>Ridge Regression (Grid Search)</td>\n",
       "      <td>0.5306</td>\n",
       "      <td>0.5302</td>\n",
       "      <td>0.2</td>\n",
       "      <td>137.3025</td>\n",
       "    </tr>\n",
       "    <tr>\n",
       "      <th>9</th>\n",
       "      <td>Random Forest Regressor(Base Model)</td>\n",
       "      <td>0.9603</td>\n",
       "      <td>0.9603</td>\n",
       "      <td>-</td>\n",
       "      <td>71.3185</td>\n",
       "    </tr>\n",
       "    <tr>\n",
       "      <th>10</th>\n",
       "      <td>Random Forest Regressor(Randomized Search)</td>\n",
       "      <td>0.7866</td>\n",
       "      <td>0.7864</td>\n",
       "      <td>-</td>\n",
       "      <td>77.6250</td>\n",
       "    </tr>\n",
       "    <tr>\n",
       "      <th>11</th>\n",
       "      <td>Gradient Boosting Regressor (Base Model) :</td>\n",
       "      <td>0.8360</td>\n",
       "      <td>0.8359</td>\n",
       "      <td>-</td>\n",
       "      <td>71.9530</td>\n",
       "    </tr>\n",
       "  </tbody>\n",
       "</table>\n",
       "</div>"
      ],
      "text/plain": [
       "                                    Model Name      R2  Adjusted R2  \\\n",
       "0               Linear Regression (Base Model)  0.5316       0.5312   \n",
       "1      Linear Regression (Correlated Features)  0.5237       0.5235   \n",
       "2                      Linear Regression (RFE)  0.4916       0.4913   \n",
       "3                             SVR (Base Model)  0.1543       0.1537   \n",
       "4                            SVR (Grid Search) -0.4886      -0.4897   \n",
       "5          Decision Tree Regressor(Base Model)  0.9985       0.9985   \n",
       "6   Decision Tree Regressor(Randomized Search)  0.6241       0.6238   \n",
       "7                             Ridge Regression  0.5172       0.5168   \n",
       "8               Ridge Regression (Grid Search)  0.5306       0.5302   \n",
       "9          Random Forest Regressor(Base Model)  0.9603       0.9603   \n",
       "10  Random Forest Regressor(Randomized Search)  0.7866       0.7864   \n",
       "11  Gradient Boosting Regressor (Base Model) :  0.8360       0.8359   \n",
       "\n",
       "   Alpha when required  Test Rmse  \n",
       "0                    -   140.1678  \n",
       "1                    -   138.9395  \n",
       "2                    -   146.6281  \n",
       "3                    -   157.0207  \n",
       "4                    -   196.0099  \n",
       "5                    -    90.3204  \n",
       "6                    -    97.3690  \n",
       "7                    1   131.5150  \n",
       "8                  0.2   137.3025  \n",
       "9                    -    71.3185  \n",
       "10                   -    77.6250  \n",
       "11                   -    71.9530  "
      ]
     },
     "execution_count": 62,
     "metadata": {},
     "output_type": "execute_result"
    }
   ],
   "source": [
    "update_score_card(\"Gradient Boosting Regressor (Base Model) :\",gboost)"
   ]
  },
  {
   "cell_type": "markdown",
   "metadata": {},
   "source": [
    "###### Inference : The rmse remains low but the scores have reduced in comparison with the Random Forest Regressor(Base Model). "
   ]
  },
  {
   "cell_type": "markdown",
   "metadata": {},
   "source": [
    "## Tuning Hyperparameters of Gradient Boost Regressor :"
   ]
  },
  {
   "cell_type": "markdown",
   "metadata": {},
   "source": [
    "tuned_param=[{\"learning_rate\": [.001,.002,.003,.004,.005,.006,.007,.008,.009,.01,.02,.05,.1,.2,.5,1,2,5,10],\n",
    "    \"n_estimators\":range(50,200),\"max_depth\":range(5,11),\"max_features\":range(2,11),\"max_leaf_nodes\":range(5,30)}]\n",
    "\n",
    "gboost2=GradientBoostingRegressor(random_state=10)\n",
    "\n",
    "rsearch=RandomizedSearchCV(estimator=gboost2,param_distributions=tuned_param,random_state=10,cv=3)\n",
    "\n",
    "rsearch.fit(X_train,y_train)"
   ]
  },
  {
   "cell_type": "markdown",
   "metadata": {},
   "source": [
    "rsearch.best_params_"
   ]
  },
  {
   "cell_type": "code",
   "execution_count": 65,
   "metadata": {},
   "outputs": [
    {
     "data": {
      "text/plain": [
       "GradientBoostingRegressor(learning_rate=0.2, max_depth=7, max_features=5,\n",
       "                          max_leaf_nodes=29, n_estimators=193, random_state=10)"
      ]
     },
     "execution_count": 65,
     "metadata": {},
     "output_type": "execute_result"
    }
   ],
   "source": [
    "#Using the parameters obtained.\n",
    "best_param={'n_estimators': 193,\n",
    " 'max_leaf_nodes': 29,\n",
    " 'max_features': 5,\n",
    " 'max_depth': 7,\n",
    " 'learning_rate': 0.2}\n",
    "gboost2=GradientBoostingRegressor(random_state=10,**best_param)\n",
    "gboost2.fit(X_train,y_train)"
   ]
  },
  {
   "cell_type": "code",
   "execution_count": 66,
   "metadata": {},
   "outputs": [
    {
     "data": {
      "text/html": [
       "<div>\n",
       "<style scoped>\n",
       "    .dataframe tbody tr th:only-of-type {\n",
       "        vertical-align: middle;\n",
       "    }\n",
       "\n",
       "    .dataframe tbody tr th {\n",
       "        vertical-align: top;\n",
       "    }\n",
       "\n",
       "    .dataframe thead th {\n",
       "        text-align: right;\n",
       "    }\n",
       "</style>\n",
       "<table border=\"1\" class=\"dataframe\">\n",
       "  <thead>\n",
       "    <tr style=\"text-align: right;\">\n",
       "      <th></th>\n",
       "      <th>Model Name</th>\n",
       "      <th>R2</th>\n",
       "      <th>Adjusted R2</th>\n",
       "      <th>Alpha when required</th>\n",
       "      <th>Test Rmse</th>\n",
       "    </tr>\n",
       "  </thead>\n",
       "  <tbody>\n",
       "    <tr>\n",
       "      <th>0</th>\n",
       "      <td>Linear Regression (Base Model)</td>\n",
       "      <td>0.5316</td>\n",
       "      <td>0.5312</td>\n",
       "      <td>-</td>\n",
       "      <td>140.1678</td>\n",
       "    </tr>\n",
       "    <tr>\n",
       "      <th>1</th>\n",
       "      <td>Linear Regression (Correlated Features)</td>\n",
       "      <td>0.5237</td>\n",
       "      <td>0.5235</td>\n",
       "      <td>-</td>\n",
       "      <td>138.9395</td>\n",
       "    </tr>\n",
       "    <tr>\n",
       "      <th>2</th>\n",
       "      <td>Linear Regression (RFE)</td>\n",
       "      <td>0.4916</td>\n",
       "      <td>0.4913</td>\n",
       "      <td>-</td>\n",
       "      <td>146.6281</td>\n",
       "    </tr>\n",
       "    <tr>\n",
       "      <th>3</th>\n",
       "      <td>SVR (Base Model)</td>\n",
       "      <td>0.1543</td>\n",
       "      <td>0.1537</td>\n",
       "      <td>-</td>\n",
       "      <td>157.0207</td>\n",
       "    </tr>\n",
       "    <tr>\n",
       "      <th>4</th>\n",
       "      <td>SVR (Grid Search)</td>\n",
       "      <td>-0.4886</td>\n",
       "      <td>-0.4897</td>\n",
       "      <td>-</td>\n",
       "      <td>196.0099</td>\n",
       "    </tr>\n",
       "    <tr>\n",
       "      <th>5</th>\n",
       "      <td>Decision Tree Regressor(Base Model)</td>\n",
       "      <td>0.9985</td>\n",
       "      <td>0.9985</td>\n",
       "      <td>-</td>\n",
       "      <td>90.3204</td>\n",
       "    </tr>\n",
       "    <tr>\n",
       "      <th>6</th>\n",
       "      <td>Decision Tree Regressor(Randomized Search)</td>\n",
       "      <td>0.6241</td>\n",
       "      <td>0.6238</td>\n",
       "      <td>-</td>\n",
       "      <td>97.3690</td>\n",
       "    </tr>\n",
       "    <tr>\n",
       "      <th>7</th>\n",
       "      <td>Ridge Regression</td>\n",
       "      <td>0.5172</td>\n",
       "      <td>0.5168</td>\n",
       "      <td>1</td>\n",
       "      <td>131.5150</td>\n",
       "    </tr>\n",
       "    <tr>\n",
       "      <th>8</th>\n",
       "      <td>Ridge Regression (Grid Search)</td>\n",
       "      <td>0.5306</td>\n",
       "      <td>0.5302</td>\n",
       "      <td>0.2</td>\n",
       "      <td>137.3025</td>\n",
       "    </tr>\n",
       "    <tr>\n",
       "      <th>9</th>\n",
       "      <td>Random Forest Regressor(Base Model)</td>\n",
       "      <td>0.9603</td>\n",
       "      <td>0.9603</td>\n",
       "      <td>-</td>\n",
       "      <td>71.3185</td>\n",
       "    </tr>\n",
       "    <tr>\n",
       "      <th>10</th>\n",
       "      <td>Random Forest Regressor(Randomized Search)</td>\n",
       "      <td>0.7866</td>\n",
       "      <td>0.7864</td>\n",
       "      <td>-</td>\n",
       "      <td>77.6250</td>\n",
       "    </tr>\n",
       "    <tr>\n",
       "      <th>11</th>\n",
       "      <td>Gradient Boosting Regressor (Base Model) :</td>\n",
       "      <td>0.8360</td>\n",
       "      <td>0.8359</td>\n",
       "      <td>-</td>\n",
       "      <td>71.9530</td>\n",
       "    </tr>\n",
       "    <tr>\n",
       "      <th>12</th>\n",
       "      <td>Gradient Boosting Regressor (Randomized Search) :</td>\n",
       "      <td>0.9764</td>\n",
       "      <td>0.9764</td>\n",
       "      <td>-</td>\n",
       "      <td>71.4817</td>\n",
       "    </tr>\n",
       "  </tbody>\n",
       "</table>\n",
       "</div>"
      ],
      "text/plain": [
       "                                           Model Name      R2  Adjusted R2  \\\n",
       "0                      Linear Regression (Base Model)  0.5316       0.5312   \n",
       "1             Linear Regression (Correlated Features)  0.5237       0.5235   \n",
       "2                             Linear Regression (RFE)  0.4916       0.4913   \n",
       "3                                    SVR (Base Model)  0.1543       0.1537   \n",
       "4                                   SVR (Grid Search) -0.4886      -0.4897   \n",
       "5                 Decision Tree Regressor(Base Model)  0.9985       0.9985   \n",
       "6          Decision Tree Regressor(Randomized Search)  0.6241       0.6238   \n",
       "7                                    Ridge Regression  0.5172       0.5168   \n",
       "8                      Ridge Regression (Grid Search)  0.5306       0.5302   \n",
       "9                 Random Forest Regressor(Base Model)  0.9603       0.9603   \n",
       "10         Random Forest Regressor(Randomized Search)  0.7866       0.7864   \n",
       "11         Gradient Boosting Regressor (Base Model) :  0.8360       0.8359   \n",
       "12  Gradient Boosting Regressor (Randomized Search) :  0.9764       0.9764   \n",
       "\n",
       "   Alpha when required  Test Rmse  \n",
       "0                    -   140.1678  \n",
       "1                    -   138.9395  \n",
       "2                    -   146.6281  \n",
       "3                    -   157.0207  \n",
       "4                    -   196.0099  \n",
       "5                    -    90.3204  \n",
       "6                    -    97.3690  \n",
       "7                    1   131.5150  \n",
       "8                  0.2   137.3025  \n",
       "9                    -    71.3185  \n",
       "10                   -    77.6250  \n",
       "11                   -    71.9530  \n",
       "12                   -    71.4817  "
      ]
     },
     "execution_count": 66,
     "metadata": {},
     "output_type": "execute_result"
    }
   ],
   "source": [
    "update_score_card(\"Gradient Boosting Regressor (Randomized Search) :\",gboost2)"
   ]
  },
  {
   "cell_type": "markdown",
   "metadata": {},
   "source": [
    "###### After tuning hyperparameters the scores have increased but the rmse has  slightly increased too ,in comparison with Random Forest Regressor(Base Model)."
   ]
  },
  {
   "cell_type": "markdown",
   "metadata": {},
   "source": [
    "## XG Boost Regressor (Base Model) :"
   ]
  },
  {
   "cell_type": "code",
   "execution_count": 68,
   "metadata": {},
   "outputs": [
    {
     "data": {
      "text/plain": [
       "XGBRegressor(base_score=0.5, booster='gbtree', colsample_bylevel=1,\n",
       "             colsample_bynode=1, colsample_bytree=1, gamma=0, gpu_id=-1,\n",
       "             importance_type='gain', interaction_constraints='',\n",
       "             learning_rate=0.300000012, max_delta_step=0, max_depth=6,\n",
       "             min_child_weight=1, missing=nan, monotone_constraints='()',\n",
       "             n_estimators=100, n_jobs=8, num_parallel_tree=1, random_state=10,\n",
       "             reg_alpha=0, reg_lambda=1, scale_pos_weight=1, subsample=1,\n",
       "             tree_method='exact', validate_parameters=1, verbosity=None)"
      ]
     },
     "execution_count": 68,
     "metadata": {},
     "output_type": "execute_result"
    }
   ],
   "source": [
    "xgb1=XGBRegressor(random_state=10)\n",
    "xgb1.fit(X_train,y_train)"
   ]
  },
  {
   "cell_type": "code",
   "execution_count": 69,
   "metadata": {},
   "outputs": [
    {
     "data": {
      "text/html": [
       "<div>\n",
       "<style scoped>\n",
       "    .dataframe tbody tr th:only-of-type {\n",
       "        vertical-align: middle;\n",
       "    }\n",
       "\n",
       "    .dataframe tbody tr th {\n",
       "        vertical-align: top;\n",
       "    }\n",
       "\n",
       "    .dataframe thead th {\n",
       "        text-align: right;\n",
       "    }\n",
       "</style>\n",
       "<table border=\"1\" class=\"dataframe\">\n",
       "  <thead>\n",
       "    <tr style=\"text-align: right;\">\n",
       "      <th></th>\n",
       "      <th>Model Name</th>\n",
       "      <th>R2</th>\n",
       "      <th>Adjusted R2</th>\n",
       "      <th>Alpha when required</th>\n",
       "      <th>Test Rmse</th>\n",
       "    </tr>\n",
       "  </thead>\n",
       "  <tbody>\n",
       "    <tr>\n",
       "      <th>0</th>\n",
       "      <td>Linear Regression (Base Model)</td>\n",
       "      <td>0.5316</td>\n",
       "      <td>0.5312</td>\n",
       "      <td>-</td>\n",
       "      <td>140.1678</td>\n",
       "    </tr>\n",
       "    <tr>\n",
       "      <th>1</th>\n",
       "      <td>Linear Regression (Correlated Features)</td>\n",
       "      <td>0.5237</td>\n",
       "      <td>0.5235</td>\n",
       "      <td>-</td>\n",
       "      <td>138.9395</td>\n",
       "    </tr>\n",
       "    <tr>\n",
       "      <th>2</th>\n",
       "      <td>Linear Regression (RFE)</td>\n",
       "      <td>0.4916</td>\n",
       "      <td>0.4913</td>\n",
       "      <td>-</td>\n",
       "      <td>146.6281</td>\n",
       "    </tr>\n",
       "    <tr>\n",
       "      <th>3</th>\n",
       "      <td>SVR (Base Model)</td>\n",
       "      <td>0.1543</td>\n",
       "      <td>0.1537</td>\n",
       "      <td>-</td>\n",
       "      <td>157.0207</td>\n",
       "    </tr>\n",
       "    <tr>\n",
       "      <th>4</th>\n",
       "      <td>SVR (Grid Search)</td>\n",
       "      <td>-0.4886</td>\n",
       "      <td>-0.4897</td>\n",
       "      <td>-</td>\n",
       "      <td>196.0099</td>\n",
       "    </tr>\n",
       "    <tr>\n",
       "      <th>5</th>\n",
       "      <td>Decision Tree Regressor(Base Model)</td>\n",
       "      <td>0.9985</td>\n",
       "      <td>0.9985</td>\n",
       "      <td>-</td>\n",
       "      <td>90.3204</td>\n",
       "    </tr>\n",
       "    <tr>\n",
       "      <th>6</th>\n",
       "      <td>Decision Tree Regressor(Randomized Search)</td>\n",
       "      <td>0.6241</td>\n",
       "      <td>0.6238</td>\n",
       "      <td>-</td>\n",
       "      <td>97.3690</td>\n",
       "    </tr>\n",
       "    <tr>\n",
       "      <th>7</th>\n",
       "      <td>Ridge Regression</td>\n",
       "      <td>0.5172</td>\n",
       "      <td>0.5168</td>\n",
       "      <td>1</td>\n",
       "      <td>131.5150</td>\n",
       "    </tr>\n",
       "    <tr>\n",
       "      <th>8</th>\n",
       "      <td>Ridge Regression (Grid Search)</td>\n",
       "      <td>0.5306</td>\n",
       "      <td>0.5302</td>\n",
       "      <td>0.2</td>\n",
       "      <td>137.3025</td>\n",
       "    </tr>\n",
       "    <tr>\n",
       "      <th>9</th>\n",
       "      <td>Random Forest Regressor(Base Model)</td>\n",
       "      <td>0.9603</td>\n",
       "      <td>0.9603</td>\n",
       "      <td>-</td>\n",
       "      <td>71.3185</td>\n",
       "    </tr>\n",
       "    <tr>\n",
       "      <th>10</th>\n",
       "      <td>Random Forest Regressor(Randomized Search)</td>\n",
       "      <td>0.7866</td>\n",
       "      <td>0.7864</td>\n",
       "      <td>-</td>\n",
       "      <td>77.6250</td>\n",
       "    </tr>\n",
       "    <tr>\n",
       "      <th>11</th>\n",
       "      <td>Gradient Boosting Regressor (Base Model) :</td>\n",
       "      <td>0.8360</td>\n",
       "      <td>0.8359</td>\n",
       "      <td>-</td>\n",
       "      <td>71.9530</td>\n",
       "    </tr>\n",
       "    <tr>\n",
       "      <th>12</th>\n",
       "      <td>Gradient Boosting Regressor (Randomized Search) :</td>\n",
       "      <td>0.9764</td>\n",
       "      <td>0.9764</td>\n",
       "      <td>-</td>\n",
       "      <td>71.4817</td>\n",
       "    </tr>\n",
       "    <tr>\n",
       "      <th>13</th>\n",
       "      <td>XGBoost Regressor(Base Model) :</td>\n",
       "      <td>0.9677</td>\n",
       "      <td>0.9677</td>\n",
       "      <td>-</td>\n",
       "      <td>73.2167</td>\n",
       "    </tr>\n",
       "  </tbody>\n",
       "</table>\n",
       "</div>"
      ],
      "text/plain": [
       "                                           Model Name      R2  Adjusted R2  \\\n",
       "0                      Linear Regression (Base Model)  0.5316       0.5312   \n",
       "1             Linear Regression (Correlated Features)  0.5237       0.5235   \n",
       "2                             Linear Regression (RFE)  0.4916       0.4913   \n",
       "3                                    SVR (Base Model)  0.1543       0.1537   \n",
       "4                                   SVR (Grid Search) -0.4886      -0.4897   \n",
       "5                 Decision Tree Regressor(Base Model)  0.9985       0.9985   \n",
       "6          Decision Tree Regressor(Randomized Search)  0.6241       0.6238   \n",
       "7                                    Ridge Regression  0.5172       0.5168   \n",
       "8                      Ridge Regression (Grid Search)  0.5306       0.5302   \n",
       "9                 Random Forest Regressor(Base Model)  0.9603       0.9603   \n",
       "10         Random Forest Regressor(Randomized Search)  0.7866       0.7864   \n",
       "11         Gradient Boosting Regressor (Base Model) :  0.8360       0.8359   \n",
       "12  Gradient Boosting Regressor (Randomized Search) :  0.9764       0.9764   \n",
       "13                    XGBoost Regressor(Base Model) :  0.9677       0.9677   \n",
       "\n",
       "   Alpha when required  Test Rmse  \n",
       "0                    -   140.1678  \n",
       "1                    -   138.9395  \n",
       "2                    -   146.6281  \n",
       "3                    -   157.0207  \n",
       "4                    -   196.0099  \n",
       "5                    -    90.3204  \n",
       "6                    -    97.3690  \n",
       "7                    1   131.5150  \n",
       "8                  0.2   137.3025  \n",
       "9                    -    71.3185  \n",
       "10                   -    77.6250  \n",
       "11                   -    71.9530  \n",
       "12                   -    71.4817  \n",
       "13                   -    73.2167  "
      ]
     },
     "execution_count": 69,
     "metadata": {},
     "output_type": "execute_result"
    }
   ],
   "source": [
    "update_score_card(\"XGBoost Regressor(Base Model) :\",xgb1)"
   ]
  },
  {
   "cell_type": "markdown",
   "metadata": {},
   "source": [
    "###### Inference: The scores obtained are good .However the rmse value has increased slightly."
   ]
  },
  {
   "cell_type": "markdown",
   "metadata": {},
   "source": [
    "## Tuning Hyperparameters of  XGBoost Regressor :"
   ]
  },
  {
   "cell_type": "markdown",
   "metadata": {},
   "source": [
    "tuned_param=[{\"n_estimators\":range(50,200),\"learning_rate\":[.001,.002,.003,.004,.005,.006,.007,.008,.009,.01,.02,.05,.1,.2,.5,1,2,5,10],\n",
    "             \"max_depth\":range(5,11),\"gamma\":range(0,11)}]\n",
    "             \n",
    "xgb2=XGBRegressor(random_state=10)\n",
    "\n",
    "rsearch=RandomizedSearchCV(estimator=xgb2,param_distributions=tuned_param,random_state=10,cv=3)\n",
    "\n",
    "rsearch.fit(X_train,y_train)"
   ]
  },
  {
   "cell_type": "markdown",
   "metadata": {},
   "source": [
    "rsearch.best_params_"
   ]
  },
  {
   "cell_type": "code",
   "execution_count": 73,
   "metadata": {},
   "outputs": [
    {
     "data": {
      "text/plain": [
       "XGBRegressor(base_score=0.5, booster='gbtree', colsample_bylevel=1,\n",
       "             colsample_bynode=1, colsample_bytree=1, gamma=5, gpu_id=-1,\n",
       "             importance_type='gain', interaction_constraints='',\n",
       "             learning_rate=0.02, max_delta_step=0, max_depth=6,\n",
       "             min_child_weight=1, missing=nan, monotone_constraints='()',\n",
       "             n_estimators=135, n_jobs=8, num_parallel_tree=1, random_state=10,\n",
       "             reg_alpha=0, reg_lambda=1, scale_pos_weight=1, subsample=1,\n",
       "             tree_method='exact', validate_parameters=1, verbosity=None)"
      ]
     },
     "execution_count": 73,
     "metadata": {},
     "output_type": "execute_result"
    }
   ],
   "source": [
    "#Using the parameters obtained.\n",
    "best_params={'n_estimators': 135, 'max_depth': 6, 'learning_rate': 0.02, 'gamma': 5}\n",
    "xgb2=XGBRegressor(random_state=10,**best_params)\n",
    "xgb2.fit(X_train,y_train)"
   ]
  },
  {
   "cell_type": "code",
   "execution_count": 74,
   "metadata": {},
   "outputs": [
    {
     "data": {
      "text/html": [
       "<div>\n",
       "<style scoped>\n",
       "    .dataframe tbody tr th:only-of-type {\n",
       "        vertical-align: middle;\n",
       "    }\n",
       "\n",
       "    .dataframe tbody tr th {\n",
       "        vertical-align: top;\n",
       "    }\n",
       "\n",
       "    .dataframe thead th {\n",
       "        text-align: right;\n",
       "    }\n",
       "</style>\n",
       "<table border=\"1\" class=\"dataframe\">\n",
       "  <thead>\n",
       "    <tr style=\"text-align: right;\">\n",
       "      <th></th>\n",
       "      <th>Model Name</th>\n",
       "      <th>R2</th>\n",
       "      <th>Adjusted R2</th>\n",
       "      <th>Alpha when required</th>\n",
       "      <th>Test Rmse</th>\n",
       "    </tr>\n",
       "  </thead>\n",
       "  <tbody>\n",
       "    <tr>\n",
       "      <th>0</th>\n",
       "      <td>Linear Regression (Base Model)</td>\n",
       "      <td>0.5316</td>\n",
       "      <td>0.5312</td>\n",
       "      <td>-</td>\n",
       "      <td>140.1678</td>\n",
       "    </tr>\n",
       "    <tr>\n",
       "      <th>1</th>\n",
       "      <td>Linear Regression (Correlated Features)</td>\n",
       "      <td>0.5237</td>\n",
       "      <td>0.5235</td>\n",
       "      <td>-</td>\n",
       "      <td>138.9395</td>\n",
       "    </tr>\n",
       "    <tr>\n",
       "      <th>2</th>\n",
       "      <td>Linear Regression (RFE)</td>\n",
       "      <td>0.4916</td>\n",
       "      <td>0.4913</td>\n",
       "      <td>-</td>\n",
       "      <td>146.6281</td>\n",
       "    </tr>\n",
       "    <tr>\n",
       "      <th>3</th>\n",
       "      <td>SVR (Base Model)</td>\n",
       "      <td>0.1543</td>\n",
       "      <td>0.1537</td>\n",
       "      <td>-</td>\n",
       "      <td>157.0207</td>\n",
       "    </tr>\n",
       "    <tr>\n",
       "      <th>4</th>\n",
       "      <td>SVR (Grid Search)</td>\n",
       "      <td>-0.4886</td>\n",
       "      <td>-0.4897</td>\n",
       "      <td>-</td>\n",
       "      <td>196.0099</td>\n",
       "    </tr>\n",
       "    <tr>\n",
       "      <th>5</th>\n",
       "      <td>Decision Tree Regressor(Base Model)</td>\n",
       "      <td>0.9985</td>\n",
       "      <td>0.9985</td>\n",
       "      <td>-</td>\n",
       "      <td>90.3204</td>\n",
       "    </tr>\n",
       "    <tr>\n",
       "      <th>6</th>\n",
       "      <td>Decision Tree Regressor(Randomized Search)</td>\n",
       "      <td>0.6241</td>\n",
       "      <td>0.6238</td>\n",
       "      <td>-</td>\n",
       "      <td>97.3690</td>\n",
       "    </tr>\n",
       "    <tr>\n",
       "      <th>7</th>\n",
       "      <td>Ridge Regression</td>\n",
       "      <td>0.5172</td>\n",
       "      <td>0.5168</td>\n",
       "      <td>1</td>\n",
       "      <td>131.5150</td>\n",
       "    </tr>\n",
       "    <tr>\n",
       "      <th>8</th>\n",
       "      <td>Ridge Regression (Grid Search)</td>\n",
       "      <td>0.5306</td>\n",
       "      <td>0.5302</td>\n",
       "      <td>0.2</td>\n",
       "      <td>137.3025</td>\n",
       "    </tr>\n",
       "    <tr>\n",
       "      <th>9</th>\n",
       "      <td>Random Forest Regressor(Base Model)</td>\n",
       "      <td>0.9603</td>\n",
       "      <td>0.9603</td>\n",
       "      <td>-</td>\n",
       "      <td>71.3185</td>\n",
       "    </tr>\n",
       "    <tr>\n",
       "      <th>10</th>\n",
       "      <td>Random Forest Regressor(Randomized Search)</td>\n",
       "      <td>0.7866</td>\n",
       "      <td>0.7864</td>\n",
       "      <td>-</td>\n",
       "      <td>77.6250</td>\n",
       "    </tr>\n",
       "    <tr>\n",
       "      <th>11</th>\n",
       "      <td>Gradient Boosting Regressor (Base Model) :</td>\n",
       "      <td>0.8360</td>\n",
       "      <td>0.8359</td>\n",
       "      <td>-</td>\n",
       "      <td>71.9530</td>\n",
       "    </tr>\n",
       "    <tr>\n",
       "      <th>12</th>\n",
       "      <td>Gradient Boosting Regressor (Randomized Search) :</td>\n",
       "      <td>0.9764</td>\n",
       "      <td>0.9764</td>\n",
       "      <td>-</td>\n",
       "      <td>71.4817</td>\n",
       "    </tr>\n",
       "    <tr>\n",
       "      <th>13</th>\n",
       "      <td>XGBoost Regressor(Base Model) :</td>\n",
       "      <td>0.9677</td>\n",
       "      <td>0.9677</td>\n",
       "      <td>-</td>\n",
       "      <td>73.2167</td>\n",
       "    </tr>\n",
       "    <tr>\n",
       "      <th>14</th>\n",
       "      <td>XGBoost Regressor(Randomized Search) :</td>\n",
       "      <td>0.8633</td>\n",
       "      <td>0.8632</td>\n",
       "      <td>-</td>\n",
       "      <td>78.4379</td>\n",
       "    </tr>\n",
       "  </tbody>\n",
       "</table>\n",
       "</div>"
      ],
      "text/plain": [
       "                                           Model Name      R2  Adjusted R2  \\\n",
       "0                      Linear Regression (Base Model)  0.5316       0.5312   \n",
       "1             Linear Regression (Correlated Features)  0.5237       0.5235   \n",
       "2                             Linear Regression (RFE)  0.4916       0.4913   \n",
       "3                                    SVR (Base Model)  0.1543       0.1537   \n",
       "4                                   SVR (Grid Search) -0.4886      -0.4897   \n",
       "5                 Decision Tree Regressor(Base Model)  0.9985       0.9985   \n",
       "6          Decision Tree Regressor(Randomized Search)  0.6241       0.6238   \n",
       "7                                    Ridge Regression  0.5172       0.5168   \n",
       "8                      Ridge Regression (Grid Search)  0.5306       0.5302   \n",
       "9                 Random Forest Regressor(Base Model)  0.9603       0.9603   \n",
       "10         Random Forest Regressor(Randomized Search)  0.7866       0.7864   \n",
       "11         Gradient Boosting Regressor (Base Model) :  0.8360       0.8359   \n",
       "12  Gradient Boosting Regressor (Randomized Search) :  0.9764       0.9764   \n",
       "13                    XGBoost Regressor(Base Model) :  0.9677       0.9677   \n",
       "14             XGBoost Regressor(Randomized Search) :  0.8633       0.8632   \n",
       "\n",
       "   Alpha when required  Test Rmse  \n",
       "0                    -   140.1678  \n",
       "1                    -   138.9395  \n",
       "2                    -   146.6281  \n",
       "3                    -   157.0207  \n",
       "4                    -   196.0099  \n",
       "5                    -    90.3204  \n",
       "6                    -    97.3690  \n",
       "7                    1   131.5150  \n",
       "8                  0.2   137.3025  \n",
       "9                    -    71.3185  \n",
       "10                   -    77.6250  \n",
       "11                   -    71.9530  \n",
       "12                   -    71.4817  \n",
       "13                   -    73.2167  \n",
       "14                   -    78.4379  "
      ]
     },
     "execution_count": 74,
     "metadata": {},
     "output_type": "execute_result"
    }
   ],
   "source": [
    "update_score_card(\"XGBoost Regressor(Randomized Search) :\",xgb2)"
   ]
  },
  {
   "cell_type": "markdown",
   "metadata": {},
   "source": [
    "###### Inference: After tuning hyperparameters the scores have decreased and rmse has increased."
   ]
  },
  {
   "cell_type": "markdown",
   "metadata": {},
   "source": [
    "## Conclusion :"
   ]
  },
  {
   "cell_type": "code",
   "execution_count": 78,
   "metadata": {},
   "outputs": [
    {
     "data": {
      "text/html": [
       "<style  type=\"text/css\" >\n",
       "#T_0a8338ee_a278_11eb_a3ba_b89a2abca9acrow9_col4{\n",
       "            background-color:  lightgreen;\n",
       "        }</style><table id=\"T_0a8338ee_a278_11eb_a3ba_b89a2abca9ac\" ><thead>    <tr>        <th class=\"blank level0\" ></th>        <th class=\"col_heading level0 col0\" >Model Name</th>        <th class=\"col_heading level0 col1\" >R2</th>        <th class=\"col_heading level0 col2\" >Adjusted R2</th>        <th class=\"col_heading level0 col3\" >Alpha when required</th>        <th class=\"col_heading level0 col4\" >Test Rmse</th>    </tr></thead><tbody>\n",
       "                <tr>\n",
       "                        <th id=\"T_0a8338ee_a278_11eb_a3ba_b89a2abca9aclevel0_row0\" class=\"row_heading level0 row0\" >0</th>\n",
       "                        <td id=\"T_0a8338ee_a278_11eb_a3ba_b89a2abca9acrow0_col0\" class=\"data row0 col0\" >Linear Regression (Base Model)</td>\n",
       "                        <td id=\"T_0a8338ee_a278_11eb_a3ba_b89a2abca9acrow0_col1\" class=\"data row0 col1\" >0.531600</td>\n",
       "                        <td id=\"T_0a8338ee_a278_11eb_a3ba_b89a2abca9acrow0_col2\" class=\"data row0 col2\" >0.531200</td>\n",
       "                        <td id=\"T_0a8338ee_a278_11eb_a3ba_b89a2abca9acrow0_col3\" class=\"data row0 col3\" >-</td>\n",
       "                        <td id=\"T_0a8338ee_a278_11eb_a3ba_b89a2abca9acrow0_col4\" class=\"data row0 col4\" >140.167800</td>\n",
       "            </tr>\n",
       "            <tr>\n",
       "                        <th id=\"T_0a8338ee_a278_11eb_a3ba_b89a2abca9aclevel0_row1\" class=\"row_heading level0 row1\" >1</th>\n",
       "                        <td id=\"T_0a8338ee_a278_11eb_a3ba_b89a2abca9acrow1_col0\" class=\"data row1 col0\" >Linear Regression (Correlated Features)</td>\n",
       "                        <td id=\"T_0a8338ee_a278_11eb_a3ba_b89a2abca9acrow1_col1\" class=\"data row1 col1\" >0.523700</td>\n",
       "                        <td id=\"T_0a8338ee_a278_11eb_a3ba_b89a2abca9acrow1_col2\" class=\"data row1 col2\" >0.523500</td>\n",
       "                        <td id=\"T_0a8338ee_a278_11eb_a3ba_b89a2abca9acrow1_col3\" class=\"data row1 col3\" >-</td>\n",
       "                        <td id=\"T_0a8338ee_a278_11eb_a3ba_b89a2abca9acrow1_col4\" class=\"data row1 col4\" >138.939500</td>\n",
       "            </tr>\n",
       "            <tr>\n",
       "                        <th id=\"T_0a8338ee_a278_11eb_a3ba_b89a2abca9aclevel0_row2\" class=\"row_heading level0 row2\" >2</th>\n",
       "                        <td id=\"T_0a8338ee_a278_11eb_a3ba_b89a2abca9acrow2_col0\" class=\"data row2 col0\" >Linear Regression (RFE)</td>\n",
       "                        <td id=\"T_0a8338ee_a278_11eb_a3ba_b89a2abca9acrow2_col1\" class=\"data row2 col1\" >0.491600</td>\n",
       "                        <td id=\"T_0a8338ee_a278_11eb_a3ba_b89a2abca9acrow2_col2\" class=\"data row2 col2\" >0.491300</td>\n",
       "                        <td id=\"T_0a8338ee_a278_11eb_a3ba_b89a2abca9acrow2_col3\" class=\"data row2 col3\" >-</td>\n",
       "                        <td id=\"T_0a8338ee_a278_11eb_a3ba_b89a2abca9acrow2_col4\" class=\"data row2 col4\" >146.628100</td>\n",
       "            </tr>\n",
       "            <tr>\n",
       "                        <th id=\"T_0a8338ee_a278_11eb_a3ba_b89a2abca9aclevel0_row3\" class=\"row_heading level0 row3\" >3</th>\n",
       "                        <td id=\"T_0a8338ee_a278_11eb_a3ba_b89a2abca9acrow3_col0\" class=\"data row3 col0\" >SVR (Base Model)</td>\n",
       "                        <td id=\"T_0a8338ee_a278_11eb_a3ba_b89a2abca9acrow3_col1\" class=\"data row3 col1\" >0.154300</td>\n",
       "                        <td id=\"T_0a8338ee_a278_11eb_a3ba_b89a2abca9acrow3_col2\" class=\"data row3 col2\" >0.153700</td>\n",
       "                        <td id=\"T_0a8338ee_a278_11eb_a3ba_b89a2abca9acrow3_col3\" class=\"data row3 col3\" >-</td>\n",
       "                        <td id=\"T_0a8338ee_a278_11eb_a3ba_b89a2abca9acrow3_col4\" class=\"data row3 col4\" >157.020700</td>\n",
       "            </tr>\n",
       "            <tr>\n",
       "                        <th id=\"T_0a8338ee_a278_11eb_a3ba_b89a2abca9aclevel0_row4\" class=\"row_heading level0 row4\" >4</th>\n",
       "                        <td id=\"T_0a8338ee_a278_11eb_a3ba_b89a2abca9acrow4_col0\" class=\"data row4 col0\" >SVR (Grid Search)</td>\n",
       "                        <td id=\"T_0a8338ee_a278_11eb_a3ba_b89a2abca9acrow4_col1\" class=\"data row4 col1\" >-0.488600</td>\n",
       "                        <td id=\"T_0a8338ee_a278_11eb_a3ba_b89a2abca9acrow4_col2\" class=\"data row4 col2\" >-0.489700</td>\n",
       "                        <td id=\"T_0a8338ee_a278_11eb_a3ba_b89a2abca9acrow4_col3\" class=\"data row4 col3\" >-</td>\n",
       "                        <td id=\"T_0a8338ee_a278_11eb_a3ba_b89a2abca9acrow4_col4\" class=\"data row4 col4\" >196.009900</td>\n",
       "            </tr>\n",
       "            <tr>\n",
       "                        <th id=\"T_0a8338ee_a278_11eb_a3ba_b89a2abca9aclevel0_row5\" class=\"row_heading level0 row5\" >5</th>\n",
       "                        <td id=\"T_0a8338ee_a278_11eb_a3ba_b89a2abca9acrow5_col0\" class=\"data row5 col0\" >Decision Tree Regressor(Base Model)</td>\n",
       "                        <td id=\"T_0a8338ee_a278_11eb_a3ba_b89a2abca9acrow5_col1\" class=\"data row5 col1\" >0.998500</td>\n",
       "                        <td id=\"T_0a8338ee_a278_11eb_a3ba_b89a2abca9acrow5_col2\" class=\"data row5 col2\" >0.998500</td>\n",
       "                        <td id=\"T_0a8338ee_a278_11eb_a3ba_b89a2abca9acrow5_col3\" class=\"data row5 col3\" >-</td>\n",
       "                        <td id=\"T_0a8338ee_a278_11eb_a3ba_b89a2abca9acrow5_col4\" class=\"data row5 col4\" >90.320400</td>\n",
       "            </tr>\n",
       "            <tr>\n",
       "                        <th id=\"T_0a8338ee_a278_11eb_a3ba_b89a2abca9aclevel0_row6\" class=\"row_heading level0 row6\" >6</th>\n",
       "                        <td id=\"T_0a8338ee_a278_11eb_a3ba_b89a2abca9acrow6_col0\" class=\"data row6 col0\" >Decision Tree Regressor(Randomized Search)</td>\n",
       "                        <td id=\"T_0a8338ee_a278_11eb_a3ba_b89a2abca9acrow6_col1\" class=\"data row6 col1\" >0.624100</td>\n",
       "                        <td id=\"T_0a8338ee_a278_11eb_a3ba_b89a2abca9acrow6_col2\" class=\"data row6 col2\" >0.623800</td>\n",
       "                        <td id=\"T_0a8338ee_a278_11eb_a3ba_b89a2abca9acrow6_col3\" class=\"data row6 col3\" >-</td>\n",
       "                        <td id=\"T_0a8338ee_a278_11eb_a3ba_b89a2abca9acrow6_col4\" class=\"data row6 col4\" >97.369000</td>\n",
       "            </tr>\n",
       "            <tr>\n",
       "                        <th id=\"T_0a8338ee_a278_11eb_a3ba_b89a2abca9aclevel0_row7\" class=\"row_heading level0 row7\" >7</th>\n",
       "                        <td id=\"T_0a8338ee_a278_11eb_a3ba_b89a2abca9acrow7_col0\" class=\"data row7 col0\" >Ridge Regression</td>\n",
       "                        <td id=\"T_0a8338ee_a278_11eb_a3ba_b89a2abca9acrow7_col1\" class=\"data row7 col1\" >0.517200</td>\n",
       "                        <td id=\"T_0a8338ee_a278_11eb_a3ba_b89a2abca9acrow7_col2\" class=\"data row7 col2\" >0.516800</td>\n",
       "                        <td id=\"T_0a8338ee_a278_11eb_a3ba_b89a2abca9acrow7_col3\" class=\"data row7 col3\" >1</td>\n",
       "                        <td id=\"T_0a8338ee_a278_11eb_a3ba_b89a2abca9acrow7_col4\" class=\"data row7 col4\" >131.515000</td>\n",
       "            </tr>\n",
       "            <tr>\n",
       "                        <th id=\"T_0a8338ee_a278_11eb_a3ba_b89a2abca9aclevel0_row8\" class=\"row_heading level0 row8\" >8</th>\n",
       "                        <td id=\"T_0a8338ee_a278_11eb_a3ba_b89a2abca9acrow8_col0\" class=\"data row8 col0\" >Ridge Regression (Grid Search)</td>\n",
       "                        <td id=\"T_0a8338ee_a278_11eb_a3ba_b89a2abca9acrow8_col1\" class=\"data row8 col1\" >0.530600</td>\n",
       "                        <td id=\"T_0a8338ee_a278_11eb_a3ba_b89a2abca9acrow8_col2\" class=\"data row8 col2\" >0.530200</td>\n",
       "                        <td id=\"T_0a8338ee_a278_11eb_a3ba_b89a2abca9acrow8_col3\" class=\"data row8 col3\" >0.200000</td>\n",
       "                        <td id=\"T_0a8338ee_a278_11eb_a3ba_b89a2abca9acrow8_col4\" class=\"data row8 col4\" >137.302500</td>\n",
       "            </tr>\n",
       "            <tr>\n",
       "                        <th id=\"T_0a8338ee_a278_11eb_a3ba_b89a2abca9aclevel0_row9\" class=\"row_heading level0 row9\" >9</th>\n",
       "                        <td id=\"T_0a8338ee_a278_11eb_a3ba_b89a2abca9acrow9_col0\" class=\"data row9 col0\" >Random Forest Regressor(Base Model)</td>\n",
       "                        <td id=\"T_0a8338ee_a278_11eb_a3ba_b89a2abca9acrow9_col1\" class=\"data row9 col1\" >0.960300</td>\n",
       "                        <td id=\"T_0a8338ee_a278_11eb_a3ba_b89a2abca9acrow9_col2\" class=\"data row9 col2\" >0.960300</td>\n",
       "                        <td id=\"T_0a8338ee_a278_11eb_a3ba_b89a2abca9acrow9_col3\" class=\"data row9 col3\" >-</td>\n",
       "                        <td id=\"T_0a8338ee_a278_11eb_a3ba_b89a2abca9acrow9_col4\" class=\"data row9 col4\" >71.318500</td>\n",
       "            </tr>\n",
       "            <tr>\n",
       "                        <th id=\"T_0a8338ee_a278_11eb_a3ba_b89a2abca9aclevel0_row10\" class=\"row_heading level0 row10\" >10</th>\n",
       "                        <td id=\"T_0a8338ee_a278_11eb_a3ba_b89a2abca9acrow10_col0\" class=\"data row10 col0\" >Random Forest Regressor(Randomized Search)</td>\n",
       "                        <td id=\"T_0a8338ee_a278_11eb_a3ba_b89a2abca9acrow10_col1\" class=\"data row10 col1\" >0.786600</td>\n",
       "                        <td id=\"T_0a8338ee_a278_11eb_a3ba_b89a2abca9acrow10_col2\" class=\"data row10 col2\" >0.786400</td>\n",
       "                        <td id=\"T_0a8338ee_a278_11eb_a3ba_b89a2abca9acrow10_col3\" class=\"data row10 col3\" >-</td>\n",
       "                        <td id=\"T_0a8338ee_a278_11eb_a3ba_b89a2abca9acrow10_col4\" class=\"data row10 col4\" >77.625000</td>\n",
       "            </tr>\n",
       "            <tr>\n",
       "                        <th id=\"T_0a8338ee_a278_11eb_a3ba_b89a2abca9aclevel0_row11\" class=\"row_heading level0 row11\" >11</th>\n",
       "                        <td id=\"T_0a8338ee_a278_11eb_a3ba_b89a2abca9acrow11_col0\" class=\"data row11 col0\" >Gradient Boosting Regressor (Base Model) :</td>\n",
       "                        <td id=\"T_0a8338ee_a278_11eb_a3ba_b89a2abca9acrow11_col1\" class=\"data row11 col1\" >0.836000</td>\n",
       "                        <td id=\"T_0a8338ee_a278_11eb_a3ba_b89a2abca9acrow11_col2\" class=\"data row11 col2\" >0.835900</td>\n",
       "                        <td id=\"T_0a8338ee_a278_11eb_a3ba_b89a2abca9acrow11_col3\" class=\"data row11 col3\" >-</td>\n",
       "                        <td id=\"T_0a8338ee_a278_11eb_a3ba_b89a2abca9acrow11_col4\" class=\"data row11 col4\" >71.953000</td>\n",
       "            </tr>\n",
       "            <tr>\n",
       "                        <th id=\"T_0a8338ee_a278_11eb_a3ba_b89a2abca9aclevel0_row12\" class=\"row_heading level0 row12\" >12</th>\n",
       "                        <td id=\"T_0a8338ee_a278_11eb_a3ba_b89a2abca9acrow12_col0\" class=\"data row12 col0\" >Gradient Boosting Regressor (Randomized Search) :</td>\n",
       "                        <td id=\"T_0a8338ee_a278_11eb_a3ba_b89a2abca9acrow12_col1\" class=\"data row12 col1\" >0.976400</td>\n",
       "                        <td id=\"T_0a8338ee_a278_11eb_a3ba_b89a2abca9acrow12_col2\" class=\"data row12 col2\" >0.976400</td>\n",
       "                        <td id=\"T_0a8338ee_a278_11eb_a3ba_b89a2abca9acrow12_col3\" class=\"data row12 col3\" >-</td>\n",
       "                        <td id=\"T_0a8338ee_a278_11eb_a3ba_b89a2abca9acrow12_col4\" class=\"data row12 col4\" >71.481700</td>\n",
       "            </tr>\n",
       "            <tr>\n",
       "                        <th id=\"T_0a8338ee_a278_11eb_a3ba_b89a2abca9aclevel0_row13\" class=\"row_heading level0 row13\" >13</th>\n",
       "                        <td id=\"T_0a8338ee_a278_11eb_a3ba_b89a2abca9acrow13_col0\" class=\"data row13 col0\" >XGBoost Regressor(Base Model) :</td>\n",
       "                        <td id=\"T_0a8338ee_a278_11eb_a3ba_b89a2abca9acrow13_col1\" class=\"data row13 col1\" >0.967700</td>\n",
       "                        <td id=\"T_0a8338ee_a278_11eb_a3ba_b89a2abca9acrow13_col2\" class=\"data row13 col2\" >0.967700</td>\n",
       "                        <td id=\"T_0a8338ee_a278_11eb_a3ba_b89a2abca9acrow13_col3\" class=\"data row13 col3\" >-</td>\n",
       "                        <td id=\"T_0a8338ee_a278_11eb_a3ba_b89a2abca9acrow13_col4\" class=\"data row13 col4\" >73.216700</td>\n",
       "            </tr>\n",
       "            <tr>\n",
       "                        <th id=\"T_0a8338ee_a278_11eb_a3ba_b89a2abca9aclevel0_row14\" class=\"row_heading level0 row14\" >14</th>\n",
       "                        <td id=\"T_0a8338ee_a278_11eb_a3ba_b89a2abca9acrow14_col0\" class=\"data row14 col0\" >XGBoost Regressor(Randomized Search) :</td>\n",
       "                        <td id=\"T_0a8338ee_a278_11eb_a3ba_b89a2abca9acrow14_col1\" class=\"data row14 col1\" >0.863300</td>\n",
       "                        <td id=\"T_0a8338ee_a278_11eb_a3ba_b89a2abca9acrow14_col2\" class=\"data row14 col2\" >0.863200</td>\n",
       "                        <td id=\"T_0a8338ee_a278_11eb_a3ba_b89a2abca9acrow14_col3\" class=\"data row14 col3\" >-</td>\n",
       "                        <td id=\"T_0a8338ee_a278_11eb_a3ba_b89a2abca9acrow14_col4\" class=\"data row14 col4\" >78.437900</td>\n",
       "            </tr>\n",
       "    </tbody></table>"
      ],
      "text/plain": [
       "<pandas.io.formats.style.Styler at 0x1e2ec52cd00>"
      ]
     },
     "execution_count": 78,
     "metadata": {},
     "output_type": "execute_result"
    }
   ],
   "source": [
    "score_card.style.highlight_min(['Test Rmse'],color='lightgreen')"
   ]
  },
  {
   "cell_type": "markdown",
   "metadata": {},
   "source": [
    "• The model \"Random Forest Regressor(Base Model)\" has the lowest test rmse value as compared to the other models.\n",
    "\n",
    "• The model has R2 score and Adjusted R2 score of 96% which depicts lowest bias and since it gives the lowest test rmse it also depicts lowest variance as compared to the performance of other models.\n",
    "\n",
    "• The problem of overfitting has been eliminated.\n",
    "\n",
    "• Therefore the model \"Random Forest Regressor(Base Model)\"  is the best fitted model and can be further used to predict the prices of houses in Bangalore.\n",
    "\n"
   ]
  },
  {
   "cell_type": "code",
   "execution_count": null,
   "metadata": {},
   "outputs": [],
   "source": []
  }
 ],
 "metadata": {
  "kernelspec": {
   "display_name": "Python 3",
   "language": "python",
   "name": "python3"
  },
  "language_info": {
   "codemirror_mode": {
    "name": "ipython",
    "version": 3
   },
   "file_extension": ".py",
   "mimetype": "text/x-python",
   "name": "python",
   "nbconvert_exporter": "python",
   "pygments_lexer": "ipython3",
   "version": "3.8.5"
  }
 },
 "nbformat": 4,
 "nbformat_minor": 4
}
